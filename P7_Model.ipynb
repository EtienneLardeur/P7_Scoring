{
 "cells": [
  {
   "cell_type": "markdown",
   "metadata": {
    "_cell_guid": "551ce207-0976-48c3-9242-fac3e6bdf527",
    "_uuid": "66406036d8dd7a0071295d1aee64f13bffc44e3a"
   },
   "source": [
    "# Introduction\n",
    "\n",
    "Our input is the resulting dataset from Feature Selection with Boruta.<br/>\n",
    "\n",
    "\n",
    "# Notebooks & dashboard\n",
    "\n",
    "There are 5 different notebooks:\n",
    "* __P7_EDA__: focusing on Exploratory Data Analysis,\n",
    "* __P7_FE__: focusing on Feature engineering and a first model-agnostic Feature Selection,\n",
    "* __P7_FS__: focusing on Feature Selecion,\n",
    "* __Current: P7_Model__ : focusing on scoring with model evaluation,\n",
    "* __P7_Interpretation__ : focusing on model interpretation, <br/>\n",
    "And a dashboard python file.\n",
    "\n",
    "# Forewords\n",
    "In this Notebook, we rank assess preprocessing, rank classifiers and determine best model & parameters through Hyperopt."
   ]
  },
  {
   "cell_type": "markdown",
   "metadata": {
    "_cell_guid": "d632b08c-d252-4238-b496-e2c6edebec4b",
    "_uuid": "eb13bf76d4e1e60d0703856ec391cdc2c5bdf1fb"
   },
   "source": [
    "## Imports"
   ]
  },
  {
   "cell_type": "code",
   "execution_count": 1,
   "metadata": {},
   "outputs": [],
   "source": [
    "%load_ext pycodestyle_magic\n",
    "%flake8_on"
   ]
  },
  {
   "cell_type": "code",
   "execution_count": 1,
   "metadata": {},
   "outputs": [],
   "source": [
    "# numpy and pandas for data manipulation\n",
    "import numpy as np\n",
    "import pandas as pd"
   ]
  },
  {
   "cell_type": "code",
   "execution_count": 2,
   "metadata": {},
   "outputs": [],
   "source": [
    "# File system manangement\n",
    "import os\n",
    "import gc"
   ]
  },
  {
   "cell_type": "code",
   "execution_count": 3,
   "metadata": {},
   "outputs": [],
   "source": [
    "# matplotlib and seaborn for plotting\n",
    "import matplotlib.pyplot as plt\n",
    "import seaborn as sns"
   ]
  },
  {
   "cell_type": "code",
   "execution_count": 193,
   "metadata": {},
   "outputs": [],
   "source": [
    "# prepare data\n",
    "# from sklearn.preprocessing import LabelEncoder\n",
    "from sklearn.preprocessing import MinMaxScaler\n",
    "from sklearn.impute import SimpleImputer\n",
    "from sklearn.model_selection import train_test_split\n",
    "from sklearn.utils import class_weight\n",
    "from imblearn.over_sampling import SMOTE\n",
    "# models and metrics\n",
    "from lightgbm import LGBMClassifier\n",
    "from sklearn.linear_model import LogisticRegression\n",
    "from sklearn.ensemble import RandomForestClassifier\n",
    "from sklearn.naive_bayes import GaussianNB\n",
    "from sklearn.metrics import plot_roc_curve\n",
    "from sklearn.metrics import roc_curve\n",
    "from sklearn.metrics import auc\n",
    "from sklearn.metrics import make_scorer\n",
    "from sklearn.metrics import roc_auc_score\n",
    "from sklearn.metrics import accuracy_score\n",
    "from sklearn.metrics import classification_report\n",
    "from sklearn.metrics import confusion_matrix\n",
    "from sklearn.metrics import precision_recall_curve\n",
    "from sklearn.metrics import plot_precision_recall_curve\n",
    "from sklearn.metrics import fbeta_score\n",
    "from sklearn.metrics import f1_score\n",
    "from sklearn.model_selection import KFold, StratifiedKFold\n",
    "from sklearn.model_selection import cross_validate\n",
    "from sklearn.model_selection import cross_val_score, cross_val_predict"
   ]
  },
  {
   "cell_type": "code",
   "execution_count": 5,
   "metadata": {},
   "outputs": [],
   "source": [
    "# LightGBMError: Do not support special JSON characters in feature name\n",
    "import re"
   ]
  },
  {
   "cell_type": "code",
   "execution_count": 6,
   "metadata": {},
   "outputs": [],
   "source": [
    "# hyperopt\n",
    "from hyperopt import hp, tpe, fmin, Trials, STATUS_OK, space_eval"
   ]
  },
  {
   "cell_type": "code",
   "execution_count": 7,
   "metadata": {},
   "outputs": [],
   "source": [
    "# timing\n",
    "from timeit import default_timer as timer"
   ]
  },
  {
   "cell_type": "code",
   "execution_count": 8,
   "metadata": {},
   "outputs": [],
   "source": [
    "# persistant search for hyperopt\n",
    "import threading as th\n",
    "import keyboard"
   ]
  },
  {
   "cell_type": "code",
   "execution_count": 9,
   "metadata": {},
   "outputs": [],
   "source": [
    "# pickle\n",
    "import pickle"
   ]
  },
  {
   "cell_type": "code",
   "execution_count": 10,
   "metadata": {},
   "outputs": [],
   "source": [
    "# custom functions\n",
    "from ipynb.fs.full.functions import heatmap, missing_values_table, convert_types\n",
    "from ipynb.fs.full.functions import show_results"
   ]
  },
  {
   "cell_type": "code",
   "execution_count": 11,
   "metadata": {},
   "outputs": [],
   "source": [
    "# Suppress warnings\n",
    "import warnings\n",
    "warnings.filterwarnings('ignore')"
   ]
  },
  {
   "cell_type": "code",
   "execution_count": 12,
   "metadata": {},
   "outputs": [],
   "source": [
    "# paramètres\n",
    "# to display any columns\n",
    "pd.options.display.max_columns = 1000\n",
    "pd.options.display.max_rows = 1000\n",
    "sns.set(style=\"ticks\")\n",
    "sns.set_style('whitegrid')"
   ]
  },
  {
   "cell_type": "markdown",
   "metadata": {
    "_cell_guid": "a5e67831-4751-4f11-8e07-527e3e092671",
    "_uuid": "ded520f73b9e94ed47ac2e994a5fb1bcb9093d0f"
   },
   "source": [
    "## Read in Data"
   ]
  },
  {
   "cell_type": "code",
   "execution_count": 14,
   "metadata": {
    "_cell_guid": "2cdca894-e637-43a9-8f80-5791c2bb9041",
    "_uuid": "c54e1559611512ebd447ac24f2226c2fffd61dcd",
    "scrolled": true
   },
   "outputs": [
    {
     "name": "stdout",
     "output_type": "stream",
     "text": [
      "['aggregated.csv', 'any_app.pkl', 'application.pkl', 'application_miss.pkl', 'application_test.csv', 'application_train.csv', 'application_trunc.csv', 'backup_full_aggregated.csv', 'backup_opti_aggregated.csv', 'boruta_ranking.csv', 'boruta_ranking.pkl', 'boruta_support.pkl', 'bureau.csv', 'bureau.pkl', 'bureau_balance.csv', 'credit_card_balance.csv', 'desc.pkl', 'Descriptions.xlsx', 'final.csv', 'full_aggregated.csv', 'HomeCredit_columns_description.csv', 'installments_payments.csv', 'opti_aggregated.csv', 'POS_CASH_balance.csv', 'previous.pkl', 'previous_application.csv', 'sample_submission.csv', 'sel_app.pkl', 'target.pkl', '~$Descriptions.xlsx']\n"
     ]
    }
   ],
   "source": [
    "# List files available\n",
    "print(os.listdir('Data/'))"
   ]
  },
  {
   "cell_type": "code",
   "execution_count": 29,
   "metadata": {},
   "outputs": [],
   "source": [
    "# load target (from Boruta study)\n",
    "with open(\"Data/sel_app_mean.pkl\", mode=\"rb\") as df:\n",
    "    any_application = pickle.load(df)"
   ]
  },
  {
   "cell_type": "code",
   "execution_count": 30,
   "metadata": {},
   "outputs": [
    {
     "name": "stdout",
     "output_type": "stream",
     "text": [
      "(356251, 271)\n"
     ]
    },
    {
     "data": {
      "text/html": [
       "<div>\n",
       "<style scoped>\n",
       "    .dataframe tbody tr th:only-of-type {\n",
       "        vertical-align: middle;\n",
       "    }\n",
       "\n",
       "    .dataframe tbody tr th {\n",
       "        vertical-align: top;\n",
       "    }\n",
       "\n",
       "    .dataframe thead th {\n",
       "        text-align: right;\n",
       "    }\n",
       "</style>\n",
       "<table border=\"1\" class=\"dataframe\">\n",
       "  <thead>\n",
       "    <tr style=\"text-align: right;\">\n",
       "      <th></th>\n",
       "      <th>SK_ID_CURR</th>\n",
       "      <th>TARGET</th>\n",
       "      <th>CODE_GENDER</th>\n",
       "      <th>AMT_INCOME_TOTAL</th>\n",
       "      <th>AMT_CREDIT</th>\n",
       "      <th>AMT_ANNUITY</th>\n",
       "      <th>AMT_GOODS_PRICE</th>\n",
       "      <th>REGION_POPULATION_RELATIVE</th>\n",
       "      <th>DAYS_EMPLOYED</th>\n",
       "      <th>DAYS_REGISTRATION</th>\n",
       "      <th>DAYS_ID_PUBLISH</th>\n",
       "      <th>OWN_CAR_AGE</th>\n",
       "      <th>REGION_RATING_CLIENT</th>\n",
       "      <th>REGION_RATING_CLIENT_W_CITY</th>\n",
       "      <th>REG_CITY_NOT_WORK_CITY</th>\n",
       "      <th>BASEMENTAREA_AVG</th>\n",
       "      <th>YEARS_BEGINEXPLUATATION_AVG</th>\n",
       "      <th>ELEVATORS_AVG</th>\n",
       "      <th>LIVINGAREA_AVG</th>\n",
       "      <th>BASEMENTAREA_MODE</th>\n",
       "      <th>BASEMENTAREA_MEDI</th>\n",
       "      <th>YEARS_BEGINEXPLUATATION_MEDI</th>\n",
       "      <th>TOTALAREA_MODE</th>\n",
       "      <th>DAYS_LAST_PHONE_CHANGE</th>\n",
       "      <th>FLAG_DOCUMENT_3</th>\n",
       "      <th>N_CNT_PREV_REJECTED_HC</th>\n",
       "      <th>N_CNT_PREV_REJECTED_SCOFR</th>\n",
       "      <th>N_FLAG_REJECTED</th>\n",
       "      <th>N_ADJ_REJECT_RECENCY_INDEX</th>\n",
       "      <th>N_REJECT_RATE</th>\n",
       "      <th>N_BUR_LAST_APPLICATION</th>\n",
       "      <th>YEARS_BIRTH</th>\n",
       "      <th>N_DAYS_EMPLOYED_RATIO</th>\n",
       "      <th>N_CREDIT_INCOME_RATIO</th>\n",
       "      <th>N_ANNUITY_INCOME_RATIO</th>\n",
       "      <th>N_CREDIT_TERM</th>\n",
       "      <th>NAME_INCOME_TYPE_Working</th>\n",
       "      <th>NAME_EDUCATION_TYPE_Higher education</th>\n",
       "      <th>NAME_EDUCATION_TYPE_Secondary / secondary special</th>\n",
       "      <th>OCCUPATION_TYPE_Laborers</th>\n",
       "      <th>OCCUPATION_TYPE_Pensioner</th>\n",
       "      <th>BUR_DAYS_CREDIT_MIN</th>\n",
       "      <th>BUR_DAYS_CREDIT_MAX</th>\n",
       "      <th>BUR_DAYS_CREDIT_MEAN</th>\n",
       "      <th>BUR_DAYS_CREDIT_VAR</th>\n",
       "      <th>BUR_DAYS_CREDIT_ENDDATE_MIN</th>\n",
       "      <th>BUR_DAYS_CREDIT_ENDDATE_MAX</th>\n",
       "      <th>BUR_DAYS_CREDIT_ENDDATE_MEAN</th>\n",
       "      <th>BUR_AMT_CREDIT_MAX_OVERDUE_MAX</th>\n",
       "      <th>BUR_AMT_CREDIT_MAX_OVERDUE_MEAN</th>\n",
       "      <th>BUR_AMT_CREDIT_MAX_OVERDUE_SUM</th>\n",
       "      <th>BUR_AMT_CREDIT_SUM_MAX</th>\n",
       "      <th>BUR_AMT_CREDIT_SUM_MEAN</th>\n",
       "      <th>BUR_AMT_CREDIT_SUM_SUM</th>\n",
       "      <th>BUR_AMT_CREDIT_SUM_DEBT_MAX</th>\n",
       "      <th>BUR_AMT_CREDIT_SUM_DEBT_MEAN</th>\n",
       "      <th>BUR_AMT_CREDIT_SUM_DEBT_SUM</th>\n",
       "      <th>BUR_AMT_CREDIT_SUM_LIMIT_MAX</th>\n",
       "      <th>BUR_AMT_CREDIT_SUM_LIMIT_MEAN</th>\n",
       "      <th>BUR_AMT_CREDIT_SUM_LIMIT_SUM</th>\n",
       "      <th>BUR_MONTHS_BALANCE_SIZE_MEAN</th>\n",
       "      <th>BUR_N_BUR_START_OBSERVED_MEAN</th>\n",
       "      <th>BUR_N_BUR_AMT_CREDIT_DEBT_RATE_MIN</th>\n",
       "      <th>BUR_N_BUR_AMT_CREDIT_DEBT_RATE_MAX</th>\n",
       "      <th>BUR_N_BUR_AMT_CREDIT_DEBT_RATE_MEAN</th>\n",
       "      <th>BUR_N_BUR_AMT_CREDIT_DEBT_RATE_SUM</th>\n",
       "      <th>BUR_N_BUR_AMT_CREDIT_DEBT_RATE_VAR</th>\n",
       "      <th>BUR_CREDIT_ACTIVE_Active_MEAN</th>\n",
       "      <th>BUR_CREDIT_ACTIVE_Closed_MEAN</th>\n",
       "      <th>BUR_CREDIT_TYPE_Cash loans_MEAN</th>\n",
       "      <th>ACTIVE_DAYS_CREDIT_MIN</th>\n",
       "      <th>ACTIVE_DAYS_CREDIT_MAX</th>\n",
       "      <th>ACTIVE_DAYS_CREDIT_MEAN</th>\n",
       "      <th>ACTIVE_DAYS_CREDIT_VAR</th>\n",
       "      <th>ACTIVE_DAYS_CREDIT_ENDDATE_MAX</th>\n",
       "      <th>ACTIVE_DAYS_CREDIT_ENDDATE_MEAN</th>\n",
       "      <th>ACTIVE_AMT_CREDIT_MAX_OVERDUE_MAX</th>\n",
       "      <th>ACTIVE_AMT_CREDIT_MAX_OVERDUE_MEAN</th>\n",
       "      <th>ACTIVE_AMT_CREDIT_MAX_OVERDUE_SUM</th>\n",
       "      <th>ACTIVE_AMT_CREDIT_SUM_MEAN</th>\n",
       "      <th>ACTIVE_AMT_CREDIT_SUM_DEBT_MAX</th>\n",
       "      <th>ACTIVE_AMT_CREDIT_SUM_DEBT_MEAN</th>\n",
       "      <th>ACTIVE_N_BUR_AMT_CREDIT_DEBT_RATE_MIN</th>\n",
       "      <th>ACTIVE_N_BUR_AMT_CREDIT_DEBT_RATE_MAX</th>\n",
       "      <th>ACTIVE_N_BUR_AMT_CREDIT_DEBT_RATE_MEAN</th>\n",
       "      <th>ACTIVE_N_BUR_AMT_CREDIT_DEBT_RATE_SUM</th>\n",
       "      <th>CLOSED_DAYS_CREDIT_MIN</th>\n",
       "      <th>CLOSED_DAYS_CREDIT_MAX</th>\n",
       "      <th>CLOSED_DAYS_CREDIT_MEAN</th>\n",
       "      <th>CLOSED_DAYS_CREDIT_VAR</th>\n",
       "      <th>CLOSED_DAYS_CREDIT_ENDDATE_MIN</th>\n",
       "      <th>CLOSED_DAYS_CREDIT_ENDDATE_MAX</th>\n",
       "      <th>CLOSED_DAYS_CREDIT_ENDDATE_MEAN</th>\n",
       "      <th>CLOSED_CREDIT_DAY_OVERDUE_MAX</th>\n",
       "      <th>CLOSED_CREDIT_DAY_OVERDUE_MEAN</th>\n",
       "      <th>CLOSED_AMT_CREDIT_MAX_OVERDUE_MAX</th>\n",
       "      <th>CLOSED_AMT_CREDIT_MAX_OVERDUE_MEAN</th>\n",
       "      <th>CLOSED_AMT_CREDIT_MAX_OVERDUE_SUM</th>\n",
       "      <th>CLOSED_AMT_CREDIT_SUM_MAX</th>\n",
       "      <th>CLOSED_AMT_CREDIT_SUM_MEAN</th>\n",
       "      <th>CLOSED_AMT_CREDIT_SUM_SUM</th>\n",
       "      <th>CLOSED_AMT_CREDIT_SUM_DEBT_MAX</th>\n",
       "      <th>CLOSED_AMT_CREDIT_SUM_DEBT_SUM</th>\n",
       "      <th>CLOSED_AMT_CREDIT_SUM_OVERDUE_MAX</th>\n",
       "      <th>CLOSED_AMT_CREDIT_SUM_OVERDUE_MEAN</th>\n",
       "      <th>CLOSED_AMT_CREDIT_SUM_OVERDUE_SUM</th>\n",
       "      <th>CLOSED_AMT_CREDIT_SUM_LIMIT_MAX</th>\n",
       "      <th>CLOSED_AMT_CREDIT_SUM_LIMIT_SUM</th>\n",
       "      <th>CLOSED_AMT_ANNUITY_SUM</th>\n",
       "      <th>CLOSED_CNT_CREDIT_PROLONG_SUM</th>\n",
       "      <th>CLOSED_N_BUR_EARLINESS_OVERDUE_RATIO_MIN</th>\n",
       "      <th>CLOSED_N_BUR_EARLINESS_OVERDUE_RATIO_MAX</th>\n",
       "      <th>CLOSED_N_BUR_EARLINESS_OVERDUE_RATIO_MEAN</th>\n",
       "      <th>CLOSED_N_BUR_EARLINESS_OVERDUE_RATIO_SUM</th>\n",
       "      <th>CLOSED_N_BUR_EARLINESS_OVERDUE_RATIO_VAR</th>\n",
       "      <th>CLOSED_N_BUR_AMT_CREDIT_DEBT_RATE_MIN</th>\n",
       "      <th>CLOSED_N_BUR_AMT_CREDIT_DEBT_RATE_MAX</th>\n",
       "      <th>CLOSED_N_BUR_AMT_CREDIT_DEBT_RATE_MEAN</th>\n",
       "      <th>CLOSED_N_BUR_AMT_CREDIT_DEBT_RATE_SUM</th>\n",
       "      <th>PREV_AMT_ANNUITY_MIN</th>\n",
       "      <th>PREV_AMT_ANNUITY_MAX</th>\n",
       "      <th>PREV_AMT_ANNUITY_MEAN</th>\n",
       "      <th>PREV_AMT_APPLICATION_MIN</th>\n",
       "      <th>PREV_AMT_APPLICATION_MAX</th>\n",
       "      <th>PREV_AMT_APPLICATION_MEAN</th>\n",
       "      <th>PREV_AMT_CREDIT_MIN</th>\n",
       "      <th>PREV_AMT_CREDIT_MAX</th>\n",
       "      <th>PREV_AMT_CREDIT_MEAN</th>\n",
       "      <th>PREV_N_APP_CREDIT_RATIO_MIN</th>\n",
       "      <th>PREV_N_APP_CREDIT_RATIO_MAX</th>\n",
       "      <th>PREV_N_APP_CREDIT_RATIO_MEAN</th>\n",
       "      <th>PREV_N_ADJ_CREDIT_RATIO_MIN</th>\n",
       "      <th>PREV_N_ADJ_CREDIT_RATIO_MAX</th>\n",
       "      <th>PREV_N_ADJ_CREDIT_RATIO_MEAN</th>\n",
       "      <th>PREV_N_ADJ_INTEREST_EVAL_MIN</th>\n",
       "      <th>PREV_N_ADJ_INTEREST_EVAL_MAX</th>\n",
       "      <th>PREV_N_ADJ_INTEREST_EVAL_MEAN</th>\n",
       "      <th>PREV_N_CREDIT_PROLONG_RATIO_VAR</th>\n",
       "      <th>PREV_AMT_DOWN_PAYMENT_MAX</th>\n",
       "      <th>PREV_AMT_DOWN_PAYMENT_MEAN</th>\n",
       "      <th>PREV_AMT_GOODS_PRICE_MIN</th>\n",
       "      <th>PREV_AMT_GOODS_PRICE_MAX</th>\n",
       "      <th>PREV_AMT_GOODS_PRICE_MEAN</th>\n",
       "      <th>PREV_DAYS_DECISION_MIN</th>\n",
       "      <th>PREV_DAYS_DECISION_MEAN</th>\n",
       "      <th>PREV_CNT_PAYMENT_VAR</th>\n",
       "      <th>PREV_NC_LOAN_TERM_SUM</th>\n",
       "      <th>PREV_NC_LOAN_AGE_MAX</th>\n",
       "      <th>PREV_NC_LOAN_AGE_SUM</th>\n",
       "      <th>PREV_NAME_CONTRACT_TYPE_Revolving loans_MEAN</th>\n",
       "      <th>PREV_NAME_CONTRACT_STATUS_Approved_MEAN</th>\n",
       "      <th>PREV_NAME_CONTRACT_STATUS_Refused_MEAN</th>\n",
       "      <th>PREV_NAME_PAYMENT_TYPE_XNA_MEAN</th>\n",
       "      <th>PREV_CODE_REJECT_REASON_HC_MEAN</th>\n",
       "      <th>PREV_CODE_REJECT_REASON_SCOFR_MEAN</th>\n",
       "      <th>PREV_CODE_REJECT_REASON_XAP_MEAN</th>\n",
       "      <th>PREV_NAME_CLIENT_TYPE_New_MEAN</th>\n",
       "      <th>PREV_NAME_PRODUCT_TYPE_walk-in_MEAN</th>\n",
       "      <th>PREV_NAME_YIELD_GROUP_XNA_MEAN</th>\n",
       "      <th>PREV_NAME_YIELD_GROUP_high_MEAN</th>\n",
       "      <th>PREV_NAME_YIELD_GROUP_low_action_MEAN</th>\n",
       "      <th>PREV_NAME_YIELD_GROUP_low_normal_MEAN</th>\n",
       "      <th>PREV_PRODUCT_COMBINATION_Card Street_MEAN</th>\n",
       "      <th>PREV_PRODUCT_COMBINATION_Cash X-Sell: low_MEAN</th>\n",
       "      <th>PREV_N_CREDIT_TYPE_Cash loans_MEAN</th>\n",
       "      <th>PREV_N_CREDIT_TYPE_Revolving loans_MEAN</th>\n",
       "      <th>PREV_N_CODE_REJECT_REASON_REJECTED_HC_MEAN</th>\n",
       "      <th>PREV_N_CODE_REJECT_REASON_REJECTED_SCOFR_MEAN</th>\n",
       "      <th>PREV_N_CODE_REJECT_REASON_REJECTED_XAP_MEAN</th>\n",
       "      <th>PREV_N_CONTRACT_STATUS_APPROVED_MEAN</th>\n",
       "      <th>PREV_N_CONTRACT_STATUS_REJECTED_HC_MEAN</th>\n",
       "      <th>PREV_N_CONTRACT_STATUS_REJECTED_SCOFR_MEAN</th>\n",
       "      <th>APPROVED_AMT_ANNUITY_MIN</th>\n",
       "      <th>APPROVED_AMT_ANNUITY_MAX</th>\n",
       "      <th>APPROVED_AMT_ANNUITY_MEAN</th>\n",
       "      <th>APPROVED_AMT_APPLICATION_MIN</th>\n",
       "      <th>APPROVED_AMT_APPLICATION_MAX</th>\n",
       "      <th>APPROVED_AMT_APPLICATION_MEAN</th>\n",
       "      <th>APPROVED_AMT_CREDIT_MIN</th>\n",
       "      <th>APPROVED_AMT_CREDIT_MAX</th>\n",
       "      <th>APPROVED_AMT_CREDIT_MEAN</th>\n",
       "      <th>APPROVED_N_APP_CREDIT_RATIO_MIN</th>\n",
       "      <th>APPROVED_N_APP_CREDIT_RATIO_MAX</th>\n",
       "      <th>APPROVED_N_APP_CREDIT_RATIO_MEAN</th>\n",
       "      <th>APPROVED_N_ADJ_CREDIT_RATIO_MIN</th>\n",
       "      <th>APPROVED_N_ADJ_CREDIT_RATIO_MAX</th>\n",
       "      <th>APPROVED_N_ADJ_CREDIT_RATIO_MEAN</th>\n",
       "      <th>APPROVED_N_ADJ_INTEREST_EVAL_MIN</th>\n",
       "      <th>APPROVED_N_ADJ_INTEREST_EVAL_MAX</th>\n",
       "      <th>APPROVED_N_ADJ_INTEREST_EVAL_MEAN</th>\n",
       "      <th>APPROVED_N_CREDIT_PROLONG_RATIO_VAR</th>\n",
       "      <th>APPROVED_AMT_DOWN_PAYMENT_MAX</th>\n",
       "      <th>APPROVED_AMT_DOWN_PAYMENT_MEAN</th>\n",
       "      <th>APPROVED_AMT_GOODS_PRICE_MIN</th>\n",
       "      <th>APPROVED_AMT_GOODS_PRICE_MAX</th>\n",
       "      <th>APPROVED_AMT_GOODS_PRICE_MEAN</th>\n",
       "      <th>APPROVED_DAYS_DECISION_MIN</th>\n",
       "      <th>APPROVED_DAYS_DECISION_MEAN</th>\n",
       "      <th>APPROVED_CNT_PAYMENT_VAR</th>\n",
       "      <th>APPROVED_NC_LOAN_TERM_SUM</th>\n",
       "      <th>APPROVED_NC_LOAN_AGE_MAX</th>\n",
       "      <th>APPROVED_NC_LOAN_AGE_MEAN</th>\n",
       "      <th>APPROVED_NC_LOAN_AGE_SUM</th>\n",
       "      <th>REFUSED_AMT_ANNUITY_MIN</th>\n",
       "      <th>REFUSED_AMT_APPLICATION_MIN</th>\n",
       "      <th>REFUSED_N_APP_CREDIT_RATIO_MIN</th>\n",
       "      <th>REFUSED_N_APP_CREDIT_RATIO_MAX</th>\n",
       "      <th>REFUSED_N_APP_CREDIT_RATIO_MEAN</th>\n",
       "      <th>REFUSED_N_ADJ_CREDIT_RATIO_MIN</th>\n",
       "      <th>REFUSED_N_ADJ_CREDIT_RATIO_MEAN</th>\n",
       "      <th>REFUSED_N_ADJ_INTEREST_EVAL_MAX</th>\n",
       "      <th>REFUSED_N_ADJ_INTEREST_EVAL_MEAN</th>\n",
       "      <th>REFUSED_AMT_GOODS_PRICE_MIN</th>\n",
       "      <th>REFUSED_DAYS_DECISION_MIN</th>\n",
       "      <th>REFUSED_DAYS_DECISION_MAX</th>\n",
       "      <th>REFUSED_DAYS_DECISION_MEAN</th>\n",
       "      <th>REFUSED_CNT_PAYMENT_SUM</th>\n",
       "      <th>INSAGG_INS_N_PREV_CNT_PROLONG_SUM</th>\n",
       "      <th>INSAGG_INS_N_PREV_INS_AMT_MAX_OVERDUE_MEAN</th>\n",
       "      <th>INSAGG_INS_N_PREV_LAST_DAYS_INSTALMENT_MIN</th>\n",
       "      <th>INSAGG_INS_N_PREV_LAST_DAYS_INSTALMENT_MEAN</th>\n",
       "      <th>INSAGG_INS_N_PREV_LAST_DAYS_INSTALMENT_SUM</th>\n",
       "      <th>INSAGG_INS_N_PREV_LAST_DAYS_INSTALMENT_VAR</th>\n",
       "      <th>INSAGG_INS_N_PREV_EARLINESS_OVERDUE_RATIO_MIN</th>\n",
       "      <th>INSAGG_INS_N_PREV_EARLINESS_OVERDUE_RATIO_MAX</th>\n",
       "      <th>INSAGG_INS_N_PREV_EARLINESS_OVERDUE_RATIO_MEAN</th>\n",
       "      <th>INSAGG_INS_N_PREV_EARLINESS_OVERDUE_RATIO_SUM</th>\n",
       "      <th>INSAGG_INS_N_PREV_LOAN_AGE_MAX</th>\n",
       "      <th>INSAGG_INS_N_PREV_LOAN_AGE_MEAN</th>\n",
       "      <th>INSAGG_INS_N_PREV_LOAN_AGE_SUM</th>\n",
       "      <th>INSAGG_INS_N_PREV_LOAN_AGE_VAR</th>\n",
       "      <th>INS_DAYS_INSTALMENT_MEAN</th>\n",
       "      <th>INS_N_INS_DPD_MAX</th>\n",
       "      <th>INS_N_INS_DPD_MEAN</th>\n",
       "      <th>INS_N_INS_DPD_SUM</th>\n",
       "      <th>INS_N_INS_DBD_MEAN</th>\n",
       "      <th>INS_N_INS_AMT_OVERDUE_MEAN</th>\n",
       "      <th>INS_N_AMT_OVERDUE_RATIO_MAX</th>\n",
       "      <th>INS_N_AMT_OVERDUE_RATIO_MEAN</th>\n",
       "      <th>INS_AMT_INSTALMENT_MAX</th>\n",
       "      <th>INS_AMT_INSTALMENT_MEAN</th>\n",
       "      <th>INS_AMT_INSTALMENT_SUM</th>\n",
       "      <th>INS_N_STATUS_0_SUM</th>\n",
       "      <th>INS_N_FAULT_RATE</th>\n",
       "      <th>INS_N_FAULT_GRAVITY</th>\n",
       "      <th>INS_N_FAULT_ADJ_RATE</th>\n",
       "      <th>POS_SK_DPD_DEF_MAX</th>\n",
       "      <th>POS_SK_DPD_DEF_MEAN</th>\n",
       "      <th>POS_N_POS_COUNT</th>\n",
       "      <th>CC_AMT_BALANCE_MAX</th>\n",
       "      <th>CC_AMT_BALANCE_MEAN</th>\n",
       "      <th>CC_AMT_DRAWINGS_ATM_CURRENT_MEAN</th>\n",
       "      <th>CC_AMT_DRAWINGS_CURRENT_MAX</th>\n",
       "      <th>CC_AMT_DRAWINGS_CURRENT_MEAN</th>\n",
       "      <th>CC_AMT_DRAWINGS_CURRENT_VAR</th>\n",
       "      <th>CC_AMT_INST_MIN_REGULARITY_MEAN</th>\n",
       "      <th>CC_AMT_RECEIVABLE_PRINCIPAL_MEAN</th>\n",
       "      <th>CC_AMT_RECIVABLE_MEAN</th>\n",
       "      <th>CC_AMT_TOTAL_RECEIVABLE_MAX</th>\n",
       "      <th>CC_AMT_TOTAL_RECEIVABLE_MEAN</th>\n",
       "      <th>CC_CNT_DRAWINGS_ATM_CURRENT_MAX</th>\n",
       "      <th>CC_CNT_DRAWINGS_ATM_CURRENT_MEAN</th>\n",
       "      <th>CC_CNT_DRAWINGS_ATM_CURRENT_VAR</th>\n",
       "      <th>CC_CNT_DRAWINGS_CURRENT_MAX</th>\n",
       "      <th>CC_CNT_DRAWINGS_CURRENT_MEAN</th>\n",
       "      <th>CC_CNT_DRAWINGS_CURRENT_SUM</th>\n",
       "      <th>CC_CNT_DRAWINGS_CURRENT_VAR</th>\n",
       "      <th>CC_CNT_DRAWINGS_POS_CURRENT_MAX</th>\n",
       "      <th>CC_CNT_DRAWINGS_POS_CURRENT_MEAN</th>\n",
       "      <th>N_CC_USE_LATE_MONTH_6</th>\n",
       "      <th>N_CC_USE_LATE_MONTH_2</th>\n",
       "    </tr>\n",
       "  </thead>\n",
       "  <tbody>\n",
       "    <tr>\n",
       "      <th>0</th>\n",
       "      <td>100002</td>\n",
       "      <td>1.0</td>\n",
       "      <td>1</td>\n",
       "      <td>202500.0</td>\n",
       "      <td>406597.5</td>\n",
       "      <td>24700.5</td>\n",
       "      <td>351000.0</td>\n",
       "      <td>0.018801</td>\n",
       "      <td>-637.0</td>\n",
       "      <td>-3648.0</td>\n",
       "      <td>-2120</td>\n",
       "      <td>NaN</td>\n",
       "      <td>2</td>\n",
       "      <td>2</td>\n",
       "      <td>0</td>\n",
       "      <td>0.0369</td>\n",
       "      <td>0.9722</td>\n",
       "      <td>0.0</td>\n",
       "      <td>0.019</td>\n",
       "      <td>0.0383</td>\n",
       "      <td>0.0369</td>\n",
       "      <td>0.9722</td>\n",
       "      <td>0.0149</td>\n",
       "      <td>-1134.0</td>\n",
       "      <td>1</td>\n",
       "      <td>0.0</td>\n",
       "      <td>0.0</td>\n",
       "      <td>0.0</td>\n",
       "      <td>0.0</td>\n",
       "      <td>0.0</td>\n",
       "      <td>-103.0</td>\n",
       "      <td>25.920548</td>\n",
       "      <td>0.067329</td>\n",
       "      <td>2.007889</td>\n",
       "      <td>0.121978</td>\n",
       "      <td>0.060749</td>\n",
       "      <td>1</td>\n",
       "      <td>0</td>\n",
       "      <td>1</td>\n",
       "      <td>1</td>\n",
       "      <td>0</td>\n",
       "      <td>-1437.0</td>\n",
       "      <td>-103.0</td>\n",
       "      <td>-874.0</td>\n",
       "      <td>186150.0</td>\n",
       "      <td>-1072.0</td>\n",
       "      <td>780.0</td>\n",
       "      <td>-349.0</td>\n",
       "      <td>5043.645</td>\n",
       "      <td>1681.029</td>\n",
       "      <td>8405.145</td>\n",
       "      <td>450000.0</td>\n",
       "      <td>108131.945625</td>\n",
       "      <td>865055.565</td>\n",
       "      <td>245781.0</td>\n",
       "      <td>49156.2</td>\n",
       "      <td>245781.0</td>\n",
       "      <td>31988.565</td>\n",
       "      <td>7997.14125</td>\n",
       "      <td>31988.565</td>\n",
       "      <td>13.75</td>\n",
       "      <td>-26.875</td>\n",
       "      <td>0.0</td>\n",
       "      <td>0.546179</td>\n",
       "      <td>0.109236</td>\n",
       "      <td>0.546179</td>\n",
       "      <td>0.059662</td>\n",
       "      <td>0.25</td>\n",
       "      <td>0.75</td>\n",
       "      <td>0.5</td>\n",
       "      <td>-1042.0</td>\n",
       "      <td>-103.0</td>\n",
       "      <td>-572.5</td>\n",
       "      <td>440860.5</td>\n",
       "      <td>780.0</td>\n",
       "      <td>780.0</td>\n",
       "      <td>40.5</td>\n",
       "      <td>40.5</td>\n",
       "      <td>40.5</td>\n",
       "      <td>240994.2825</td>\n",
       "      <td>245781.0</td>\n",
       "      <td>122890.5</td>\n",
       "      <td>0.0</td>\n",
       "      <td>0.546179</td>\n",
       "      <td>0.273089</td>\n",
       "      <td>0.546179</td>\n",
       "      <td>-1437.0</td>\n",
       "      <td>-476.0</td>\n",
       "      <td>-974.5</td>\n",
       "      <td>123956.7</td>\n",
       "      <td>-1072.0</td>\n",
       "      <td>85.0</td>\n",
       "      <td>-574.8</td>\n",
       "      <td>0.0</td>\n",
       "      <td>0.0</td>\n",
       "      <td>5043.645</td>\n",
       "      <td>2091.16125</td>\n",
       "      <td>8364.645</td>\n",
       "      <td>135000.0</td>\n",
       "      <td>63844.5</td>\n",
       "      <td>383067.0</td>\n",
       "      <td>0.0</td>\n",
       "      <td>0.0</td>\n",
       "      <td>0.0</td>\n",
       "      <td>0.0</td>\n",
       "      <td>0.0</td>\n",
       "      <td>0.0</td>\n",
       "      <td>0.0</td>\n",
       "      <td>0.0</td>\n",
       "      <td>0.0</td>\n",
       "      <td>0.0</td>\n",
       "      <td>0.952381</td>\n",
       "      <td>0.698712</td>\n",
       "      <td>4.192274</td>\n",
       "      <td>0.135732</td>\n",
       "      <td>0.0</td>\n",
       "      <td>0.0</td>\n",
       "      <td>0.0</td>\n",
       "      <td>0.0</td>\n",
       "      <td>9251.775</td>\n",
       "      <td>9251.775</td>\n",
       "      <td>9251.775</td>\n",
       "      <td>179055.0</td>\n",
       "      <td>179055.0</td>\n",
       "      <td>179055.0</td>\n",
       "      <td>179055.0</td>\n",
       "      <td>179055.0</td>\n",
       "      <td>179055.0</td>\n",
       "      <td>1.0</td>\n",
       "      <td>1.0</td>\n",
       "      <td>1.0</td>\n",
       "      <td>0.0</td>\n",
       "      <td>0.0</td>\n",
       "      <td>0.0</td>\n",
       "      <td>0.0</td>\n",
       "      <td>0.0</td>\n",
       "      <td>0.0</td>\n",
       "      <td>NaN</td>\n",
       "      <td>0.0</td>\n",
       "      <td>0.0</td>\n",
       "      <td>179055.0</td>\n",
       "      <td>179055.0</td>\n",
       "      <td>179055.0</td>\n",
       "      <td>-606.0</td>\n",
       "      <td>-606.0</td>\n",
       "      <td>NaN</td>\n",
       "      <td>19.0</td>\n",
       "      <td>1.583333</td>\n",
       "      <td>1.583333</td>\n",
       "      <td>0.0</td>\n",
       "      <td>1.0</td>\n",
       "      <td>0.0</td>\n",
       "      <td>1.0</td>\n",
       "      <td>0.0</td>\n",
       "      <td>0.0</td>\n",
       "      <td>1.0</td>\n",
       "      <td>1.0</td>\n",
       "      <td>0.0</td>\n",
       "      <td>0.0</td>\n",
       "      <td>0.0</td>\n",
       "      <td>0.0</td>\n",
       "      <td>1.0</td>\n",
       "      <td>0.0</td>\n",
       "      <td>0.0</td>\n",
       "      <td>1.0</td>\n",
       "      <td>0.0</td>\n",
       "      <td>0.0</td>\n",
       "      <td>0.0</td>\n",
       "      <td>1.0</td>\n",
       "      <td>1.0</td>\n",
       "      <td>0.0</td>\n",
       "      <td>0.0</td>\n",
       "      <td>9251.775</td>\n",
       "      <td>9251.775</td>\n",
       "      <td>9251.775</td>\n",
       "      <td>179055.0</td>\n",
       "      <td>179055.0</td>\n",
       "      <td>179055.0</td>\n",
       "      <td>179055.0</td>\n",
       "      <td>179055.0</td>\n",
       "      <td>179055.0</td>\n",
       "      <td>1.0</td>\n",
       "      <td>1.0</td>\n",
       "      <td>1.0</td>\n",
       "      <td>0.0</td>\n",
       "      <td>0.0</td>\n",
       "      <td>0.0</td>\n",
       "      <td>0.0</td>\n",
       "      <td>0.0</td>\n",
       "      <td>0.0</td>\n",
       "      <td>NaN</td>\n",
       "      <td>0.0</td>\n",
       "      <td>0.0</td>\n",
       "      <td>179055.0</td>\n",
       "      <td>179055.0</td>\n",
       "      <td>179055.0</td>\n",
       "      <td>-606.0</td>\n",
       "      <td>-606.0</td>\n",
       "      <td>NaN</td>\n",
       "      <td>19.0</td>\n",
       "      <td>1.583333</td>\n",
       "      <td>1.583333</td>\n",
       "      <td>1.583333</td>\n",
       "      <td>NaN</td>\n",
       "      <td>NaN</td>\n",
       "      <td>NaN</td>\n",
       "      <td>NaN</td>\n",
       "      <td>NaN</td>\n",
       "      <td>NaN</td>\n",
       "      <td>NaN</td>\n",
       "      <td>NaN</td>\n",
       "      <td>NaN</td>\n",
       "      <td>NaN</td>\n",
       "      <td>NaN</td>\n",
       "      <td>NaN</td>\n",
       "      <td>NaN</td>\n",
       "      <td>NaN</td>\n",
       "      <td>38.0</td>\n",
       "      <td>0.0</td>\n",
       "      <td>-25.0</td>\n",
       "      <td>-25.0</td>\n",
       "      <td>-475.0</td>\n",
       "      <td>0.0</td>\n",
       "      <td>0.0</td>\n",
       "      <td>0.0</td>\n",
       "      <td>0.0</td>\n",
       "      <td>0.0</td>\n",
       "      <td>0.068493</td>\n",
       "      <td>0.068493</td>\n",
       "      <td>1.30137</td>\n",
       "      <td>0.0</td>\n",
       "      <td>-295.0</td>\n",
       "      <td>0.0</td>\n",
       "      <td>0.0</td>\n",
       "      <td>0.0</td>\n",
       "      <td>20.421053</td>\n",
       "      <td>0.0</td>\n",
       "      <td>0.0</td>\n",
       "      <td>0.0</td>\n",
       "      <td>53093.745</td>\n",
       "      <td>11559.247105</td>\n",
       "      <td>219625.695</td>\n",
       "      <td>19.0</td>\n",
       "      <td>0.0</td>\n",
       "      <td>0.0</td>\n",
       "      <td>0.0</td>\n",
       "      <td>0.0</td>\n",
       "      <td>0.0</td>\n",
       "      <td>19.0</td>\n",
       "      <td>NaN</td>\n",
       "      <td>NaN</td>\n",
       "      <td>NaN</td>\n",
       "      <td>NaN</td>\n",
       "      <td>NaN</td>\n",
       "      <td>NaN</td>\n",
       "      <td>NaN</td>\n",
       "      <td>NaN</td>\n",
       "      <td>NaN</td>\n",
       "      <td>NaN</td>\n",
       "      <td>NaN</td>\n",
       "      <td>NaN</td>\n",
       "      <td>NaN</td>\n",
       "      <td>NaN</td>\n",
       "      <td>NaN</td>\n",
       "      <td>NaN</td>\n",
       "      <td>NaN</td>\n",
       "      <td>NaN</td>\n",
       "      <td>NaN</td>\n",
       "      <td>NaN</td>\n",
       "      <td>NaN</td>\n",
       "      <td>NaN</td>\n",
       "    </tr>\n",
       "  </tbody>\n",
       "</table>\n",
       "</div>"
      ],
      "text/plain": [
       "   SK_ID_CURR  TARGET  CODE_GENDER  AMT_INCOME_TOTAL  AMT_CREDIT  AMT_ANNUITY  \\\n",
       "0      100002     1.0            1          202500.0    406597.5      24700.5   \n",
       "\n",
       "   AMT_GOODS_PRICE  REGION_POPULATION_RELATIVE  DAYS_EMPLOYED  \\\n",
       "0         351000.0                    0.018801         -637.0   \n",
       "\n",
       "   DAYS_REGISTRATION  DAYS_ID_PUBLISH  OWN_CAR_AGE  REGION_RATING_CLIENT  \\\n",
       "0            -3648.0            -2120          NaN                     2   \n",
       "\n",
       "   REGION_RATING_CLIENT_W_CITY  REG_CITY_NOT_WORK_CITY  BASEMENTAREA_AVG  \\\n",
       "0                            2                       0            0.0369   \n",
       "\n",
       "   YEARS_BEGINEXPLUATATION_AVG  ELEVATORS_AVG  LIVINGAREA_AVG  \\\n",
       "0                       0.9722            0.0           0.019   \n",
       "\n",
       "   BASEMENTAREA_MODE  BASEMENTAREA_MEDI  YEARS_BEGINEXPLUATATION_MEDI  \\\n",
       "0             0.0383             0.0369                        0.9722   \n",
       "\n",
       "   TOTALAREA_MODE  DAYS_LAST_PHONE_CHANGE  FLAG_DOCUMENT_3  \\\n",
       "0          0.0149                 -1134.0                1   \n",
       "\n",
       "   N_CNT_PREV_REJECTED_HC  N_CNT_PREV_REJECTED_SCOFR  N_FLAG_REJECTED  \\\n",
       "0                     0.0                        0.0              0.0   \n",
       "\n",
       "   N_ADJ_REJECT_RECENCY_INDEX  N_REJECT_RATE  N_BUR_LAST_APPLICATION  \\\n",
       "0                         0.0            0.0                  -103.0   \n",
       "\n",
       "   YEARS_BIRTH  N_DAYS_EMPLOYED_RATIO  N_CREDIT_INCOME_RATIO  \\\n",
       "0    25.920548               0.067329               2.007889   \n",
       "\n",
       "   N_ANNUITY_INCOME_RATIO  N_CREDIT_TERM  NAME_INCOME_TYPE_Working  \\\n",
       "0                0.121978       0.060749                         1   \n",
       "\n",
       "   NAME_EDUCATION_TYPE_Higher education  \\\n",
       "0                                     0   \n",
       "\n",
       "   NAME_EDUCATION_TYPE_Secondary / secondary special  \\\n",
       "0                                                  1   \n",
       "\n",
       "   OCCUPATION_TYPE_Laborers  OCCUPATION_TYPE_Pensioner  BUR_DAYS_CREDIT_MIN  \\\n",
       "0                         1                          0              -1437.0   \n",
       "\n",
       "   BUR_DAYS_CREDIT_MAX  BUR_DAYS_CREDIT_MEAN  BUR_DAYS_CREDIT_VAR  \\\n",
       "0               -103.0                -874.0             186150.0   \n",
       "\n",
       "   BUR_DAYS_CREDIT_ENDDATE_MIN  BUR_DAYS_CREDIT_ENDDATE_MAX  \\\n",
       "0                      -1072.0                        780.0   \n",
       "\n",
       "   BUR_DAYS_CREDIT_ENDDATE_MEAN  BUR_AMT_CREDIT_MAX_OVERDUE_MAX  \\\n",
       "0                        -349.0                        5043.645   \n",
       "\n",
       "   BUR_AMT_CREDIT_MAX_OVERDUE_MEAN  BUR_AMT_CREDIT_MAX_OVERDUE_SUM  \\\n",
       "0                         1681.029                        8405.145   \n",
       "\n",
       "   BUR_AMT_CREDIT_SUM_MAX  BUR_AMT_CREDIT_SUM_MEAN  BUR_AMT_CREDIT_SUM_SUM  \\\n",
       "0                450000.0            108131.945625              865055.565   \n",
       "\n",
       "   BUR_AMT_CREDIT_SUM_DEBT_MAX  BUR_AMT_CREDIT_SUM_DEBT_MEAN  \\\n",
       "0                     245781.0                       49156.2   \n",
       "\n",
       "   BUR_AMT_CREDIT_SUM_DEBT_SUM  BUR_AMT_CREDIT_SUM_LIMIT_MAX  \\\n",
       "0                     245781.0                     31988.565   \n",
       "\n",
       "   BUR_AMT_CREDIT_SUM_LIMIT_MEAN  BUR_AMT_CREDIT_SUM_LIMIT_SUM  \\\n",
       "0                     7997.14125                     31988.565   \n",
       "\n",
       "   BUR_MONTHS_BALANCE_SIZE_MEAN  BUR_N_BUR_START_OBSERVED_MEAN  \\\n",
       "0                         13.75                        -26.875   \n",
       "\n",
       "   BUR_N_BUR_AMT_CREDIT_DEBT_RATE_MIN  BUR_N_BUR_AMT_CREDIT_DEBT_RATE_MAX  \\\n",
       "0                                 0.0                            0.546179   \n",
       "\n",
       "   BUR_N_BUR_AMT_CREDIT_DEBT_RATE_MEAN  BUR_N_BUR_AMT_CREDIT_DEBT_RATE_SUM  \\\n",
       "0                             0.109236                            0.546179   \n",
       "\n",
       "   BUR_N_BUR_AMT_CREDIT_DEBT_RATE_VAR  BUR_CREDIT_ACTIVE_Active_MEAN  \\\n",
       "0                            0.059662                           0.25   \n",
       "\n",
       "   BUR_CREDIT_ACTIVE_Closed_MEAN  BUR_CREDIT_TYPE_Cash loans_MEAN  \\\n",
       "0                           0.75                              0.5   \n",
       "\n",
       "   ACTIVE_DAYS_CREDIT_MIN  ACTIVE_DAYS_CREDIT_MAX  ACTIVE_DAYS_CREDIT_MEAN  \\\n",
       "0                 -1042.0                  -103.0                   -572.5   \n",
       "\n",
       "   ACTIVE_DAYS_CREDIT_VAR  ACTIVE_DAYS_CREDIT_ENDDATE_MAX  \\\n",
       "0                440860.5                           780.0   \n",
       "\n",
       "   ACTIVE_DAYS_CREDIT_ENDDATE_MEAN  ACTIVE_AMT_CREDIT_MAX_OVERDUE_MAX  \\\n",
       "0                            780.0                               40.5   \n",
       "\n",
       "   ACTIVE_AMT_CREDIT_MAX_OVERDUE_MEAN  ACTIVE_AMT_CREDIT_MAX_OVERDUE_SUM  \\\n",
       "0                                40.5                               40.5   \n",
       "\n",
       "   ACTIVE_AMT_CREDIT_SUM_MEAN  ACTIVE_AMT_CREDIT_SUM_DEBT_MAX  \\\n",
       "0                 240994.2825                        245781.0   \n",
       "\n",
       "   ACTIVE_AMT_CREDIT_SUM_DEBT_MEAN  ACTIVE_N_BUR_AMT_CREDIT_DEBT_RATE_MIN  \\\n",
       "0                         122890.5                                    0.0   \n",
       "\n",
       "   ACTIVE_N_BUR_AMT_CREDIT_DEBT_RATE_MAX  \\\n",
       "0                               0.546179   \n",
       "\n",
       "   ACTIVE_N_BUR_AMT_CREDIT_DEBT_RATE_MEAN  \\\n",
       "0                                0.273089   \n",
       "\n",
       "   ACTIVE_N_BUR_AMT_CREDIT_DEBT_RATE_SUM  CLOSED_DAYS_CREDIT_MIN  \\\n",
       "0                               0.546179                 -1437.0   \n",
       "\n",
       "   CLOSED_DAYS_CREDIT_MAX  CLOSED_DAYS_CREDIT_MEAN  CLOSED_DAYS_CREDIT_VAR  \\\n",
       "0                  -476.0                   -974.5                123956.7   \n",
       "\n",
       "   CLOSED_DAYS_CREDIT_ENDDATE_MIN  CLOSED_DAYS_CREDIT_ENDDATE_MAX  \\\n",
       "0                         -1072.0                            85.0   \n",
       "\n",
       "   CLOSED_DAYS_CREDIT_ENDDATE_MEAN  CLOSED_CREDIT_DAY_OVERDUE_MAX  \\\n",
       "0                           -574.8                            0.0   \n",
       "\n",
       "   CLOSED_CREDIT_DAY_OVERDUE_MEAN  CLOSED_AMT_CREDIT_MAX_OVERDUE_MAX  \\\n",
       "0                             0.0                           5043.645   \n",
       "\n",
       "   CLOSED_AMT_CREDIT_MAX_OVERDUE_MEAN  CLOSED_AMT_CREDIT_MAX_OVERDUE_SUM  \\\n",
       "0                          2091.16125                           8364.645   \n",
       "\n",
       "   CLOSED_AMT_CREDIT_SUM_MAX  CLOSED_AMT_CREDIT_SUM_MEAN  \\\n",
       "0                   135000.0                     63844.5   \n",
       "\n",
       "   CLOSED_AMT_CREDIT_SUM_SUM  CLOSED_AMT_CREDIT_SUM_DEBT_MAX  \\\n",
       "0                   383067.0                             0.0   \n",
       "\n",
       "   CLOSED_AMT_CREDIT_SUM_DEBT_SUM  CLOSED_AMT_CREDIT_SUM_OVERDUE_MAX  \\\n",
       "0                             0.0                                0.0   \n",
       "\n",
       "   CLOSED_AMT_CREDIT_SUM_OVERDUE_MEAN  CLOSED_AMT_CREDIT_SUM_OVERDUE_SUM  \\\n",
       "0                                 0.0                                0.0   \n",
       "\n",
       "   CLOSED_AMT_CREDIT_SUM_LIMIT_MAX  CLOSED_AMT_CREDIT_SUM_LIMIT_SUM  \\\n",
       "0                              0.0                              0.0   \n",
       "\n",
       "   CLOSED_AMT_ANNUITY_SUM  CLOSED_CNT_CREDIT_PROLONG_SUM  \\\n",
       "0                     0.0                            0.0   \n",
       "\n",
       "   CLOSED_N_BUR_EARLINESS_OVERDUE_RATIO_MIN  \\\n",
       "0                                       0.0   \n",
       "\n",
       "   CLOSED_N_BUR_EARLINESS_OVERDUE_RATIO_MAX  \\\n",
       "0                                  0.952381   \n",
       "\n",
       "   CLOSED_N_BUR_EARLINESS_OVERDUE_RATIO_MEAN  \\\n",
       "0                                   0.698712   \n",
       "\n",
       "   CLOSED_N_BUR_EARLINESS_OVERDUE_RATIO_SUM  \\\n",
       "0                                  4.192274   \n",
       "\n",
       "   CLOSED_N_BUR_EARLINESS_OVERDUE_RATIO_VAR  \\\n",
       "0                                  0.135732   \n",
       "\n",
       "   CLOSED_N_BUR_AMT_CREDIT_DEBT_RATE_MIN  \\\n",
       "0                                    0.0   \n",
       "\n",
       "   CLOSED_N_BUR_AMT_CREDIT_DEBT_RATE_MAX  \\\n",
       "0                                    0.0   \n",
       "\n",
       "   CLOSED_N_BUR_AMT_CREDIT_DEBT_RATE_MEAN  \\\n",
       "0                                     0.0   \n",
       "\n",
       "   CLOSED_N_BUR_AMT_CREDIT_DEBT_RATE_SUM  PREV_AMT_ANNUITY_MIN  \\\n",
       "0                                    0.0              9251.775   \n",
       "\n",
       "   PREV_AMT_ANNUITY_MAX  PREV_AMT_ANNUITY_MEAN  PREV_AMT_APPLICATION_MIN  \\\n",
       "0              9251.775               9251.775                  179055.0   \n",
       "\n",
       "   PREV_AMT_APPLICATION_MAX  PREV_AMT_APPLICATION_MEAN  PREV_AMT_CREDIT_MIN  \\\n",
       "0                  179055.0                   179055.0             179055.0   \n",
       "\n",
       "   PREV_AMT_CREDIT_MAX  PREV_AMT_CREDIT_MEAN  PREV_N_APP_CREDIT_RATIO_MIN  \\\n",
       "0             179055.0              179055.0                          1.0   \n",
       "\n",
       "   PREV_N_APP_CREDIT_RATIO_MAX  PREV_N_APP_CREDIT_RATIO_MEAN  \\\n",
       "0                          1.0                           1.0   \n",
       "\n",
       "   PREV_N_ADJ_CREDIT_RATIO_MIN  PREV_N_ADJ_CREDIT_RATIO_MAX  \\\n",
       "0                          0.0                          0.0   \n",
       "\n",
       "   PREV_N_ADJ_CREDIT_RATIO_MEAN  PREV_N_ADJ_INTEREST_EVAL_MIN  \\\n",
       "0                           0.0                           0.0   \n",
       "\n",
       "   PREV_N_ADJ_INTEREST_EVAL_MAX  PREV_N_ADJ_INTEREST_EVAL_MEAN  \\\n",
       "0                           0.0                            0.0   \n",
       "\n",
       "   PREV_N_CREDIT_PROLONG_RATIO_VAR  PREV_AMT_DOWN_PAYMENT_MAX  \\\n",
       "0                              NaN                        0.0   \n",
       "\n",
       "   PREV_AMT_DOWN_PAYMENT_MEAN  PREV_AMT_GOODS_PRICE_MIN  \\\n",
       "0                         0.0                  179055.0   \n",
       "\n",
       "   PREV_AMT_GOODS_PRICE_MAX  PREV_AMT_GOODS_PRICE_MEAN  \\\n",
       "0                  179055.0                   179055.0   \n",
       "\n",
       "   PREV_DAYS_DECISION_MIN  PREV_DAYS_DECISION_MEAN  PREV_CNT_PAYMENT_VAR  \\\n",
       "0                  -606.0                   -606.0                   NaN   \n",
       "\n",
       "   PREV_NC_LOAN_TERM_SUM  PREV_NC_LOAN_AGE_MAX  PREV_NC_LOAN_AGE_SUM  \\\n",
       "0                   19.0              1.583333              1.583333   \n",
       "\n",
       "   PREV_NAME_CONTRACT_TYPE_Revolving loans_MEAN  \\\n",
       "0                                           0.0   \n",
       "\n",
       "   PREV_NAME_CONTRACT_STATUS_Approved_MEAN  \\\n",
       "0                                      1.0   \n",
       "\n",
       "   PREV_NAME_CONTRACT_STATUS_Refused_MEAN  PREV_NAME_PAYMENT_TYPE_XNA_MEAN  \\\n",
       "0                                     0.0                              1.0   \n",
       "\n",
       "   PREV_CODE_REJECT_REASON_HC_MEAN  PREV_CODE_REJECT_REASON_SCOFR_MEAN  \\\n",
       "0                              0.0                                 0.0   \n",
       "\n",
       "   PREV_CODE_REJECT_REASON_XAP_MEAN  PREV_NAME_CLIENT_TYPE_New_MEAN  \\\n",
       "0                               1.0                             1.0   \n",
       "\n",
       "   PREV_NAME_PRODUCT_TYPE_walk-in_MEAN  PREV_NAME_YIELD_GROUP_XNA_MEAN  \\\n",
       "0                                  0.0                             0.0   \n",
       "\n",
       "   PREV_NAME_YIELD_GROUP_high_MEAN  PREV_NAME_YIELD_GROUP_low_action_MEAN  \\\n",
       "0                              0.0                                    0.0   \n",
       "\n",
       "   PREV_NAME_YIELD_GROUP_low_normal_MEAN  \\\n",
       "0                                    1.0   \n",
       "\n",
       "   PREV_PRODUCT_COMBINATION_Card Street_MEAN  \\\n",
       "0                                        0.0   \n",
       "\n",
       "   PREV_PRODUCT_COMBINATION_Cash X-Sell: low_MEAN  \\\n",
       "0                                             0.0   \n",
       "\n",
       "   PREV_N_CREDIT_TYPE_Cash loans_MEAN  \\\n",
       "0                                 1.0   \n",
       "\n",
       "   PREV_N_CREDIT_TYPE_Revolving loans_MEAN  \\\n",
       "0                                      0.0   \n",
       "\n",
       "   PREV_N_CODE_REJECT_REASON_REJECTED_HC_MEAN  \\\n",
       "0                                         0.0   \n",
       "\n",
       "   PREV_N_CODE_REJECT_REASON_REJECTED_SCOFR_MEAN  \\\n",
       "0                                            0.0   \n",
       "\n",
       "   PREV_N_CODE_REJECT_REASON_REJECTED_XAP_MEAN  \\\n",
       "0                                          1.0   \n",
       "\n",
       "   PREV_N_CONTRACT_STATUS_APPROVED_MEAN  \\\n",
       "0                                   1.0   \n",
       "\n",
       "   PREV_N_CONTRACT_STATUS_REJECTED_HC_MEAN  \\\n",
       "0                                      0.0   \n",
       "\n",
       "   PREV_N_CONTRACT_STATUS_REJECTED_SCOFR_MEAN  APPROVED_AMT_ANNUITY_MIN  \\\n",
       "0                                         0.0                  9251.775   \n",
       "\n",
       "   APPROVED_AMT_ANNUITY_MAX  APPROVED_AMT_ANNUITY_MEAN  \\\n",
       "0                  9251.775                   9251.775   \n",
       "\n",
       "   APPROVED_AMT_APPLICATION_MIN  APPROVED_AMT_APPLICATION_MAX  \\\n",
       "0                      179055.0                      179055.0   \n",
       "\n",
       "   APPROVED_AMT_APPLICATION_MEAN  APPROVED_AMT_CREDIT_MIN  \\\n",
       "0                       179055.0                 179055.0   \n",
       "\n",
       "   APPROVED_AMT_CREDIT_MAX  APPROVED_AMT_CREDIT_MEAN  \\\n",
       "0                 179055.0                  179055.0   \n",
       "\n",
       "   APPROVED_N_APP_CREDIT_RATIO_MIN  APPROVED_N_APP_CREDIT_RATIO_MAX  \\\n",
       "0                              1.0                              1.0   \n",
       "\n",
       "   APPROVED_N_APP_CREDIT_RATIO_MEAN  APPROVED_N_ADJ_CREDIT_RATIO_MIN  \\\n",
       "0                               1.0                              0.0   \n",
       "\n",
       "   APPROVED_N_ADJ_CREDIT_RATIO_MAX  APPROVED_N_ADJ_CREDIT_RATIO_MEAN  \\\n",
       "0                              0.0                               0.0   \n",
       "\n",
       "   APPROVED_N_ADJ_INTEREST_EVAL_MIN  APPROVED_N_ADJ_INTEREST_EVAL_MAX  \\\n",
       "0                               0.0                               0.0   \n",
       "\n",
       "   APPROVED_N_ADJ_INTEREST_EVAL_MEAN  APPROVED_N_CREDIT_PROLONG_RATIO_VAR  \\\n",
       "0                                0.0                                  NaN   \n",
       "\n",
       "   APPROVED_AMT_DOWN_PAYMENT_MAX  APPROVED_AMT_DOWN_PAYMENT_MEAN  \\\n",
       "0                            0.0                             0.0   \n",
       "\n",
       "   APPROVED_AMT_GOODS_PRICE_MIN  APPROVED_AMT_GOODS_PRICE_MAX  \\\n",
       "0                      179055.0                      179055.0   \n",
       "\n",
       "   APPROVED_AMT_GOODS_PRICE_MEAN  APPROVED_DAYS_DECISION_MIN  \\\n",
       "0                       179055.0                      -606.0   \n",
       "\n",
       "   APPROVED_DAYS_DECISION_MEAN  APPROVED_CNT_PAYMENT_VAR  \\\n",
       "0                       -606.0                       NaN   \n",
       "\n",
       "   APPROVED_NC_LOAN_TERM_SUM  APPROVED_NC_LOAN_AGE_MAX  \\\n",
       "0                       19.0                  1.583333   \n",
       "\n",
       "   APPROVED_NC_LOAN_AGE_MEAN  APPROVED_NC_LOAN_AGE_SUM  \\\n",
       "0                   1.583333                  1.583333   \n",
       "\n",
       "   REFUSED_AMT_ANNUITY_MIN  REFUSED_AMT_APPLICATION_MIN  \\\n",
       "0                      NaN                          NaN   \n",
       "\n",
       "   REFUSED_N_APP_CREDIT_RATIO_MIN  REFUSED_N_APP_CREDIT_RATIO_MAX  \\\n",
       "0                             NaN                             NaN   \n",
       "\n",
       "   REFUSED_N_APP_CREDIT_RATIO_MEAN  REFUSED_N_ADJ_CREDIT_RATIO_MIN  \\\n",
       "0                              NaN                             NaN   \n",
       "\n",
       "   REFUSED_N_ADJ_CREDIT_RATIO_MEAN  REFUSED_N_ADJ_INTEREST_EVAL_MAX  \\\n",
       "0                              NaN                              NaN   \n",
       "\n",
       "   REFUSED_N_ADJ_INTEREST_EVAL_MEAN  REFUSED_AMT_GOODS_PRICE_MIN  \\\n",
       "0                               NaN                          NaN   \n",
       "\n",
       "   REFUSED_DAYS_DECISION_MIN  REFUSED_DAYS_DECISION_MAX  \\\n",
       "0                        NaN                        NaN   \n",
       "\n",
       "   REFUSED_DAYS_DECISION_MEAN  REFUSED_CNT_PAYMENT_SUM  \\\n",
       "0                         NaN                      NaN   \n",
       "\n",
       "   INSAGG_INS_N_PREV_CNT_PROLONG_SUM  \\\n",
       "0                               38.0   \n",
       "\n",
       "   INSAGG_INS_N_PREV_INS_AMT_MAX_OVERDUE_MEAN  \\\n",
       "0                                         0.0   \n",
       "\n",
       "   INSAGG_INS_N_PREV_LAST_DAYS_INSTALMENT_MIN  \\\n",
       "0                                       -25.0   \n",
       "\n",
       "   INSAGG_INS_N_PREV_LAST_DAYS_INSTALMENT_MEAN  \\\n",
       "0                                        -25.0   \n",
       "\n",
       "   INSAGG_INS_N_PREV_LAST_DAYS_INSTALMENT_SUM  \\\n",
       "0                                      -475.0   \n",
       "\n",
       "   INSAGG_INS_N_PREV_LAST_DAYS_INSTALMENT_VAR  \\\n",
       "0                                         0.0   \n",
       "\n",
       "   INSAGG_INS_N_PREV_EARLINESS_OVERDUE_RATIO_MIN  \\\n",
       "0                                            0.0   \n",
       "\n",
       "   INSAGG_INS_N_PREV_EARLINESS_OVERDUE_RATIO_MAX  \\\n",
       "0                                            0.0   \n",
       "\n",
       "   INSAGG_INS_N_PREV_EARLINESS_OVERDUE_RATIO_MEAN  \\\n",
       "0                                             0.0   \n",
       "\n",
       "   INSAGG_INS_N_PREV_EARLINESS_OVERDUE_RATIO_SUM  \\\n",
       "0                                            0.0   \n",
       "\n",
       "   INSAGG_INS_N_PREV_LOAN_AGE_MAX  INSAGG_INS_N_PREV_LOAN_AGE_MEAN  \\\n",
       "0                        0.068493                         0.068493   \n",
       "\n",
       "   INSAGG_INS_N_PREV_LOAN_AGE_SUM  INSAGG_INS_N_PREV_LOAN_AGE_VAR  \\\n",
       "0                         1.30137                             0.0   \n",
       "\n",
       "   INS_DAYS_INSTALMENT_MEAN  INS_N_INS_DPD_MAX  INS_N_INS_DPD_MEAN  \\\n",
       "0                    -295.0                0.0                 0.0   \n",
       "\n",
       "   INS_N_INS_DPD_SUM  INS_N_INS_DBD_MEAN  INS_N_INS_AMT_OVERDUE_MEAN  \\\n",
       "0                0.0           20.421053                         0.0   \n",
       "\n",
       "   INS_N_AMT_OVERDUE_RATIO_MAX  INS_N_AMT_OVERDUE_RATIO_MEAN  \\\n",
       "0                          0.0                           0.0   \n",
       "\n",
       "   INS_AMT_INSTALMENT_MAX  INS_AMT_INSTALMENT_MEAN  INS_AMT_INSTALMENT_SUM  \\\n",
       "0               53093.745             11559.247105              219625.695   \n",
       "\n",
       "   INS_N_STATUS_0_SUM  INS_N_FAULT_RATE  INS_N_FAULT_GRAVITY  \\\n",
       "0                19.0               0.0                  0.0   \n",
       "\n",
       "   INS_N_FAULT_ADJ_RATE  POS_SK_DPD_DEF_MAX  POS_SK_DPD_DEF_MEAN  \\\n",
       "0                   0.0                 0.0                  0.0   \n",
       "\n",
       "   POS_N_POS_COUNT  CC_AMT_BALANCE_MAX  CC_AMT_BALANCE_MEAN  \\\n",
       "0             19.0                 NaN                  NaN   \n",
       "\n",
       "   CC_AMT_DRAWINGS_ATM_CURRENT_MEAN  CC_AMT_DRAWINGS_CURRENT_MAX  \\\n",
       "0                               NaN                          NaN   \n",
       "\n",
       "   CC_AMT_DRAWINGS_CURRENT_MEAN  CC_AMT_DRAWINGS_CURRENT_VAR  \\\n",
       "0                           NaN                          NaN   \n",
       "\n",
       "   CC_AMT_INST_MIN_REGULARITY_MEAN  CC_AMT_RECEIVABLE_PRINCIPAL_MEAN  \\\n",
       "0                              NaN                               NaN   \n",
       "\n",
       "   CC_AMT_RECIVABLE_MEAN  CC_AMT_TOTAL_RECEIVABLE_MAX  \\\n",
       "0                    NaN                          NaN   \n",
       "\n",
       "   CC_AMT_TOTAL_RECEIVABLE_MEAN  CC_CNT_DRAWINGS_ATM_CURRENT_MAX  \\\n",
       "0                           NaN                              NaN   \n",
       "\n",
       "   CC_CNT_DRAWINGS_ATM_CURRENT_MEAN  CC_CNT_DRAWINGS_ATM_CURRENT_VAR  \\\n",
       "0                               NaN                              NaN   \n",
       "\n",
       "   CC_CNT_DRAWINGS_CURRENT_MAX  CC_CNT_DRAWINGS_CURRENT_MEAN  \\\n",
       "0                          NaN                           NaN   \n",
       "\n",
       "   CC_CNT_DRAWINGS_CURRENT_SUM  CC_CNT_DRAWINGS_CURRENT_VAR  \\\n",
       "0                          NaN                          NaN   \n",
       "\n",
       "   CC_CNT_DRAWINGS_POS_CURRENT_MAX  CC_CNT_DRAWINGS_POS_CURRENT_MEAN  \\\n",
       "0                              NaN                               NaN   \n",
       "\n",
       "   N_CC_USE_LATE_MONTH_6  N_CC_USE_LATE_MONTH_2  \n",
       "0                    NaN                    NaN  "
      ]
     },
     "execution_count": 30,
     "metadata": {},
     "output_type": "execute_result"
    }
   ],
   "source": [
    "print(any_application.shape)\n",
    "any_application.head(1)"
   ]
  },
  {
   "cell_type": "markdown",
   "metadata": {},
   "source": [
    "# Data preparation"
   ]
  },
  {
   "cell_type": "markdown",
   "metadata": {},
   "source": [
    "### Get back train - test from \"Any applications\""
   ]
  },
  {
   "cell_type": "code",
   "execution_count": 31,
   "metadata": {},
   "outputs": [],
   "source": [
    "# keep training applications only\n",
    "train = any_application[any_application['TARGET'].notna()]\n",
    "test = any_application[any_application['TARGET'].isna()]"
   ]
  },
  {
   "cell_type": "code",
   "execution_count": 34,
   "metadata": {},
   "outputs": [
    {
     "name": "stdout",
     "output_type": "stream",
     "text": [
      "Training set full shape:  (307507, 270)\n",
      "Testing set full shape:  (48744, 270)\n"
     ]
    }
   ],
   "source": [
    "print('Training set full shape: ', train.shape)\n",
    "print('Testing set full shape: ', test.shape)"
   ]
  },
  {
   "cell_type": "code",
   "execution_count": 17,
   "metadata": {},
   "outputs": [
    {
     "data": {
      "text/html": [
       "<div>\n",
       "<style scoped>\n",
       "    .dataframe tbody tr th:only-of-type {\n",
       "        vertical-align: middle;\n",
       "    }\n",
       "\n",
       "    .dataframe tbody tr th {\n",
       "        vertical-align: top;\n",
       "    }\n",
       "\n",
       "    .dataframe thead th {\n",
       "        text-align: right;\n",
       "    }\n",
       "</style>\n",
       "<table border=\"1\" class=\"dataframe\">\n",
       "  <thead>\n",
       "    <tr style=\"text-align: right;\">\n",
       "      <th></th>\n",
       "      <th>SK_ID_CURR</th>\n",
       "      <th>TARGET</th>\n",
       "      <th>CODE_GENDER</th>\n",
       "      <th>AMT_INCOME_TOTAL</th>\n",
       "      <th>AMT_CREDIT</th>\n",
       "      <th>AMT_ANNUITY</th>\n",
       "      <th>AMT_GOODS_PRICE</th>\n",
       "      <th>REGION_POPULATION_RELATIVE</th>\n",
       "      <th>DAYS_EMPLOYED</th>\n",
       "      <th>DAYS_REGISTRATION</th>\n",
       "      <th>DAYS_ID_PUBLISH</th>\n",
       "      <th>OWN_CAR_AGE</th>\n",
       "      <th>REGION_RATING_CLIENT</th>\n",
       "      <th>REGION_RATING_CLIENT_W_CITY</th>\n",
       "      <th>REG_CITY_NOT_WORK_CITY</th>\n",
       "      <th>BASEMENTAREA_AVG</th>\n",
       "      <th>YEARS_BEGINEXPLUATATION_AVG</th>\n",
       "      <th>ELEVATORS_AVG</th>\n",
       "      <th>LIVINGAREA_AVG</th>\n",
       "      <th>BASEMENTAREA_MODE</th>\n",
       "      <th>BASEMENTAREA_MEDI</th>\n",
       "      <th>YEARS_BEGINEXPLUATATION_MEDI</th>\n",
       "      <th>TOTALAREA_MODE</th>\n",
       "      <th>DAYS_LAST_PHONE_CHANGE</th>\n",
       "      <th>FLAG_DOCUMENT_3</th>\n",
       "      <th>N_CNT_PREV_REJECTED_HC</th>\n",
       "      <th>N_CNT_PREV_REJECTED_SCOFR</th>\n",
       "      <th>N_FLAG_REJECTED</th>\n",
       "      <th>N_ADJ_REJECT_RECENCY_INDEX</th>\n",
       "      <th>N_REJECT_RATE</th>\n",
       "      <th>N_BUR_LAST_APPLICATION</th>\n",
       "      <th>YEARS_BIRTH</th>\n",
       "      <th>N_DAYS_EMPLOYED_RATIO</th>\n",
       "      <th>N_CREDIT_INCOME_RATIO</th>\n",
       "      <th>N_ANNUITY_INCOME_RATIO</th>\n",
       "      <th>N_CREDIT_TERM</th>\n",
       "      <th>NAME_INCOME_TYPE_Working</th>\n",
       "      <th>NAME_EDUCATION_TYPE_Higher education</th>\n",
       "      <th>NAME_EDUCATION_TYPE_Secondary / secondary special</th>\n",
       "      <th>OCCUPATION_TYPE_Laborers</th>\n",
       "      <th>OCCUPATION_TYPE_Pensioner</th>\n",
       "      <th>BUR_DAYS_CREDIT_MIN</th>\n",
       "      <th>BUR_DAYS_CREDIT_MAX</th>\n",
       "      <th>BUR_DAYS_CREDIT_MEAN</th>\n",
       "      <th>BUR_DAYS_CREDIT_VAR</th>\n",
       "      <th>BUR_DAYS_CREDIT_ENDDATE_MIN</th>\n",
       "      <th>BUR_DAYS_CREDIT_ENDDATE_MAX</th>\n",
       "      <th>BUR_DAYS_CREDIT_ENDDATE_MEAN</th>\n",
       "      <th>BUR_AMT_CREDIT_MAX_OVERDUE_MAX</th>\n",
       "      <th>BUR_AMT_CREDIT_MAX_OVERDUE_MEAN</th>\n",
       "      <th>BUR_AMT_CREDIT_MAX_OVERDUE_SUM</th>\n",
       "      <th>BUR_AMT_CREDIT_SUM_MAX</th>\n",
       "      <th>BUR_AMT_CREDIT_SUM_MEAN</th>\n",
       "      <th>BUR_AMT_CREDIT_SUM_SUM</th>\n",
       "      <th>BUR_AMT_CREDIT_SUM_DEBT_MAX</th>\n",
       "      <th>BUR_AMT_CREDIT_SUM_DEBT_MEAN</th>\n",
       "      <th>BUR_AMT_CREDIT_SUM_DEBT_SUM</th>\n",
       "      <th>BUR_AMT_CREDIT_SUM_LIMIT_MAX</th>\n",
       "      <th>BUR_AMT_CREDIT_SUM_LIMIT_MEAN</th>\n",
       "      <th>BUR_AMT_CREDIT_SUM_LIMIT_SUM</th>\n",
       "      <th>BUR_MONTHS_BALANCE_SIZE_MEAN</th>\n",
       "      <th>BUR_N_BUR_START_OBSERVED_MEAN</th>\n",
       "      <th>BUR_N_BUR_AMT_CREDIT_DEBT_RATE_MIN</th>\n",
       "      <th>BUR_N_BUR_AMT_CREDIT_DEBT_RATE_MAX</th>\n",
       "      <th>BUR_N_BUR_AMT_CREDIT_DEBT_RATE_MEAN</th>\n",
       "      <th>BUR_N_BUR_AMT_CREDIT_DEBT_RATE_SUM</th>\n",
       "      <th>BUR_N_BUR_AMT_CREDIT_DEBT_RATE_VAR</th>\n",
       "      <th>BUR_CREDIT_ACTIVE_Active_MEAN</th>\n",
       "      <th>BUR_CREDIT_ACTIVE_Closed_MEAN</th>\n",
       "      <th>BUR_CREDIT_TYPE_Cash loans_MEAN</th>\n",
       "      <th>ACTIVE_DAYS_CREDIT_MIN</th>\n",
       "      <th>ACTIVE_DAYS_CREDIT_MAX</th>\n",
       "      <th>ACTIVE_DAYS_CREDIT_MEAN</th>\n",
       "      <th>ACTIVE_DAYS_CREDIT_VAR</th>\n",
       "      <th>ACTIVE_DAYS_CREDIT_ENDDATE_MAX</th>\n",
       "      <th>ACTIVE_DAYS_CREDIT_ENDDATE_MEAN</th>\n",
       "      <th>ACTIVE_AMT_CREDIT_MAX_OVERDUE_MAX</th>\n",
       "      <th>ACTIVE_AMT_CREDIT_MAX_OVERDUE_MEAN</th>\n",
       "      <th>ACTIVE_AMT_CREDIT_MAX_OVERDUE_SUM</th>\n",
       "      <th>ACTIVE_AMT_CREDIT_SUM_MEAN</th>\n",
       "      <th>ACTIVE_AMT_CREDIT_SUM_DEBT_MAX</th>\n",
       "      <th>ACTIVE_AMT_CREDIT_SUM_DEBT_MEAN</th>\n",
       "      <th>ACTIVE_N_BUR_AMT_CREDIT_DEBT_RATE_MIN</th>\n",
       "      <th>ACTIVE_N_BUR_AMT_CREDIT_DEBT_RATE_MAX</th>\n",
       "      <th>ACTIVE_N_BUR_AMT_CREDIT_DEBT_RATE_MEAN</th>\n",
       "      <th>ACTIVE_N_BUR_AMT_CREDIT_DEBT_RATE_SUM</th>\n",
       "      <th>CLOSED_DAYS_CREDIT_MIN</th>\n",
       "      <th>CLOSED_DAYS_CREDIT_MAX</th>\n",
       "      <th>CLOSED_DAYS_CREDIT_MEAN</th>\n",
       "      <th>CLOSED_DAYS_CREDIT_VAR</th>\n",
       "      <th>CLOSED_DAYS_CREDIT_ENDDATE_MIN</th>\n",
       "      <th>CLOSED_DAYS_CREDIT_ENDDATE_MAX</th>\n",
       "      <th>CLOSED_DAYS_CREDIT_ENDDATE_MEAN</th>\n",
       "      <th>CLOSED_CREDIT_DAY_OVERDUE_MAX</th>\n",
       "      <th>CLOSED_CREDIT_DAY_OVERDUE_MEAN</th>\n",
       "      <th>CLOSED_AMT_CREDIT_MAX_OVERDUE_MAX</th>\n",
       "      <th>CLOSED_AMT_CREDIT_MAX_OVERDUE_MEAN</th>\n",
       "      <th>CLOSED_AMT_CREDIT_MAX_OVERDUE_SUM</th>\n",
       "      <th>CLOSED_AMT_CREDIT_SUM_MAX</th>\n",
       "      <th>CLOSED_AMT_CREDIT_SUM_MEAN</th>\n",
       "      <th>CLOSED_AMT_CREDIT_SUM_SUM</th>\n",
       "      <th>CLOSED_AMT_CREDIT_SUM_DEBT_MAX</th>\n",
       "      <th>CLOSED_AMT_CREDIT_SUM_DEBT_SUM</th>\n",
       "      <th>CLOSED_AMT_CREDIT_SUM_OVERDUE_MAX</th>\n",
       "      <th>CLOSED_AMT_CREDIT_SUM_OVERDUE_MEAN</th>\n",
       "      <th>CLOSED_AMT_CREDIT_SUM_OVERDUE_SUM</th>\n",
       "      <th>CLOSED_AMT_CREDIT_SUM_LIMIT_MAX</th>\n",
       "      <th>CLOSED_AMT_CREDIT_SUM_LIMIT_SUM</th>\n",
       "      <th>CLOSED_AMT_ANNUITY_SUM</th>\n",
       "      <th>CLOSED_CNT_CREDIT_PROLONG_SUM</th>\n",
       "      <th>CLOSED_N_BUR_EARLINESS_OVERDUE_RATIO_MIN</th>\n",
       "      <th>CLOSED_N_BUR_EARLINESS_OVERDUE_RATIO_MAX</th>\n",
       "      <th>CLOSED_N_BUR_EARLINESS_OVERDUE_RATIO_MEAN</th>\n",
       "      <th>CLOSED_N_BUR_EARLINESS_OVERDUE_RATIO_SUM</th>\n",
       "      <th>CLOSED_N_BUR_EARLINESS_OVERDUE_RATIO_VAR</th>\n",
       "      <th>CLOSED_N_BUR_AMT_CREDIT_DEBT_RATE_MIN</th>\n",
       "      <th>CLOSED_N_BUR_AMT_CREDIT_DEBT_RATE_MAX</th>\n",
       "      <th>CLOSED_N_BUR_AMT_CREDIT_DEBT_RATE_MEAN</th>\n",
       "      <th>CLOSED_N_BUR_AMT_CREDIT_DEBT_RATE_SUM</th>\n",
       "      <th>PREV_AMT_ANNUITY_MIN</th>\n",
       "      <th>PREV_AMT_ANNUITY_MAX</th>\n",
       "      <th>PREV_AMT_ANNUITY_MEAN</th>\n",
       "      <th>PREV_AMT_APPLICATION_MIN</th>\n",
       "      <th>PREV_AMT_APPLICATION_MAX</th>\n",
       "      <th>PREV_AMT_APPLICATION_MEAN</th>\n",
       "      <th>PREV_AMT_CREDIT_MIN</th>\n",
       "      <th>PREV_AMT_CREDIT_MAX</th>\n",
       "      <th>PREV_AMT_CREDIT_MEAN</th>\n",
       "      <th>PREV_N_APP_CREDIT_RATIO_MIN</th>\n",
       "      <th>PREV_N_APP_CREDIT_RATIO_MAX</th>\n",
       "      <th>PREV_N_APP_CREDIT_RATIO_MEAN</th>\n",
       "      <th>PREV_N_ADJ_CREDIT_RATIO_MIN</th>\n",
       "      <th>PREV_N_ADJ_CREDIT_RATIO_MAX</th>\n",
       "      <th>PREV_N_ADJ_CREDIT_RATIO_MEAN</th>\n",
       "      <th>PREV_N_ADJ_INTEREST_EVAL_MIN</th>\n",
       "      <th>PREV_N_ADJ_INTEREST_EVAL_MAX</th>\n",
       "      <th>PREV_N_ADJ_INTEREST_EVAL_MEAN</th>\n",
       "      <th>PREV_N_CREDIT_PROLONG_RATIO_VAR</th>\n",
       "      <th>PREV_AMT_DOWN_PAYMENT_MAX</th>\n",
       "      <th>PREV_AMT_DOWN_PAYMENT_MEAN</th>\n",
       "      <th>PREV_AMT_GOODS_PRICE_MIN</th>\n",
       "      <th>PREV_AMT_GOODS_PRICE_MAX</th>\n",
       "      <th>PREV_AMT_GOODS_PRICE_MEAN</th>\n",
       "      <th>PREV_DAYS_DECISION_MIN</th>\n",
       "      <th>PREV_DAYS_DECISION_MEAN</th>\n",
       "      <th>PREV_CNT_PAYMENT_VAR</th>\n",
       "      <th>PREV_NC_LOAN_TERM_SUM</th>\n",
       "      <th>PREV_NC_LOAN_AGE_MAX</th>\n",
       "      <th>PREV_NC_LOAN_AGE_SUM</th>\n",
       "      <th>PREV_NAME_CONTRACT_TYPE_Revolving loans_MEAN</th>\n",
       "      <th>PREV_NAME_CONTRACT_STATUS_Approved_MEAN</th>\n",
       "      <th>PREV_NAME_CONTRACT_STATUS_Refused_MEAN</th>\n",
       "      <th>PREV_NAME_PAYMENT_TYPE_XNA_MEAN</th>\n",
       "      <th>PREV_CODE_REJECT_REASON_HC_MEAN</th>\n",
       "      <th>PREV_CODE_REJECT_REASON_SCOFR_MEAN</th>\n",
       "      <th>PREV_CODE_REJECT_REASON_XAP_MEAN</th>\n",
       "      <th>PREV_NAME_CLIENT_TYPE_New_MEAN</th>\n",
       "      <th>PREV_NAME_PRODUCT_TYPE_walk-in_MEAN</th>\n",
       "      <th>PREV_NAME_YIELD_GROUP_XNA_MEAN</th>\n",
       "      <th>PREV_NAME_YIELD_GROUP_high_MEAN</th>\n",
       "      <th>PREV_NAME_YIELD_GROUP_low_action_MEAN</th>\n",
       "      <th>PREV_NAME_YIELD_GROUP_low_normal_MEAN</th>\n",
       "      <th>PREV_PRODUCT_COMBINATION_Card Street_MEAN</th>\n",
       "      <th>PREV_PRODUCT_COMBINATION_Cash X-Sell: low_MEAN</th>\n",
       "      <th>PREV_N_CREDIT_TYPE_Cash loans_MEAN</th>\n",
       "      <th>PREV_N_CREDIT_TYPE_Revolving loans_MEAN</th>\n",
       "      <th>PREV_N_CODE_REJECT_REASON_REJECTED_HC_MEAN</th>\n",
       "      <th>PREV_N_CODE_REJECT_REASON_REJECTED_SCOFR_MEAN</th>\n",
       "      <th>PREV_N_CODE_REJECT_REASON_REJECTED_XAP_MEAN</th>\n",
       "      <th>PREV_N_CONTRACT_STATUS_APPROVED_MEAN</th>\n",
       "      <th>PREV_N_CONTRACT_STATUS_REJECTED_HC_MEAN</th>\n",
       "      <th>PREV_N_CONTRACT_STATUS_REJECTED_SCOFR_MEAN</th>\n",
       "      <th>APPROVED_AMT_ANNUITY_MIN</th>\n",
       "      <th>APPROVED_AMT_ANNUITY_MAX</th>\n",
       "      <th>APPROVED_AMT_ANNUITY_MEAN</th>\n",
       "      <th>APPROVED_AMT_APPLICATION_MIN</th>\n",
       "      <th>APPROVED_AMT_APPLICATION_MAX</th>\n",
       "      <th>APPROVED_AMT_APPLICATION_MEAN</th>\n",
       "      <th>APPROVED_AMT_CREDIT_MIN</th>\n",
       "      <th>APPROVED_AMT_CREDIT_MAX</th>\n",
       "      <th>APPROVED_AMT_CREDIT_MEAN</th>\n",
       "      <th>APPROVED_N_APP_CREDIT_RATIO_MIN</th>\n",
       "      <th>APPROVED_N_APP_CREDIT_RATIO_MAX</th>\n",
       "      <th>APPROVED_N_APP_CREDIT_RATIO_MEAN</th>\n",
       "      <th>APPROVED_N_ADJ_CREDIT_RATIO_MIN</th>\n",
       "      <th>APPROVED_N_ADJ_CREDIT_RATIO_MAX</th>\n",
       "      <th>APPROVED_N_ADJ_CREDIT_RATIO_MEAN</th>\n",
       "      <th>APPROVED_N_ADJ_INTEREST_EVAL_MIN</th>\n",
       "      <th>APPROVED_N_ADJ_INTEREST_EVAL_MAX</th>\n",
       "      <th>APPROVED_N_ADJ_INTEREST_EVAL_MEAN</th>\n",
       "      <th>APPROVED_N_CREDIT_PROLONG_RATIO_VAR</th>\n",
       "      <th>APPROVED_AMT_DOWN_PAYMENT_MAX</th>\n",
       "      <th>APPROVED_AMT_DOWN_PAYMENT_MEAN</th>\n",
       "      <th>APPROVED_AMT_GOODS_PRICE_MIN</th>\n",
       "      <th>APPROVED_AMT_GOODS_PRICE_MAX</th>\n",
       "      <th>APPROVED_AMT_GOODS_PRICE_MEAN</th>\n",
       "      <th>APPROVED_DAYS_DECISION_MIN</th>\n",
       "      <th>APPROVED_DAYS_DECISION_MEAN</th>\n",
       "      <th>APPROVED_CNT_PAYMENT_VAR</th>\n",
       "      <th>APPROVED_NC_LOAN_TERM_SUM</th>\n",
       "      <th>APPROVED_NC_LOAN_AGE_MAX</th>\n",
       "      <th>APPROVED_NC_LOAN_AGE_MEAN</th>\n",
       "      <th>APPROVED_NC_LOAN_AGE_SUM</th>\n",
       "      <th>REFUSED_AMT_ANNUITY_MIN</th>\n",
       "      <th>REFUSED_AMT_APPLICATION_MIN</th>\n",
       "      <th>REFUSED_N_APP_CREDIT_RATIO_MIN</th>\n",
       "      <th>REFUSED_N_APP_CREDIT_RATIO_MAX</th>\n",
       "      <th>REFUSED_N_APP_CREDIT_RATIO_MEAN</th>\n",
       "      <th>REFUSED_N_ADJ_CREDIT_RATIO_MIN</th>\n",
       "      <th>REFUSED_N_ADJ_CREDIT_RATIO_MEAN</th>\n",
       "      <th>REFUSED_N_ADJ_INTEREST_EVAL_MAX</th>\n",
       "      <th>REFUSED_N_ADJ_INTEREST_EVAL_MEAN</th>\n",
       "      <th>REFUSED_AMT_GOODS_PRICE_MIN</th>\n",
       "      <th>REFUSED_DAYS_DECISION_MIN</th>\n",
       "      <th>REFUSED_DAYS_DECISION_MAX</th>\n",
       "      <th>REFUSED_DAYS_DECISION_MEAN</th>\n",
       "      <th>REFUSED_CNT_PAYMENT_SUM</th>\n",
       "      <th>INSAGG_INS_N_PREV_CNT_PROLONG_SUM</th>\n",
       "      <th>INSAGG_INS_N_PREV_INS_AMT_MAX_OVERDUE_MEAN</th>\n",
       "      <th>INSAGG_INS_N_PREV_LAST_DAYS_INSTALMENT_MIN</th>\n",
       "      <th>INSAGG_INS_N_PREV_LAST_DAYS_INSTALMENT_MEAN</th>\n",
       "      <th>INSAGG_INS_N_PREV_LAST_DAYS_INSTALMENT_SUM</th>\n",
       "      <th>INSAGG_INS_N_PREV_LAST_DAYS_INSTALMENT_VAR</th>\n",
       "      <th>INSAGG_INS_N_PREV_EARLINESS_OVERDUE_RATIO_MIN</th>\n",
       "      <th>INSAGG_INS_N_PREV_EARLINESS_OVERDUE_RATIO_MAX</th>\n",
       "      <th>INSAGG_INS_N_PREV_EARLINESS_OVERDUE_RATIO_MEAN</th>\n",
       "      <th>INSAGG_INS_N_PREV_EARLINESS_OVERDUE_RATIO_SUM</th>\n",
       "      <th>INSAGG_INS_N_PREV_LOAN_AGE_MAX</th>\n",
       "      <th>INSAGG_INS_N_PREV_LOAN_AGE_MEAN</th>\n",
       "      <th>INSAGG_INS_N_PREV_LOAN_AGE_SUM</th>\n",
       "      <th>INSAGG_INS_N_PREV_LOAN_AGE_VAR</th>\n",
       "      <th>INS_DAYS_INSTALMENT_MEAN</th>\n",
       "      <th>INS_N_INS_DPD_MAX</th>\n",
       "      <th>INS_N_INS_DPD_MEAN</th>\n",
       "      <th>INS_N_INS_DPD_SUM</th>\n",
       "      <th>INS_N_INS_DBD_MEAN</th>\n",
       "      <th>INS_N_INS_AMT_OVERDUE_MEAN</th>\n",
       "      <th>INS_N_AMT_OVERDUE_RATIO_MAX</th>\n",
       "      <th>INS_N_AMT_OVERDUE_RATIO_MEAN</th>\n",
       "      <th>INS_AMT_INSTALMENT_MAX</th>\n",
       "      <th>INS_AMT_INSTALMENT_MEAN</th>\n",
       "      <th>INS_AMT_INSTALMENT_SUM</th>\n",
       "      <th>INS_N_STATUS_0_SUM</th>\n",
       "      <th>INS_N_FAULT_RATE</th>\n",
       "      <th>INS_N_FAULT_GRAVITY</th>\n",
       "      <th>INS_N_FAULT_ADJ_RATE</th>\n",
       "      <th>POS_SK_DPD_DEF_MAX</th>\n",
       "      <th>POS_SK_DPD_DEF_MEAN</th>\n",
       "      <th>POS_N_POS_COUNT</th>\n",
       "      <th>CC_AMT_BALANCE_MAX</th>\n",
       "      <th>CC_AMT_BALANCE_MEAN</th>\n",
       "      <th>CC_AMT_DRAWINGS_ATM_CURRENT_MEAN</th>\n",
       "      <th>CC_AMT_DRAWINGS_CURRENT_MAX</th>\n",
       "      <th>CC_AMT_DRAWINGS_CURRENT_MEAN</th>\n",
       "      <th>CC_AMT_DRAWINGS_CURRENT_VAR</th>\n",
       "      <th>CC_AMT_INST_MIN_REGULARITY_MEAN</th>\n",
       "      <th>CC_AMT_RECEIVABLE_PRINCIPAL_MEAN</th>\n",
       "      <th>CC_AMT_RECIVABLE_MEAN</th>\n",
       "      <th>CC_AMT_TOTAL_RECEIVABLE_MAX</th>\n",
       "      <th>CC_AMT_TOTAL_RECEIVABLE_MEAN</th>\n",
       "      <th>CC_CNT_DRAWINGS_ATM_CURRENT_MAX</th>\n",
       "      <th>CC_CNT_DRAWINGS_ATM_CURRENT_MEAN</th>\n",
       "      <th>CC_CNT_DRAWINGS_ATM_CURRENT_VAR</th>\n",
       "      <th>CC_CNT_DRAWINGS_CURRENT_MAX</th>\n",
       "      <th>CC_CNT_DRAWINGS_CURRENT_MEAN</th>\n",
       "      <th>CC_CNT_DRAWINGS_CURRENT_SUM</th>\n",
       "      <th>CC_CNT_DRAWINGS_CURRENT_VAR</th>\n",
       "      <th>CC_CNT_DRAWINGS_POS_CURRENT_MAX</th>\n",
       "      <th>CC_CNT_DRAWINGS_POS_CURRENT_MEAN</th>\n",
       "      <th>N_CC_USE_LATE_MONTH_6</th>\n",
       "      <th>N_CC_USE_LATE_MONTH_2</th>\n",
       "    </tr>\n",
       "  </thead>\n",
       "  <tbody>\n",
       "    <tr>\n",
       "      <th>0</th>\n",
       "      <td>100002</td>\n",
       "      <td>1.0</td>\n",
       "      <td>1</td>\n",
       "      <td>202500.0</td>\n",
       "      <td>406597.5</td>\n",
       "      <td>24700.5</td>\n",
       "      <td>351000.0</td>\n",
       "      <td>0.018801</td>\n",
       "      <td>-637.0</td>\n",
       "      <td>-3648.0</td>\n",
       "      <td>-2120</td>\n",
       "      <td>NaN</td>\n",
       "      <td>2</td>\n",
       "      <td>2</td>\n",
       "      <td>0</td>\n",
       "      <td>0.0369</td>\n",
       "      <td>0.9722</td>\n",
       "      <td>0.0</td>\n",
       "      <td>0.019</td>\n",
       "      <td>0.0383</td>\n",
       "      <td>0.0369</td>\n",
       "      <td>0.9722</td>\n",
       "      <td>0.0149</td>\n",
       "      <td>-1134.0</td>\n",
       "      <td>1</td>\n",
       "      <td>0.0</td>\n",
       "      <td>0.0</td>\n",
       "      <td>0.0</td>\n",
       "      <td>0.0</td>\n",
       "      <td>0.0</td>\n",
       "      <td>-103.0</td>\n",
       "      <td>25.920548</td>\n",
       "      <td>0.067329</td>\n",
       "      <td>2.007889</td>\n",
       "      <td>0.121978</td>\n",
       "      <td>0.060749</td>\n",
       "      <td>1</td>\n",
       "      <td>0</td>\n",
       "      <td>1</td>\n",
       "      <td>1</td>\n",
       "      <td>0</td>\n",
       "      <td>-1437.0</td>\n",
       "      <td>-103.0</td>\n",
       "      <td>-874.0</td>\n",
       "      <td>186150.0</td>\n",
       "      <td>-1072.0</td>\n",
       "      <td>780.0</td>\n",
       "      <td>-349.0</td>\n",
       "      <td>5043.645</td>\n",
       "      <td>1681.029</td>\n",
       "      <td>8405.145</td>\n",
       "      <td>450000.0</td>\n",
       "      <td>108131.945625</td>\n",
       "      <td>865055.565</td>\n",
       "      <td>245781.0</td>\n",
       "      <td>49156.2</td>\n",
       "      <td>245781.0</td>\n",
       "      <td>31988.565</td>\n",
       "      <td>7997.14125</td>\n",
       "      <td>31988.565</td>\n",
       "      <td>13.75</td>\n",
       "      <td>-26.875</td>\n",
       "      <td>0.0</td>\n",
       "      <td>0.546179</td>\n",
       "      <td>0.109236</td>\n",
       "      <td>0.546179</td>\n",
       "      <td>0.059662</td>\n",
       "      <td>0.25</td>\n",
       "      <td>0.75</td>\n",
       "      <td>0.5</td>\n",
       "      <td>-1042.0</td>\n",
       "      <td>-103.0</td>\n",
       "      <td>-572.5</td>\n",
       "      <td>440860.5</td>\n",
       "      <td>780.0</td>\n",
       "      <td>780.0</td>\n",
       "      <td>40.5</td>\n",
       "      <td>40.5</td>\n",
       "      <td>40.5</td>\n",
       "      <td>240994.2825</td>\n",
       "      <td>245781.0</td>\n",
       "      <td>122890.5</td>\n",
       "      <td>0.0</td>\n",
       "      <td>0.546179</td>\n",
       "      <td>0.273089</td>\n",
       "      <td>0.546179</td>\n",
       "      <td>-1437.0</td>\n",
       "      <td>-476.0</td>\n",
       "      <td>-974.5</td>\n",
       "      <td>123956.7</td>\n",
       "      <td>-1072.0</td>\n",
       "      <td>85.0</td>\n",
       "      <td>-574.8</td>\n",
       "      <td>0.0</td>\n",
       "      <td>0.0</td>\n",
       "      <td>5043.645</td>\n",
       "      <td>2091.16125</td>\n",
       "      <td>8364.645</td>\n",
       "      <td>135000.0</td>\n",
       "      <td>63844.5</td>\n",
       "      <td>383067.0</td>\n",
       "      <td>0.0</td>\n",
       "      <td>0.0</td>\n",
       "      <td>0.0</td>\n",
       "      <td>0.0</td>\n",
       "      <td>0.0</td>\n",
       "      <td>0.0</td>\n",
       "      <td>0.0</td>\n",
       "      <td>0.0</td>\n",
       "      <td>0.0</td>\n",
       "      <td>0.0</td>\n",
       "      <td>0.952381</td>\n",
       "      <td>0.698712</td>\n",
       "      <td>4.192274</td>\n",
       "      <td>0.135732</td>\n",
       "      <td>0.0</td>\n",
       "      <td>0.0</td>\n",
       "      <td>0.0</td>\n",
       "      <td>0.0</td>\n",
       "      <td>9251.775</td>\n",
       "      <td>9251.775</td>\n",
       "      <td>9251.775</td>\n",
       "      <td>179055.0</td>\n",
       "      <td>179055.0</td>\n",
       "      <td>179055.0</td>\n",
       "      <td>179055.0</td>\n",
       "      <td>179055.0</td>\n",
       "      <td>179055.0</td>\n",
       "      <td>1.0</td>\n",
       "      <td>1.0</td>\n",
       "      <td>1.0</td>\n",
       "      <td>0.0</td>\n",
       "      <td>0.0</td>\n",
       "      <td>0.0</td>\n",
       "      <td>0.0</td>\n",
       "      <td>0.0</td>\n",
       "      <td>0.0</td>\n",
       "      <td>NaN</td>\n",
       "      <td>0.0</td>\n",
       "      <td>0.0</td>\n",
       "      <td>179055.0</td>\n",
       "      <td>179055.0</td>\n",
       "      <td>179055.0</td>\n",
       "      <td>-606.0</td>\n",
       "      <td>-606.0</td>\n",
       "      <td>NaN</td>\n",
       "      <td>19.0</td>\n",
       "      <td>1.583333</td>\n",
       "      <td>1.583333</td>\n",
       "      <td>0.0</td>\n",
       "      <td>1.0</td>\n",
       "      <td>0.0</td>\n",
       "      <td>1.0</td>\n",
       "      <td>0.0</td>\n",
       "      <td>0.0</td>\n",
       "      <td>1.0</td>\n",
       "      <td>1.0</td>\n",
       "      <td>0.0</td>\n",
       "      <td>0.0</td>\n",
       "      <td>0.0</td>\n",
       "      <td>0.0</td>\n",
       "      <td>1.0</td>\n",
       "      <td>0.0</td>\n",
       "      <td>0.0</td>\n",
       "      <td>1.0</td>\n",
       "      <td>0.0</td>\n",
       "      <td>0.0</td>\n",
       "      <td>0.0</td>\n",
       "      <td>1.0</td>\n",
       "      <td>1.0</td>\n",
       "      <td>0.0</td>\n",
       "      <td>0.0</td>\n",
       "      <td>9251.775</td>\n",
       "      <td>9251.775</td>\n",
       "      <td>9251.775</td>\n",
       "      <td>179055.0</td>\n",
       "      <td>179055.0</td>\n",
       "      <td>179055.0</td>\n",
       "      <td>179055.0</td>\n",
       "      <td>179055.0</td>\n",
       "      <td>179055.0</td>\n",
       "      <td>1.0</td>\n",
       "      <td>1.0</td>\n",
       "      <td>1.0</td>\n",
       "      <td>0.0</td>\n",
       "      <td>0.0</td>\n",
       "      <td>0.0</td>\n",
       "      <td>0.0</td>\n",
       "      <td>0.0</td>\n",
       "      <td>0.0</td>\n",
       "      <td>NaN</td>\n",
       "      <td>0.0</td>\n",
       "      <td>0.0</td>\n",
       "      <td>179055.0</td>\n",
       "      <td>179055.0</td>\n",
       "      <td>179055.0</td>\n",
       "      <td>-606.0</td>\n",
       "      <td>-606.0</td>\n",
       "      <td>NaN</td>\n",
       "      <td>19.0</td>\n",
       "      <td>1.583333</td>\n",
       "      <td>1.583333</td>\n",
       "      <td>1.583333</td>\n",
       "      <td>NaN</td>\n",
       "      <td>NaN</td>\n",
       "      <td>NaN</td>\n",
       "      <td>NaN</td>\n",
       "      <td>NaN</td>\n",
       "      <td>NaN</td>\n",
       "      <td>NaN</td>\n",
       "      <td>NaN</td>\n",
       "      <td>NaN</td>\n",
       "      <td>NaN</td>\n",
       "      <td>NaN</td>\n",
       "      <td>NaN</td>\n",
       "      <td>NaN</td>\n",
       "      <td>NaN</td>\n",
       "      <td>38.0</td>\n",
       "      <td>0.0</td>\n",
       "      <td>-25.0</td>\n",
       "      <td>-25.0</td>\n",
       "      <td>-475.0</td>\n",
       "      <td>0.0</td>\n",
       "      <td>0.0</td>\n",
       "      <td>0.0</td>\n",
       "      <td>0.0</td>\n",
       "      <td>0.0</td>\n",
       "      <td>0.068493</td>\n",
       "      <td>0.068493</td>\n",
       "      <td>1.30137</td>\n",
       "      <td>0.0</td>\n",
       "      <td>-295.0</td>\n",
       "      <td>0.0</td>\n",
       "      <td>0.0</td>\n",
       "      <td>0.0</td>\n",
       "      <td>20.421053</td>\n",
       "      <td>0.0</td>\n",
       "      <td>0.0</td>\n",
       "      <td>0.0</td>\n",
       "      <td>53093.745</td>\n",
       "      <td>11559.247105</td>\n",
       "      <td>219625.695</td>\n",
       "      <td>19.0</td>\n",
       "      <td>0.0</td>\n",
       "      <td>0.0</td>\n",
       "      <td>0.0</td>\n",
       "      <td>0.0</td>\n",
       "      <td>0.0</td>\n",
       "      <td>19.0</td>\n",
       "      <td>NaN</td>\n",
       "      <td>NaN</td>\n",
       "      <td>NaN</td>\n",
       "      <td>NaN</td>\n",
       "      <td>NaN</td>\n",
       "      <td>NaN</td>\n",
       "      <td>NaN</td>\n",
       "      <td>NaN</td>\n",
       "      <td>NaN</td>\n",
       "      <td>NaN</td>\n",
       "      <td>NaN</td>\n",
       "      <td>NaN</td>\n",
       "      <td>NaN</td>\n",
       "      <td>NaN</td>\n",
       "      <td>NaN</td>\n",
       "      <td>NaN</td>\n",
       "      <td>NaN</td>\n",
       "      <td>NaN</td>\n",
       "      <td>NaN</td>\n",
       "      <td>NaN</td>\n",
       "      <td>NaN</td>\n",
       "      <td>NaN</td>\n",
       "    </tr>\n",
       "  </tbody>\n",
       "</table>\n",
       "</div>"
      ],
      "text/plain": [
       "   SK_ID_CURR  TARGET  CODE_GENDER  AMT_INCOME_TOTAL  AMT_CREDIT  AMT_ANNUITY  \\\n",
       "0      100002     1.0            1          202500.0    406597.5      24700.5   \n",
       "\n",
       "   AMT_GOODS_PRICE  REGION_POPULATION_RELATIVE  DAYS_EMPLOYED  \\\n",
       "0         351000.0                    0.018801         -637.0   \n",
       "\n",
       "   DAYS_REGISTRATION  DAYS_ID_PUBLISH  OWN_CAR_AGE  REGION_RATING_CLIENT  \\\n",
       "0            -3648.0            -2120          NaN                     2   \n",
       "\n",
       "   REGION_RATING_CLIENT_W_CITY  REG_CITY_NOT_WORK_CITY  BASEMENTAREA_AVG  \\\n",
       "0                            2                       0            0.0369   \n",
       "\n",
       "   YEARS_BEGINEXPLUATATION_AVG  ELEVATORS_AVG  LIVINGAREA_AVG  \\\n",
       "0                       0.9722            0.0           0.019   \n",
       "\n",
       "   BASEMENTAREA_MODE  BASEMENTAREA_MEDI  YEARS_BEGINEXPLUATATION_MEDI  \\\n",
       "0             0.0383             0.0369                        0.9722   \n",
       "\n",
       "   TOTALAREA_MODE  DAYS_LAST_PHONE_CHANGE  FLAG_DOCUMENT_3  \\\n",
       "0          0.0149                 -1134.0                1   \n",
       "\n",
       "   N_CNT_PREV_REJECTED_HC  N_CNT_PREV_REJECTED_SCOFR  N_FLAG_REJECTED  \\\n",
       "0                     0.0                        0.0              0.0   \n",
       "\n",
       "   N_ADJ_REJECT_RECENCY_INDEX  N_REJECT_RATE  N_BUR_LAST_APPLICATION  \\\n",
       "0                         0.0            0.0                  -103.0   \n",
       "\n",
       "   YEARS_BIRTH  N_DAYS_EMPLOYED_RATIO  N_CREDIT_INCOME_RATIO  \\\n",
       "0    25.920548               0.067329               2.007889   \n",
       "\n",
       "   N_ANNUITY_INCOME_RATIO  N_CREDIT_TERM  NAME_INCOME_TYPE_Working  \\\n",
       "0                0.121978       0.060749                         1   \n",
       "\n",
       "   NAME_EDUCATION_TYPE_Higher education  \\\n",
       "0                                     0   \n",
       "\n",
       "   NAME_EDUCATION_TYPE_Secondary / secondary special  \\\n",
       "0                                                  1   \n",
       "\n",
       "   OCCUPATION_TYPE_Laborers  OCCUPATION_TYPE_Pensioner  BUR_DAYS_CREDIT_MIN  \\\n",
       "0                         1                          0              -1437.0   \n",
       "\n",
       "   BUR_DAYS_CREDIT_MAX  BUR_DAYS_CREDIT_MEAN  BUR_DAYS_CREDIT_VAR  \\\n",
       "0               -103.0                -874.0             186150.0   \n",
       "\n",
       "   BUR_DAYS_CREDIT_ENDDATE_MIN  BUR_DAYS_CREDIT_ENDDATE_MAX  \\\n",
       "0                      -1072.0                        780.0   \n",
       "\n",
       "   BUR_DAYS_CREDIT_ENDDATE_MEAN  BUR_AMT_CREDIT_MAX_OVERDUE_MAX  \\\n",
       "0                        -349.0                        5043.645   \n",
       "\n",
       "   BUR_AMT_CREDIT_MAX_OVERDUE_MEAN  BUR_AMT_CREDIT_MAX_OVERDUE_SUM  \\\n",
       "0                         1681.029                        8405.145   \n",
       "\n",
       "   BUR_AMT_CREDIT_SUM_MAX  BUR_AMT_CREDIT_SUM_MEAN  BUR_AMT_CREDIT_SUM_SUM  \\\n",
       "0                450000.0            108131.945625              865055.565   \n",
       "\n",
       "   BUR_AMT_CREDIT_SUM_DEBT_MAX  BUR_AMT_CREDIT_SUM_DEBT_MEAN  \\\n",
       "0                     245781.0                       49156.2   \n",
       "\n",
       "   BUR_AMT_CREDIT_SUM_DEBT_SUM  BUR_AMT_CREDIT_SUM_LIMIT_MAX  \\\n",
       "0                     245781.0                     31988.565   \n",
       "\n",
       "   BUR_AMT_CREDIT_SUM_LIMIT_MEAN  BUR_AMT_CREDIT_SUM_LIMIT_SUM  \\\n",
       "0                     7997.14125                     31988.565   \n",
       "\n",
       "   BUR_MONTHS_BALANCE_SIZE_MEAN  BUR_N_BUR_START_OBSERVED_MEAN  \\\n",
       "0                         13.75                        -26.875   \n",
       "\n",
       "   BUR_N_BUR_AMT_CREDIT_DEBT_RATE_MIN  BUR_N_BUR_AMT_CREDIT_DEBT_RATE_MAX  \\\n",
       "0                                 0.0                            0.546179   \n",
       "\n",
       "   BUR_N_BUR_AMT_CREDIT_DEBT_RATE_MEAN  BUR_N_BUR_AMT_CREDIT_DEBT_RATE_SUM  \\\n",
       "0                             0.109236                            0.546179   \n",
       "\n",
       "   BUR_N_BUR_AMT_CREDIT_DEBT_RATE_VAR  BUR_CREDIT_ACTIVE_Active_MEAN  \\\n",
       "0                            0.059662                           0.25   \n",
       "\n",
       "   BUR_CREDIT_ACTIVE_Closed_MEAN  BUR_CREDIT_TYPE_Cash loans_MEAN  \\\n",
       "0                           0.75                              0.5   \n",
       "\n",
       "   ACTIVE_DAYS_CREDIT_MIN  ACTIVE_DAYS_CREDIT_MAX  ACTIVE_DAYS_CREDIT_MEAN  \\\n",
       "0                 -1042.0                  -103.0                   -572.5   \n",
       "\n",
       "   ACTIVE_DAYS_CREDIT_VAR  ACTIVE_DAYS_CREDIT_ENDDATE_MAX  \\\n",
       "0                440860.5                           780.0   \n",
       "\n",
       "   ACTIVE_DAYS_CREDIT_ENDDATE_MEAN  ACTIVE_AMT_CREDIT_MAX_OVERDUE_MAX  \\\n",
       "0                            780.0                               40.5   \n",
       "\n",
       "   ACTIVE_AMT_CREDIT_MAX_OVERDUE_MEAN  ACTIVE_AMT_CREDIT_MAX_OVERDUE_SUM  \\\n",
       "0                                40.5                               40.5   \n",
       "\n",
       "   ACTIVE_AMT_CREDIT_SUM_MEAN  ACTIVE_AMT_CREDIT_SUM_DEBT_MAX  \\\n",
       "0                 240994.2825                        245781.0   \n",
       "\n",
       "   ACTIVE_AMT_CREDIT_SUM_DEBT_MEAN  ACTIVE_N_BUR_AMT_CREDIT_DEBT_RATE_MIN  \\\n",
       "0                         122890.5                                    0.0   \n",
       "\n",
       "   ACTIVE_N_BUR_AMT_CREDIT_DEBT_RATE_MAX  \\\n",
       "0                               0.546179   \n",
       "\n",
       "   ACTIVE_N_BUR_AMT_CREDIT_DEBT_RATE_MEAN  \\\n",
       "0                                0.273089   \n",
       "\n",
       "   ACTIVE_N_BUR_AMT_CREDIT_DEBT_RATE_SUM  CLOSED_DAYS_CREDIT_MIN  \\\n",
       "0                               0.546179                 -1437.0   \n",
       "\n",
       "   CLOSED_DAYS_CREDIT_MAX  CLOSED_DAYS_CREDIT_MEAN  CLOSED_DAYS_CREDIT_VAR  \\\n",
       "0                  -476.0                   -974.5                123956.7   \n",
       "\n",
       "   CLOSED_DAYS_CREDIT_ENDDATE_MIN  CLOSED_DAYS_CREDIT_ENDDATE_MAX  \\\n",
       "0                         -1072.0                            85.0   \n",
       "\n",
       "   CLOSED_DAYS_CREDIT_ENDDATE_MEAN  CLOSED_CREDIT_DAY_OVERDUE_MAX  \\\n",
       "0                           -574.8                            0.0   \n",
       "\n",
       "   CLOSED_CREDIT_DAY_OVERDUE_MEAN  CLOSED_AMT_CREDIT_MAX_OVERDUE_MAX  \\\n",
       "0                             0.0                           5043.645   \n",
       "\n",
       "   CLOSED_AMT_CREDIT_MAX_OVERDUE_MEAN  CLOSED_AMT_CREDIT_MAX_OVERDUE_SUM  \\\n",
       "0                          2091.16125                           8364.645   \n",
       "\n",
       "   CLOSED_AMT_CREDIT_SUM_MAX  CLOSED_AMT_CREDIT_SUM_MEAN  \\\n",
       "0                   135000.0                     63844.5   \n",
       "\n",
       "   CLOSED_AMT_CREDIT_SUM_SUM  CLOSED_AMT_CREDIT_SUM_DEBT_MAX  \\\n",
       "0                   383067.0                             0.0   \n",
       "\n",
       "   CLOSED_AMT_CREDIT_SUM_DEBT_SUM  CLOSED_AMT_CREDIT_SUM_OVERDUE_MAX  \\\n",
       "0                             0.0                                0.0   \n",
       "\n",
       "   CLOSED_AMT_CREDIT_SUM_OVERDUE_MEAN  CLOSED_AMT_CREDIT_SUM_OVERDUE_SUM  \\\n",
       "0                                 0.0                                0.0   \n",
       "\n",
       "   CLOSED_AMT_CREDIT_SUM_LIMIT_MAX  CLOSED_AMT_CREDIT_SUM_LIMIT_SUM  \\\n",
       "0                              0.0                              0.0   \n",
       "\n",
       "   CLOSED_AMT_ANNUITY_SUM  CLOSED_CNT_CREDIT_PROLONG_SUM  \\\n",
       "0                     0.0                            0.0   \n",
       "\n",
       "   CLOSED_N_BUR_EARLINESS_OVERDUE_RATIO_MIN  \\\n",
       "0                                       0.0   \n",
       "\n",
       "   CLOSED_N_BUR_EARLINESS_OVERDUE_RATIO_MAX  \\\n",
       "0                                  0.952381   \n",
       "\n",
       "   CLOSED_N_BUR_EARLINESS_OVERDUE_RATIO_MEAN  \\\n",
       "0                                   0.698712   \n",
       "\n",
       "   CLOSED_N_BUR_EARLINESS_OVERDUE_RATIO_SUM  \\\n",
       "0                                  4.192274   \n",
       "\n",
       "   CLOSED_N_BUR_EARLINESS_OVERDUE_RATIO_VAR  \\\n",
       "0                                  0.135732   \n",
       "\n",
       "   CLOSED_N_BUR_AMT_CREDIT_DEBT_RATE_MIN  \\\n",
       "0                                    0.0   \n",
       "\n",
       "   CLOSED_N_BUR_AMT_CREDIT_DEBT_RATE_MAX  \\\n",
       "0                                    0.0   \n",
       "\n",
       "   CLOSED_N_BUR_AMT_CREDIT_DEBT_RATE_MEAN  \\\n",
       "0                                     0.0   \n",
       "\n",
       "   CLOSED_N_BUR_AMT_CREDIT_DEBT_RATE_SUM  PREV_AMT_ANNUITY_MIN  \\\n",
       "0                                    0.0              9251.775   \n",
       "\n",
       "   PREV_AMT_ANNUITY_MAX  PREV_AMT_ANNUITY_MEAN  PREV_AMT_APPLICATION_MIN  \\\n",
       "0              9251.775               9251.775                  179055.0   \n",
       "\n",
       "   PREV_AMT_APPLICATION_MAX  PREV_AMT_APPLICATION_MEAN  PREV_AMT_CREDIT_MIN  \\\n",
       "0                  179055.0                   179055.0             179055.0   \n",
       "\n",
       "   PREV_AMT_CREDIT_MAX  PREV_AMT_CREDIT_MEAN  PREV_N_APP_CREDIT_RATIO_MIN  \\\n",
       "0             179055.0              179055.0                          1.0   \n",
       "\n",
       "   PREV_N_APP_CREDIT_RATIO_MAX  PREV_N_APP_CREDIT_RATIO_MEAN  \\\n",
       "0                          1.0                           1.0   \n",
       "\n",
       "   PREV_N_ADJ_CREDIT_RATIO_MIN  PREV_N_ADJ_CREDIT_RATIO_MAX  \\\n",
       "0                          0.0                          0.0   \n",
       "\n",
       "   PREV_N_ADJ_CREDIT_RATIO_MEAN  PREV_N_ADJ_INTEREST_EVAL_MIN  \\\n",
       "0                           0.0                           0.0   \n",
       "\n",
       "   PREV_N_ADJ_INTEREST_EVAL_MAX  PREV_N_ADJ_INTEREST_EVAL_MEAN  \\\n",
       "0                           0.0                            0.0   \n",
       "\n",
       "   PREV_N_CREDIT_PROLONG_RATIO_VAR  PREV_AMT_DOWN_PAYMENT_MAX  \\\n",
       "0                              NaN                        0.0   \n",
       "\n",
       "   PREV_AMT_DOWN_PAYMENT_MEAN  PREV_AMT_GOODS_PRICE_MIN  \\\n",
       "0                         0.0                  179055.0   \n",
       "\n",
       "   PREV_AMT_GOODS_PRICE_MAX  PREV_AMT_GOODS_PRICE_MEAN  \\\n",
       "0                  179055.0                   179055.0   \n",
       "\n",
       "   PREV_DAYS_DECISION_MIN  PREV_DAYS_DECISION_MEAN  PREV_CNT_PAYMENT_VAR  \\\n",
       "0                  -606.0                   -606.0                   NaN   \n",
       "\n",
       "   PREV_NC_LOAN_TERM_SUM  PREV_NC_LOAN_AGE_MAX  PREV_NC_LOAN_AGE_SUM  \\\n",
       "0                   19.0              1.583333              1.583333   \n",
       "\n",
       "   PREV_NAME_CONTRACT_TYPE_Revolving loans_MEAN  \\\n",
       "0                                           0.0   \n",
       "\n",
       "   PREV_NAME_CONTRACT_STATUS_Approved_MEAN  \\\n",
       "0                                      1.0   \n",
       "\n",
       "   PREV_NAME_CONTRACT_STATUS_Refused_MEAN  PREV_NAME_PAYMENT_TYPE_XNA_MEAN  \\\n",
       "0                                     0.0                              1.0   \n",
       "\n",
       "   PREV_CODE_REJECT_REASON_HC_MEAN  PREV_CODE_REJECT_REASON_SCOFR_MEAN  \\\n",
       "0                              0.0                                 0.0   \n",
       "\n",
       "   PREV_CODE_REJECT_REASON_XAP_MEAN  PREV_NAME_CLIENT_TYPE_New_MEAN  \\\n",
       "0                               1.0                             1.0   \n",
       "\n",
       "   PREV_NAME_PRODUCT_TYPE_walk-in_MEAN  PREV_NAME_YIELD_GROUP_XNA_MEAN  \\\n",
       "0                                  0.0                             0.0   \n",
       "\n",
       "   PREV_NAME_YIELD_GROUP_high_MEAN  PREV_NAME_YIELD_GROUP_low_action_MEAN  \\\n",
       "0                              0.0                                    0.0   \n",
       "\n",
       "   PREV_NAME_YIELD_GROUP_low_normal_MEAN  \\\n",
       "0                                    1.0   \n",
       "\n",
       "   PREV_PRODUCT_COMBINATION_Card Street_MEAN  \\\n",
       "0                                        0.0   \n",
       "\n",
       "   PREV_PRODUCT_COMBINATION_Cash X-Sell: low_MEAN  \\\n",
       "0                                             0.0   \n",
       "\n",
       "   PREV_N_CREDIT_TYPE_Cash loans_MEAN  \\\n",
       "0                                 1.0   \n",
       "\n",
       "   PREV_N_CREDIT_TYPE_Revolving loans_MEAN  \\\n",
       "0                                      0.0   \n",
       "\n",
       "   PREV_N_CODE_REJECT_REASON_REJECTED_HC_MEAN  \\\n",
       "0                                         0.0   \n",
       "\n",
       "   PREV_N_CODE_REJECT_REASON_REJECTED_SCOFR_MEAN  \\\n",
       "0                                            0.0   \n",
       "\n",
       "   PREV_N_CODE_REJECT_REASON_REJECTED_XAP_MEAN  \\\n",
       "0                                          1.0   \n",
       "\n",
       "   PREV_N_CONTRACT_STATUS_APPROVED_MEAN  \\\n",
       "0                                   1.0   \n",
       "\n",
       "   PREV_N_CONTRACT_STATUS_REJECTED_HC_MEAN  \\\n",
       "0                                      0.0   \n",
       "\n",
       "   PREV_N_CONTRACT_STATUS_REJECTED_SCOFR_MEAN  APPROVED_AMT_ANNUITY_MIN  \\\n",
       "0                                         0.0                  9251.775   \n",
       "\n",
       "   APPROVED_AMT_ANNUITY_MAX  APPROVED_AMT_ANNUITY_MEAN  \\\n",
       "0                  9251.775                   9251.775   \n",
       "\n",
       "   APPROVED_AMT_APPLICATION_MIN  APPROVED_AMT_APPLICATION_MAX  \\\n",
       "0                      179055.0                      179055.0   \n",
       "\n",
       "   APPROVED_AMT_APPLICATION_MEAN  APPROVED_AMT_CREDIT_MIN  \\\n",
       "0                       179055.0                 179055.0   \n",
       "\n",
       "   APPROVED_AMT_CREDIT_MAX  APPROVED_AMT_CREDIT_MEAN  \\\n",
       "0                 179055.0                  179055.0   \n",
       "\n",
       "   APPROVED_N_APP_CREDIT_RATIO_MIN  APPROVED_N_APP_CREDIT_RATIO_MAX  \\\n",
       "0                              1.0                              1.0   \n",
       "\n",
       "   APPROVED_N_APP_CREDIT_RATIO_MEAN  APPROVED_N_ADJ_CREDIT_RATIO_MIN  \\\n",
       "0                               1.0                              0.0   \n",
       "\n",
       "   APPROVED_N_ADJ_CREDIT_RATIO_MAX  APPROVED_N_ADJ_CREDIT_RATIO_MEAN  \\\n",
       "0                              0.0                               0.0   \n",
       "\n",
       "   APPROVED_N_ADJ_INTEREST_EVAL_MIN  APPROVED_N_ADJ_INTEREST_EVAL_MAX  \\\n",
       "0                               0.0                               0.0   \n",
       "\n",
       "   APPROVED_N_ADJ_INTEREST_EVAL_MEAN  APPROVED_N_CREDIT_PROLONG_RATIO_VAR  \\\n",
       "0                                0.0                                  NaN   \n",
       "\n",
       "   APPROVED_AMT_DOWN_PAYMENT_MAX  APPROVED_AMT_DOWN_PAYMENT_MEAN  \\\n",
       "0                            0.0                             0.0   \n",
       "\n",
       "   APPROVED_AMT_GOODS_PRICE_MIN  APPROVED_AMT_GOODS_PRICE_MAX  \\\n",
       "0                      179055.0                      179055.0   \n",
       "\n",
       "   APPROVED_AMT_GOODS_PRICE_MEAN  APPROVED_DAYS_DECISION_MIN  \\\n",
       "0                       179055.0                      -606.0   \n",
       "\n",
       "   APPROVED_DAYS_DECISION_MEAN  APPROVED_CNT_PAYMENT_VAR  \\\n",
       "0                       -606.0                       NaN   \n",
       "\n",
       "   APPROVED_NC_LOAN_TERM_SUM  APPROVED_NC_LOAN_AGE_MAX  \\\n",
       "0                       19.0                  1.583333   \n",
       "\n",
       "   APPROVED_NC_LOAN_AGE_MEAN  APPROVED_NC_LOAN_AGE_SUM  \\\n",
       "0                   1.583333                  1.583333   \n",
       "\n",
       "   REFUSED_AMT_ANNUITY_MIN  REFUSED_AMT_APPLICATION_MIN  \\\n",
       "0                      NaN                          NaN   \n",
       "\n",
       "   REFUSED_N_APP_CREDIT_RATIO_MIN  REFUSED_N_APP_CREDIT_RATIO_MAX  \\\n",
       "0                             NaN                             NaN   \n",
       "\n",
       "   REFUSED_N_APP_CREDIT_RATIO_MEAN  REFUSED_N_ADJ_CREDIT_RATIO_MIN  \\\n",
       "0                              NaN                             NaN   \n",
       "\n",
       "   REFUSED_N_ADJ_CREDIT_RATIO_MEAN  REFUSED_N_ADJ_INTEREST_EVAL_MAX  \\\n",
       "0                              NaN                              NaN   \n",
       "\n",
       "   REFUSED_N_ADJ_INTEREST_EVAL_MEAN  REFUSED_AMT_GOODS_PRICE_MIN  \\\n",
       "0                               NaN                          NaN   \n",
       "\n",
       "   REFUSED_DAYS_DECISION_MIN  REFUSED_DAYS_DECISION_MAX  \\\n",
       "0                        NaN                        NaN   \n",
       "\n",
       "   REFUSED_DAYS_DECISION_MEAN  REFUSED_CNT_PAYMENT_SUM  \\\n",
       "0                         NaN                      NaN   \n",
       "\n",
       "   INSAGG_INS_N_PREV_CNT_PROLONG_SUM  \\\n",
       "0                               38.0   \n",
       "\n",
       "   INSAGG_INS_N_PREV_INS_AMT_MAX_OVERDUE_MEAN  \\\n",
       "0                                         0.0   \n",
       "\n",
       "   INSAGG_INS_N_PREV_LAST_DAYS_INSTALMENT_MIN  \\\n",
       "0                                       -25.0   \n",
       "\n",
       "   INSAGG_INS_N_PREV_LAST_DAYS_INSTALMENT_MEAN  \\\n",
       "0                                        -25.0   \n",
       "\n",
       "   INSAGG_INS_N_PREV_LAST_DAYS_INSTALMENT_SUM  \\\n",
       "0                                      -475.0   \n",
       "\n",
       "   INSAGG_INS_N_PREV_LAST_DAYS_INSTALMENT_VAR  \\\n",
       "0                                         0.0   \n",
       "\n",
       "   INSAGG_INS_N_PREV_EARLINESS_OVERDUE_RATIO_MIN  \\\n",
       "0                                            0.0   \n",
       "\n",
       "   INSAGG_INS_N_PREV_EARLINESS_OVERDUE_RATIO_MAX  \\\n",
       "0                                            0.0   \n",
       "\n",
       "   INSAGG_INS_N_PREV_EARLINESS_OVERDUE_RATIO_MEAN  \\\n",
       "0                                             0.0   \n",
       "\n",
       "   INSAGG_INS_N_PREV_EARLINESS_OVERDUE_RATIO_SUM  \\\n",
       "0                                            0.0   \n",
       "\n",
       "   INSAGG_INS_N_PREV_LOAN_AGE_MAX  INSAGG_INS_N_PREV_LOAN_AGE_MEAN  \\\n",
       "0                        0.068493                         0.068493   \n",
       "\n",
       "   INSAGG_INS_N_PREV_LOAN_AGE_SUM  INSAGG_INS_N_PREV_LOAN_AGE_VAR  \\\n",
       "0                         1.30137                             0.0   \n",
       "\n",
       "   INS_DAYS_INSTALMENT_MEAN  INS_N_INS_DPD_MAX  INS_N_INS_DPD_MEAN  \\\n",
       "0                    -295.0                0.0                 0.0   \n",
       "\n",
       "   INS_N_INS_DPD_SUM  INS_N_INS_DBD_MEAN  INS_N_INS_AMT_OVERDUE_MEAN  \\\n",
       "0                0.0           20.421053                         0.0   \n",
       "\n",
       "   INS_N_AMT_OVERDUE_RATIO_MAX  INS_N_AMT_OVERDUE_RATIO_MEAN  \\\n",
       "0                          0.0                           0.0   \n",
       "\n",
       "   INS_AMT_INSTALMENT_MAX  INS_AMT_INSTALMENT_MEAN  INS_AMT_INSTALMENT_SUM  \\\n",
       "0               53093.745             11559.247105              219625.695   \n",
       "\n",
       "   INS_N_STATUS_0_SUM  INS_N_FAULT_RATE  INS_N_FAULT_GRAVITY  \\\n",
       "0                19.0               0.0                  0.0   \n",
       "\n",
       "   INS_N_FAULT_ADJ_RATE  POS_SK_DPD_DEF_MAX  POS_SK_DPD_DEF_MEAN  \\\n",
       "0                   0.0                 0.0                  0.0   \n",
       "\n",
       "   POS_N_POS_COUNT  CC_AMT_BALANCE_MAX  CC_AMT_BALANCE_MEAN  \\\n",
       "0             19.0                 NaN                  NaN   \n",
       "\n",
       "   CC_AMT_DRAWINGS_ATM_CURRENT_MEAN  CC_AMT_DRAWINGS_CURRENT_MAX  \\\n",
       "0                               NaN                          NaN   \n",
       "\n",
       "   CC_AMT_DRAWINGS_CURRENT_MEAN  CC_AMT_DRAWINGS_CURRENT_VAR  \\\n",
       "0                           NaN                          NaN   \n",
       "\n",
       "   CC_AMT_INST_MIN_REGULARITY_MEAN  CC_AMT_RECEIVABLE_PRINCIPAL_MEAN  \\\n",
       "0                              NaN                               NaN   \n",
       "\n",
       "   CC_AMT_RECIVABLE_MEAN  CC_AMT_TOTAL_RECEIVABLE_MAX  \\\n",
       "0                    NaN                          NaN   \n",
       "\n",
       "   CC_AMT_TOTAL_RECEIVABLE_MEAN  CC_CNT_DRAWINGS_ATM_CURRENT_MAX  \\\n",
       "0                           NaN                              NaN   \n",
       "\n",
       "   CC_CNT_DRAWINGS_ATM_CURRENT_MEAN  CC_CNT_DRAWINGS_ATM_CURRENT_VAR  \\\n",
       "0                               NaN                              NaN   \n",
       "\n",
       "   CC_CNT_DRAWINGS_CURRENT_MAX  CC_CNT_DRAWINGS_CURRENT_MEAN  \\\n",
       "0                          NaN                           NaN   \n",
       "\n",
       "   CC_CNT_DRAWINGS_CURRENT_SUM  CC_CNT_DRAWINGS_CURRENT_VAR  \\\n",
       "0                          NaN                          NaN   \n",
       "\n",
       "   CC_CNT_DRAWINGS_POS_CURRENT_MAX  CC_CNT_DRAWINGS_POS_CURRENT_MEAN  \\\n",
       "0                              NaN                               NaN   \n",
       "\n",
       "   N_CC_USE_LATE_MONTH_6  N_CC_USE_LATE_MONTH_2  \n",
       "0                    NaN                    NaN  "
      ]
     },
     "execution_count": 17,
     "metadata": {},
     "output_type": "execute_result"
    }
   ],
   "source": [
    "train.head(1)"
   ]
  },
  {
   "cell_type": "code",
   "execution_count": 33,
   "metadata": {},
   "outputs": [],
   "source": [
    "# set index with SK_ID_CURR\n",
    "train = train.set_index('SK_ID_CURR')\n",
    "test = test.set_index('SK_ID_CURR')"
   ]
  },
  {
   "cell_type": "markdown",
   "metadata": {},
   "source": [
    "### Data integrity"
   ]
  },
  {
   "cell_type": "markdown",
   "metadata": {},
   "source": [
    "Missing values affect classifier performance and ability to remedy class imbalance (i.e. ability to build consistent synthetic data in case of SMOTE use to upsample minority class), we have to track the features with many missing value, decide if we should keep them and find the best imputation strategy."
   ]
  },
  {
   "cell_type": "code",
   "execution_count": 19,
   "metadata": {},
   "outputs": [
    {
     "name": "stdout",
     "output_type": "stream",
     "text": [
      "Your selected dataframe has 270 columns.\n",
      "There are 246 columns that have missing values.\n"
     ]
    }
   ],
   "source": [
    "# check for missing values\n",
    "missing_values = missing_values_table(train)"
   ]
  },
  {
   "cell_type": "code",
   "execution_count": 20,
   "metadata": {},
   "outputs": [
    {
     "data": {
      "text/plain": [
       "<AxesSubplot:>"
      ]
     },
     "execution_count": 20,
     "metadata": {},
     "output_type": "execute_result"
    },
    {
     "data": {
      "image/png": "[encoded data removed]",
      "text/plain": [
       "<Figure size 432x288 with 1 Axes>"
      ]
     },
     "metadata": {},
     "output_type": "display_data"
    }
   ],
   "source": [
    "# get the missing curve\n",
    "missing_list = []\n",
    "for i in np.arange(0, 101, 1):\n",
    "    missing = train.shape[1] - len(list(missing_values.index[missing_values['% of Total Values'] > i]))\n",
    "    missing_list.append(missing)\n",
    "pd.DataFrame(missing_list).plot()"
   ]
  },
  {
   "cell_type": "code",
   "execution_count": 21,
   "metadata": {
    "scrolled": true
   },
   "outputs": [
    {
     "data": {
      "text/plain": [
       "0"
      ]
     },
     "execution_count": 21,
     "metadata": {},
     "output_type": "execute_result"
    }
   ],
   "source": [
    "len(list(missing_values.index[missing_values['% of Total Values'] > 90]))"
   ]
  },
  {
   "cell_type": "markdown",
   "metadata": {},
   "source": [
    "## Train, Test split"
   ]
  },
  {
   "cell_type": "markdown",
   "metadata": {},
   "source": [
    "SK_ID_CURR is now the index and we build a separated target y_ df from the training data X_. <br/>\n",
    "Note that we have to build it in a DataFrame format (in order to extract a sample after the train-test split."
   ]
  },
  {
   "cell_type": "code",
   "execution_count": 35,
   "metadata": {
    "_cell_guid": "60ef8744-ca3a-4810-8439-2835fbfc1833",
    "_uuid": "784ae2f91cf7792702595a9973ba773b2acdec00"
   },
   "outputs": [],
   "source": [
    "def preprocess_split(\n",
    "    data=train,\n",
    "    split_size=0.2,\n",
    "    impute_strategy='mean',\n",
    "    scale_strategy=False\n",
    "):\n",
    "    '''function that split data into train and test according to split_size (test)\n",
    "    and impute missing values according to the impute strategy\n",
    "    and option to MinMaxScale features'''\n",
    "    # drop the target from the training data\n",
    "    if 'TARGET' in data:\n",
    "        X_ = data.drop(columns=['TARGET'])\n",
    "    else:\n",
    "        X_ = data.copy()\n",
    "    y_ = data['TARGET']\n",
    "    # to keep df format : store columns & index\n",
    "    columns = X_.columns\n",
    "    index = X_.index\n",
    "    # imputation of missing values\n",
    "    imputer = SimpleImputer(\n",
    "        missing_values=np.nan,\n",
    "        strategy=impute_strategy)\n",
    "    imputer.fit(X_)\n",
    "    X_ = pd.DataFrame(\n",
    "        imputer.fit_transform(X_),\n",
    "        columns=columns,\n",
    "        index=index)\n",
    "    # Scale if True, each feature to 0-1\n",
    "    if scale_strategy is True:\n",
    "        scaler = MinMaxScaler(feature_range=(0, 1))\n",
    "        scaler.fit(X_)\n",
    "        X_ = pd.DataFrame(\n",
    "            scaler.fit_transform(X_),\n",
    "            columns=columns,\n",
    "            index=index)\n",
    "    # Split data into train and test set (stratify by target)\n",
    "    X_train, X_test, y_train, y_test = train_test_split(\n",
    "        X_,\n",
    "        y_,\n",
    "        stratify=y_,\n",
    "        test_size=split_size,\n",
    "        random_state=7)\n",
    "    print('Training data shape: ', X_train.shape)\n",
    "    print('Testing data shape: ', X_test.shape)\n",
    "    print('Labels train data shape: ', y_train.shape)\n",
    "    print('Labels test data shape: ', y_test.shape)\n",
    "    return X_train, X_test, y_train, y_test, columns"
   ]
  },
  {
   "cell_type": "code",
   "execution_count": 36,
   "metadata": {
    "scrolled": false
   },
   "outputs": [
    {
     "name": "stdout",
     "output_type": "stream",
     "text": [
      "Training data shape:  (246005, 269)\n",
      "Testing data shape:  (61502, 269)\n",
      "Labels train data shape:  (246005,)\n",
      "Labels test data shape:  (61502,)\n"
     ]
    }
   ],
   "source": [
    "X_train, X_test, y_train, y_test, features = preprocess_split()"
   ]
  },
  {
   "cell_type": "code",
   "execution_count": null,
   "metadata": {},
   "outputs": [],
   "source": [
    "X_train_sc, X_test_sc, y_train, y_test, features = preprocess_split(scale_strategy=True)"
   ]
  },
  {
   "cell_type": "code",
   "execution_count": null,
   "metadata": {},
   "outputs": [],
   "source": [
    "X_train_me, X_test_me, y_train, y_test, features = preprocess_split(impute_strategy='mean')"
   ]
  },
  {
   "cell_type": "code",
   "execution_count": null,
   "metadata": {},
   "outputs": [],
   "source": [
    "X_train_ms, X_test_ms, y_train, y_test, features = preprocess_split(impute_strategy='mean', scale_strategy=True)"
   ]
  },
  {
   "cell_type": "markdown",
   "metadata": {},
   "source": [
    "### For code test only - Sampling - model selection process"
   ]
  },
  {
   "cell_type": "code",
   "execution_count": null,
   "metadata": {},
   "outputs": [],
   "source": [
    "# randomly sample the train data and apply to target\n",
    "X_train_sample = X_train.sample(n=24000, random_state=42)\n",
    "# Get the indexes to sample target_vector\n",
    "sample_index = X_train_sample.index\n",
    "mask = (y_train.index.isin(sample_index))\n",
    "y_train_sample = y_train[mask]\n",
    "# print results\n",
    "len(y_train_sample)"
   ]
  },
  {
   "cell_type": "code",
   "execution_count": null,
   "metadata": {},
   "outputs": [],
   "source": [
    "X_train_re_sample = X_train_sample.rename(columns=lambda x: re.sub('[^A-Za-z0-9_]+', '', x))"
   ]
  },
  {
   "cell_type": "code",
   "execution_count": null,
   "metadata": {},
   "outputs": [],
   "source": [
    "# control failure rate of sample\n",
    "print('global failure rate: ',\n",
    "     round(100 * y_train_sample.value_counts()[1] / (y_train_sample.value_counts()[1] + y_train_sample.value_counts()[0]), 2))"
   ]
  },
  {
   "cell_type": "code",
   "execution_count": null,
   "metadata": {},
   "outputs": [],
   "source": [
    "# randomly sample the test data and apply to target\n",
    "X_test_sample = X_test.sample(n=6000, random_state=42)\n",
    "# Get the indexes to sample target_vector\n",
    "sample_index = X_test_sample.index\n",
    "mask = (y_test.index.isin(sample_index))\n",
    "y_test_sample = y_test[mask]\n",
    "# print results\n",
    "len(y_test_sample)"
   ]
  },
  {
   "cell_type": "code",
   "execution_count": null,
   "metadata": {},
   "outputs": [],
   "source": [
    "# control failure rate of sample\n",
    "print('global failure rate: ',\n",
    "     round(100 * y_test_sample.value_counts()[1] / (y_test_sample.value_counts()[1] + y_test_sample.value_counts()[0]), 2))"
   ]
  },
  {
   "cell_type": "code",
   "execution_count": null,
   "metadata": {},
   "outputs": [],
   "source": [
    "X_test_re_sample = X_test_sample.rename(columns=lambda x: re.sub('[^A-Za-z0-9_]+', '', x))"
   ]
  },
  {
   "cell_type": "code",
   "execution_count": null,
   "metadata": {},
   "outputs": [],
   "source": [
    "X_opt = X_train_re_sample\n",
    "y_opt = y_train_sample\n",
    "X_topt = X_test_re_sample\n",
    "y_topt = y_test_sample"
   ]
  },
  {
   "cell_type": "markdown",
   "metadata": {},
   "source": [
    "# Model evaluation"
   ]
  },
  {
   "cell_type": "markdown",
   "metadata": {},
   "source": [
    "## Metric: Area Under Roc & \"Damage Scoring\"\n",
    "\n",
    "First off all, accuracy (Σ True positive or negative / Σ Total) is __not a relevant metric__ in our case, mainly due to the __class imbalance__, with over than 90% accuracy if we predict the majority class only, granting loan to anyone and facing any risky clients failures.\n",
    "The area under the ROC curve offers a more valuable metric, that can be trusted for models comparison. A model that simply guesses at random will have an ROC AUC of 0.5. Any improvement of AUC score, up to ideal 1, means the model gets to a minimal False positive rate and a maximal True positive rate.\n",
    "In our case, we'll even discuss the opportunity of building our own score, based on an detailed interpretation of the confusion matrix (see [F-score](https://en.wikipedia.org/wiki/F-score)) to more accurately define what could be the \"best\" retuls, in terms of the financial opportunity or damages for the company. This lead to build a compromise between approval of risky clients and rejection og good ones. <br/>\n",
    "After studying the resulting populated confusion matrix, we decided to use Fbeta to value the relative importance of recall over precision (with illustratives value of beta= 3 or 7), which is a good approach to value the financial damage of granting a loan to a failure-risky client than rejecting a loan to a \"good\" client."
   ]
  },
  {
   "cell_type": "markdown",
   "metadata": {},
   "source": [
    "## Classifiers evaluation techniques"
   ]
  },
  {
   "cell_type": "markdown",
   "metadata": {},
   "source": [
    "1. first run and compare: to assess preprocessing techniques\n",
    "\n",
    "3. Hyperopt [hyperopt](https://github.com/hyperopt/hyperopt) to find the most relevant model and its gest hyperparameters : alternate scoring (loss functions) tested.\n",
    "\n",
    "3. restrain input (remove unimportant features) and best fit with cross validation technique."
   ]
  },
  {
   "cell_type": "markdown",
   "metadata": {},
   "source": [
    "## Classifiers rough training"
   ]
  },
  {
   "cell_type": "markdown",
   "metadata": {},
   "source": [
    "Let's create a model_run function that will instanciate any classifier and get results."
   ]
  },
  {
   "cell_type": "code",
   "execution_count": 61,
   "metadata": {},
   "outputs": [],
   "source": [
    "def model_run(\n",
    "    model,\n",
    "    X_train=X_train,\n",
    "    y_train=y_train,\n",
    "    X_test=X_test,\n",
    "    y_test=y_test\n",
    "):\n",
    "\n",
    "    model.fit(X_train, y_train)\n",
    "    y_pred = model.predict(X_test)\n",
    "    y_pred_proba = model.predict_proba(X_test)[:, 1]\n",
    "\n",
    "    f7 = fbeta_score(y_test, y_pred, beta=7)\n",
    "    fpr, tpr, thresholds = roc_curve(y_test, y_pred_proba)\n",
    "    auc_score = auc(fpr, tpr)\n",
    "    auc_score_roc = roc_auc_score(y_test, y_pred)\n",
    "\n",
    "    print(model)\n",
    "    print('AUC score: ', round(auc_score, 4))\n",
    "    print('AUC score -roc: ', round(auc_score_roc, 4))\n",
    "    print('Fbeta score (7): ', round(f7, 4))\n",
    "\n",
    "    return fpr, tpr, auc_score, f7"
   ]
  },
  {
   "cell_type": "markdown",
   "metadata": {
    "_cell_guid": "ebb64e63-6222-4509-a43c-302c6435ce09",
    "_uuid": "8bf057e523b2d99833f6dc9d95fe6141fb4e325a"
   },
   "source": [
    "### Naive Baseline\n",
    "\n",
    "For a naive baseline, we could guess the same value for all examples on the testing set.  We are asked to predict the probability of not repaying the loan, so if we are entirely unsure, we would guess 0.5 for all observations on the test set. This  will get us a Reciever Operating Characteristic Area Under the Curve (AUC ROC) of 0.5."
   ]
  },
  {
   "cell_type": "code",
   "execution_count": 28,
   "metadata": {},
   "outputs": [],
   "source": [
    "naive = GaussianNB()"
   ]
  },
  {
   "cell_type": "code",
   "execution_count": null,
   "metadata": {},
   "outputs": [],
   "source": [
    "fpr_naive, tpr_naive, auc_score_naive, f7_naive = model_run(naive)"
   ]
  },
  {
   "cell_type": "code",
   "execution_count": null,
   "metadata": {},
   "outputs": [],
   "source": [
    "fpr_naive_me, tpr_naive_me, auc_score_naive_me, f7_naive_me = model_run(\n",
    "    naive,\n",
    "    X_train=X_train_me,\n",
    "    y_train=y_train,\n",
    "    X_test=X_test_me,\n",
    "    y_test=y_test)"
   ]
  },
  {
   "cell_type": "code",
   "execution_count": null,
   "metadata": {},
   "outputs": [],
   "source": [
    "fpr_naive_sc, tpr_naive_sc, auc_score_naive_sc, f7_naive_sc = model_run(\n",
    "    naive,\n",
    "    X_train=X_train_sc,\n",
    "    y_train=y_train,\n",
    "    X_test=X_test_sc,\n",
    "    y_test=y_test)"
   ]
  },
  {
   "cell_type": "code",
   "execution_count": null,
   "metadata": {},
   "outputs": [],
   "source": [
    "fpr_naive_ms, tpr_naive_ms, auc_score_naive_ms, f7_naive_ms = model_run(\n",
    "    naive,\n",
    "    X_train=X_train_ms,\n",
    "    y_train=y_train,\n",
    "    X_test=X_test_ms,\n",
    "    y_test=y_test)"
   ]
  },
  {
   "cell_type": "markdown",
   "metadata": {},
   "source": [
    "### Logistic Regression"
   ]
  },
  {
   "cell_type": "code",
   "execution_count": 29,
   "metadata": {},
   "outputs": [],
   "source": [
    "logreg = LogisticRegression()"
   ]
  },
  {
   "cell_type": "code",
   "execution_count": null,
   "metadata": {
    "_cell_guid": "6462ff85-e3b6-4a5f-b95c-9416841413b1",
    "_uuid": "9e8aba9401e8367f9902d710ba49e820294870e1"
   },
   "outputs": [],
   "source": [
    "fpr_logreg, tpr_logreg, auc_score_logreg, f7_logreg = model_run(logreg)"
   ]
  },
  {
   "cell_type": "code",
   "execution_count": null,
   "metadata": {},
   "outputs": [],
   "source": [
    "fpr_logreg_me, tpr_logreg_me, auc_score_logreg_me, f7_logreg_me = model_run(\n",
    "    logreg,\n",
    "    X_train=X_train_me,\n",
    "    y_train=y_train,\n",
    "    X_test=X_test_me,\n",
    "    y_test=y_test)"
   ]
  },
  {
   "cell_type": "code",
   "execution_count": null,
   "metadata": {},
   "outputs": [],
   "source": [
    "fpr_logreg_sc, tpr_logreg_sc, auc_score_logreg_sc, f7_logreg_sc = model_run(\n",
    "    logreg,\n",
    "    X_train=X_train_sc,\n",
    "    y_train=y_train,\n",
    "    X_test=X_test_sc,\n",
    "    y_test=y_test)"
   ]
  },
  {
   "cell_type": "code",
   "execution_count": null,
   "metadata": {},
   "outputs": [],
   "source": [
    "fpr_logreg_ms, tpr_logreg_ms, auc_score_logreg_ms, f7_logreg_ms = model_run(\n",
    "    logreg,\n",
    "    X_train=X_train_ms,\n",
    "    y_train=y_train,\n",
    "    X_test=X_test_ms,\n",
    "    y_test=y_test)"
   ]
  },
  {
   "cell_type": "markdown",
   "metadata": {},
   "source": [
    "### Random Forest"
   ]
  },
  {
   "cell_type": "code",
   "execution_count": 30,
   "metadata": {},
   "outputs": [],
   "source": [
    "rndfor = RandomForestClassifier()"
   ]
  },
  {
   "cell_type": "code",
   "execution_count": null,
   "metadata": {},
   "outputs": [],
   "source": [
    "fpr_rndfor, tpr_rndfor, auc_score_rndfor, f7_rndfor = model_run(rndfor)"
   ]
  },
  {
   "cell_type": "code",
   "execution_count": null,
   "metadata": {},
   "outputs": [],
   "source": [
    "fpr_rndfor_me, tpr_rndfor_me, auc_score_rndfor_me, f7_rndfor_me = model_run(\n",
    "    rndfor,\n",
    "    X_train=X_train_me,\n",
    "    y_train=y_train,\n",
    "    X_test=X_test_me,\n",
    "    y_test=y_test)"
   ]
  },
  {
   "cell_type": "code",
   "execution_count": null,
   "metadata": {},
   "outputs": [],
   "source": [
    "fpr_rndfor_sc, tpr_rndfor_sc, auc_score_rndfor_sc, f7_rndfor_sc = model_run(\n",
    "    rndfor,\n",
    "    X_train=X_train_sc,\n",
    "    y_train=y_train,\n",
    "    X_test=X_test_sc,\n",
    "    y_test=y_test)"
   ]
  },
  {
   "cell_type": "code",
   "execution_count": null,
   "metadata": {},
   "outputs": [],
   "source": [
    "fpr_rndfor_ms, tpr_rndfor_ms, auc_score_rndfor_ms, f7_rndfor_ms = model_run(\n",
    "    rndfor,\n",
    "    X_train=X_train_ms,\n",
    "    y_train=y_train,\n",
    "    X_test=X_test_ms,\n",
    "    y_test=y_test)"
   ]
  },
  {
   "cell_type": "markdown",
   "metadata": {},
   "source": [
    "### LightGBM"
   ]
  },
  {
   "cell_type": "code",
   "execution_count": 37,
   "metadata": {},
   "outputs": [],
   "source": [
    "# features format\n",
    "X_train_re = X_train.rename(columns=lambda x: re.sub('[^A-Za-z0-9_]+', '', x))\n",
    "X_test_re = X_test.rename(columns=lambda x: re.sub('[^A-Za-z0-9_]+', '', x))"
   ]
  },
  {
   "cell_type": "code",
   "execution_count": 31,
   "metadata": {},
   "outputs": [],
   "source": [
    "liggbm = LGBMClassifier()"
   ]
  },
  {
   "cell_type": "code",
   "execution_count": null,
   "metadata": {
    "scrolled": true
   },
   "outputs": [],
   "source": [
    "fpr_liggbm, tpr_liggbm, auc_score_liggbm, f7_liggbm = model_run(\n",
    "    liggbm,\n",
    "    X_train_re,\n",
    "    y_train,\n",
    "    X_test_re,\n",
    "    y_test)"
   ]
  },
  {
   "cell_type": "code",
   "execution_count": null,
   "metadata": {},
   "outputs": [],
   "source": [
    "# features format\n",
    "X_train_re_me = X_train_me.rename(columns=lambda x: re.sub('[^A-Za-z0-9_]+', '', x))\n",
    "X_test_re_me = X_test_me.rename(columns=lambda x: re.sub('[^A-Za-z0-9_]+', '', x))"
   ]
  },
  {
   "cell_type": "code",
   "execution_count": null,
   "metadata": {},
   "outputs": [],
   "source": [
    "liggbm = LGBMClassifier()\n",
    "fpr_liggbm_me, tpr_liggbm_me, auc_score_liggbm_me, f7_liggbm_me = model_run(\n",
    "    liggbm,\n",
    "    X_train_re_me,\n",
    "    y_train,\n",
    "    X_test_re_me,\n",
    "    y_test)"
   ]
  },
  {
   "cell_type": "code",
   "execution_count": null,
   "metadata": {},
   "outputs": [],
   "source": [
    "# features format\n",
    "X_train_re_sc = X_train_sc.rename(columns=lambda x: re.sub('[^A-Za-z0-9_]+', '', x))\n",
    "X_test_re_sc = X_test_sc.rename(columns=lambda x: re.sub('[^A-Za-z0-9_]+', '', x))"
   ]
  },
  {
   "cell_type": "code",
   "execution_count": null,
   "metadata": {},
   "outputs": [],
   "source": [
    "liggbm = LGBMClassifier()\n",
    "fpr_liggbm_sc, tpr_liggbm_sc, auc_score_liggbm_sc, f7_liggbm_sc = model_run(\n",
    "    liggbm,\n",
    "    X_train_re_sc,\n",
    "    y_train,\n",
    "    X_test_re_sc,\n",
    "    y_test)"
   ]
  },
  {
   "cell_type": "code",
   "execution_count": null,
   "metadata": {},
   "outputs": [],
   "source": [
    "# features format\n",
    "X_train_re_ms = X_train_ms.rename(columns=lambda x: re.sub('[^A-Za-z0-9_]+', '', x))\n",
    "X_test_re_ms = X_test_ms.rename(columns=lambda x: re.sub('[^A-Za-z0-9_]+', '', x))"
   ]
  },
  {
   "cell_type": "code",
   "execution_count": null,
   "metadata": {},
   "outputs": [],
   "source": [
    "liggbm = LGBMClassifier()\n",
    "fpr_liggbm_ms, tpr_liggbm_ms, auc_score_liggbm_ms, f7_liggbm_ms = model_run(\n",
    "    liggbm,\n",
    "    X_train_re_ms,\n",
    "    y_train,\n",
    "    X_test_re_ms,\n",
    "    y_test)"
   ]
  },
  {
   "cell_type": "markdown",
   "metadata": {},
   "source": [
    "### Collect results : comparison preprocessing - classifiers"
   ]
  },
  {
   "cell_type": "code",
   "execution_count": null,
   "metadata": {},
   "outputs": [],
   "source": [
    "# Collect results\n",
    "preprocess_cases = [\n",
    "    'Zero\\n NotScaled',\n",
    "    'Mean\\n NotScaled',\n",
    "    'Zero\\n Scaled',\n",
    "    'Mean\\n Scaled']\n",
    "NB_auc_scores = [\n",
    "    auc_score_naive,\n",
    "    auc_score_naive_me,\n",
    "    auc_score_naive_sc,\n",
    "    auc_score_naive_ms]\n",
    "LR_auc_scores = [\n",
    "    auc_score_logreg,\n",
    "    auc_score_logreg_me,\n",
    "    auc_score_logreg_sc,\n",
    "    auc_score_logreg_ms]\n",
    "RF_auc_scores = [\n",
    "    auc_score_rndfor,\n",
    "    auc_score_rndfor_me,\n",
    "    auc_score_rndfor_sc,\n",
    "    auc_score_rndfor_ms]\n",
    "LG_auc_scores = [\n",
    "    auc_score_liggbm,\n",
    "    auc_score_liggbm_me,\n",
    "    auc_score_liggbm_sc,\n",
    "    auc_score_liggbm_ms]"
   ]
  },
  {
   "cell_type": "code",
   "execution_count": null,
   "metadata": {
    "scrolled": false
   },
   "outputs": [],
   "source": [
    "# display results\n",
    "fig, axes = plt.subplots(2, 2, figsize=(10, 10))\n",
    "fig.suptitle('Preprocessing effect')\n",
    "sns.barplot(ax=axes[0, 0], x=preprocess_cases, y=NB_auc_scores, palette=\"Blues\")\n",
    "axes[0, 0].set_title('Gaussian Naive Bayes')\n",
    "sns.barplot(ax=axes[0, 1], x=preprocess_cases, y=LR_auc_scores, palette=\"Oranges\")\n",
    "axes[0, 1].set_title('Logistic Regression')\n",
    "sns.barplot(ax=axes[1, 0], x=preprocess_cases, y=RF_auc_scores, palette=\"Greens\")\n",
    "axes[1, 0].set_title('Random Forest')\n",
    "sns.barplot(ax=axes[1, 1], x=preprocess_cases, y=LG_auc_scores, palette=\"Reds\")\n",
    "axes[1, 1].set_title('Light GBM')"
   ]
  },
  {
   "cell_type": "markdown",
   "metadata": {},
   "source": [
    "### Roc curves (case of preprocessing mean-scaled)"
   ]
  },
  {
   "cell_type": "code",
   "execution_count": null,
   "metadata": {},
   "outputs": [],
   "source": [
    "# for Roc curve plots\n",
    "classifier_names = [\n",
    "    'Best Gaussian Naive Bayes',\n",
    "    'Best Logistic Regression',\n",
    "    'Best Random Forest',\n",
    "    'Best LightGBM']"
   ]
  },
  {
   "cell_type": "code",
   "execution_count": null,
   "metadata": {
    "scrolled": false
   },
   "outputs": [],
   "source": [
    "# display roc curves\n",
    "fig = plt.figure(figsize=(10, 8))\n",
    "ax = fig.add_subplot(111)\n",
    "ax.plot(\n",
    "    fpr_naive_ms,\n",
    "    tpr_naive_ms,\n",
    "    label=str(classifier_names[0])\n",
    "    + ' AUC: '\n",
    "    + str(round(auc_score_naive_ms, 3)))\n",
    "ax.plot(\n",
    "    fpr_logreg_ms,\n",
    "    tpr_logreg_ms,\n",
    "    label=str(classifier_names[1])\n",
    "    + ' AUC: '\n",
    "    + str(round(auc_score_logreg_ms, 3)))\n",
    "ax.plot(\n",
    "    fpr_rndfor_me,\n",
    "    tpr_rndfor_me,\n",
    "    label=str(classifier_names[2])\n",
    "    + ' AUC: '\n",
    "    + str(round(auc_score_rndfor_me, 3)))\n",
    "ax.plot(\n",
    "    fpr_liggbm,\n",
    "    tpr_liggbm,\n",
    "    label=str(classifier_names[3])\n",
    "    + ' AUC: '\n",
    "    + str(round(auc_score_liggbm, 3)))\n",
    "ax.plot([0, 1], [0, 1], linewidth=2, linestyle='--')\n",
    "plt.legend(loc=\"best\")\n",
    "plt.title(\"Classifiers ROC curves & AUC values\")\n",
    "plt.xlabel(\"False Positive Rate\")\n",
    "plt.ylabel(\"True Positive Rate\")"
   ]
  },
  {
   "cell_type": "markdown",
   "metadata": {},
   "source": [
    "### Oversampling with SMOTE to remedy  class imbalance"
   ]
  },
  {
   "cell_type": "markdown",
   "metadata": {},
   "source": [
    "This is a Synthetic Minority Oversampling Technique which consists in creating data to enrich the minority class. <br/>\n",
    "https://machinelearningmastery.com/smote-oversampling-for-imbalanced-classification/"
   ]
  },
  {
   "cell_type": "code",
   "execution_count": null,
   "metadata": {},
   "outputs": [],
   "source": [
    "# observe class imbalance\n",
    "pd.Series(y_train).value_counts().plot.bar()"
   ]
  },
  {
   "cell_type": "code",
   "execution_count": null,
   "metadata": {},
   "outputs": [],
   "source": [
    "# initialiaze SMOTE\n",
    "sm = SMOTE(random_state=7)"
   ]
  },
  {
   "cell_type": "code",
   "execution_count": null,
   "metadata": {},
   "outputs": [],
   "source": [
    "X_train_sm, y_train_sm = sm.fit_sample(X_train, y_train.ravel())"
   ]
  },
  {
   "cell_type": "code",
   "execution_count": null,
   "metadata": {
    "scrolled": false
   },
   "outputs": [],
   "source": [
    "# observe that data has been balanced\n",
    "pd.Series(y_train_sm).value_counts().plot.bar()"
   ]
  },
  {
   "cell_type": "markdown",
   "metadata": {},
   "source": [
    "### Comparison SMOTE versus class_weight='balanced'"
   ]
  },
  {
   "cell_type": "code",
   "execution_count": null,
   "metadata": {},
   "outputs": [],
   "source": [
    "fpr_logreg_sm, tpr_logreg_sm, auc_score_logreg_sm, f7_logreg_sm = model_run(\n",
    "    logreg,\n",
    "    X_train=X_train_sm,\n",
    "    y_train=y_train_sm,\n",
    "    X_test=X_test,\n",
    "    y_test=y_test)"
   ]
  },
  {
   "cell_type": "code",
   "execution_count": null,
   "metadata": {},
   "outputs": [],
   "source": [
    "log_reg_w = LogisticRegression(class_weight='balanced')"
   ]
  },
  {
   "cell_type": "code",
   "execution_count": null,
   "metadata": {},
   "outputs": [],
   "source": [
    "fpr_logreg_w, tpr_logreg_w, auc_score_logreg_w, f7_logreg_w = model_run(\n",
    "    log_reg_w,\n",
    "    X_train=X_train,\n",
    "    y_train=y_train,\n",
    "    X_test=X_test,\n",
    "    y_test=y_test)"
   ]
  },
  {
   "cell_type": "code",
   "execution_count": null,
   "metadata": {},
   "outputs": [],
   "source": [
    "fpr_logreg_w, tpr_logreg_w, auc_score_logreg_w, f7_logreg_w = model_run(\n",
    "    log_reg_w,\n",
    "    X_train=X_train_sm,\n",
    "    y_train=y_train_sm,\n",
    "    X_test=X_test,\n",
    "    y_test=y_test)"
   ]
  },
  {
   "cell_type": "code",
   "execution_count": null,
   "metadata": {},
   "outputs": [],
   "source": [
    "show_results(logreg, X_train=X_train, X_test=X_test, y_train=y_train, y_test=y_test, case='Log Reg - Raw')"
   ]
  },
  {
   "cell_type": "code",
   "execution_count": null,
   "metadata": {},
   "outputs": [],
   "source": [
    "show_results(logreg, X_train=X_train_sm, X_test=X_test, y_train=y_train_sm, y_test=y_test, case='Log Reg with Smote')"
   ]
  },
  {
   "cell_type": "code",
   "execution_count": null,
   "metadata": {
    "scrolled": false
   },
   "outputs": [],
   "source": [
    "show_results(log_reg_w, X_train=X_train, X_test=X_test, y_train=y_train, y_test=y_test, case='Log Reg balanced')"
   ]
  },
  {
   "cell_type": "code",
   "execution_count": null,
   "metadata": {},
   "outputs": [],
   "source": [
    "show_results(log_reg_w, X_train=X_train_sm, X_test=X_test, y_train=y_train_sm, y_test=y_test, case='Log Reg balanced & SMOTE')"
   ]
  },
  {
   "cell_type": "code",
   "execution_count": null,
   "metadata": {},
   "outputs": [],
   "source": [
    "fpr_rndfor_sm, tpr_rndfor_sm, auc_score_rndfor_sm, f7_rndfor_sm = model_run(\n",
    "    rndfor,\n",
    "    X_train=X_train_sm,\n",
    "    y_train=y_train_sm,\n",
    "    X_test=X_test,\n",
    "    y_test=y_test)"
   ]
  },
  {
   "cell_type": "code",
   "execution_count": null,
   "metadata": {},
   "outputs": [],
   "source": [
    "rndfor_w = RandomForestClassifier(class_weight='balanced')"
   ]
  },
  {
   "cell_type": "code",
   "execution_count": null,
   "metadata": {},
   "outputs": [],
   "source": [
    "fpr_rndfor_w, tpr_rndfor_w, auc_score_rndfor_w, f7_rndfor_w = model_run(\n",
    "    rndfor_w,\n",
    "    X_train=X_train,\n",
    "    y_train=y_train,\n",
    "    X_test=X_test,\n",
    "    y_test=y_test)"
   ]
  },
  {
   "cell_type": "code",
   "execution_count": null,
   "metadata": {},
   "outputs": [],
   "source": [
    "fpr_rndfor_w_sm, tpr_rndfor_w_sm, auc_score_rndfor_w_sm, f7_rndfor_w_sm = model_run(\n",
    "    rndfor_w,\n",
    "    X_train=X_train_sm,\n",
    "    y_train=y_train_sm,\n",
    "    X_test=X_test,\n",
    "    y_test=y_test)"
   ]
  },
  {
   "cell_type": "code",
   "execution_count": null,
   "metadata": {},
   "outputs": [],
   "source": [
    "# features format\n",
    "X_train_re_sm = X_train_sm.rename(columns=lambda x: re.sub('[^A-Za-z0-9_]+', '', x))"
   ]
  },
  {
   "cell_type": "code",
   "execution_count": null,
   "metadata": {},
   "outputs": [],
   "source": [
    "fpr_liggbm_sm, tpr_liggbm_sm, auc_score_liggbm_sm, f7_liggbm_sm = model_run(\n",
    "    liggbm,\n",
    "    X_train_re_sm,\n",
    "    y_train_sm,\n",
    "    X_test_re,\n",
    "    y_test)"
   ]
  },
  {
   "cell_type": "code",
   "execution_count": null,
   "metadata": {},
   "outputs": [],
   "source": [
    "liggbm_w = LGBMClassifier(class_weight='balanced')\n",
    "fpr_liggbm_w, tpr_liggbm_w, auc_score_liggbm_w, f7_liggbm_w = model_run(\n",
    "    liggbm_w,\n",
    "    X_train_re,\n",
    "    y_train,\n",
    "    X_test_re,\n",
    "    y_test)"
   ]
  },
  {
   "cell_type": "code",
   "execution_count": null,
   "metadata": {},
   "outputs": [],
   "source": [
    "fpr_liggbm_w_sm, tpr_liggbm_w_sm, auc_score_liggbm_w_sm, f7_liggbm_w_sm = model_run(\n",
    "    liggbm_w,\n",
    "    X_train_re_sm,\n",
    "    y_train_sm,\n",
    "    X_test_re,\n",
    "    y_test)"
   ]
  },
  {
   "cell_type": "code",
   "execution_count": null,
   "metadata": {
    "scrolled": false
   },
   "outputs": [],
   "source": [
    "show_results(liggbm, X_train=X_train_re, X_test=X_test_re, y_train=y_train, y_test=y_test, case='Light GBM - Raw')"
   ]
  },
  {
   "cell_type": "code",
   "execution_count": null,
   "metadata": {
    "scrolled": false
   },
   "outputs": [],
   "source": [
    "show_results(liggbm_w, X_train=X_train_re, X_test=X_test_re, y_train=y_train, y_test=y_test, case='Light GBM with balanced class_weight')"
   ]
  },
  {
   "cell_type": "code",
   "execution_count": null,
   "metadata": {
    "scrolled": false
   },
   "outputs": [],
   "source": [
    "show_results(liggbm_w, X_train=X_train_re_sm, X_test=X_test_re, y_train=y_train_sm, y_test=y_test, case='Light GBM balanced class_weight & SMOTE')"
   ]
  },
  {
   "cell_type": "code",
   "execution_count": null,
   "metadata": {},
   "outputs": [],
   "source": [
    "show_results(liggbm, X_train=X_train_re_sm, X_test=X_test_re, y_train=y_train_sm, y_test=y_test, case='Light GBM SMOTE')"
   ]
  },
  {
   "cell_type": "markdown",
   "metadata": {},
   "source": [
    "## Optimization"
   ]
  },
  {
   "cell_type": "markdown",
   "metadata": {},
   "source": [
    "Each classifier comes with its own set of hyperparameters, and those first rough results are worthless because default parameters may be wrong in our case."
   ]
  },
  {
   "cell_type": "markdown",
   "metadata": {},
   "source": [
    "### initialiaze search space"
   ]
  },
  {
   "cell_type": "code",
   "execution_count": 46,
   "metadata": {},
   "outputs": [],
   "source": [
    "# Initializing the search space\n",
    "space = {}"
   ]
  },
  {
   "cell_type": "markdown",
   "metadata": {},
   "source": [
    "### preprocessing"
   ]
  },
  {
   "cell_type": "markdown",
   "metadata": {},
   "source": [
    "here we could evaluate how preprocessing steps affect the results."
   ]
  },
  {
   "cell_type": "markdown",
   "metadata": {},
   "source": [
    "### models parameters"
   ]
  },
  {
   "cell_type": "code",
   "execution_count": 47,
   "metadata": {},
   "outputs": [],
   "source": [
    "models_spaces = {}"
   ]
  },
  {
   "cell_type": "code",
   "execution_count": 32,
   "metadata": {},
   "outputs": [
    {
     "data": {
      "text/plain": [
       "{'priors': None, 'var_smoothing': 1e-09}"
      ]
     },
     "execution_count": 32,
     "metadata": {},
     "output_type": "execute_result"
    }
   ],
   "source": [
    "naive.get_params()"
   ]
  },
  {
   "cell_type": "code",
   "execution_count": 33,
   "metadata": {},
   "outputs": [],
   "source": [
    "models_spaces['naive'] = {\n",
    "    'model': GaussianNB\n",
    "}"
   ]
  },
  {
   "cell_type": "code",
   "execution_count": 34,
   "metadata": {},
   "outputs": [
    {
     "data": {
      "text/plain": [
       "{'C': 1.0,\n",
       " 'class_weight': None,\n",
       " 'dual': False,\n",
       " 'fit_intercept': True,\n",
       " 'intercept_scaling': 1,\n",
       " 'l1_ratio': None,\n",
       " 'max_iter': 100,\n",
       " 'multi_class': 'auto',\n",
       " 'n_jobs': None,\n",
       " 'penalty': 'l2',\n",
       " 'random_state': None,\n",
       " 'solver': 'lbfgs',\n",
       " 'tol': 0.0001,\n",
       " 'verbose': 0,\n",
       " 'warm_start': False}"
      ]
     },
     "execution_count": 34,
     "metadata": {},
     "output_type": "execute_result"
    }
   ],
   "source": [
    "logreg.get_params()"
   ]
  },
  {
   "cell_type": "code",
   "execution_count": 35,
   "metadata": {},
   "outputs": [
    {
     "name": "stderr",
     "output_type": "stream",
     "text": [
      "9:2: W291 trailing whitespace\n"
     ]
    }
   ],
   "source": [
    "models_spaces['logreg'] = {\n",
    "    'model': LogisticRegression,\n",
    "    'C': hp.uniform('logreg_C', 0.0001, 2),\n",
    "    'class_weight': hp.choice('logreg_class_weight', ['balanced', None]),\n",
    "    'tol': hp.uniform('logreg_tol', 0.00001, 0.0001),\n",
    "    'solver': hp.choice('logreg_solver', ['newton-cg', 'lbfgs', 'liblinear']),\n",
    "    'max_iter': hp.choice('logreg_max_iter', range(100, 1000)),\n",
    "    # 'n_jobs': '-1'\n",
    "} "
   ]
  },
  {
   "cell_type": "code",
   "execution_count": 36,
   "metadata": {
    "scrolled": true
   },
   "outputs": [
    {
     "data": {
      "text/plain": [
       "{'bootstrap': True,\n",
       " 'ccp_alpha': 0.0,\n",
       " 'class_weight': None,\n",
       " 'criterion': 'gini',\n",
       " 'max_depth': None,\n",
       " 'max_features': 'auto',\n",
       " 'max_leaf_nodes': None,\n",
       " 'max_samples': None,\n",
       " 'min_impurity_decrease': 0.0,\n",
       " 'min_impurity_split': None,\n",
       " 'min_samples_leaf': 1,\n",
       " 'min_samples_split': 2,\n",
       " 'min_weight_fraction_leaf': 0.0,\n",
       " 'n_estimators': 100,\n",
       " 'n_jobs': None,\n",
       " 'oob_score': False,\n",
       " 'random_state': None,\n",
       " 'verbose': 0,\n",
       " 'warm_start': False}"
      ]
     },
     "execution_count": 36,
     "metadata": {},
     "output_type": "execute_result"
    }
   ],
   "source": [
    "rndfor.get_params()"
   ]
  },
  {
   "cell_type": "code",
   "execution_count": 37,
   "metadata": {},
   "outputs": [
    {
     "name": "stderr",
     "output_type": "stream",
     "text": [
      "6:80: E501 line too long (88 > 79 characters)\n"
     ]
    }
   ],
   "source": [
    "models_spaces['rndfor'] = {\n",
    "    'model': RandomForestClassifier,\n",
    "    'class_weight': hp.choice('rndfor_class_weight', ['balanced', None]),\n",
    "    'max_depth': hp.choice('rndfor_max_depth', np.arange(1, 30, dtype=int)),\n",
    "    'max_features': hp.choice('rndfor_max_features', range(1, 3)),\n",
    "    'n_estimators': hp.choice('rndfor_n_estimators', np.arange(10, 800, 50, dtype=int)),\n",
    "    'criterion': hp.choice('rndfor_criterion', [\"gini\", \"entropy\"])\n",
    "}"
   ]
  },
  {
   "cell_type": "code",
   "execution_count": 38,
   "metadata": {
    "scrolled": true
   },
   "outputs": [
    {
     "data": {
      "text/plain": [
       "{'boosting_type': 'gbdt',\n",
       " 'class_weight': None,\n",
       " 'colsample_bytree': 1.0,\n",
       " 'importance_type': 'split',\n",
       " 'learning_rate': 0.1,\n",
       " 'max_depth': -1,\n",
       " 'min_child_samples': 20,\n",
       " 'min_child_weight': 0.001,\n",
       " 'min_split_gain': 0.0,\n",
       " 'n_estimators': 100,\n",
       " 'n_jobs': -1,\n",
       " 'num_leaves': 31,\n",
       " 'objective': None,\n",
       " 'random_state': None,\n",
       " 'reg_alpha': 0.0,\n",
       " 'reg_lambda': 0.0,\n",
       " 'silent': True,\n",
       " 'subsample': 1.0,\n",
       " 'subsample_for_bin': 200000,\n",
       " 'subsample_freq': 0}"
      ]
     },
     "execution_count": 38,
     "metadata": {},
     "output_type": "execute_result"
    }
   ],
   "source": [
    "liggbm.get_params()"
   ]
  },
  {
   "cell_type": "code",
   "execution_count": 39,
   "metadata": {
    "scrolled": true
   },
   "outputs": [
    {
     "name": "stderr",
     "output_type": "stream",
     "text": [
      "3:80: E501 line too long (88 > 79 characters)\n",
      "6:80: E501 line too long (82 > 79 characters)\n",
      "7:80: E501 line too long (81 > 79 characters)\n",
      "8:80: E501 line too long (85 > 79 characters)\n"
     ]
    }
   ],
   "source": [
    "models_spaces['liggbm'] = {\n",
    "    'model': LGBMClassifier,\n",
    "    'n_estimators': hp.choice('liggbm_n_estimators', np.arange(10, 810, 50, dtype=int)),\n",
    "    'class_weight': hp.choice('liggbm_class_weight', ['balanced', None]),\n",
    "    'max_depth': hp.choice('liggbm_max_depth', np.arange(1, 30, dtype=int)),\n",
    "    'num_leaves': hp.choice('liggbm_num_leaves', np.arange(4, 101, 4, dtype=int)),\n",
    "    'boosting_type': hp.choice('liggbm_boosting_type', ['gbdt', 'dart', 'goss']),\n",
    "    'learning_rate': hp.loguniform('liggbm_learning_rate', np.log(0.01), np.log(0.2))\n",
    "}"
   ]
  },
  {
   "cell_type": "markdown",
   "metadata": {},
   "source": [
    "### Search space"
   ]
  },
  {
   "cell_type": "code",
   "execution_count": 48,
   "metadata": {},
   "outputs": [],
   "source": [
    "# choice of a model into collection of models_spaces\n",
    "space['models_spaces'] = hp.choice(\n",
    "        'models_spaces',\n",
    "        [models_spaces[key] for key in models_spaces]\n",
    "    )"
   ]
  },
  {
   "cell_type": "markdown",
   "metadata": {},
   "source": [
    "### Tree Parzen Estimator algorithm"
   ]
  },
  {
   "cell_type": "code",
   "execution_count": 38,
   "metadata": {},
   "outputs": [],
   "source": [
    "# Create the Tree Parzen Estimator algorithm\n",
    "tpe_algorithm = tpe.suggest"
   ]
  },
  {
   "cell_type": "markdown",
   "metadata": {},
   "source": [
    "### Initiate KFold"
   ]
  },
  {
   "cell_type": "code",
   "execution_count": 39,
   "metadata": {},
   "outputs": [],
   "source": [
    "# initiate Kfold\n",
    "skf = StratifiedKFold(n_splits=5)"
   ]
  },
  {
   "cell_type": "markdown",
   "metadata": {},
   "source": [
    "### Objective function\n",
    "As a first step, we tried to define FBeta (7) as the general objective, this lead to erroneous Naive model selection, and the general preformance of the model can be under our expectations : we could demonstrate that an higher AUC Score performance enable even a better FBeta score, setting the right threshold value. We'll focus only on AUC Score."
   ]
  },
  {
   "cell_type": "code",
   "execution_count": 40,
   "metadata": {},
   "outputs": [],
   "source": [
    "# Define th objective function\n",
    "def obj_fnc(\n",
    "    params,\n",
    "    X_=X_train_re,\n",
    "    y_=y_train\n",
    "):\n",
    "    # display the set of parameters currently evaluated\n",
    "    print('current params:', params)\n",
    "    # get all parameters, except the model\n",
    "    parameters = params['models_spaces'].copy()\n",
    "    del parameters['model']\n",
    "    # create the classifier & its parameters\n",
    "    clf = params['models_spaces']['model'](**parameters)\n",
    "    # Perform n_folds cross validation\n",
    "    start = timer()\n",
    "    print('Cross-val predict in progress…')\n",
    "    y_pred_proba = cross_val_predict(\n",
    "        clf,\n",
    "        X_,\n",
    "        y_,\n",
    "        method='predict_proba',\n",
    "        cv=skf)[:, 1]\n",
    "    # Compute score\n",
    "    fpr, tpr, _ = roc_curve(y_, y_pred_proba)\n",
    "    score = auc(fpr, tpr)\n",
    "    # return loss and status\n",
    "    loss = 1 - score\n",
    "    run_time = timer() - start\n",
    "    # displays results\n",
    "    print(\"Loss of the model:\", loss)\n",
    "    # evaluation dict\n",
    "    dict_eval = {\n",
    "        'loss': loss,\n",
    "        'score': score,\n",
    "        'run_time': run_time,\n",
    "        'status': STATUS_OK,\n",
    "    }\n",
    "    return dict_eval"
   ]
  },
  {
   "cell_type": "code",
   "execution_count": 41,
   "metadata": {},
   "outputs": [],
   "source": [
    "def run_trials():\n",
    "    trials_step = 1  # nb add trials after loading (1: save after iteration)\n",
    "    initial_evals = 1  # initial max_trials.\n",
    "    try:  # try to load an already saved trials object, and increase the max\n",
    "        hypopt_trials = pickle.load(open(\"hp_trials/trials.hyperopt\", \"rb\"))\n",
    "        print(\"Found saved Trials! Loading...\")\n",
    "        max_evals = len(hypopt_trials.trials) + trials_step\n",
    "        print(\"Rerunning from {} trials.\".format(len(hypopt_trials.trials)))\n",
    "    except:  # create a new trials object and start searching\n",
    "        print(\"Unable to load previous trials...\")\n",
    "        hypopt_trials = Trials()\n",
    "        max_evals = initial_evals\n",
    "    # Optimisation accross the search space\n",
    "    global best_params\n",
    "    best_params = fmin(\n",
    "        obj_fnc,\n",
    "        space=space,\n",
    "        algo=tpe.suggest,\n",
    "        max_evals=max_evals,\n",
    "        trials=hypopt_trials\n",
    "    )\n",
    "    # save the trials object\n",
    "    with open(\"hp_trials/trials.hyperopt\", mode=\"wb\") as f:\n",
    "        pickle.dump(hypopt_trials, f)\n",
    "    # get the best_params and save them\n",
    "    best_params = space_eval(space, best_params)\n",
    "    with open(\"hp_trials/best_params.hyperopt\", mode=\"wb\") as f:\n",
    "        pickle.dump(best_params, f)\n",
    "    # print the main results\n",
    "    print(\"\\nBest loss:\", hypopt_trials.best_trial['result']['loss'],\n",
    "          \"\\n----------------------\")"
   ]
  },
  {
   "cell_type": "markdown",
   "metadata": {},
   "source": [
    "### Perform \"hyperopt\""
   ]
  },
  {
   "cell_type": "markdown",
   "metadata": {},
   "source": [
    "Here we launch a persistant search, keeping an eye on the Best loss evolution. For further use, a stop point could be implemented, for instance if Best loss does not change for a given number of iterations."
   ]
  },
  {
   "cell_type": "code",
   "execution_count": null,
   "metadata": {
    "scrolled": true
   },
   "outputs": [],
   "source": [
    "keep_going = True\n",
    "\n",
    "\n",
    "def key_capture_thread():\n",
    "    global keep_going\n",
    "    # blocks until pressing 'Esc'.\n",
    "    keyboard.wait('esc')\n",
    "    keep_going = False\n",
    "    print('\\nINTERRUPTING… Please wait until shut down.')\n",
    "\n",
    "\n",
    "def trials_loop():\n",
    "    th.Thread(target=key_capture_thread, args=(), name='key_capture_thread', daemon=True).start()\n",
    "    while keep_going:\n",
    "        print(\"\\nRUNNING... Press 'ESC' key to interrupt.\")\n",
    "        # launch hyperopt\n",
    "        run_trials()\n",
    "    print('\\nINTERRUPTED!')\n",
    "\n",
    "\n",
    "trials_loop()"
   ]
  },
  {
   "cell_type": "markdown",
   "metadata": {},
   "source": [
    "### Search space : focusing LGBM"
   ]
  },
  {
   "cell_type": "code",
   "execution_count": 49,
   "metadata": {},
   "outputs": [],
   "source": [
    "models_spaces = {}"
   ]
  },
  {
   "cell_type": "code",
   "execution_count": 50,
   "metadata": {
    "scrolled": true
   },
   "outputs": [],
   "source": [
    "models_spaces['liggbm'] = {\n",
    "    'model': LGBMClassifier,\n",
    "    'n_estimators': hp.choice('liggbm_n_estimators', np.arange(10, 810, 50, dtype=int)),\n",
    "    'class_weight': hp.choice('liggbm_class_weight', ['balanced']),\n",
    "    'max_depth': hp.choice('liggbm_max_depth', np.arange(1, 30, dtype=int)),\n",
    "    'num_leaves': hp.choice('liggbm_num_leaves', np.arange(4, 101, 4, dtype=int)),\n",
    "    'boosting_type': hp.choice('liggbm_boosting_type', ['gbdt', 'dart', 'goss']),\n",
    "    'learning_rate': hp.loguniform('liggbm_learning_rate', np.log(0.01), np.log(0.2))\n",
    "}"
   ]
  },
  {
   "cell_type": "code",
   "execution_count": 51,
   "metadata": {},
   "outputs": [],
   "source": [
    "# choice of a model into collection of models_spaces\n",
    "space['models_spaces'] = hp.choice(\n",
    "        'models_spaces',\n",
    "        [models_spaces[key] for key in models_spaces]\n",
    "    )"
   ]
  },
  {
   "cell_type": "markdown",
   "metadata": {},
   "source": [
    "### Perform hyperopt"
   ]
  },
  {
   "cell_type": "code",
   "execution_count": null,
   "metadata": {
    "scrolled": false
   },
   "outputs": [],
   "source": [
    "keep_going = True\n",
    "\n",
    "\n",
    "def key_capture_thread():\n",
    "    global keep_going\n",
    "    # blocks until pressing 'Esc'.\n",
    "    keyboard.wait('esc')\n",
    "    keep_going = False\n",
    "    print('\\nINTERRUPTING… Please wait until shut down.')\n",
    "\n",
    "\n",
    "def trials_loop():\n",
    "    th.Thread(target=key_capture_thread, args=(), name='key_capture_thread', daemon=True).start()\n",
    "    while keep_going:\n",
    "        print(\"\\nRUNNING... Press 'ESC' key to interrupt.\")\n",
    "        # launch hyperopt\n",
    "        run_trials_auc()\n",
    "    print('\\nINTERRUPTED!')\n",
    "\n",
    "\n",
    "trials_loop()"
   ]
  },
  {
   "cell_type": "markdown",
   "metadata": {},
   "source": [
    "## Best Model training"
   ]
  },
  {
   "cell_type": "markdown",
   "metadata": {},
   "source": [
    "### Get model params"
   ]
  },
  {
   "cell_type": "code",
   "execution_count": 63,
   "metadata": {},
   "outputs": [
    {
     "data": {
      "text/plain": [
       "{'models_spaces': {'boosting_type': 'goss',\n",
       "  'class_weight': None,\n",
       "  'learning_rate': 0.01897824986309232,\n",
       "  'max_depth': 23,\n",
       "  'model': lightgbm.sklearn.LGBMClassifier,\n",
       "  'n_estimators': 610,\n",
       "  'num_leaves': 52}}"
      ]
     },
     "execution_count": 63,
     "metadata": {},
     "output_type": "execute_result"
    }
   ],
   "source": [
    "# Load the best_params\n",
    "best_params = pickle.load(open(\"hp_trials/saved_best_params.hyperopt\", \"rb\"))\n",
    "\n",
    "# print current best_params\n",
    "best_params"
   ]
  },
  {
   "cell_type": "code",
   "execution_count": 64,
   "metadata": {},
   "outputs": [],
   "source": [
    "def define_model(params):\n",
    "    # Get the model from parameters\n",
    "    model = params['models_spaces'].pop('model')\n",
    "\n",
    "    # Instanciate model with best parameters\n",
    "    model_instance = model(**params['models_spaces'])\n",
    "\n",
    "    # Return instanciated model\n",
    "    return model_instance"
   ]
  },
  {
   "cell_type": "code",
   "execution_count": 65,
   "metadata": {},
   "outputs": [],
   "source": [
    "best_model = define_model(best_params)"
   ]
  },
  {
   "cell_type": "code",
   "execution_count": 66,
   "metadata": {},
   "outputs": [
    {
     "data": {
      "text/plain": [
       "<bound method LGBMModel.get_params of LGBMClassifier(boosting_type='goss', learning_rate=0.01897824986309232,\n",
       "               max_depth=23, n_estimators=610, num_leaves=52)>"
      ]
     },
     "execution_count": 66,
     "metadata": {},
     "output_type": "execute_result"
    }
   ],
   "source": [
    "best_model.get_params"
   ]
  },
  {
   "cell_type": "code",
   "execution_count": 68,
   "metadata": {},
   "outputs": [
    {
     "data": {
      "text/plain": [
       "LGBMClassifier(boosting_type='goss', class_weight='balanced',\n",
       "               learning_rate=0.01897824986309232, max_depth=23,\n",
       "               n_estimators=610, num_leaves=52)"
      ]
     },
     "execution_count": 68,
     "metadata": {},
     "output_type": "execute_result"
    }
   ],
   "source": [
    "best_model.set_params(class_weight= 'balanced')"
   ]
  },
  {
   "cell_type": "code",
   "execution_count": 69,
   "metadata": {
    "scrolled": true
   },
   "outputs": [
    {
     "name": "stdout",
     "output_type": "stream",
     "text": [
      "LGBMClassifier(boosting_type='goss', class_weight='balanced',\n",
      "               learning_rate=0.01897824986309232, max_depth=23,\n",
      "               n_estimators=610, num_leaves=52)\n",
      "AUC score:  0.7646\n",
      "AUC score -roc:  0.6929\n",
      "Fbeta score (7):  0.6118\n"
     ]
    }
   ],
   "source": [
    "fpr_best, tpr_best, auc_score_best, f7_best = model_run(\n",
    "    best_model,\n",
    "    X_train_re,\n",
    "    y_train,\n",
    "    X_test_re,\n",
    "    y_test)"
   ]
  },
  {
   "cell_type": "markdown",
   "metadata": {},
   "source": [
    "### Overview of features importance"
   ]
  },
  {
   "cell_type": "code",
   "execution_count": 70,
   "metadata": {
    "scrolled": true
   },
   "outputs": [],
   "source": [
    "def plot_feature_importances(df):\n",
    "    \"\"\"\n",
    "    Plot importances returned by a model. This can work with any measure of\n",
    "    feature importance provided that higher importance is better. \n",
    "    \"\"\"\n",
    "    \n",
    "    # Sort features according to importance\n",
    "    df = df.sort_values('importance', ascending = False).reset_index()\n",
    "    \n",
    "    # Normalize the feature importances to add up to one\n",
    "    df['importance_normalized'] = df['importance'] / df['importance'].sum()\n",
    "\n",
    "    # Make a horizontal bar chart of feature importances\n",
    "    plt.figure(figsize = (10, 6))\n",
    "    ax = plt.subplot()\n",
    "    \n",
    "    # Need to reverse the index to plot most important on top\n",
    "    ax.barh(list(reversed(list(df.index[:15]))), \n",
    "            df['importance_normalized'].head(15), \n",
    "            align = 'center', edgecolor = 'k')\n",
    "    \n",
    "    # Set the yticks and labels\n",
    "    ax.set_yticks(list(reversed(list(df.index[:15]))))\n",
    "    ax.set_yticklabels(df['feature'].head(15))\n",
    "    \n",
    "    # Plot labeling\n",
    "    plt.xlabel('Normalized Importance'); plt.title('Feature Importances')\n",
    "    plt.show()\n",
    "    \n",
    "    return df"
   ]
  },
  {
   "cell_type": "code",
   "execution_count": 71,
   "metadata": {},
   "outputs": [],
   "source": [
    "feature_importance_values = best_model.feature_importances_"
   ]
  },
  {
   "cell_type": "code",
   "execution_count": 72,
   "metadata": {},
   "outputs": [],
   "source": [
    "feature_names = list(X_train.columns)"
   ]
  },
  {
   "cell_type": "code",
   "execution_count": 73,
   "metadata": {},
   "outputs": [],
   "source": [
    "feature_importances = pd.DataFrame({'feature': feature_names, 'importance': feature_importance_values})"
   ]
  },
  {
   "cell_type": "code",
   "execution_count": 74,
   "metadata": {},
   "outputs": [
    {
     "data": {
      "image/png": "[encoded data removed]",
      "text/plain": [
       "<Figure size 720x432 with 1 Axes>"
      ]
     },
     "metadata": {},
     "output_type": "display_data"
    }
   ],
   "source": [
    "# Show the feature importances for the new features\n",
    "feature_importances_sorted = plot_feature_importances(feature_importances)"
   ]
  },
  {
   "cell_type": "code",
   "execution_count": 86,
   "metadata": {},
   "outputs": [],
   "source": [
    "feature_importances_sorted['cum_importance'] = feature_importances_sorted['importance_normalized'].cumsum()"
   ]
  },
  {
   "cell_type": "code",
   "execution_count": 99,
   "metadata": {},
   "outputs": [
    {
     "data": {
      "text/plain": [
       "<AxesSubplot:>"
      ]
     },
     "execution_count": 99,
     "metadata": {},
     "output_type": "execute_result"
    },
    {
     "data": {
      "image/png": "[encoded data removed]",
      "text/plain": [
       "<Figure size 432x288 with 1 Axes>"
      ]
     },
     "metadata": {},
     "output_type": "display_data"
    }
   ],
   "source": [
    "feature_importances_sorted.plot(y=['cum_importance'], grid=True)"
   ]
  },
  {
   "cell_type": "code",
   "execution_count": 115,
   "metadata": {},
   "outputs": [],
   "source": [
    "most_important_features = feature_importances_sorted[feature_importances_sorted['importance'] > 99].feature.tolist()"
   ]
  },
  {
   "cell_type": "code",
   "execution_count": 116,
   "metadata": {},
   "outputs": [],
   "source": [
    "most_important_features.insert(0, 'TARGET')"
   ]
  },
  {
   "cell_type": "code",
   "execution_count": 117,
   "metadata": {},
   "outputs": [],
   "source": [
    "most_important_features.insert(0, 'SK_ID_CURR')"
   ]
  },
  {
   "cell_type": "code",
   "execution_count": 119,
   "metadata": {},
   "outputs": [],
   "source": [
    "# reload target and cut any_applications dataset\n",
    "with open(\"Data/sel_app_mean.pkl\", mode=\"rb\") as df:\n",
    "    any_application = pickle.load(df)"
   ]
  },
  {
   "cell_type": "code",
   "execution_count": 120,
   "metadata": {
    "scrolled": false
   },
   "outputs": [
    {
     "data": {
      "text/html": [
       "<div>\n",
       "<style scoped>\n",
       "    .dataframe tbody tr th:only-of-type {\n",
       "        vertical-align: middle;\n",
       "    }\n",
       "\n",
       "    .dataframe tbody tr th {\n",
       "        vertical-align: top;\n",
       "    }\n",
       "\n",
       "    .dataframe thead th {\n",
       "        text-align: right;\n",
       "    }\n",
       "</style>\n",
       "<table border=\"1\" class=\"dataframe\">\n",
       "  <thead>\n",
       "    <tr style=\"text-align: right;\">\n",
       "      <th></th>\n",
       "      <th>SK_ID_CURR</th>\n",
       "      <th>TARGET</th>\n",
       "      <th>CODE_GENDER</th>\n",
       "      <th>AMT_INCOME_TOTAL</th>\n",
       "      <th>AMT_CREDIT</th>\n",
       "      <th>AMT_ANNUITY</th>\n",
       "      <th>AMT_GOODS_PRICE</th>\n",
       "      <th>REGION_POPULATION_RELATIVE</th>\n",
       "      <th>DAYS_EMPLOYED</th>\n",
       "      <th>DAYS_REGISTRATION</th>\n",
       "      <th>DAYS_ID_PUBLISH</th>\n",
       "      <th>OWN_CAR_AGE</th>\n",
       "      <th>REGION_RATING_CLIENT</th>\n",
       "      <th>REGION_RATING_CLIENT_W_CITY</th>\n",
       "      <th>REG_CITY_NOT_WORK_CITY</th>\n",
       "      <th>BASEMENTAREA_AVG</th>\n",
       "      <th>YEARS_BEGINEXPLUATATION_AVG</th>\n",
       "      <th>ELEVATORS_AVG</th>\n",
       "      <th>LIVINGAREA_AVG</th>\n",
       "      <th>BASEMENTAREA_MODE</th>\n",
       "      <th>BASEMENTAREA_MEDI</th>\n",
       "      <th>YEARS_BEGINEXPLUATATION_MEDI</th>\n",
       "      <th>TOTALAREA_MODE</th>\n",
       "      <th>DAYS_LAST_PHONE_CHANGE</th>\n",
       "      <th>FLAG_DOCUMENT_3</th>\n",
       "      <th>N_CNT_PREV_REJECTED_HC</th>\n",
       "      <th>N_CNT_PREV_REJECTED_SCOFR</th>\n",
       "      <th>N_FLAG_REJECTED</th>\n",
       "      <th>N_ADJ_REJECT_RECENCY_INDEX</th>\n",
       "      <th>N_REJECT_RATE</th>\n",
       "      <th>N_BUR_LAST_APPLICATION</th>\n",
       "      <th>YEARS_BIRTH</th>\n",
       "      <th>N_DAYS_EMPLOYED_RATIO</th>\n",
       "      <th>N_CREDIT_INCOME_RATIO</th>\n",
       "      <th>N_ANNUITY_INCOME_RATIO</th>\n",
       "      <th>N_CREDIT_TERM</th>\n",
       "      <th>NAME_INCOME_TYPE_Working</th>\n",
       "      <th>NAME_EDUCATION_TYPE_Higher education</th>\n",
       "      <th>NAME_EDUCATION_TYPE_Secondary / secondary special</th>\n",
       "      <th>OCCUPATION_TYPE_Laborers</th>\n",
       "      <th>OCCUPATION_TYPE_Pensioner</th>\n",
       "      <th>BUR_DAYS_CREDIT_MIN</th>\n",
       "      <th>BUR_DAYS_CREDIT_MAX</th>\n",
       "      <th>BUR_DAYS_CREDIT_MEAN</th>\n",
       "      <th>BUR_DAYS_CREDIT_VAR</th>\n",
       "      <th>BUR_DAYS_CREDIT_ENDDATE_MIN</th>\n",
       "      <th>BUR_DAYS_CREDIT_ENDDATE_MAX</th>\n",
       "      <th>BUR_DAYS_CREDIT_ENDDATE_MEAN</th>\n",
       "      <th>BUR_AMT_CREDIT_MAX_OVERDUE_MAX</th>\n",
       "      <th>BUR_AMT_CREDIT_MAX_OVERDUE_MEAN</th>\n",
       "      <th>BUR_AMT_CREDIT_MAX_OVERDUE_SUM</th>\n",
       "      <th>BUR_AMT_CREDIT_SUM_MAX</th>\n",
       "      <th>BUR_AMT_CREDIT_SUM_MEAN</th>\n",
       "      <th>BUR_AMT_CREDIT_SUM_SUM</th>\n",
       "      <th>BUR_AMT_CREDIT_SUM_DEBT_MAX</th>\n",
       "      <th>BUR_AMT_CREDIT_SUM_DEBT_MEAN</th>\n",
       "      <th>BUR_AMT_CREDIT_SUM_DEBT_SUM</th>\n",
       "      <th>BUR_AMT_CREDIT_SUM_LIMIT_MAX</th>\n",
       "      <th>BUR_AMT_CREDIT_SUM_LIMIT_MEAN</th>\n",
       "      <th>BUR_AMT_CREDIT_SUM_LIMIT_SUM</th>\n",
       "      <th>BUR_MONTHS_BALANCE_SIZE_MEAN</th>\n",
       "      <th>BUR_N_BUR_START_OBSERVED_MEAN</th>\n",
       "      <th>BUR_N_BUR_AMT_CREDIT_DEBT_RATE_MIN</th>\n",
       "      <th>BUR_N_BUR_AMT_CREDIT_DEBT_RATE_MAX</th>\n",
       "      <th>BUR_N_BUR_AMT_CREDIT_DEBT_RATE_MEAN</th>\n",
       "      <th>BUR_N_BUR_AMT_CREDIT_DEBT_RATE_SUM</th>\n",
       "      <th>BUR_N_BUR_AMT_CREDIT_DEBT_RATE_VAR</th>\n",
       "      <th>BUR_CREDIT_ACTIVE_Active_MEAN</th>\n",
       "      <th>BUR_CREDIT_ACTIVE_Closed_MEAN</th>\n",
       "      <th>BUR_CREDIT_TYPE_Cash loans_MEAN</th>\n",
       "      <th>ACTIVE_DAYS_CREDIT_MIN</th>\n",
       "      <th>ACTIVE_DAYS_CREDIT_MAX</th>\n",
       "      <th>ACTIVE_DAYS_CREDIT_MEAN</th>\n",
       "      <th>ACTIVE_DAYS_CREDIT_VAR</th>\n",
       "      <th>ACTIVE_DAYS_CREDIT_ENDDATE_MAX</th>\n",
       "      <th>ACTIVE_DAYS_CREDIT_ENDDATE_MEAN</th>\n",
       "      <th>ACTIVE_AMT_CREDIT_MAX_OVERDUE_MAX</th>\n",
       "      <th>ACTIVE_AMT_CREDIT_MAX_OVERDUE_MEAN</th>\n",
       "      <th>ACTIVE_AMT_CREDIT_MAX_OVERDUE_SUM</th>\n",
       "      <th>ACTIVE_AMT_CREDIT_SUM_MEAN</th>\n",
       "      <th>ACTIVE_AMT_CREDIT_SUM_DEBT_MAX</th>\n",
       "      <th>ACTIVE_AMT_CREDIT_SUM_DEBT_MEAN</th>\n",
       "      <th>ACTIVE_N_BUR_AMT_CREDIT_DEBT_RATE_MIN</th>\n",
       "      <th>ACTIVE_N_BUR_AMT_CREDIT_DEBT_RATE_MAX</th>\n",
       "      <th>ACTIVE_N_BUR_AMT_CREDIT_DEBT_RATE_MEAN</th>\n",
       "      <th>ACTIVE_N_BUR_AMT_CREDIT_DEBT_RATE_SUM</th>\n",
       "      <th>CLOSED_DAYS_CREDIT_MIN</th>\n",
       "      <th>CLOSED_DAYS_CREDIT_MAX</th>\n",
       "      <th>CLOSED_DAYS_CREDIT_MEAN</th>\n",
       "      <th>CLOSED_DAYS_CREDIT_VAR</th>\n",
       "      <th>CLOSED_DAYS_CREDIT_ENDDATE_MIN</th>\n",
       "      <th>CLOSED_DAYS_CREDIT_ENDDATE_MAX</th>\n",
       "      <th>CLOSED_DAYS_CREDIT_ENDDATE_MEAN</th>\n",
       "      <th>CLOSED_CREDIT_DAY_OVERDUE_MAX</th>\n",
       "      <th>CLOSED_CREDIT_DAY_OVERDUE_MEAN</th>\n",
       "      <th>CLOSED_AMT_CREDIT_MAX_OVERDUE_MAX</th>\n",
       "      <th>CLOSED_AMT_CREDIT_MAX_OVERDUE_MEAN</th>\n",
       "      <th>CLOSED_AMT_CREDIT_MAX_OVERDUE_SUM</th>\n",
       "      <th>CLOSED_AMT_CREDIT_SUM_MAX</th>\n",
       "      <th>CLOSED_AMT_CREDIT_SUM_MEAN</th>\n",
       "      <th>CLOSED_AMT_CREDIT_SUM_SUM</th>\n",
       "      <th>CLOSED_AMT_CREDIT_SUM_DEBT_MAX</th>\n",
       "      <th>CLOSED_AMT_CREDIT_SUM_DEBT_SUM</th>\n",
       "      <th>CLOSED_AMT_CREDIT_SUM_OVERDUE_MAX</th>\n",
       "      <th>CLOSED_AMT_CREDIT_SUM_OVERDUE_MEAN</th>\n",
       "      <th>CLOSED_AMT_CREDIT_SUM_OVERDUE_SUM</th>\n",
       "      <th>CLOSED_AMT_CREDIT_SUM_LIMIT_MAX</th>\n",
       "      <th>CLOSED_AMT_CREDIT_SUM_LIMIT_SUM</th>\n",
       "      <th>CLOSED_AMT_ANNUITY_SUM</th>\n",
       "      <th>CLOSED_CNT_CREDIT_PROLONG_SUM</th>\n",
       "      <th>CLOSED_N_BUR_EARLINESS_OVERDUE_RATIO_MIN</th>\n",
       "      <th>CLOSED_N_BUR_EARLINESS_OVERDUE_RATIO_MAX</th>\n",
       "      <th>CLOSED_N_BUR_EARLINESS_OVERDUE_RATIO_MEAN</th>\n",
       "      <th>CLOSED_N_BUR_EARLINESS_OVERDUE_RATIO_SUM</th>\n",
       "      <th>CLOSED_N_BUR_EARLINESS_OVERDUE_RATIO_VAR</th>\n",
       "      <th>CLOSED_N_BUR_AMT_CREDIT_DEBT_RATE_MIN</th>\n",
       "      <th>CLOSED_N_BUR_AMT_CREDIT_DEBT_RATE_MAX</th>\n",
       "      <th>CLOSED_N_BUR_AMT_CREDIT_DEBT_RATE_MEAN</th>\n",
       "      <th>CLOSED_N_BUR_AMT_CREDIT_DEBT_RATE_SUM</th>\n",
       "      <th>PREV_AMT_ANNUITY_MIN</th>\n",
       "      <th>PREV_AMT_ANNUITY_MAX</th>\n",
       "      <th>PREV_AMT_ANNUITY_MEAN</th>\n",
       "      <th>PREV_AMT_APPLICATION_MIN</th>\n",
       "      <th>PREV_AMT_APPLICATION_MAX</th>\n",
       "      <th>PREV_AMT_APPLICATION_MEAN</th>\n",
       "      <th>PREV_AMT_CREDIT_MIN</th>\n",
       "      <th>PREV_AMT_CREDIT_MAX</th>\n",
       "      <th>PREV_AMT_CREDIT_MEAN</th>\n",
       "      <th>PREV_N_APP_CREDIT_RATIO_MIN</th>\n",
       "      <th>PREV_N_APP_CREDIT_RATIO_MAX</th>\n",
       "      <th>PREV_N_APP_CREDIT_RATIO_MEAN</th>\n",
       "      <th>PREV_N_ADJ_CREDIT_RATIO_MIN</th>\n",
       "      <th>PREV_N_ADJ_CREDIT_RATIO_MAX</th>\n",
       "      <th>PREV_N_ADJ_CREDIT_RATIO_MEAN</th>\n",
       "      <th>PREV_N_ADJ_INTEREST_EVAL_MIN</th>\n",
       "      <th>PREV_N_ADJ_INTEREST_EVAL_MAX</th>\n",
       "      <th>PREV_N_ADJ_INTEREST_EVAL_MEAN</th>\n",
       "      <th>PREV_N_CREDIT_PROLONG_RATIO_VAR</th>\n",
       "      <th>PREV_AMT_DOWN_PAYMENT_MAX</th>\n",
       "      <th>PREV_AMT_DOWN_PAYMENT_MEAN</th>\n",
       "      <th>PREV_AMT_GOODS_PRICE_MIN</th>\n",
       "      <th>PREV_AMT_GOODS_PRICE_MAX</th>\n",
       "      <th>PREV_AMT_GOODS_PRICE_MEAN</th>\n",
       "      <th>PREV_DAYS_DECISION_MIN</th>\n",
       "      <th>PREV_DAYS_DECISION_MEAN</th>\n",
       "      <th>PREV_CNT_PAYMENT_VAR</th>\n",
       "      <th>PREV_NC_LOAN_TERM_SUM</th>\n",
       "      <th>PREV_NC_LOAN_AGE_MAX</th>\n",
       "      <th>PREV_NC_LOAN_AGE_SUM</th>\n",
       "      <th>PREV_NAME_CONTRACT_TYPE_Revolving loans_MEAN</th>\n",
       "      <th>PREV_NAME_CONTRACT_STATUS_Approved_MEAN</th>\n",
       "      <th>PREV_NAME_CONTRACT_STATUS_Refused_MEAN</th>\n",
       "      <th>PREV_NAME_PAYMENT_TYPE_XNA_MEAN</th>\n",
       "      <th>PREV_CODE_REJECT_REASON_HC_MEAN</th>\n",
       "      <th>PREV_CODE_REJECT_REASON_SCOFR_MEAN</th>\n",
       "      <th>PREV_CODE_REJECT_REASON_XAP_MEAN</th>\n",
       "      <th>PREV_NAME_CLIENT_TYPE_New_MEAN</th>\n",
       "      <th>PREV_NAME_PRODUCT_TYPE_walk-in_MEAN</th>\n",
       "      <th>PREV_NAME_YIELD_GROUP_XNA_MEAN</th>\n",
       "      <th>PREV_NAME_YIELD_GROUP_high_MEAN</th>\n",
       "      <th>PREV_NAME_YIELD_GROUP_low_action_MEAN</th>\n",
       "      <th>PREV_NAME_YIELD_GROUP_low_normal_MEAN</th>\n",
       "      <th>PREV_PRODUCT_COMBINATION_Card Street_MEAN</th>\n",
       "      <th>PREV_PRODUCT_COMBINATION_Cash X-Sell: low_MEAN</th>\n",
       "      <th>PREV_N_CREDIT_TYPE_Cash loans_MEAN</th>\n",
       "      <th>PREV_N_CREDIT_TYPE_Revolving loans_MEAN</th>\n",
       "      <th>PREV_N_CODE_REJECT_REASON_REJECTED_HC_MEAN</th>\n",
       "      <th>PREV_N_CODE_REJECT_REASON_REJECTED_SCOFR_MEAN</th>\n",
       "      <th>PREV_N_CODE_REJECT_REASON_REJECTED_XAP_MEAN</th>\n",
       "      <th>PREV_N_CONTRACT_STATUS_APPROVED_MEAN</th>\n",
       "      <th>PREV_N_CONTRACT_STATUS_REJECTED_HC_MEAN</th>\n",
       "      <th>PREV_N_CONTRACT_STATUS_REJECTED_SCOFR_MEAN</th>\n",
       "      <th>APPROVED_AMT_ANNUITY_MIN</th>\n",
       "      <th>APPROVED_AMT_ANNUITY_MAX</th>\n",
       "      <th>APPROVED_AMT_ANNUITY_MEAN</th>\n",
       "      <th>APPROVED_AMT_APPLICATION_MIN</th>\n",
       "      <th>APPROVED_AMT_APPLICATION_MAX</th>\n",
       "      <th>APPROVED_AMT_APPLICATION_MEAN</th>\n",
       "      <th>APPROVED_AMT_CREDIT_MIN</th>\n",
       "      <th>APPROVED_AMT_CREDIT_MAX</th>\n",
       "      <th>APPROVED_AMT_CREDIT_MEAN</th>\n",
       "      <th>APPROVED_N_APP_CREDIT_RATIO_MIN</th>\n",
       "      <th>APPROVED_N_APP_CREDIT_RATIO_MAX</th>\n",
       "      <th>APPROVED_N_APP_CREDIT_RATIO_MEAN</th>\n",
       "      <th>APPROVED_N_ADJ_CREDIT_RATIO_MIN</th>\n",
       "      <th>APPROVED_N_ADJ_CREDIT_RATIO_MAX</th>\n",
       "      <th>APPROVED_N_ADJ_CREDIT_RATIO_MEAN</th>\n",
       "      <th>APPROVED_N_ADJ_INTEREST_EVAL_MIN</th>\n",
       "      <th>APPROVED_N_ADJ_INTEREST_EVAL_MAX</th>\n",
       "      <th>APPROVED_N_ADJ_INTEREST_EVAL_MEAN</th>\n",
       "      <th>APPROVED_N_CREDIT_PROLONG_RATIO_VAR</th>\n",
       "      <th>APPROVED_AMT_DOWN_PAYMENT_MAX</th>\n",
       "      <th>APPROVED_AMT_DOWN_PAYMENT_MEAN</th>\n",
       "      <th>APPROVED_AMT_GOODS_PRICE_MIN</th>\n",
       "      <th>APPROVED_AMT_GOODS_PRICE_MAX</th>\n",
       "      <th>APPROVED_AMT_GOODS_PRICE_MEAN</th>\n",
       "      <th>APPROVED_DAYS_DECISION_MIN</th>\n",
       "      <th>APPROVED_DAYS_DECISION_MEAN</th>\n",
       "      <th>APPROVED_CNT_PAYMENT_VAR</th>\n",
       "      <th>APPROVED_NC_LOAN_TERM_SUM</th>\n",
       "      <th>APPROVED_NC_LOAN_AGE_MAX</th>\n",
       "      <th>APPROVED_NC_LOAN_AGE_MEAN</th>\n",
       "      <th>APPROVED_NC_LOAN_AGE_SUM</th>\n",
       "      <th>REFUSED_AMT_ANNUITY_MIN</th>\n",
       "      <th>REFUSED_AMT_APPLICATION_MIN</th>\n",
       "      <th>REFUSED_N_APP_CREDIT_RATIO_MIN</th>\n",
       "      <th>REFUSED_N_APP_CREDIT_RATIO_MAX</th>\n",
       "      <th>REFUSED_N_APP_CREDIT_RATIO_MEAN</th>\n",
       "      <th>REFUSED_N_ADJ_CREDIT_RATIO_MIN</th>\n",
       "      <th>REFUSED_N_ADJ_CREDIT_RATIO_MEAN</th>\n",
       "      <th>REFUSED_N_ADJ_INTEREST_EVAL_MAX</th>\n",
       "      <th>REFUSED_N_ADJ_INTEREST_EVAL_MEAN</th>\n",
       "      <th>REFUSED_AMT_GOODS_PRICE_MIN</th>\n",
       "      <th>REFUSED_DAYS_DECISION_MIN</th>\n",
       "      <th>REFUSED_DAYS_DECISION_MAX</th>\n",
       "      <th>REFUSED_DAYS_DECISION_MEAN</th>\n",
       "      <th>REFUSED_CNT_PAYMENT_SUM</th>\n",
       "      <th>INSAGG_INS_N_PREV_CNT_PROLONG_SUM</th>\n",
       "      <th>INSAGG_INS_N_PREV_INS_AMT_MAX_OVERDUE_MEAN</th>\n",
       "      <th>INSAGG_INS_N_PREV_LAST_DAYS_INSTALMENT_MIN</th>\n",
       "      <th>INSAGG_INS_N_PREV_LAST_DAYS_INSTALMENT_MEAN</th>\n",
       "      <th>INSAGG_INS_N_PREV_LAST_DAYS_INSTALMENT_SUM</th>\n",
       "      <th>INSAGG_INS_N_PREV_LAST_DAYS_INSTALMENT_VAR</th>\n",
       "      <th>INSAGG_INS_N_PREV_EARLINESS_OVERDUE_RATIO_MIN</th>\n",
       "      <th>INSAGG_INS_N_PREV_EARLINESS_OVERDUE_RATIO_MAX</th>\n",
       "      <th>INSAGG_INS_N_PREV_EARLINESS_OVERDUE_RATIO_MEAN</th>\n",
       "      <th>INSAGG_INS_N_PREV_EARLINESS_OVERDUE_RATIO_SUM</th>\n",
       "      <th>INSAGG_INS_N_PREV_LOAN_AGE_MAX</th>\n",
       "      <th>INSAGG_INS_N_PREV_LOAN_AGE_MEAN</th>\n",
       "      <th>INSAGG_INS_N_PREV_LOAN_AGE_SUM</th>\n",
       "      <th>INSAGG_INS_N_PREV_LOAN_AGE_VAR</th>\n",
       "      <th>INS_DAYS_INSTALMENT_MEAN</th>\n",
       "      <th>INS_N_INS_DPD_MAX</th>\n",
       "      <th>INS_N_INS_DPD_MEAN</th>\n",
       "      <th>INS_N_INS_DPD_SUM</th>\n",
       "      <th>INS_N_INS_DBD_MEAN</th>\n",
       "      <th>INS_N_INS_AMT_OVERDUE_MEAN</th>\n",
       "      <th>INS_N_AMT_OVERDUE_RATIO_MAX</th>\n",
       "      <th>INS_N_AMT_OVERDUE_RATIO_MEAN</th>\n",
       "      <th>INS_AMT_INSTALMENT_MAX</th>\n",
       "      <th>INS_AMT_INSTALMENT_MEAN</th>\n",
       "      <th>INS_AMT_INSTALMENT_SUM</th>\n",
       "      <th>INS_N_STATUS_0_SUM</th>\n",
       "      <th>INS_N_FAULT_RATE</th>\n",
       "      <th>INS_N_FAULT_GRAVITY</th>\n",
       "      <th>INS_N_FAULT_ADJ_RATE</th>\n",
       "      <th>POS_SK_DPD_DEF_MAX</th>\n",
       "      <th>POS_SK_DPD_DEF_MEAN</th>\n",
       "      <th>POS_N_POS_COUNT</th>\n",
       "      <th>CC_AMT_BALANCE_MAX</th>\n",
       "      <th>CC_AMT_BALANCE_MEAN</th>\n",
       "      <th>CC_AMT_DRAWINGS_ATM_CURRENT_MEAN</th>\n",
       "      <th>CC_AMT_DRAWINGS_CURRENT_MAX</th>\n",
       "      <th>CC_AMT_DRAWINGS_CURRENT_MEAN</th>\n",
       "      <th>CC_AMT_DRAWINGS_CURRENT_VAR</th>\n",
       "      <th>CC_AMT_INST_MIN_REGULARITY_MEAN</th>\n",
       "      <th>CC_AMT_RECEIVABLE_PRINCIPAL_MEAN</th>\n",
       "      <th>CC_AMT_RECIVABLE_MEAN</th>\n",
       "      <th>CC_AMT_TOTAL_RECEIVABLE_MAX</th>\n",
       "      <th>CC_AMT_TOTAL_RECEIVABLE_MEAN</th>\n",
       "      <th>CC_CNT_DRAWINGS_ATM_CURRENT_MAX</th>\n",
       "      <th>CC_CNT_DRAWINGS_ATM_CURRENT_MEAN</th>\n",
       "      <th>CC_CNT_DRAWINGS_ATM_CURRENT_VAR</th>\n",
       "      <th>CC_CNT_DRAWINGS_CURRENT_MAX</th>\n",
       "      <th>CC_CNT_DRAWINGS_CURRENT_MEAN</th>\n",
       "      <th>CC_CNT_DRAWINGS_CURRENT_SUM</th>\n",
       "      <th>CC_CNT_DRAWINGS_CURRENT_VAR</th>\n",
       "      <th>CC_CNT_DRAWINGS_POS_CURRENT_MAX</th>\n",
       "      <th>CC_CNT_DRAWINGS_POS_CURRENT_MEAN</th>\n",
       "      <th>N_CC_USE_LATE_MONTH_6</th>\n",
       "      <th>N_CC_USE_LATE_MONTH_2</th>\n",
       "    </tr>\n",
       "  </thead>\n",
       "  <tbody>\n",
       "    <tr>\n",
       "      <th>0</th>\n",
       "      <td>100002</td>\n",
       "      <td>1.0</td>\n",
       "      <td>1</td>\n",
       "      <td>202500.0</td>\n",
       "      <td>406597.5</td>\n",
       "      <td>24700.5</td>\n",
       "      <td>351000.0</td>\n",
       "      <td>0.018801</td>\n",
       "      <td>-637.0</td>\n",
       "      <td>-3648.0</td>\n",
       "      <td>-2120</td>\n",
       "      <td>NaN</td>\n",
       "      <td>2</td>\n",
       "      <td>2</td>\n",
       "      <td>0</td>\n",
       "      <td>0.0369</td>\n",
       "      <td>0.9722</td>\n",
       "      <td>0.0</td>\n",
       "      <td>0.019</td>\n",
       "      <td>0.0383</td>\n",
       "      <td>0.0369</td>\n",
       "      <td>0.9722</td>\n",
       "      <td>0.0149</td>\n",
       "      <td>-1134.0</td>\n",
       "      <td>1</td>\n",
       "      <td>0.0</td>\n",
       "      <td>0.0</td>\n",
       "      <td>0.0</td>\n",
       "      <td>0.0</td>\n",
       "      <td>0.0</td>\n",
       "      <td>-103.0</td>\n",
       "      <td>25.920548</td>\n",
       "      <td>0.067329</td>\n",
       "      <td>2.007889</td>\n",
       "      <td>0.121978</td>\n",
       "      <td>0.060749</td>\n",
       "      <td>1</td>\n",
       "      <td>0</td>\n",
       "      <td>1</td>\n",
       "      <td>1</td>\n",
       "      <td>0</td>\n",
       "      <td>-1437.0</td>\n",
       "      <td>-103.0</td>\n",
       "      <td>-874.0</td>\n",
       "      <td>186150.0</td>\n",
       "      <td>-1072.0</td>\n",
       "      <td>780.0</td>\n",
       "      <td>-349.0</td>\n",
       "      <td>5043.645</td>\n",
       "      <td>1681.029</td>\n",
       "      <td>8405.145</td>\n",
       "      <td>450000.0</td>\n",
       "      <td>108131.945625</td>\n",
       "      <td>865055.565</td>\n",
       "      <td>245781.0</td>\n",
       "      <td>49156.2</td>\n",
       "      <td>245781.0</td>\n",
       "      <td>31988.565</td>\n",
       "      <td>7997.14125</td>\n",
       "      <td>31988.565</td>\n",
       "      <td>13.75</td>\n",
       "      <td>-26.875</td>\n",
       "      <td>0.0</td>\n",
       "      <td>0.546179</td>\n",
       "      <td>0.109236</td>\n",
       "      <td>0.546179</td>\n",
       "      <td>0.059662</td>\n",
       "      <td>0.25</td>\n",
       "      <td>0.75</td>\n",
       "      <td>0.5</td>\n",
       "      <td>-1042.0</td>\n",
       "      <td>-103.0</td>\n",
       "      <td>-572.5</td>\n",
       "      <td>440860.5</td>\n",
       "      <td>780.0</td>\n",
       "      <td>780.0</td>\n",
       "      <td>40.5</td>\n",
       "      <td>40.5</td>\n",
       "      <td>40.5</td>\n",
       "      <td>240994.2825</td>\n",
       "      <td>245781.0</td>\n",
       "      <td>122890.5</td>\n",
       "      <td>0.0</td>\n",
       "      <td>0.546179</td>\n",
       "      <td>0.273089</td>\n",
       "      <td>0.546179</td>\n",
       "      <td>-1437.0</td>\n",
       "      <td>-476.0</td>\n",
       "      <td>-974.5</td>\n",
       "      <td>123956.7</td>\n",
       "      <td>-1072.0</td>\n",
       "      <td>85.0</td>\n",
       "      <td>-574.8</td>\n",
       "      <td>0.0</td>\n",
       "      <td>0.0</td>\n",
       "      <td>5043.645</td>\n",
       "      <td>2091.16125</td>\n",
       "      <td>8364.645</td>\n",
       "      <td>135000.0</td>\n",
       "      <td>63844.5</td>\n",
       "      <td>383067.0</td>\n",
       "      <td>0.0</td>\n",
       "      <td>0.0</td>\n",
       "      <td>0.0</td>\n",
       "      <td>0.0</td>\n",
       "      <td>0.0</td>\n",
       "      <td>0.0</td>\n",
       "      <td>0.0</td>\n",
       "      <td>0.0</td>\n",
       "      <td>0.0</td>\n",
       "      <td>0.0</td>\n",
       "      <td>0.952381</td>\n",
       "      <td>0.698712</td>\n",
       "      <td>4.192274</td>\n",
       "      <td>0.135732</td>\n",
       "      <td>0.0</td>\n",
       "      <td>0.0</td>\n",
       "      <td>0.0</td>\n",
       "      <td>0.0</td>\n",
       "      <td>9251.775</td>\n",
       "      <td>9251.775</td>\n",
       "      <td>9251.775</td>\n",
       "      <td>179055.0</td>\n",
       "      <td>179055.0</td>\n",
       "      <td>179055.0</td>\n",
       "      <td>179055.0</td>\n",
       "      <td>179055.0</td>\n",
       "      <td>179055.0</td>\n",
       "      <td>1.0</td>\n",
       "      <td>1.0</td>\n",
       "      <td>1.0</td>\n",
       "      <td>0.0</td>\n",
       "      <td>0.0</td>\n",
       "      <td>0.0</td>\n",
       "      <td>0.0</td>\n",
       "      <td>0.0</td>\n",
       "      <td>0.0</td>\n",
       "      <td>NaN</td>\n",
       "      <td>0.0</td>\n",
       "      <td>0.0</td>\n",
       "      <td>179055.0</td>\n",
       "      <td>179055.0</td>\n",
       "      <td>179055.0</td>\n",
       "      <td>-606.0</td>\n",
       "      <td>-606.0</td>\n",
       "      <td>NaN</td>\n",
       "      <td>19.0</td>\n",
       "      <td>1.583333</td>\n",
       "      <td>1.583333</td>\n",
       "      <td>0.0</td>\n",
       "      <td>1.0</td>\n",
       "      <td>0.0</td>\n",
       "      <td>1.0</td>\n",
       "      <td>0.0</td>\n",
       "      <td>0.0</td>\n",
       "      <td>1.0</td>\n",
       "      <td>1.0</td>\n",
       "      <td>0.0</td>\n",
       "      <td>0.0</td>\n",
       "      <td>0.0</td>\n",
       "      <td>0.0</td>\n",
       "      <td>1.0</td>\n",
       "      <td>0.0</td>\n",
       "      <td>0.0</td>\n",
       "      <td>1.0</td>\n",
       "      <td>0.0</td>\n",
       "      <td>0.0</td>\n",
       "      <td>0.0</td>\n",
       "      <td>1.0</td>\n",
       "      <td>1.0</td>\n",
       "      <td>0.0</td>\n",
       "      <td>0.0</td>\n",
       "      <td>9251.775</td>\n",
       "      <td>9251.775</td>\n",
       "      <td>9251.775</td>\n",
       "      <td>179055.0</td>\n",
       "      <td>179055.0</td>\n",
       "      <td>179055.0</td>\n",
       "      <td>179055.0</td>\n",
       "      <td>179055.0</td>\n",
       "      <td>179055.0</td>\n",
       "      <td>1.0</td>\n",
       "      <td>1.0</td>\n",
       "      <td>1.0</td>\n",
       "      <td>0.0</td>\n",
       "      <td>0.0</td>\n",
       "      <td>0.0</td>\n",
       "      <td>0.0</td>\n",
       "      <td>0.0</td>\n",
       "      <td>0.0</td>\n",
       "      <td>NaN</td>\n",
       "      <td>0.0</td>\n",
       "      <td>0.0</td>\n",
       "      <td>179055.0</td>\n",
       "      <td>179055.0</td>\n",
       "      <td>179055.0</td>\n",
       "      <td>-606.0</td>\n",
       "      <td>-606.0</td>\n",
       "      <td>NaN</td>\n",
       "      <td>19.0</td>\n",
       "      <td>1.583333</td>\n",
       "      <td>1.583333</td>\n",
       "      <td>1.583333</td>\n",
       "      <td>NaN</td>\n",
       "      <td>NaN</td>\n",
       "      <td>NaN</td>\n",
       "      <td>NaN</td>\n",
       "      <td>NaN</td>\n",
       "      <td>NaN</td>\n",
       "      <td>NaN</td>\n",
       "      <td>NaN</td>\n",
       "      <td>NaN</td>\n",
       "      <td>NaN</td>\n",
       "      <td>NaN</td>\n",
       "      <td>NaN</td>\n",
       "      <td>NaN</td>\n",
       "      <td>NaN</td>\n",
       "      <td>38.0</td>\n",
       "      <td>0.0</td>\n",
       "      <td>-25.0</td>\n",
       "      <td>-25.0</td>\n",
       "      <td>-475.0</td>\n",
       "      <td>0.0</td>\n",
       "      <td>0.0</td>\n",
       "      <td>0.0</td>\n",
       "      <td>0.0</td>\n",
       "      <td>0.0</td>\n",
       "      <td>0.068493</td>\n",
       "      <td>0.068493</td>\n",
       "      <td>1.30137</td>\n",
       "      <td>0.0</td>\n",
       "      <td>-295.0</td>\n",
       "      <td>0.0</td>\n",
       "      <td>0.0</td>\n",
       "      <td>0.0</td>\n",
       "      <td>20.421053</td>\n",
       "      <td>0.0</td>\n",
       "      <td>0.0</td>\n",
       "      <td>0.0</td>\n",
       "      <td>53093.745</td>\n",
       "      <td>11559.247105</td>\n",
       "      <td>219625.695</td>\n",
       "      <td>19.0</td>\n",
       "      <td>0.0</td>\n",
       "      <td>0.0</td>\n",
       "      <td>0.0</td>\n",
       "      <td>0.0</td>\n",
       "      <td>0.0</td>\n",
       "      <td>19.0</td>\n",
       "      <td>NaN</td>\n",
       "      <td>NaN</td>\n",
       "      <td>NaN</td>\n",
       "      <td>NaN</td>\n",
       "      <td>NaN</td>\n",
       "      <td>NaN</td>\n",
       "      <td>NaN</td>\n",
       "      <td>NaN</td>\n",
       "      <td>NaN</td>\n",
       "      <td>NaN</td>\n",
       "      <td>NaN</td>\n",
       "      <td>NaN</td>\n",
       "      <td>NaN</td>\n",
       "      <td>NaN</td>\n",
       "      <td>NaN</td>\n",
       "      <td>NaN</td>\n",
       "      <td>NaN</td>\n",
       "      <td>NaN</td>\n",
       "      <td>NaN</td>\n",
       "      <td>NaN</td>\n",
       "      <td>NaN</td>\n",
       "      <td>NaN</td>\n",
       "    </tr>\n",
       "  </tbody>\n",
       "</table>\n",
       "</div>"
      ],
      "text/plain": [
       "   SK_ID_CURR  TARGET  CODE_GENDER  AMT_INCOME_TOTAL  AMT_CREDIT  AMT_ANNUITY  \\\n",
       "0      100002     1.0            1          202500.0    406597.5      24700.5   \n",
       "\n",
       "   AMT_GOODS_PRICE  REGION_POPULATION_RELATIVE  DAYS_EMPLOYED  \\\n",
       "0         351000.0                    0.018801         -637.0   \n",
       "\n",
       "   DAYS_REGISTRATION  DAYS_ID_PUBLISH  OWN_CAR_AGE  REGION_RATING_CLIENT  \\\n",
       "0            -3648.0            -2120          NaN                     2   \n",
       "\n",
       "   REGION_RATING_CLIENT_W_CITY  REG_CITY_NOT_WORK_CITY  BASEMENTAREA_AVG  \\\n",
       "0                            2                       0            0.0369   \n",
       "\n",
       "   YEARS_BEGINEXPLUATATION_AVG  ELEVATORS_AVG  LIVINGAREA_AVG  \\\n",
       "0                       0.9722            0.0           0.019   \n",
       "\n",
       "   BASEMENTAREA_MODE  BASEMENTAREA_MEDI  YEARS_BEGINEXPLUATATION_MEDI  \\\n",
       "0             0.0383             0.0369                        0.9722   \n",
       "\n",
       "   TOTALAREA_MODE  DAYS_LAST_PHONE_CHANGE  FLAG_DOCUMENT_3  \\\n",
       "0          0.0149                 -1134.0                1   \n",
       "\n",
       "   N_CNT_PREV_REJECTED_HC  N_CNT_PREV_REJECTED_SCOFR  N_FLAG_REJECTED  \\\n",
       "0                     0.0                        0.0              0.0   \n",
       "\n",
       "   N_ADJ_REJECT_RECENCY_INDEX  N_REJECT_RATE  N_BUR_LAST_APPLICATION  \\\n",
       "0                         0.0            0.0                  -103.0   \n",
       "\n",
       "   YEARS_BIRTH  N_DAYS_EMPLOYED_RATIO  N_CREDIT_INCOME_RATIO  \\\n",
       "0    25.920548               0.067329               2.007889   \n",
       "\n",
       "   N_ANNUITY_INCOME_RATIO  N_CREDIT_TERM  NAME_INCOME_TYPE_Working  \\\n",
       "0                0.121978       0.060749                         1   \n",
       "\n",
       "   NAME_EDUCATION_TYPE_Higher education  \\\n",
       "0                                     0   \n",
       "\n",
       "   NAME_EDUCATION_TYPE_Secondary / secondary special  \\\n",
       "0                                                  1   \n",
       "\n",
       "   OCCUPATION_TYPE_Laborers  OCCUPATION_TYPE_Pensioner  BUR_DAYS_CREDIT_MIN  \\\n",
       "0                         1                          0              -1437.0   \n",
       "\n",
       "   BUR_DAYS_CREDIT_MAX  BUR_DAYS_CREDIT_MEAN  BUR_DAYS_CREDIT_VAR  \\\n",
       "0               -103.0                -874.0             186150.0   \n",
       "\n",
       "   BUR_DAYS_CREDIT_ENDDATE_MIN  BUR_DAYS_CREDIT_ENDDATE_MAX  \\\n",
       "0                      -1072.0                        780.0   \n",
       "\n",
       "   BUR_DAYS_CREDIT_ENDDATE_MEAN  BUR_AMT_CREDIT_MAX_OVERDUE_MAX  \\\n",
       "0                        -349.0                        5043.645   \n",
       "\n",
       "   BUR_AMT_CREDIT_MAX_OVERDUE_MEAN  BUR_AMT_CREDIT_MAX_OVERDUE_SUM  \\\n",
       "0                         1681.029                        8405.145   \n",
       "\n",
       "   BUR_AMT_CREDIT_SUM_MAX  BUR_AMT_CREDIT_SUM_MEAN  BUR_AMT_CREDIT_SUM_SUM  \\\n",
       "0                450000.0            108131.945625              865055.565   \n",
       "\n",
       "   BUR_AMT_CREDIT_SUM_DEBT_MAX  BUR_AMT_CREDIT_SUM_DEBT_MEAN  \\\n",
       "0                     245781.0                       49156.2   \n",
       "\n",
       "   BUR_AMT_CREDIT_SUM_DEBT_SUM  BUR_AMT_CREDIT_SUM_LIMIT_MAX  \\\n",
       "0                     245781.0                     31988.565   \n",
       "\n",
       "   BUR_AMT_CREDIT_SUM_LIMIT_MEAN  BUR_AMT_CREDIT_SUM_LIMIT_SUM  \\\n",
       "0                     7997.14125                     31988.565   \n",
       "\n",
       "   BUR_MONTHS_BALANCE_SIZE_MEAN  BUR_N_BUR_START_OBSERVED_MEAN  \\\n",
       "0                         13.75                        -26.875   \n",
       "\n",
       "   BUR_N_BUR_AMT_CREDIT_DEBT_RATE_MIN  BUR_N_BUR_AMT_CREDIT_DEBT_RATE_MAX  \\\n",
       "0                                 0.0                            0.546179   \n",
       "\n",
       "   BUR_N_BUR_AMT_CREDIT_DEBT_RATE_MEAN  BUR_N_BUR_AMT_CREDIT_DEBT_RATE_SUM  \\\n",
       "0                             0.109236                            0.546179   \n",
       "\n",
       "   BUR_N_BUR_AMT_CREDIT_DEBT_RATE_VAR  BUR_CREDIT_ACTIVE_Active_MEAN  \\\n",
       "0                            0.059662                           0.25   \n",
       "\n",
       "   BUR_CREDIT_ACTIVE_Closed_MEAN  BUR_CREDIT_TYPE_Cash loans_MEAN  \\\n",
       "0                           0.75                              0.5   \n",
       "\n",
       "   ACTIVE_DAYS_CREDIT_MIN  ACTIVE_DAYS_CREDIT_MAX  ACTIVE_DAYS_CREDIT_MEAN  \\\n",
       "0                 -1042.0                  -103.0                   -572.5   \n",
       "\n",
       "   ACTIVE_DAYS_CREDIT_VAR  ACTIVE_DAYS_CREDIT_ENDDATE_MAX  \\\n",
       "0                440860.5                           780.0   \n",
       "\n",
       "   ACTIVE_DAYS_CREDIT_ENDDATE_MEAN  ACTIVE_AMT_CREDIT_MAX_OVERDUE_MAX  \\\n",
       "0                            780.0                               40.5   \n",
       "\n",
       "   ACTIVE_AMT_CREDIT_MAX_OVERDUE_MEAN  ACTIVE_AMT_CREDIT_MAX_OVERDUE_SUM  \\\n",
       "0                                40.5                               40.5   \n",
       "\n",
       "   ACTIVE_AMT_CREDIT_SUM_MEAN  ACTIVE_AMT_CREDIT_SUM_DEBT_MAX  \\\n",
       "0                 240994.2825                        245781.0   \n",
       "\n",
       "   ACTIVE_AMT_CREDIT_SUM_DEBT_MEAN  ACTIVE_N_BUR_AMT_CREDIT_DEBT_RATE_MIN  \\\n",
       "0                         122890.5                                    0.0   \n",
       "\n",
       "   ACTIVE_N_BUR_AMT_CREDIT_DEBT_RATE_MAX  \\\n",
       "0                               0.546179   \n",
       "\n",
       "   ACTIVE_N_BUR_AMT_CREDIT_DEBT_RATE_MEAN  \\\n",
       "0                                0.273089   \n",
       "\n",
       "   ACTIVE_N_BUR_AMT_CREDIT_DEBT_RATE_SUM  CLOSED_DAYS_CREDIT_MIN  \\\n",
       "0                               0.546179                 -1437.0   \n",
       "\n",
       "   CLOSED_DAYS_CREDIT_MAX  CLOSED_DAYS_CREDIT_MEAN  CLOSED_DAYS_CREDIT_VAR  \\\n",
       "0                  -476.0                   -974.5                123956.7   \n",
       "\n",
       "   CLOSED_DAYS_CREDIT_ENDDATE_MIN  CLOSED_DAYS_CREDIT_ENDDATE_MAX  \\\n",
       "0                         -1072.0                            85.0   \n",
       "\n",
       "   CLOSED_DAYS_CREDIT_ENDDATE_MEAN  CLOSED_CREDIT_DAY_OVERDUE_MAX  \\\n",
       "0                           -574.8                            0.0   \n",
       "\n",
       "   CLOSED_CREDIT_DAY_OVERDUE_MEAN  CLOSED_AMT_CREDIT_MAX_OVERDUE_MAX  \\\n",
       "0                             0.0                           5043.645   \n",
       "\n",
       "   CLOSED_AMT_CREDIT_MAX_OVERDUE_MEAN  CLOSED_AMT_CREDIT_MAX_OVERDUE_SUM  \\\n",
       "0                          2091.16125                           8364.645   \n",
       "\n",
       "   CLOSED_AMT_CREDIT_SUM_MAX  CLOSED_AMT_CREDIT_SUM_MEAN  \\\n",
       "0                   135000.0                     63844.5   \n",
       "\n",
       "   CLOSED_AMT_CREDIT_SUM_SUM  CLOSED_AMT_CREDIT_SUM_DEBT_MAX  \\\n",
       "0                   383067.0                             0.0   \n",
       "\n",
       "   CLOSED_AMT_CREDIT_SUM_DEBT_SUM  CLOSED_AMT_CREDIT_SUM_OVERDUE_MAX  \\\n",
       "0                             0.0                                0.0   \n",
       "\n",
       "   CLOSED_AMT_CREDIT_SUM_OVERDUE_MEAN  CLOSED_AMT_CREDIT_SUM_OVERDUE_SUM  \\\n",
       "0                                 0.0                                0.0   \n",
       "\n",
       "   CLOSED_AMT_CREDIT_SUM_LIMIT_MAX  CLOSED_AMT_CREDIT_SUM_LIMIT_SUM  \\\n",
       "0                              0.0                              0.0   \n",
       "\n",
       "   CLOSED_AMT_ANNUITY_SUM  CLOSED_CNT_CREDIT_PROLONG_SUM  \\\n",
       "0                     0.0                            0.0   \n",
       "\n",
       "   CLOSED_N_BUR_EARLINESS_OVERDUE_RATIO_MIN  \\\n",
       "0                                       0.0   \n",
       "\n",
       "   CLOSED_N_BUR_EARLINESS_OVERDUE_RATIO_MAX  \\\n",
       "0                                  0.952381   \n",
       "\n",
       "   CLOSED_N_BUR_EARLINESS_OVERDUE_RATIO_MEAN  \\\n",
       "0                                   0.698712   \n",
       "\n",
       "   CLOSED_N_BUR_EARLINESS_OVERDUE_RATIO_SUM  \\\n",
       "0                                  4.192274   \n",
       "\n",
       "   CLOSED_N_BUR_EARLINESS_OVERDUE_RATIO_VAR  \\\n",
       "0                                  0.135732   \n",
       "\n",
       "   CLOSED_N_BUR_AMT_CREDIT_DEBT_RATE_MIN  \\\n",
       "0                                    0.0   \n",
       "\n",
       "   CLOSED_N_BUR_AMT_CREDIT_DEBT_RATE_MAX  \\\n",
       "0                                    0.0   \n",
       "\n",
       "   CLOSED_N_BUR_AMT_CREDIT_DEBT_RATE_MEAN  \\\n",
       "0                                     0.0   \n",
       "\n",
       "   CLOSED_N_BUR_AMT_CREDIT_DEBT_RATE_SUM  PREV_AMT_ANNUITY_MIN  \\\n",
       "0                                    0.0              9251.775   \n",
       "\n",
       "   PREV_AMT_ANNUITY_MAX  PREV_AMT_ANNUITY_MEAN  PREV_AMT_APPLICATION_MIN  \\\n",
       "0              9251.775               9251.775                  179055.0   \n",
       "\n",
       "   PREV_AMT_APPLICATION_MAX  PREV_AMT_APPLICATION_MEAN  PREV_AMT_CREDIT_MIN  \\\n",
       "0                  179055.0                   179055.0             179055.0   \n",
       "\n",
       "   PREV_AMT_CREDIT_MAX  PREV_AMT_CREDIT_MEAN  PREV_N_APP_CREDIT_RATIO_MIN  \\\n",
       "0             179055.0              179055.0                          1.0   \n",
       "\n",
       "   PREV_N_APP_CREDIT_RATIO_MAX  PREV_N_APP_CREDIT_RATIO_MEAN  \\\n",
       "0                          1.0                           1.0   \n",
       "\n",
       "   PREV_N_ADJ_CREDIT_RATIO_MIN  PREV_N_ADJ_CREDIT_RATIO_MAX  \\\n",
       "0                          0.0                          0.0   \n",
       "\n",
       "   PREV_N_ADJ_CREDIT_RATIO_MEAN  PREV_N_ADJ_INTEREST_EVAL_MIN  \\\n",
       "0                           0.0                           0.0   \n",
       "\n",
       "   PREV_N_ADJ_INTEREST_EVAL_MAX  PREV_N_ADJ_INTEREST_EVAL_MEAN  \\\n",
       "0                           0.0                            0.0   \n",
       "\n",
       "   PREV_N_CREDIT_PROLONG_RATIO_VAR  PREV_AMT_DOWN_PAYMENT_MAX  \\\n",
       "0                              NaN                        0.0   \n",
       "\n",
       "   PREV_AMT_DOWN_PAYMENT_MEAN  PREV_AMT_GOODS_PRICE_MIN  \\\n",
       "0                         0.0                  179055.0   \n",
       "\n",
       "   PREV_AMT_GOODS_PRICE_MAX  PREV_AMT_GOODS_PRICE_MEAN  \\\n",
       "0                  179055.0                   179055.0   \n",
       "\n",
       "   PREV_DAYS_DECISION_MIN  PREV_DAYS_DECISION_MEAN  PREV_CNT_PAYMENT_VAR  \\\n",
       "0                  -606.0                   -606.0                   NaN   \n",
       "\n",
       "   PREV_NC_LOAN_TERM_SUM  PREV_NC_LOAN_AGE_MAX  PREV_NC_LOAN_AGE_SUM  \\\n",
       "0                   19.0              1.583333              1.583333   \n",
       "\n",
       "   PREV_NAME_CONTRACT_TYPE_Revolving loans_MEAN  \\\n",
       "0                                           0.0   \n",
       "\n",
       "   PREV_NAME_CONTRACT_STATUS_Approved_MEAN  \\\n",
       "0                                      1.0   \n",
       "\n",
       "   PREV_NAME_CONTRACT_STATUS_Refused_MEAN  PREV_NAME_PAYMENT_TYPE_XNA_MEAN  \\\n",
       "0                                     0.0                              1.0   \n",
       "\n",
       "   PREV_CODE_REJECT_REASON_HC_MEAN  PREV_CODE_REJECT_REASON_SCOFR_MEAN  \\\n",
       "0                              0.0                                 0.0   \n",
       "\n",
       "   PREV_CODE_REJECT_REASON_XAP_MEAN  PREV_NAME_CLIENT_TYPE_New_MEAN  \\\n",
       "0                               1.0                             1.0   \n",
       "\n",
       "   PREV_NAME_PRODUCT_TYPE_walk-in_MEAN  PREV_NAME_YIELD_GROUP_XNA_MEAN  \\\n",
       "0                                  0.0                             0.0   \n",
       "\n",
       "   PREV_NAME_YIELD_GROUP_high_MEAN  PREV_NAME_YIELD_GROUP_low_action_MEAN  \\\n",
       "0                              0.0                                    0.0   \n",
       "\n",
       "   PREV_NAME_YIELD_GROUP_low_normal_MEAN  \\\n",
       "0                                    1.0   \n",
       "\n",
       "   PREV_PRODUCT_COMBINATION_Card Street_MEAN  \\\n",
       "0                                        0.0   \n",
       "\n",
       "   PREV_PRODUCT_COMBINATION_Cash X-Sell: low_MEAN  \\\n",
       "0                                             0.0   \n",
       "\n",
       "   PREV_N_CREDIT_TYPE_Cash loans_MEAN  \\\n",
       "0                                 1.0   \n",
       "\n",
       "   PREV_N_CREDIT_TYPE_Revolving loans_MEAN  \\\n",
       "0                                      0.0   \n",
       "\n",
       "   PREV_N_CODE_REJECT_REASON_REJECTED_HC_MEAN  \\\n",
       "0                                         0.0   \n",
       "\n",
       "   PREV_N_CODE_REJECT_REASON_REJECTED_SCOFR_MEAN  \\\n",
       "0                                            0.0   \n",
       "\n",
       "   PREV_N_CODE_REJECT_REASON_REJECTED_XAP_MEAN  \\\n",
       "0                                          1.0   \n",
       "\n",
       "   PREV_N_CONTRACT_STATUS_APPROVED_MEAN  \\\n",
       "0                                   1.0   \n",
       "\n",
       "   PREV_N_CONTRACT_STATUS_REJECTED_HC_MEAN  \\\n",
       "0                                      0.0   \n",
       "\n",
       "   PREV_N_CONTRACT_STATUS_REJECTED_SCOFR_MEAN  APPROVED_AMT_ANNUITY_MIN  \\\n",
       "0                                         0.0                  9251.775   \n",
       "\n",
       "   APPROVED_AMT_ANNUITY_MAX  APPROVED_AMT_ANNUITY_MEAN  \\\n",
       "0                  9251.775                   9251.775   \n",
       "\n",
       "   APPROVED_AMT_APPLICATION_MIN  APPROVED_AMT_APPLICATION_MAX  \\\n",
       "0                      179055.0                      179055.0   \n",
       "\n",
       "   APPROVED_AMT_APPLICATION_MEAN  APPROVED_AMT_CREDIT_MIN  \\\n",
       "0                       179055.0                 179055.0   \n",
       "\n",
       "   APPROVED_AMT_CREDIT_MAX  APPROVED_AMT_CREDIT_MEAN  \\\n",
       "0                 179055.0                  179055.0   \n",
       "\n",
       "   APPROVED_N_APP_CREDIT_RATIO_MIN  APPROVED_N_APP_CREDIT_RATIO_MAX  \\\n",
       "0                              1.0                              1.0   \n",
       "\n",
       "   APPROVED_N_APP_CREDIT_RATIO_MEAN  APPROVED_N_ADJ_CREDIT_RATIO_MIN  \\\n",
       "0                               1.0                              0.0   \n",
       "\n",
       "   APPROVED_N_ADJ_CREDIT_RATIO_MAX  APPROVED_N_ADJ_CREDIT_RATIO_MEAN  \\\n",
       "0                              0.0                               0.0   \n",
       "\n",
       "   APPROVED_N_ADJ_INTEREST_EVAL_MIN  APPROVED_N_ADJ_INTEREST_EVAL_MAX  \\\n",
       "0                               0.0                               0.0   \n",
       "\n",
       "   APPROVED_N_ADJ_INTEREST_EVAL_MEAN  APPROVED_N_CREDIT_PROLONG_RATIO_VAR  \\\n",
       "0                                0.0                                  NaN   \n",
       "\n",
       "   APPROVED_AMT_DOWN_PAYMENT_MAX  APPROVED_AMT_DOWN_PAYMENT_MEAN  \\\n",
       "0                            0.0                             0.0   \n",
       "\n",
       "   APPROVED_AMT_GOODS_PRICE_MIN  APPROVED_AMT_GOODS_PRICE_MAX  \\\n",
       "0                      179055.0                      179055.0   \n",
       "\n",
       "   APPROVED_AMT_GOODS_PRICE_MEAN  APPROVED_DAYS_DECISION_MIN  \\\n",
       "0                       179055.0                      -606.0   \n",
       "\n",
       "   APPROVED_DAYS_DECISION_MEAN  APPROVED_CNT_PAYMENT_VAR  \\\n",
       "0                       -606.0                       NaN   \n",
       "\n",
       "   APPROVED_NC_LOAN_TERM_SUM  APPROVED_NC_LOAN_AGE_MAX  \\\n",
       "0                       19.0                  1.583333   \n",
       "\n",
       "   APPROVED_NC_LOAN_AGE_MEAN  APPROVED_NC_LOAN_AGE_SUM  \\\n",
       "0                   1.583333                  1.583333   \n",
       "\n",
       "   REFUSED_AMT_ANNUITY_MIN  REFUSED_AMT_APPLICATION_MIN  \\\n",
       "0                      NaN                          NaN   \n",
       "\n",
       "   REFUSED_N_APP_CREDIT_RATIO_MIN  REFUSED_N_APP_CREDIT_RATIO_MAX  \\\n",
       "0                             NaN                             NaN   \n",
       "\n",
       "   REFUSED_N_APP_CREDIT_RATIO_MEAN  REFUSED_N_ADJ_CREDIT_RATIO_MIN  \\\n",
       "0                              NaN                             NaN   \n",
       "\n",
       "   REFUSED_N_ADJ_CREDIT_RATIO_MEAN  REFUSED_N_ADJ_INTEREST_EVAL_MAX  \\\n",
       "0                              NaN                              NaN   \n",
       "\n",
       "   REFUSED_N_ADJ_INTEREST_EVAL_MEAN  REFUSED_AMT_GOODS_PRICE_MIN  \\\n",
       "0                               NaN                          NaN   \n",
       "\n",
       "   REFUSED_DAYS_DECISION_MIN  REFUSED_DAYS_DECISION_MAX  \\\n",
       "0                        NaN                        NaN   \n",
       "\n",
       "   REFUSED_DAYS_DECISION_MEAN  REFUSED_CNT_PAYMENT_SUM  \\\n",
       "0                         NaN                      NaN   \n",
       "\n",
       "   INSAGG_INS_N_PREV_CNT_PROLONG_SUM  \\\n",
       "0                               38.0   \n",
       "\n",
       "   INSAGG_INS_N_PREV_INS_AMT_MAX_OVERDUE_MEAN  \\\n",
       "0                                         0.0   \n",
       "\n",
       "   INSAGG_INS_N_PREV_LAST_DAYS_INSTALMENT_MIN  \\\n",
       "0                                       -25.0   \n",
       "\n",
       "   INSAGG_INS_N_PREV_LAST_DAYS_INSTALMENT_MEAN  \\\n",
       "0                                        -25.0   \n",
       "\n",
       "   INSAGG_INS_N_PREV_LAST_DAYS_INSTALMENT_SUM  \\\n",
       "0                                      -475.0   \n",
       "\n",
       "   INSAGG_INS_N_PREV_LAST_DAYS_INSTALMENT_VAR  \\\n",
       "0                                         0.0   \n",
       "\n",
       "   INSAGG_INS_N_PREV_EARLINESS_OVERDUE_RATIO_MIN  \\\n",
       "0                                            0.0   \n",
       "\n",
       "   INSAGG_INS_N_PREV_EARLINESS_OVERDUE_RATIO_MAX  \\\n",
       "0                                            0.0   \n",
       "\n",
       "   INSAGG_INS_N_PREV_EARLINESS_OVERDUE_RATIO_MEAN  \\\n",
       "0                                             0.0   \n",
       "\n",
       "   INSAGG_INS_N_PREV_EARLINESS_OVERDUE_RATIO_SUM  \\\n",
       "0                                            0.0   \n",
       "\n",
       "   INSAGG_INS_N_PREV_LOAN_AGE_MAX  INSAGG_INS_N_PREV_LOAN_AGE_MEAN  \\\n",
       "0                        0.068493                         0.068493   \n",
       "\n",
       "   INSAGG_INS_N_PREV_LOAN_AGE_SUM  INSAGG_INS_N_PREV_LOAN_AGE_VAR  \\\n",
       "0                         1.30137                             0.0   \n",
       "\n",
       "   INS_DAYS_INSTALMENT_MEAN  INS_N_INS_DPD_MAX  INS_N_INS_DPD_MEAN  \\\n",
       "0                    -295.0                0.0                 0.0   \n",
       "\n",
       "   INS_N_INS_DPD_SUM  INS_N_INS_DBD_MEAN  INS_N_INS_AMT_OVERDUE_MEAN  \\\n",
       "0                0.0           20.421053                         0.0   \n",
       "\n",
       "   INS_N_AMT_OVERDUE_RATIO_MAX  INS_N_AMT_OVERDUE_RATIO_MEAN  \\\n",
       "0                          0.0                           0.0   \n",
       "\n",
       "   INS_AMT_INSTALMENT_MAX  INS_AMT_INSTALMENT_MEAN  INS_AMT_INSTALMENT_SUM  \\\n",
       "0               53093.745             11559.247105              219625.695   \n",
       "\n",
       "   INS_N_STATUS_0_SUM  INS_N_FAULT_RATE  INS_N_FAULT_GRAVITY  \\\n",
       "0                19.0               0.0                  0.0   \n",
       "\n",
       "   INS_N_FAULT_ADJ_RATE  POS_SK_DPD_DEF_MAX  POS_SK_DPD_DEF_MEAN  \\\n",
       "0                   0.0                 0.0                  0.0   \n",
       "\n",
       "   POS_N_POS_COUNT  CC_AMT_BALANCE_MAX  CC_AMT_BALANCE_MEAN  \\\n",
       "0             19.0                 NaN                  NaN   \n",
       "\n",
       "   CC_AMT_DRAWINGS_ATM_CURRENT_MEAN  CC_AMT_DRAWINGS_CURRENT_MAX  \\\n",
       "0                               NaN                          NaN   \n",
       "\n",
       "   CC_AMT_DRAWINGS_CURRENT_MEAN  CC_AMT_DRAWINGS_CURRENT_VAR  \\\n",
       "0                           NaN                          NaN   \n",
       "\n",
       "   CC_AMT_INST_MIN_REGULARITY_MEAN  CC_AMT_RECEIVABLE_PRINCIPAL_MEAN  \\\n",
       "0                              NaN                               NaN   \n",
       "\n",
       "   CC_AMT_RECIVABLE_MEAN  CC_AMT_TOTAL_RECEIVABLE_MAX  \\\n",
       "0                    NaN                          NaN   \n",
       "\n",
       "   CC_AMT_TOTAL_RECEIVABLE_MEAN  CC_CNT_DRAWINGS_ATM_CURRENT_MAX  \\\n",
       "0                           NaN                              NaN   \n",
       "\n",
       "   CC_CNT_DRAWINGS_ATM_CURRENT_MEAN  CC_CNT_DRAWINGS_ATM_CURRENT_VAR  \\\n",
       "0                               NaN                              NaN   \n",
       "\n",
       "   CC_CNT_DRAWINGS_CURRENT_MAX  CC_CNT_DRAWINGS_CURRENT_MEAN  \\\n",
       "0                          NaN                           NaN   \n",
       "\n",
       "   CC_CNT_DRAWINGS_CURRENT_SUM  CC_CNT_DRAWINGS_CURRENT_VAR  \\\n",
       "0                          NaN                          NaN   \n",
       "\n",
       "   CC_CNT_DRAWINGS_POS_CURRENT_MAX  CC_CNT_DRAWINGS_POS_CURRENT_MEAN  \\\n",
       "0                              NaN                               NaN   \n",
       "\n",
       "   N_CC_USE_LATE_MONTH_6  N_CC_USE_LATE_MONTH_2  \n",
       "0                    NaN                    NaN  "
      ]
     },
     "execution_count": 120,
     "metadata": {},
     "output_type": "execute_result"
    }
   ],
   "source": [
    "any_application.head(1)"
   ]
  },
  {
   "cell_type": "code",
   "execution_count": 386,
   "metadata": {},
   "outputs": [
    {
     "data": {
      "text/plain": [
       "(356251, 271)"
      ]
     },
     "execution_count": 386,
     "metadata": {},
     "output_type": "execute_result"
    }
   ],
   "source": [
    "any_application.shape"
   ]
  },
  {
   "cell_type": "code",
   "execution_count": 385,
   "metadata": {},
   "outputs": [],
   "source": [
    "any_application_cut = any_application.filter(most_important_features)"
   ]
  },
  {
   "cell_type": "code",
   "execution_count": 387,
   "metadata": {},
   "outputs": [
    {
     "data": {
      "text/plain": [
       "(356251, 128)"
      ]
     },
     "execution_count": 387,
     "metadata": {},
     "output_type": "execute_result"
    }
   ],
   "source": [
    "any_application_cut.shape"
   ]
  },
  {
   "cell_type": "code",
   "execution_count": 388,
   "metadata": {},
   "outputs": [],
   "source": [
    "# save the data \n",
    "filename = 'Data/sel_app_cut.pkl'\n",
    "pickle.dump(any_application_cut, open(filename, 'wb'))"
   ]
  },
  {
   "cell_type": "markdown",
   "metadata": {},
   "source": [
    "### Get back train - test from \"Any applications Cut\""
   ]
  },
  {
   "cell_type": "code",
   "execution_count": 389,
   "metadata": {},
   "outputs": [],
   "source": [
    "# keep training applications only\n",
    "train = any_application_cut[any_application_cut['TARGET'].notna()]\n",
    "test = any_application_cut[any_application_cut['TARGET'].isna()]"
   ]
  },
  {
   "cell_type": "code",
   "execution_count": 390,
   "metadata": {},
   "outputs": [
    {
     "name": "stdout",
     "output_type": "stream",
     "text": [
      "Training set full shape:  (307507, 128)\n",
      "Testing set full shape:  (48744, 128)\n"
     ]
    }
   ],
   "source": [
    "print('Training set full shape: ', train.shape)\n",
    "print('Testing set full shape: ', test.shape)"
   ]
  },
  {
   "cell_type": "code",
   "execution_count": 236,
   "metadata": {},
   "outputs": [],
   "source": [
    "# set index with SK_ID_CURR\n",
    "train = train.set_index('SK_ID_CURR')\n",
    "test = test.set_index('SK_ID_CURR')"
   ]
  },
  {
   "cell_type": "code",
   "execution_count": 137,
   "metadata": {},
   "outputs": [
    {
     "name": "stdout",
     "output_type": "stream",
     "text": [
      "Training data shape:  (246005, 126)\n",
      "Testing data shape:  (61502, 126)\n",
      "Labels train data shape:  (246005,)\n",
      "Labels test data shape:  (61502,)\n"
     ]
    }
   ],
   "source": [
    "X_train, X_test, y_train, y_test, features = preprocess_split(data=train)"
   ]
  },
  {
   "cell_type": "code",
   "execution_count": 138,
   "metadata": {},
   "outputs": [],
   "source": [
    "# features format\n",
    "X_train_re = X_train.rename(columns=lambda x: re.sub('[^A-Za-z0-9_]+', '', x))\n",
    "X_test_re = X_test.rename(columns=lambda x: re.sub('[^A-Za-z0-9_]+', '', x))"
   ]
  },
  {
   "cell_type": "code",
   "execution_count": 139,
   "metadata": {},
   "outputs": [
    {
     "name": "stdout",
     "output_type": "stream",
     "text": [
      "LGBMClassifier(boosting_type='goss', class_weight='balanced',\n",
      "               learning_rate=0.01897824986309232, max_depth=23,\n",
      "               n_estimators=610, num_leaves=52)\n",
      "AUC score:  0.764\n",
      "AUC score -roc:  0.6918\n",
      "Fbeta score (7):  0.6105\n"
     ]
    }
   ],
   "source": [
    "fpr_cut, tpr_cut, auc_score_cut, f7_cut = model_run(\n",
    "    best_model,\n",
    "    X_train_re,\n",
    "    y_train,\n",
    "    X_test_re,\n",
    "    y_test)"
   ]
  },
  {
   "cell_type": "markdown",
   "metadata": {},
   "source": [
    "## Introduce threshold"
   ]
  },
  {
   "cell_type": "markdown",
   "metadata": {},
   "source": [
    "https://machinelearningmastery.com/threshold-moving-for-imbalanced-classification/"
   ]
  },
  {
   "cell_type": "code",
   "execution_count": 142,
   "metadata": {},
   "outputs": [],
   "source": [
    "# define a function to make threshold adjustable\n",
    "def threshold_pred(model, X, threshold=0.1):\n",
    "    pred = model.predict_proba(X)\n",
    "    y_pred = pred[:, 1] > threshold\n",
    "    return pred, y_pred.astype(int)"
   ]
  },
  {
   "cell_type": "code",
   "execution_count": 143,
   "metadata": {},
   "outputs": [],
   "source": [
    "# get the predict_proba from a model\n",
    "def get_predict_proba(\n",
    "    model,\n",
    "    X_train,\n",
    "    y_train,\n",
    "    X_test,\n",
    "    y_test,\n",
    "    cols=None\n",
    "):\n",
    "    model.fit(X_train[cols], y_train)\n",
    "    y_pred_proba = model.predict_proba(X_test[cols])[:, 1]\n",
    "    return y_pred_proba"
   ]
  },
  {
   "cell_type": "code",
   "execution_count": 166,
   "metadata": {},
   "outputs": [],
   "source": [
    "def fbeta_threshold(y_pred_proba, y_test, threshold=0.5, beta=7):\n",
    "    y_pred = y_pred_proba > threshold\n",
    "    fbeta_th = fbeta_score(y_test, y_pred, beta=beta)\n",
    "    pred_good = (y_pred == 0).sum()\n",
    "    pred_fail = (y_pred == 1).sum()\n",
    "    f_rate = pred_fail / (pred_good + pred_fail)\n",
    "    return fbeta_th, f_rate"
   ]
  },
  {
   "cell_type": "code",
   "execution_count": 150,
   "metadata": {},
   "outputs": [],
   "source": [
    "y_best_proba = get_predict_proba(\n",
    "    best_model,\n",
    "    X_train_re,\n",
    "    y_train,\n",
    "    X_test_re,\n",
    "    y_test,\n",
    "    cols=X_train_re.columns\n",
    ")"
   ]
  },
  {
   "cell_type": "code",
   "execution_count": 168,
   "metadata": {},
   "outputs": [
    {
     "name": "stdout",
     "output_type": "stream",
     "text": [
      "Fbeta score (7), case best, threshold=0.5 :  0.6105\n",
      "Failure rate, threshold=0.5 :  0.2895\n"
     ]
    }
   ],
   "source": [
    "f7_th_best, f_rate_7_best = fbeta_threshold(y_best_proba, y_test)\n",
    "print('Fbeta score (7), case best, threshold=0.5 : ', round(f7_th_best, 4))\n",
    "print('Failure rate, threshold=0.5 : ', round(f_rate_7_best, 4))"
   ]
  },
  {
   "cell_type": "code",
   "execution_count": 169,
   "metadata": {},
   "outputs": [
    {
     "name": "stdout",
     "output_type": "stream",
     "text": [
      "Fbeta score (3), case best, threshold=0.5 :  0.5102\n",
      "Failure rate, threshold=0.5 :  0.2895\n"
     ]
    }
   ],
   "source": [
    "f3_th_best, f_rate_3_best = fbeta_threshold(y_best_proba, y_test, beta=3)\n",
    "print('Fbeta score (3), case best, threshold=0.5 : ', round(f3_th_best, 4))\n",
    "print('Failure rate, threshold=0.5 : ', round(f_rate_3_best, 4))"
   ]
  },
  {
   "cell_type": "markdown",
   "metadata": {},
   "source": [
    "#### adjust threshold"
   ]
  },
  {
   "cell_type": "code",
   "execution_count": 170,
   "metadata": {},
   "outputs": [],
   "source": [
    "# with beta = 7\n",
    "scores = []\n",
    "f_rates = []\n",
    "for i in np.linspace(0, 1, num=101):\n",
    "    score, f_rate = fbeta_threshold(y_best_proba, y_test, threshold=i)\n",
    "    scores.append(score)\n",
    "    f_rates.append(f_rate)    "
   ]
  },
  {
   "cell_type": "code",
   "execution_count": 172,
   "metadata": {},
   "outputs": [
    {
     "name": "stdout",
     "output_type": "stream",
     "text": [
      "Max score: 0.8205388204921233\n",
      "Optimal threshold: 0.13\n"
     ]
    },
    {
     "data": {
      "image/png": "[encoded data removed]",
      "text/plain": [
       "<Figure size 432x360 with 1 Axes>"
      ]
     },
     "metadata": {},
     "output_type": "display_data"
    }
   ],
   "source": [
    "fig, ax = plt.subplots(figsize=(6, 5))\n",
    "plt.plot(np.linspace(0, 1, num=101), scores, label=\"model score\")\n",
    "plt.plot(np.linspace(0, 1, num=101), f_rates, label=\"failure rate\")\n",
    "max_score = max(scores)\n",
    "opt_threshold = np.linspace(0, 1, num=101)[scores.index(max_score)]\n",
    "\n",
    "plt.axvline(x=opt_threshold, color='k', dashes=(0.5, 1), label=\"optimal threshold: {}\".format(opt_threshold))\n",
    "\n",
    "plt.title(\"Best Model's Fbeta (7) scores\", fontsize=20)\n",
    "plt.xlabel(\"Probability thresholds\", fontsize=15)\n",
    "plt.legend()\n",
    "\n",
    "print(\"Max score:\", max_score)\n",
    "print(\"Optimal threshold:\", opt_threshold)"
   ]
  },
  {
   "cell_type": "code",
   "execution_count": 176,
   "metadata": {},
   "outputs": [],
   "source": [
    "# same with beta = 2\n",
    "scores_ = []\n",
    "f_rates_ = []\n",
    "for i in np.linspace(0, 1, num=101):\n",
    "    score_, f_rate_ = fbeta_threshold(y_best_proba, y_test, threshold=i, beta=2)\n",
    "    scores_.append(score_)\n",
    "    f_rates_.append(f_rate_)"
   ]
  },
  {
   "cell_type": "code",
   "execution_count": 178,
   "metadata": {
    "scrolled": false
   },
   "outputs": [
    {
     "name": "stdout",
     "output_type": "stream",
     "text": [
      "Max score: 0.4263575563984828\n",
      "Optimal threshold: 0.47\n"
     ]
    },
    {
     "data": {
      "image/png": "[encoded data removed]",
      "text/plain": [
       "<Figure size 432x360 with 1 Axes>"
      ]
     },
     "metadata": {},
     "output_type": "display_data"
    }
   ],
   "source": [
    "fig, ax = plt.subplots(figsize=(6, 5))\n",
    "plt.plot(np.linspace(0, 1, num=101), scores_, label=\"model score\")\n",
    "plt.plot(np.linspace(0, 1, num=101), f_rates, label=\"failure rate\")\n",
    "\n",
    "max_score = max(scores_)\n",
    "opt_threshold = round(np.linspace(0, 1, num=101)[scores_.index(max_score)], 2)\n",
    "\n",
    "plt.axvline(x=opt_threshold, color='k', dashes=(0.5, 1), label=\"optimal threshold: {}\".format(opt_threshold))\n",
    "\n",
    "plt.title(\"Best Model's Fbeta (2) scores\", fontsize=20)\n",
    "plt.xlabel(\"Probability thresholds\", fontsize=15)\n",
    "plt.legend()\n",
    "\n",
    "print(\"Max score:\", max_score)\n",
    "print(\"Optimal threshold:\", opt_threshold)"
   ]
  },
  {
   "cell_type": "markdown",
   "metadata": {},
   "source": [
    "# Overview of results"
   ]
  },
  {
   "cell_type": "code",
   "execution_count": null,
   "metadata": {},
   "outputs": [],
   "source": [
    "# Collect results\n",
    "classifier_names = [\n",
    "    'Gaussian Naive Bayes',\n",
    "    'Logistic Regression',\n",
    "    'LogReg_Best',\n",
    "    'Random Forest',\n",
    "    'LightGBM',\n",
    "    'LightGBM_CV']\n",
    "auc_scores = [\n",
    "    auc_score_naive,\n",
    "    auc_score_logreg,\n",
    "    auc_score_best,\n",
    "    auc_score_rndfor,\n",
    "    auc_score_liggbm,\n",
    "    auc_score]\n",
    "f7_scores = [\n",
    "    f7_naive,\n",
    "    f7_logreg,\n",
    "    f7_best,\n",
    "    f7_rndfor,\n",
    "    f7_liggbm,\n",
    "    f7]"
   ]
  },
  {
   "cell_type": "code",
   "execution_count": null,
   "metadata": {},
   "outputs": [],
   "source": [
    "# display results\n",
    "sns.set_color_codes(\"colorblind\")\n",
    "plt.figure(figsize=(10, 10))\n",
    "plt.subplot(211)\n",
    "plt.title('Classifiers scores: Area Under Roc Curve, Fbeta (7)')\n",
    "s1 = sns.barplot(x=classifier_names, y=auc_scores)\n",
    "s1.set_xticklabels(s1.get_xticklabels(), rotation=90)\n",
    "plt.ylabel('AUC scores', fontsize=12)\n",
    "plt.subplot(212)\n",
    "s2 = sns.barplot(x=classifier_names, y=f7_scores)\n",
    "s2.set_xticklabels(s2.get_xticklabels(), rotation=90)\n",
    "plt.ylabel('Fbeta scores', fontsize=12)\n",
    "plt.tick_params(axis='both', which='major', labelsize=12)\n",
    "plt.subplots_adjust(hspace=0.5)\n",
    "plt.show()"
   ]
  },
  {
   "cell_type": "code",
   "execution_count": null,
   "metadata": {
    "scrolled": false
   },
   "outputs": [],
   "source": [
    "# display roc curves\n",
    "fig = plt.figure(figsize=(10, 8))\n",
    "ax = fig.add_subplot(111)\n",
    "ax.plot(\n",
    "    fpr_naive,\n",
    "    tpr_naive,\n",
    "    label=str(classifier_names[0])\n",
    "    + ' AUC: '\n",
    "    + str(round(auc_score_naive, 3)))\n",
    "ax.plot(\n",
    "    fpr_logreg,\n",
    "    tpr_logreg,\n",
    "    label=str(classifier_names[1])\n",
    "    + ' AUC: '\n",
    "    + str(round(auc_score_logreg, 3)))\n",
    "ax.plot(\n",
    "    fpr_best,\n",
    "    tpr_best,\n",
    "    label=str(classifier_names[2])\n",
    "    + ' AUC: '\n",
    "    + str(round(auc_score_best, 3)))\n",
    "ax.plot(\n",
    "    fpr_rndfor,\n",
    "    tpr_rndfor,\n",
    "    label=str(classifier_names[3])\n",
    "    + ' AUC: '\n",
    "    + str(round(auc_score_rndfor, 3)))\n",
    "ax.plot(\n",
    "    fpr_liggbm,\n",
    "    tpr_liggbm,\n",
    "    label=str(classifier_names[4])\n",
    "    + ' AUC: '\n",
    "    + str(round(auc_score_liggbm, 3)))\n",
    "ax.plot(\n",
    "    fpr,\n",
    "    tpr,\n",
    "    label=str(classifier_names[5])\n",
    "    + ' AUC: '\n",
    "    + str(round(auc_score, 3)))\n",
    "\n",
    "ax.plot([0, 1], [0, 1], linewidth=2, linestyle='--')\n",
    "plt.legend(loc=\"best\")\n",
    "plt.title(\"Classifiers ROC curves & AUC values\")\n",
    "plt.xlabel(\"False Positive Rate\")\n",
    "plt.ylabel(\"True Positive Rate\")"
   ]
  },
  {
   "cell_type": "markdown",
   "metadata": {},
   "source": [
    "# Train & predict"
   ]
  },
  {
   "cell_type": "code",
   "execution_count": 400,
   "metadata": {},
   "outputs": [],
   "source": [
    "# set index with SK_ID_CURR\n",
    "any_application_cut = any_application_cut.set_index('SK_ID_CURR')"
   ]
  },
  {
   "cell_type": "code",
   "execution_count": 401,
   "metadata": {},
   "outputs": [],
   "source": [
    "# impute by mean any missing value from original cutted dataframe\n",
    "target = any_application_cut['TARGET']\n",
    "any_application_impute = any_application_cut.drop(columns='TARGET')"
   ]
  },
  {
   "cell_type": "code",
   "execution_count": 404,
   "metadata": {},
   "outputs": [],
   "source": [
    "# to keep df format : store columns & index\n",
    "columns = any_application_impute.columns\n",
    "index = any_application_impute.index\n",
    "# imputation of missing values\n",
    "imputer = SimpleImputer(\n",
    "    missing_values=np.nan,\n",
    "    strategy='mean')\n",
    "imputer.fit(any_application_impute)\n",
    "any_application_impute = pd.DataFrame(\n",
    "    imputer.fit_transform(any_application_impute),\n",
    "    columns=columns,\n",
    "    index=index)"
   ]
  },
  {
   "cell_type": "code",
   "execution_count": 405,
   "metadata": {},
   "outputs": [],
   "source": [
    "any_application_impute['TARGET'] = target"
   ]
  },
  {
   "cell_type": "code",
   "execution_count": 406,
   "metadata": {},
   "outputs": [],
   "source": [
    "train = any_application_impute[any_application_impute['TARGET'].notna()]\n",
    "test = any_application_impute[any_application_impute['TARGET'].isna()]"
   ]
  },
  {
   "cell_type": "code",
   "execution_count": 407,
   "metadata": {},
   "outputs": [],
   "source": [
    "test.drop(columns=['TARGET'], inplace=True)"
   ]
  },
  {
   "cell_type": "code",
   "execution_count": 408,
   "metadata": {},
   "outputs": [
    {
     "name": "stdout",
     "output_type": "stream",
     "text": [
      "Training set full shape:  (307507, 127)\n",
      "Testing set full shape:  (48744, 126)\n"
     ]
    }
   ],
   "source": [
    "print('Training set full shape: ', train.shape)\n",
    "print('Testing set full shape: ', test.shape)"
   ]
  },
  {
   "cell_type": "code",
   "execution_count": 409,
   "metadata": {},
   "outputs": [],
   "source": [
    "y_train = train['TARGET']"
   ]
  },
  {
   "cell_type": "code",
   "execution_count": 410,
   "metadata": {},
   "outputs": [],
   "source": [
    "X_train = train.drop(columns='TARGET')"
   ]
  },
  {
   "cell_type": "code",
   "execution_count": 411,
   "metadata": {},
   "outputs": [],
   "source": [
    "X_test = test"
   ]
  },
  {
   "cell_type": "code",
   "execution_count": 412,
   "metadata": {},
   "outputs": [
    {
     "name": "stdout",
     "output_type": "stream",
     "text": [
      "global failure rate:  8.07\n"
     ]
    }
   ],
   "source": [
    "# control failure rate of train\n",
    "print('global failure rate: ',\n",
    "     round(100 * y_train.value_counts()[1] / (y_train.value_counts()[1] + y_train.value_counts()[0]), 2))"
   ]
  },
  {
   "cell_type": "code",
   "execution_count": 413,
   "metadata": {
    "scrolled": true
   },
   "outputs": [
    {
     "data": {
      "text/plain": [
       "LGBMClassifier(boosting_type='goss', class_weight='balanced',\n",
       "               learning_rate=0.01897824986309232, max_depth=23,\n",
       "               n_estimators=610, num_leaves=52)"
      ]
     },
     "execution_count": 413,
     "metadata": {},
     "output_type": "execute_result"
    }
   ],
   "source": [
    "best_model"
   ]
  },
  {
   "cell_type": "code",
   "execution_count": 414,
   "metadata": {},
   "outputs": [],
   "source": [
    "# features format\n",
    "X_train = X_train.rename(columns=lambda x: re.sub('[^A-Za-z0-9_]+', '', x))\n",
    "X_test = X_test.rename(columns=lambda x: re.sub('[^A-Za-z0-9_]+', '', x))"
   ]
  },
  {
   "cell_type": "code",
   "execution_count": 415,
   "metadata": {
    "scrolled": false
   },
   "outputs": [
    {
     "data": {
      "text/plain": [
       "LGBMClassifier(boosting_type='goss', class_weight='balanced',\n",
       "               learning_rate=0.01897824986309232, max_depth=23,\n",
       "               n_estimators=610, num_leaves=52)"
      ]
     },
     "execution_count": 415,
     "metadata": {},
     "output_type": "execute_result"
    }
   ],
   "source": [
    "best_model.fit(X_train, y_train)"
   ]
  },
  {
   "cell_type": "code",
   "execution_count": 416,
   "metadata": {},
   "outputs": [],
   "source": [
    "y_proba = best_model.predict_proba(X_test)[:, 1]"
   ]
  },
  {
   "cell_type": "code",
   "execution_count": 417,
   "metadata": {},
   "outputs": [
    {
     "data": {
      "text/plain": [
       "array([0.50172708, 0.71036158, 0.22155926, ..., 0.08137186, 0.29480859,\n",
       "       0.63035566])"
      ]
     },
     "execution_count": 417,
     "metadata": {},
     "output_type": "execute_result"
    }
   ],
   "source": [
    "y_proba"
   ]
  },
  {
   "cell_type": "code",
   "execution_count": 418,
   "metadata": {},
   "outputs": [],
   "source": [
    "# apply threshold to positive probabilities to create labels\n",
    "def to_labels(pos_probs, threshold):\n",
    "    return (pos_probs >= threshold).astype('int')"
   ]
  },
  {
   "cell_type": "code",
   "execution_count": 419,
   "metadata": {},
   "outputs": [],
   "source": [
    "# labels for threshold = 0.5\n",
    "y_pred = to_labels(y_proba, 0.5)"
   ]
  },
  {
   "cell_type": "code",
   "execution_count": 420,
   "metadata": {},
   "outputs": [],
   "source": [
    "nb_good = (y_pred == 0).sum()\n",
    "nb_failure = (y_pred == 1).sum()"
   ]
  },
  {
   "cell_type": "code",
   "execution_count": 421,
   "metadata": {},
   "outputs": [
    {
     "name": "stdout",
     "output_type": "stream",
     "text": [
      "global failure rate:  27.69\n"
     ]
    }
   ],
   "source": [
    "# control failure rate of y_pred\n",
    "print('global failure rate: ',\n",
    "     round(100 * nb_failure / (nb_good + nb_failure), 2))"
   ]
  },
  {
   "cell_type": "markdown",
   "metadata": {},
   "source": [
    "This underestimate the real value of failure - meaning to many loans are refused"
   ]
  },
  {
   "cell_type": "code",
   "execution_count": 422,
   "metadata": {},
   "outputs": [],
   "source": [
    "feature_importance_values = best_model.feature_importances_"
   ]
  },
  {
   "cell_type": "code",
   "execution_count": 423,
   "metadata": {},
   "outputs": [],
   "source": [
    "feature_names = list(train.drop(columns='TARGET').columns)"
   ]
  },
  {
   "cell_type": "code",
   "execution_count": 424,
   "metadata": {},
   "outputs": [],
   "source": [
    "feature_importances = pd.DataFrame({'feature': feature_names, 'importance': feature_importance_values})"
   ]
  },
  {
   "cell_type": "code",
   "execution_count": 425,
   "metadata": {
    "scrolled": false
   },
   "outputs": [
    {
     "data": {
      "image/png": "[encoded data removed]",
      "text/plain": [
       "<Figure size 720x432 with 1 Axes>"
      ]
     },
     "metadata": {},
     "output_type": "display_data"
    }
   ],
   "source": [
    "# Show the feature importances for the new features\n",
    "feature_importances_sorted = plot_feature_importances(feature_importances)"
   ]
  },
  {
   "cell_type": "code",
   "execution_count": 426,
   "metadata": {},
   "outputs": [
    {
     "data": {
      "text/plain": [
       "LGBMClassifier(boosting_type='goss', class_weight='balanced',\n",
       "               learning_rate=0.01897824986309232, max_depth=23,\n",
       "               n_estimators=610, num_leaves=52)"
      ]
     },
     "execution_count": 426,
     "metadata": {},
     "output_type": "execute_result"
    }
   ],
   "source": [
    "best_model"
   ]
  },
  {
   "cell_type": "code",
   "execution_count": 427,
   "metadata": {},
   "outputs": [],
   "source": [
    "test.insert(0, column='RISK_PROBA', value=y_proba)"
   ]
  },
  {
   "cell_type": "code",
   "execution_count": 428,
   "metadata": {},
   "outputs": [],
   "source": [
    "test.insert(0, column='RISK_FLAG', value=y_pred)"
   ]
  },
  {
   "cell_type": "code",
   "execution_count": 429,
   "metadata": {},
   "outputs": [],
   "source": [
    "# save the model to disk\n",
    "filename = 'Data/model.sav'\n",
    "pickle.dump(best_model, open(filename, 'wb'))"
   ]
  },
  {
   "cell_type": "code",
   "execution_count": 430,
   "metadata": {},
   "outputs": [],
   "source": [
    "# save the results\n",
    "filename = 'Data/final.pkl'\n",
    "pickle.dump(test, open(filename, 'wb'))"
   ]
  },
  {
   "cell_type": "code",
   "execution_count": 431,
   "metadata": {},
   "outputs": [
    {
     "data": {
      "text/plain": [
       "(48744, 128)"
      ]
     },
     "execution_count": 431,
     "metadata": {},
     "output_type": "execute_result"
    }
   ],
   "source": [
    "test.shape"
   ]
  }
 ],
 "metadata": {
  "kernelspec": {
   "display_name": "Python 3",
   "language": "python",
   "name": "python3"
  },
  "language_info": {
   "codemirror_mode": {
    "name": "ipython",
    "version": 3
   },
   "file_extension": ".py",
   "mimetype": "text/x-python",
   "name": "python",
   "nbconvert_exporter": "python",
   "pygments_lexer": "ipython3",
   "version": "3.7.4"
  },
  "toc": {
   "base_numbering": 1,
   "nav_menu": {},
   "number_sections": false,
   "sideBar": true,
   "skip_h1_title": false,
   "title_cell": "Table of Contents",
   "title_sidebar": "Contents",
   "toc_cell": false,
   "toc_position": {
    "height": "calc(100% - 180px)",
    "left": "10px",
    "top": "150px",
    "width": "257.5px"
   },
   "toc_section_display": true,
   "toc_window_display": true
  }
 },
 "nbformat": 4,
 "nbformat_minor": 1
}
