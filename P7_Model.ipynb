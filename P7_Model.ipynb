{
 "cells": [
  {
   "cell_type": "markdown",
   "metadata": {
    "_cell_guid": "551ce207-0976-48c3-9242-fac3e6bdf527",
    "_uuid": "66406036d8dd7a0071295d1aee64f13bffc44e3a"
   },
   "source": [
    "# Introduction\n",
    "\n",
    "Our input is the resulting dataset from the Exploratory Data Analysis and the Feature Engineering performed on any original datasets. <br/>"
   ]
  },
  {
   "cell_type": "markdown",
   "metadata": {
    "_cell_guid": "d632b08c-d252-4238-b496-e2c6edebec4b",
    "_uuid": "eb13bf76d4e1e60d0703856ec391cdc2c5bdf1fb"
   },
   "source": [
    "## Imports"
   ]
  },
  {
   "cell_type": "code",
   "execution_count": 1,
   "metadata": {},
   "outputs": [],
   "source": [
    "%load_ext pycodestyle_magic\n",
    "%flake8_on"
   ]
  },
  {
   "cell_type": "code",
   "execution_count": 2,
   "metadata": {},
   "outputs": [],
   "source": [
    "# numpy and pandas for data manipulation\n",
    "import numpy as np\n",
    "import pandas as pd"
   ]
  },
  {
   "cell_type": "code",
   "execution_count": 46,
   "metadata": {},
   "outputs": [],
   "source": [
    "# File system manangement\n",
    "import os\n",
    "import gc"
   ]
  },
  {
   "cell_type": "code",
   "execution_count": 4,
   "metadata": {},
   "outputs": [],
   "source": [
    "# matplotlib and seaborn for plotting\n",
    "import matplotlib.pyplot as plt\n",
    "import seaborn as sns"
   ]
  },
  {
   "cell_type": "code",
   "execution_count": 110,
   "metadata": {},
   "outputs": [],
   "source": [
    "# prepare data\n",
    "# from sklearn.preprocessing import LabelEncoder\n",
    "from sklearn.preprocessing import MinMaxScaler\n",
    "from sklearn.impute import SimpleImputer\n",
    "from sklearn.model_selection import train_test_split\n",
    "from sklearn.utils import class_weight\n",
    "from imblearn.over_sampling import SMOTE\n",
    "# models and metrics\n",
    "from lightgbm import LGBMClassifier\n",
    "from sklearn.linear_model import LogisticRegression\n",
    "from sklearn.ensemble import RandomForestClassifier\n",
    "from sklearn.naive_bayes import GaussianNB\n",
    "from sklearn.metrics import plot_roc_curve\n",
    "from sklearn.metrics import roc_curve\n",
    "from sklearn.metrics import auc\n",
    "from sklearn.metrics import make_scorer\n",
    "from sklearn.metrics import roc_auc_score\n",
    "from sklearn.metrics import accuracy_score\n",
    "from sklearn.metrics import classification_report\n",
    "# from sklearn.metrics import roc_auc_score (auc(fpr, tpr) from roc_curve)\n",
    "from sklearn.metrics import confusion_matrix\n",
    "from sklearn.metrics import precision_recall_curve\n",
    "from sklearn.metrics import fbeta_score\n",
    "from sklearn.metrics import f1_score\n",
    "from sklearn.model_selection import KFold, StratifiedKFold\n",
    "from sklearn.model_selection import cross_validate\n",
    "from sklearn.model_selection import cross_val_score, cross_val_predict"
   ]
  },
  {
   "cell_type": "code",
   "execution_count": 6,
   "metadata": {},
   "outputs": [],
   "source": [
    "# LightGBMError: Do not support special JSON characters in feature name\n",
    "import re"
   ]
  },
  {
   "cell_type": "code",
   "execution_count": 7,
   "metadata": {},
   "outputs": [],
   "source": [
    "# hyperopt\n",
    "from hyperopt import hp, tpe, fmin, Trials, STATUS_OK, space_eval"
   ]
  },
  {
   "cell_type": "code",
   "execution_count": 8,
   "metadata": {},
   "outputs": [],
   "source": [
    "# timing\n",
    "from timeit import default_timer as timer"
   ]
  },
  {
   "cell_type": "code",
   "execution_count": 9,
   "metadata": {},
   "outputs": [],
   "source": [
    "# persistant search for hyperopt\n",
    "import threading as th\n",
    "import keyboard"
   ]
  },
  {
   "cell_type": "code",
   "execution_count": 10,
   "metadata": {},
   "outputs": [],
   "source": [
    "# pickle\n",
    "import pickle"
   ]
  },
  {
   "cell_type": "code",
   "execution_count": 11,
   "metadata": {},
   "outputs": [
    {
     "name": "stderr",
     "output_type": "stream",
     "text": [
      "2:80: E501 line too long (80 > 79 characters)\n"
     ]
    }
   ],
   "source": [
    "# custom functions\n",
    "from ipynb.fs.full.functions import heatmap, missing_values_table, convert_types\n",
    "from ipynb.fs.full.functions import split_show_results, show_results"
   ]
  },
  {
   "cell_type": "code",
   "execution_count": 12,
   "metadata": {},
   "outputs": [
    {
     "data": {
      "text/plain": [
       "' warning show results to debug in functions (plot_roc_curve issue)'"
      ]
     },
     "execution_count": 12,
     "metadata": {},
     "output_type": "execute_result"
    }
   ],
   "source": [
    "''' warning show results to debug in functions (plot_roc_curve issue)'''"
   ]
  },
  {
   "cell_type": "code",
   "execution_count": 12,
   "metadata": {},
   "outputs": [],
   "source": [
    "# Suppress warnings\n",
    "import warnings\n",
    "warnings.filterwarnings('ignore')"
   ]
  },
  {
   "cell_type": "code",
   "execution_count": 13,
   "metadata": {},
   "outputs": [],
   "source": [
    "# paramètres\n",
    "# to display any columns\n",
    "pd.options.display.max_columns = 1000\n",
    "pd.options.display.max_rows = 1000\n",
    "sns.set(style=\"ticks\")\n",
    "sns.set_style('whitegrid')"
   ]
  },
  {
   "cell_type": "markdown",
   "metadata": {
    "_cell_guid": "a5e67831-4751-4f11-8e07-527e3e092671",
    "_uuid": "ded520f73b9e94ed47ac2e994a5fb1bcb9093d0f"
   },
   "source": [
    "## Read in Data"
   ]
  },
  {
   "cell_type": "code",
   "execution_count": 14,
   "metadata": {
    "_cell_guid": "2cdca894-e637-43a9-8f80-5791c2bb9041",
    "_uuid": "c54e1559611512ebd447ac24f2226c2fffd61dcd",
    "scrolled": true
   },
   "outputs": [
    {
     "name": "stdout",
     "output_type": "stream",
     "text": [
      "['aggregated.csv', 'any_app.pkl', 'application.pkl', 'application_miss.pkl', 'application_test.csv', 'application_train.csv', 'application_trunc.csv', 'backup_full_aggregated.csv', 'backup_opti_aggregated.csv', 'boruta_ranking.csv', 'boruta_ranking.pkl', 'boruta_support.pkl', 'bureau.csv', 'bureau.pkl', 'bureau_balance.csv', 'credit_card_balance.csv', 'desc.pkl', 'Descriptions.xlsx', 'final.csv', 'full_aggregated.csv', 'HomeCredit_columns_description.csv', 'installments_payments.csv', 'opti_aggregated.csv', 'POS_CASH_balance.csv', 'previous.pkl', 'previous_application.csv', 'sample_submission.csv', 'sel_app.pkl', 'target.pkl', '~$Descriptions.xlsx']\n"
     ]
    }
   ],
   "source": [
    "# List files available\n",
    "print(os.listdir('Data/'))"
   ]
  },
  {
   "cell_type": "code",
   "execution_count": 15,
   "metadata": {},
   "outputs": [],
   "source": [
    "# load target (for correlation & Boruta study)\n",
    "with open(\"Data/sel_app.pkl\", mode=\"rb\") as df:\n",
    "    any_application = pickle.load(df)"
   ]
  },
  {
   "cell_type": "code",
   "execution_count": 16,
   "metadata": {},
   "outputs": [
    {
     "name": "stdout",
     "output_type": "stream",
     "text": [
      "(356251, 273)\n"
     ]
    },
    {
     "data": {
      "text/html": [
       "<div>\n",
       "<style scoped>\n",
       "    .dataframe tbody tr th:only-of-type {\n",
       "        vertical-align: middle;\n",
       "    }\n",
       "\n",
       "    .dataframe tbody tr th {\n",
       "        vertical-align: top;\n",
       "    }\n",
       "\n",
       "    .dataframe thead th {\n",
       "        text-align: right;\n",
       "    }\n",
       "</style>\n",
       "<table border=\"1\" class=\"dataframe\">\n",
       "  <thead>\n",
       "    <tr style=\"text-align: right;\">\n",
       "      <th></th>\n",
       "      <th>SK_ID_CURR</th>\n",
       "      <th>TARGET</th>\n",
       "      <th>CODE_GENDER</th>\n",
       "      <th>AMT_INCOME_TOTAL</th>\n",
       "      <th>AMT_CREDIT</th>\n",
       "      <th>AMT_ANNUITY</th>\n",
       "      <th>AMT_GOODS_PRICE</th>\n",
       "      <th>REGION_POPULATION_RELATIVE</th>\n",
       "      <th>DAYS_EMPLOYED</th>\n",
       "      <th>DAYS_REGISTRATION</th>\n",
       "      <th>DAYS_ID_PUBLISH</th>\n",
       "      <th>FLAG_EMP_PHONE</th>\n",
       "      <th>REGION_RATING_CLIENT</th>\n",
       "      <th>REGION_RATING_CLIENT_W_CITY</th>\n",
       "      <th>REG_CITY_NOT_WORK_CITY</th>\n",
       "      <th>APARTMENTS_AVG</th>\n",
       "      <th>BASEMENTAREA_AVG</th>\n",
       "      <th>YEARS_BEGINEXPLUATATION_AVG</th>\n",
       "      <th>ELEVATORS_AVG</th>\n",
       "      <th>ENTRANCES_AVG</th>\n",
       "      <th>FLOORSMAX_AVG</th>\n",
       "      <th>LIVINGAPARTMENTS_AVG</th>\n",
       "      <th>LIVINGAREA_AVG</th>\n",
       "      <th>APARTMENTS_MODE</th>\n",
       "      <th>BASEMENTAREA_MODE</th>\n",
       "      <th>YEARS_BEGINEXPLUATATION_MODE</th>\n",
       "      <th>ELEVATORS_MODE</th>\n",
       "      <th>FLOORSMAX_MODE</th>\n",
       "      <th>LIVINGAREA_MODE</th>\n",
       "      <th>APARTMENTS_MEDI</th>\n",
       "      <th>BASEMENTAREA_MEDI</th>\n",
       "      <th>YEARS_BEGINEXPLUATATION_MEDI</th>\n",
       "      <th>ELEVATORS_MEDI</th>\n",
       "      <th>ENTRANCES_MEDI</th>\n",
       "      <th>FLOORSMAX_MEDI</th>\n",
       "      <th>LIVINGAREA_MEDI</th>\n",
       "      <th>TOTALAREA_MODE</th>\n",
       "      <th>DAYS_LAST_PHONE_CHANGE</th>\n",
       "      <th>FLAG_DOCUMENT_3</th>\n",
       "      <th>N_CNT_PREV_REJECTED_SCOFR</th>\n",
       "      <th>N_FLAG_REJECTED</th>\n",
       "      <th>N_PREV_LAST_REJECTION</th>\n",
       "      <th>N_ADJ_REJECT_INDEX</th>\n",
       "      <th>N_PREV_LAST_APPLICATION</th>\n",
       "      <th>N_REJECT_RATE</th>\n",
       "      <th>N_CNT_BUR_LOANS</th>\n",
       "      <th>N_BUR_LAST_APPLICATION</th>\n",
       "      <th>YEARS_BIRTH</th>\n",
       "      <th>N_DAYS_EMPLOYED_RATIO</th>\n",
       "      <th>N_CREDIT_INCOME_RATIO</th>\n",
       "      <th>N_ANNUITY_INCOME_RATIO</th>\n",
       "      <th>N_CREDIT_TERM</th>\n",
       "      <th>NAME_INCOME_TYPE_Working</th>\n",
       "      <th>NAME_EDUCATION_TYPE_Higher education</th>\n",
       "      <th>NAME_EDUCATION_TYPE_Secondary / secondary special</th>\n",
       "      <th>OCCUPATION_TYPE_Pensioner</th>\n",
       "      <th>BUR_DAYS_CREDIT_MIN</th>\n",
       "      <th>BUR_DAYS_CREDIT_MAX</th>\n",
       "      <th>BUR_DAYS_CREDIT_MEAN</th>\n",
       "      <th>BUR_DAYS_CREDIT_VAR</th>\n",
       "      <th>BUR_DAYS_CREDIT_ENDDATE_MIN</th>\n",
       "      <th>BUR_DAYS_CREDIT_ENDDATE_MAX</th>\n",
       "      <th>BUR_DAYS_CREDIT_ENDDATE_MEAN</th>\n",
       "      <th>BUR_AMT_CREDIT_MAX_OVERDUE_MAX</th>\n",
       "      <th>BUR_AMT_CREDIT_MAX_OVERDUE_MEAN</th>\n",
       "      <th>BUR_AMT_CREDIT_MAX_OVERDUE_SUM</th>\n",
       "      <th>BUR_AMT_CREDIT_SUM_MAX</th>\n",
       "      <th>BUR_AMT_CREDIT_SUM_MEAN</th>\n",
       "      <th>BUR_AMT_CREDIT_SUM_SUM</th>\n",
       "      <th>BUR_AMT_CREDIT_SUM_DEBT_MAX</th>\n",
       "      <th>BUR_AMT_CREDIT_SUM_DEBT_MEAN</th>\n",
       "      <th>BUR_AMT_CREDIT_SUM_DEBT_SUM</th>\n",
       "      <th>BUR_N_BUR_AMT_CREDIT_DEBT_RATE_MAX</th>\n",
       "      <th>BUR_N_BUR_AMT_CREDIT_DEBT_RATE_MEAN</th>\n",
       "      <th>BUR_N_BUR_AMT_CREDIT_DEBT_RATE_SUM</th>\n",
       "      <th>BUR_N_BUR_AMT_CREDIT_DEBT_RATE_VAR</th>\n",
       "      <th>BUR_CREDIT_ACTIVE_Active_MEAN</th>\n",
       "      <th>BUR_CREDIT_ACTIVE_Closed_MEAN</th>\n",
       "      <th>BUR_CREDIT_TYPE_Cash loans_MEAN</th>\n",
       "      <th>ACTIVE_DAYS_CREDIT_MIN</th>\n",
       "      <th>ACTIVE_DAYS_CREDIT_MAX</th>\n",
       "      <th>ACTIVE_DAYS_CREDIT_MEAN</th>\n",
       "      <th>ACTIVE_DAYS_CREDIT_VAR</th>\n",
       "      <th>ACTIVE_DAYS_CREDIT_ENDDATE_MAX</th>\n",
       "      <th>ACTIVE_DAYS_CREDIT_ENDDATE_MEAN</th>\n",
       "      <th>ACTIVE_AMT_CREDIT_MAX_OVERDUE_MAX</th>\n",
       "      <th>ACTIVE_AMT_CREDIT_MAX_OVERDUE_MEAN</th>\n",
       "      <th>ACTIVE_AMT_CREDIT_MAX_OVERDUE_SUM</th>\n",
       "      <th>ACTIVE_AMT_CREDIT_SUM_MAX</th>\n",
       "      <th>ACTIVE_AMT_CREDIT_SUM_MEAN</th>\n",
       "      <th>ACTIVE_AMT_CREDIT_SUM_SUM</th>\n",
       "      <th>ACTIVE_AMT_CREDIT_SUM_DEBT_MAX</th>\n",
       "      <th>ACTIVE_AMT_CREDIT_SUM_DEBT_MEAN</th>\n",
       "      <th>ACTIVE_AMT_CREDIT_SUM_DEBT_SUM</th>\n",
       "      <th>ACTIVE_N_BUR_AMT_CREDIT_DEBT_RATE_MIN</th>\n",
       "      <th>ACTIVE_N_BUR_AMT_CREDIT_DEBT_RATE_MAX</th>\n",
       "      <th>ACTIVE_N_BUR_AMT_CREDIT_DEBT_RATE_MEAN</th>\n",
       "      <th>ACTIVE_N_BUR_AMT_CREDIT_DEBT_RATE_SUM</th>\n",
       "      <th>CLOSED_DAYS_CREDIT_MIN</th>\n",
       "      <th>CLOSED_DAYS_CREDIT_MAX</th>\n",
       "      <th>CLOSED_DAYS_CREDIT_MEAN</th>\n",
       "      <th>CLOSED_DAYS_CREDIT_VAR</th>\n",
       "      <th>CLOSED_DAYS_CREDIT_ENDDATE_MIN</th>\n",
       "      <th>CLOSED_DAYS_CREDIT_ENDDATE_MAX</th>\n",
       "      <th>CLOSED_DAYS_CREDIT_ENDDATE_MEAN</th>\n",
       "      <th>CLOSED_AMT_CREDIT_SUM_MAX</th>\n",
       "      <th>CLOSED_AMT_CREDIT_SUM_MEAN</th>\n",
       "      <th>CLOSED_AMT_CREDIT_SUM_SUM</th>\n",
       "      <th>PREV_AMT_ANNUITY_MIN</th>\n",
       "      <th>PREV_AMT_ANNUITY_MAX</th>\n",
       "      <th>PREV_AMT_ANNUITY_MEAN</th>\n",
       "      <th>PREV_AMT_APPLICATION_MIN</th>\n",
       "      <th>PREV_AMT_APPLICATION_MAX</th>\n",
       "      <th>PREV_AMT_APPLICATION_MEAN</th>\n",
       "      <th>PREV_AMT_CREDIT_MIN</th>\n",
       "      <th>PREV_AMT_CREDIT_MAX</th>\n",
       "      <th>PREV_AMT_CREDIT_MEAN</th>\n",
       "      <th>PREV_N_APP_CREDIT_RATIO_MIN</th>\n",
       "      <th>PREV_N_APP_CREDIT_RATIO_MAX</th>\n",
       "      <th>PREV_N_APP_CREDIT_RATIO_MEAN</th>\n",
       "      <th>PREV_N_ADJ_CREDIT_RATIO_MIN</th>\n",
       "      <th>PREV_N_ADJ_CREDIT_RATIO_MAX</th>\n",
       "      <th>PREV_N_ADJ_CREDIT_RATIO_MEAN</th>\n",
       "      <th>PREV_N_ADJ_INTEREST_EVAL_MIN</th>\n",
       "      <th>PREV_N_ADJ_INTEREST_EVAL_MAX</th>\n",
       "      <th>PREV_N_ADJ_INTEREST_EVAL_MEAN</th>\n",
       "      <th>PREV_AMT_DOWN_PAYMENT_MAX</th>\n",
       "      <th>PREV_AMT_DOWN_PAYMENT_MEAN</th>\n",
       "      <th>PREV_AMT_GOODS_PRICE_MIN</th>\n",
       "      <th>PREV_AMT_GOODS_PRICE_MAX</th>\n",
       "      <th>PREV_AMT_GOODS_PRICE_MEAN</th>\n",
       "      <th>PREV_DAYS_DECISION_MIN</th>\n",
       "      <th>PREV_DAYS_DECISION_MAX</th>\n",
       "      <th>PREV_DAYS_DECISION_MEAN</th>\n",
       "      <th>PREV_CNT_PAYMENT_MEAN</th>\n",
       "      <th>PREV_CNT_PAYMENT_VAR</th>\n",
       "      <th>PREV_NC_LOAN_TERM_SUM</th>\n",
       "      <th>PREV_NC_LOAN_TERM_VAR</th>\n",
       "      <th>PREV_NC_LOAN_AGE_MAX</th>\n",
       "      <th>PREV_NC_LOAN_AGE_MEAN</th>\n",
       "      <th>PREV_NC_LOAN_AGE_SUM</th>\n",
       "      <th>PREV_NC_LOAN_AGE_VAR</th>\n",
       "      <th>PREV_NAME_CONTRACT_STATUS_Approved_MEAN</th>\n",
       "      <th>PREV_NAME_CONTRACT_STATUS_Refused_MEAN</th>\n",
       "      <th>PREV_CODE_REJECT_REASON_REJECTED_HC_MEAN</th>\n",
       "      <th>PREV_CODE_REJECT_REASON_REJECTED_SCOFR_MEAN</th>\n",
       "      <th>PREV_CODE_REJECT_REASON_REJECTED_XAP_MEAN</th>\n",
       "      <th>PREV_NAME_CLIENT_TYPE_New_MEAN</th>\n",
       "      <th>PREV_NAME_PRODUCT_TYPE_walk-in_MEAN</th>\n",
       "      <th>PREV_NAME_SELLER_INDUSTRY_Connectivity_MEAN</th>\n",
       "      <th>PREV_NAME_YIELD_GROUP_XNA_MEAN</th>\n",
       "      <th>PREV_NAME_YIELD_GROUP_high_MEAN</th>\n",
       "      <th>PREV_NAME_YIELD_GROUP_low_action_MEAN</th>\n",
       "      <th>PREV_NAME_YIELD_GROUP_low_normal_MEAN</th>\n",
       "      <th>PREV_PRODUCT_COMBINATION_Cash X-Sell: low_MEAN</th>\n",
       "      <th>PREV_N_CONTRACT_STATUS_APPROVED_MEAN</th>\n",
       "      <th>PREV_N_CONTRACT_STATUS_REJECTED_HC_MEAN</th>\n",
       "      <th>PREV_N_CONTRACT_STATUS_REJECTED_SCOFR_MEAN</th>\n",
       "      <th>APPROVED_AMT_ANNUITY_MIN</th>\n",
       "      <th>APPROVED_AMT_ANNUITY_MAX</th>\n",
       "      <th>APPROVED_AMT_ANNUITY_MEAN</th>\n",
       "      <th>APPROVED_AMT_APPLICATION_MIN</th>\n",
       "      <th>APPROVED_AMT_APPLICATION_MAX</th>\n",
       "      <th>APPROVED_AMT_APPLICATION_MEAN</th>\n",
       "      <th>APPROVED_AMT_CREDIT_MIN</th>\n",
       "      <th>APPROVED_AMT_CREDIT_MAX</th>\n",
       "      <th>APPROVED_AMT_CREDIT_MEAN</th>\n",
       "      <th>APPROVED_N_APP_CREDIT_RATIO_MAX</th>\n",
       "      <th>APPROVED_N_APP_CREDIT_RATIO_MEAN</th>\n",
       "      <th>APPROVED_N_ADJ_CREDIT_RATIO_MIN</th>\n",
       "      <th>APPROVED_N_ADJ_CREDIT_RATIO_MAX</th>\n",
       "      <th>APPROVED_N_ADJ_CREDIT_RATIO_MEAN</th>\n",
       "      <th>APPROVED_N_ADJ_INTEREST_EVAL_MIN</th>\n",
       "      <th>APPROVED_N_ADJ_INTEREST_EVAL_MAX</th>\n",
       "      <th>APPROVED_N_ADJ_INTEREST_EVAL_MEAN</th>\n",
       "      <th>APPROVED_AMT_DOWN_PAYMENT_MAX</th>\n",
       "      <th>APPROVED_AMT_DOWN_PAYMENT_MEAN</th>\n",
       "      <th>APPROVED_AMT_GOODS_PRICE_MIN</th>\n",
       "      <th>APPROVED_AMT_GOODS_PRICE_MAX</th>\n",
       "      <th>APPROVED_AMT_GOODS_PRICE_MEAN</th>\n",
       "      <th>APPROVED_DAYS_DECISION_MIN</th>\n",
       "      <th>APPROVED_DAYS_DECISION_MEAN</th>\n",
       "      <th>APPROVED_NC_LOAN_TERM_SUM</th>\n",
       "      <th>APPROVED_NC_LOAN_TERM_VAR</th>\n",
       "      <th>APPROVED_NC_LOAN_AGE_MAX</th>\n",
       "      <th>APPROVED_NC_LOAN_AGE_MEAN</th>\n",
       "      <th>APPROVED_NC_LOAN_AGE_SUM</th>\n",
       "      <th>APPROVED_NC_LOAN_AGE_VAR</th>\n",
       "      <th>REFUSED_AMT_ANNUITY_MIN</th>\n",
       "      <th>REFUSED_AMT_ANNUITY_MAX</th>\n",
       "      <th>REFUSED_AMT_ANNUITY_MEAN</th>\n",
       "      <th>REFUSED_AMT_APPLICATION_MIN</th>\n",
       "      <th>REFUSED_AMT_APPLICATION_MAX</th>\n",
       "      <th>REFUSED_AMT_APPLICATION_MEAN</th>\n",
       "      <th>REFUSED_AMT_CREDIT_MIN</th>\n",
       "      <th>REFUSED_AMT_CREDIT_MAX</th>\n",
       "      <th>REFUSED_AMT_CREDIT_MEAN</th>\n",
       "      <th>REFUSED_N_APP_CREDIT_RATIO_MIN</th>\n",
       "      <th>REFUSED_N_APP_CREDIT_RATIO_MAX</th>\n",
       "      <th>REFUSED_N_APP_CREDIT_RATIO_MEAN</th>\n",
       "      <th>REFUSED_N_ADJ_CREDIT_RATIO_MIN</th>\n",
       "      <th>REFUSED_N_ADJ_CREDIT_RATIO_MEAN</th>\n",
       "      <th>REFUSED_N_ADJ_INTEREST_EVAL_MAX</th>\n",
       "      <th>REFUSED_N_ADJ_INTEREST_EVAL_MEAN</th>\n",
       "      <th>REFUSED_AMT_GOODS_PRICE_MIN</th>\n",
       "      <th>REFUSED_AMT_GOODS_PRICE_MAX</th>\n",
       "      <th>REFUSED_AMT_GOODS_PRICE_MEAN</th>\n",
       "      <th>REFUSED_DAYS_DECISION_MIN</th>\n",
       "      <th>REFUSED_DAYS_DECISION_MAX</th>\n",
       "      <th>REFUSED_DAYS_DECISION_MEAN</th>\n",
       "      <th>REFUSED_CNT_PAYMENT_MEAN</th>\n",
       "      <th>REFUSED_CNT_PAYMENT_SUM</th>\n",
       "      <th>REFUSED_CNT_PAYMENT_VAR</th>\n",
       "      <th>INSAGG_INS_N_PREV_CNT_PROLONG_SUM</th>\n",
       "      <th>INSAGG_INS_N_PREV_INS_AMT_MAX_OVERDUE_MIN</th>\n",
       "      <th>INSAGG_INS_N_PREV_INS_AMT_MAX_OVERDUE_MAX</th>\n",
       "      <th>INSAGG_INS_N_PREV_INS_AMT_MAX_OVERDUE_MEAN</th>\n",
       "      <th>INSAGG_INS_N_PREV_INS_AMT_MAX_OVERDUE_SUM</th>\n",
       "      <th>INSAGG_INS_N_PREV_CNT_TOT_INSTALMENT_SUM</th>\n",
       "      <th>INSAGG_INS_N_PREV_CNT_TOT_INSTALMENT_VAR</th>\n",
       "      <th>INSAGG_INS_N_PREV_LAST_DAYS_INSTALMENT_MIN</th>\n",
       "      <th>INSAGG_INS_N_PREV_LAST_DAYS_INSTALMENT_MAX</th>\n",
       "      <th>INSAGG_INS_N_PREV_LAST_DAYS_INSTALMENT_MEAN</th>\n",
       "      <th>INSAGG_INS_N_PREV_LAST_DAYS_INSTALMENT_SUM</th>\n",
       "      <th>INSAGG_INS_N_PREV_LAST_DAYS_INSTALMENT_VAR</th>\n",
       "      <th>INSAGG_INS_N_PREV_EARLINESS_OVERDUE_RATIO_MIN</th>\n",
       "      <th>INSAGG_INS_N_PREV_EARLINESS_OVERDUE_RATIO_MAX</th>\n",
       "      <th>INSAGG_INS_N_PREV_EARLINESS_OVERDUE_RATIO_MEAN</th>\n",
       "      <th>INSAGG_INS_N_PREV_EARLINESS_OVERDUE_RATIO_SUM</th>\n",
       "      <th>INSAGG_INS_N_PREV_LOAN_AGE_MIN</th>\n",
       "      <th>INSAGG_INS_N_PREV_LOAN_AGE_MAX</th>\n",
       "      <th>INSAGG_INS_N_PREV_LOAN_AGE_MEAN</th>\n",
       "      <th>INSAGG_INS_N_PREV_LOAN_AGE_SUM</th>\n",
       "      <th>INSAGG_INS_N_PREV_LOAN_AGE_VAR</th>\n",
       "      <th>INS_DAYS_INSTALMENT_MEAN</th>\n",
       "      <th>INS_N_INS_DPD_MAX</th>\n",
       "      <th>INS_N_INS_DPD_MEAN</th>\n",
       "      <th>INS_N_INS_DPD_SUM</th>\n",
       "      <th>INS_N_INS_DBD_MEAN</th>\n",
       "      <th>INS_N_INS_AMT_OVERDUE_MEAN</th>\n",
       "      <th>INS_N_AMT_OVERDUE_RATIO_MAX</th>\n",
       "      <th>INS_N_AMT_OVERDUE_RATIO_MEAN</th>\n",
       "      <th>INS_AMT_INSTALMENT_MAX</th>\n",
       "      <th>INS_AMT_INSTALMENT_MEAN</th>\n",
       "      <th>INS_AMT_INSTALMENT_SUM</th>\n",
       "      <th>INS_N_STATUS_0_SUM</th>\n",
       "      <th>INS_N_INSTAL_COUNT</th>\n",
       "      <th>INS_N_FAULT_RATE</th>\n",
       "      <th>INS_N_FAULT_GRAVITY</th>\n",
       "      <th>INS_N_FAULT_ADJ_RATE</th>\n",
       "      <th>POS_MONTHS_BALANCE_MAX</th>\n",
       "      <th>POS_MONTHS_BALANCE_MEAN</th>\n",
       "      <th>POS_SK_DPD_DEF_MEAN</th>\n",
       "      <th>POS_N_POS_COUNT</th>\n",
       "      <th>CC_AMT_BALANCE_MEAN</th>\n",
       "      <th>CC_AMT_DRAWINGS_ATM_CURRENT_MEAN</th>\n",
       "      <th>CC_AMT_DRAWINGS_ATM_CURRENT_VAR</th>\n",
       "      <th>CC_AMT_DRAWINGS_CURRENT_MEAN</th>\n",
       "      <th>CC_AMT_DRAWINGS_CURRENT_VAR</th>\n",
       "      <th>CC_AMT_INST_MIN_REGULARITY_MEAN</th>\n",
       "      <th>CC_AMT_RECEIVABLE_PRINCIPAL_MEAN</th>\n",
       "      <th>CC_AMT_RECIVABLE_MEAN</th>\n",
       "      <th>CC_AMT_TOTAL_RECEIVABLE_MEAN</th>\n",
       "      <th>CC_CNT_DRAWINGS_ATM_CURRENT_MEAN</th>\n",
       "      <th>CC_CNT_DRAWINGS_ATM_CURRENT_VAR</th>\n",
       "      <th>CC_CNT_DRAWINGS_CURRENT_MAX</th>\n",
       "      <th>CC_CNT_DRAWINGS_CURRENT_MEAN</th>\n",
       "      <th>CC_CNT_DRAWINGS_CURRENT_SUM</th>\n",
       "      <th>CC_CNT_DRAWINGS_CURRENT_VAR</th>\n",
       "      <th>CC_CNT_DRAWINGS_POS_CURRENT_MEAN</th>\n",
       "      <th>CC_CNT_DRAWINGS_POS_CURRENT_VAR</th>\n",
       "      <th>N_CC_USE_LATE_MONTH_6</th>\n",
       "      <th>N_CC_USE_LATE_MONTH_2</th>\n",
       "    </tr>\n",
       "  </thead>\n",
       "  <tbody>\n",
       "    <tr>\n",
       "      <th>0</th>\n",
       "      <td>100002</td>\n",
       "      <td>1.0</td>\n",
       "      <td>1</td>\n",
       "      <td>202500.0</td>\n",
       "      <td>406597.5</td>\n",
       "      <td>24700.5</td>\n",
       "      <td>351000.0</td>\n",
       "      <td>0.018801</td>\n",
       "      <td>-637.0</td>\n",
       "      <td>-3648.0</td>\n",
       "      <td>-2120</td>\n",
       "      <td>1</td>\n",
       "      <td>2</td>\n",
       "      <td>2</td>\n",
       "      <td>0</td>\n",
       "      <td>0.0247</td>\n",
       "      <td>0.0369</td>\n",
       "      <td>0.9722</td>\n",
       "      <td>0.0</td>\n",
       "      <td>0.069</td>\n",
       "      <td>0.0833</td>\n",
       "      <td>0.0202</td>\n",
       "      <td>0.019</td>\n",
       "      <td>0.0252</td>\n",
       "      <td>0.0383</td>\n",
       "      <td>0.9722</td>\n",
       "      <td>0.0</td>\n",
       "      <td>0.0833</td>\n",
       "      <td>0.0198</td>\n",
       "      <td>0.025</td>\n",
       "      <td>0.0369</td>\n",
       "      <td>0.9722</td>\n",
       "      <td>0.0</td>\n",
       "      <td>0.069</td>\n",
       "      <td>0.0833</td>\n",
       "      <td>0.0193</td>\n",
       "      <td>0.0149</td>\n",
       "      <td>-1134.0</td>\n",
       "      <td>1</td>\n",
       "      <td>0.0</td>\n",
       "      <td>0.0</td>\n",
       "      <td>-606.0</td>\n",
       "      <td>0.0</td>\n",
       "      <td>-606.0</td>\n",
       "      <td>0.0</td>\n",
       "      <td>8.0</td>\n",
       "      <td>-103.0</td>\n",
       "      <td>25.920548</td>\n",
       "      <td>0.067329</td>\n",
       "      <td>2.007889</td>\n",
       "      <td>0.121978</td>\n",
       "      <td>0.060749</td>\n",
       "      <td>1</td>\n",
       "      <td>0</td>\n",
       "      <td>1</td>\n",
       "      <td>0</td>\n",
       "      <td>-1437.0</td>\n",
       "      <td>-103.0</td>\n",
       "      <td>-874.0</td>\n",
       "      <td>186150.0</td>\n",
       "      <td>-1072.0</td>\n",
       "      <td>780.0</td>\n",
       "      <td>-349.0</td>\n",
       "      <td>5043.645</td>\n",
       "      <td>1681.029</td>\n",
       "      <td>8405.145</td>\n",
       "      <td>450000.0</td>\n",
       "      <td>108131.945625</td>\n",
       "      <td>865055.565</td>\n",
       "      <td>245781.0</td>\n",
       "      <td>49156.2</td>\n",
       "      <td>245781.0</td>\n",
       "      <td>0.546179</td>\n",
       "      <td>0.109236</td>\n",
       "      <td>0.546179</td>\n",
       "      <td>0.059662</td>\n",
       "      <td>0.25</td>\n",
       "      <td>0.75</td>\n",
       "      <td>0.5</td>\n",
       "      <td>-1042.0</td>\n",
       "      <td>-103.0</td>\n",
       "      <td>-572.5</td>\n",
       "      <td>440860.5</td>\n",
       "      <td>780.0</td>\n",
       "      <td>780.0</td>\n",
       "      <td>40.5</td>\n",
       "      <td>40.5</td>\n",
       "      <td>40.5</td>\n",
       "      <td>450000.0</td>\n",
       "      <td>240994.2825</td>\n",
       "      <td>481988.565</td>\n",
       "      <td>245781.0</td>\n",
       "      <td>122890.5</td>\n",
       "      <td>245781.0</td>\n",
       "      <td>0.0</td>\n",
       "      <td>0.546179</td>\n",
       "      <td>0.273089</td>\n",
       "      <td>0.546179</td>\n",
       "      <td>-1437.0</td>\n",
       "      <td>-476.0</td>\n",
       "      <td>-974.5</td>\n",
       "      <td>123956.7</td>\n",
       "      <td>-1072.0</td>\n",
       "      <td>85.0</td>\n",
       "      <td>-574.8</td>\n",
       "      <td>135000.0</td>\n",
       "      <td>63844.5</td>\n",
       "      <td>383067.0</td>\n",
       "      <td>9251.775</td>\n",
       "      <td>9251.775</td>\n",
       "      <td>9251.775</td>\n",
       "      <td>179055.0</td>\n",
       "      <td>179055.0</td>\n",
       "      <td>179055.0</td>\n",
       "      <td>179055.0</td>\n",
       "      <td>179055.0</td>\n",
       "      <td>179055.0</td>\n",
       "      <td>1.0</td>\n",
       "      <td>1.0</td>\n",
       "      <td>1.0</td>\n",
       "      <td>0.0</td>\n",
       "      <td>0.0</td>\n",
       "      <td>0.0</td>\n",
       "      <td>0.0</td>\n",
       "      <td>0.0</td>\n",
       "      <td>0.0</td>\n",
       "      <td>0.0</td>\n",
       "      <td>0.0</td>\n",
       "      <td>179055.0</td>\n",
       "      <td>179055.0</td>\n",
       "      <td>179055.0</td>\n",
       "      <td>-606.0</td>\n",
       "      <td>-606.0</td>\n",
       "      <td>-606.0</td>\n",
       "      <td>24.0</td>\n",
       "      <td>NaN</td>\n",
       "      <td>19.0</td>\n",
       "      <td>NaN</td>\n",
       "      <td>1.583333</td>\n",
       "      <td>1.583333</td>\n",
       "      <td>1.583333</td>\n",
       "      <td>NaN</td>\n",
       "      <td>1.0</td>\n",
       "      <td>0.0</td>\n",
       "      <td>0.0</td>\n",
       "      <td>0.0</td>\n",
       "      <td>1.0</td>\n",
       "      <td>1.0</td>\n",
       "      <td>0.0</td>\n",
       "      <td>0.0</td>\n",
       "      <td>0.0</td>\n",
       "      <td>0.0</td>\n",
       "      <td>0.0</td>\n",
       "      <td>1.0</td>\n",
       "      <td>0.0</td>\n",
       "      <td>1.0</td>\n",
       "      <td>0.0</td>\n",
       "      <td>0.0</td>\n",
       "      <td>9251.775</td>\n",
       "      <td>9251.775</td>\n",
       "      <td>9251.775</td>\n",
       "      <td>179055.0</td>\n",
       "      <td>179055.0</td>\n",
       "      <td>179055.0</td>\n",
       "      <td>179055.0</td>\n",
       "      <td>179055.0</td>\n",
       "      <td>179055.0</td>\n",
       "      <td>1.0</td>\n",
       "      <td>1.0</td>\n",
       "      <td>0.0</td>\n",
       "      <td>0.0</td>\n",
       "      <td>0.0</td>\n",
       "      <td>0.0</td>\n",
       "      <td>0.0</td>\n",
       "      <td>0.0</td>\n",
       "      <td>0.0</td>\n",
       "      <td>0.0</td>\n",
       "      <td>179055.0</td>\n",
       "      <td>179055.0</td>\n",
       "      <td>179055.0</td>\n",
       "      <td>-606.0</td>\n",
       "      <td>-606.0</td>\n",
       "      <td>19.0</td>\n",
       "      <td>NaN</td>\n",
       "      <td>1.583333</td>\n",
       "      <td>1.583333</td>\n",
       "      <td>1.583333</td>\n",
       "      <td>NaN</td>\n",
       "      <td>NaN</td>\n",
       "      <td>NaN</td>\n",
       "      <td>NaN</td>\n",
       "      <td>NaN</td>\n",
       "      <td>NaN</td>\n",
       "      <td>NaN</td>\n",
       "      <td>NaN</td>\n",
       "      <td>NaN</td>\n",
       "      <td>NaN</td>\n",
       "      <td>NaN</td>\n",
       "      <td>NaN</td>\n",
       "      <td>NaN</td>\n",
       "      <td>NaN</td>\n",
       "      <td>NaN</td>\n",
       "      <td>NaN</td>\n",
       "      <td>NaN</td>\n",
       "      <td>NaN</td>\n",
       "      <td>NaN</td>\n",
       "      <td>NaN</td>\n",
       "      <td>NaN</td>\n",
       "      <td>NaN</td>\n",
       "      <td>NaN</td>\n",
       "      <td>NaN</td>\n",
       "      <td>NaN</td>\n",
       "      <td>NaN</td>\n",
       "      <td>38.0</td>\n",
       "      <td>0.0</td>\n",
       "      <td>0.0</td>\n",
       "      <td>0.0</td>\n",
       "      <td>0.0</td>\n",
       "      <td>361.0</td>\n",
       "      <td>0.0</td>\n",
       "      <td>-25.0</td>\n",
       "      <td>-25.0</td>\n",
       "      <td>-25.0</td>\n",
       "      <td>-475.0</td>\n",
       "      <td>0.0</td>\n",
       "      <td>0.0</td>\n",
       "      <td>0.0</td>\n",
       "      <td>0.0</td>\n",
       "      <td>0.0</td>\n",
       "      <td>0.068493</td>\n",
       "      <td>0.068493</td>\n",
       "      <td>0.068493</td>\n",
       "      <td>1.30137</td>\n",
       "      <td>0.0</td>\n",
       "      <td>-295.0</td>\n",
       "      <td>0.0</td>\n",
       "      <td>0.0</td>\n",
       "      <td>0.0</td>\n",
       "      <td>20.421053</td>\n",
       "      <td>0.0</td>\n",
       "      <td>0.0</td>\n",
       "      <td>0.0</td>\n",
       "      <td>53093.745</td>\n",
       "      <td>11559.247105</td>\n",
       "      <td>219625.695</td>\n",
       "      <td>19.0</td>\n",
       "      <td>19.0</td>\n",
       "      <td>0.0</td>\n",
       "      <td>0.0</td>\n",
       "      <td>0.0</td>\n",
       "      <td>-1.0</td>\n",
       "      <td>-10.0</td>\n",
       "      <td>0.0</td>\n",
       "      <td>19.0</td>\n",
       "      <td>NaN</td>\n",
       "      <td>NaN</td>\n",
       "      <td>NaN</td>\n",
       "      <td>NaN</td>\n",
       "      <td>NaN</td>\n",
       "      <td>NaN</td>\n",
       "      <td>NaN</td>\n",
       "      <td>NaN</td>\n",
       "      <td>NaN</td>\n",
       "      <td>NaN</td>\n",
       "      <td>NaN</td>\n",
       "      <td>NaN</td>\n",
       "      <td>NaN</td>\n",
       "      <td>NaN</td>\n",
       "      <td>NaN</td>\n",
       "      <td>NaN</td>\n",
       "      <td>NaN</td>\n",
       "      <td>NaN</td>\n",
       "      <td>NaN</td>\n",
       "    </tr>\n",
       "  </tbody>\n",
       "</table>\n",
       "</div>"
      ],
      "text/plain": [
       "   SK_ID_CURR  TARGET  CODE_GENDER  AMT_INCOME_TOTAL  AMT_CREDIT  AMT_ANNUITY  \\\n",
       "0      100002     1.0            1          202500.0    406597.5      24700.5   \n",
       "\n",
       "   AMT_GOODS_PRICE  REGION_POPULATION_RELATIVE  DAYS_EMPLOYED  \\\n",
       "0         351000.0                    0.018801         -637.0   \n",
       "\n",
       "   DAYS_REGISTRATION  DAYS_ID_PUBLISH  FLAG_EMP_PHONE  REGION_RATING_CLIENT  \\\n",
       "0            -3648.0            -2120               1                     2   \n",
       "\n",
       "   REGION_RATING_CLIENT_W_CITY  REG_CITY_NOT_WORK_CITY  APARTMENTS_AVG  \\\n",
       "0                            2                       0          0.0247   \n",
       "\n",
       "   BASEMENTAREA_AVG  YEARS_BEGINEXPLUATATION_AVG  ELEVATORS_AVG  \\\n",
       "0            0.0369                       0.9722            0.0   \n",
       "\n",
       "   ENTRANCES_AVG  FLOORSMAX_AVG  LIVINGAPARTMENTS_AVG  LIVINGAREA_AVG  \\\n",
       "0          0.069         0.0833                0.0202           0.019   \n",
       "\n",
       "   APARTMENTS_MODE  BASEMENTAREA_MODE  YEARS_BEGINEXPLUATATION_MODE  \\\n",
       "0           0.0252             0.0383                        0.9722   \n",
       "\n",
       "   ELEVATORS_MODE  FLOORSMAX_MODE  LIVINGAREA_MODE  APARTMENTS_MEDI  \\\n",
       "0             0.0          0.0833           0.0198            0.025   \n",
       "\n",
       "   BASEMENTAREA_MEDI  YEARS_BEGINEXPLUATATION_MEDI  ELEVATORS_MEDI  \\\n",
       "0             0.0369                        0.9722             0.0   \n",
       "\n",
       "   ENTRANCES_MEDI  FLOORSMAX_MEDI  LIVINGAREA_MEDI  TOTALAREA_MODE  \\\n",
       "0           0.069          0.0833           0.0193          0.0149   \n",
       "\n",
       "   DAYS_LAST_PHONE_CHANGE  FLAG_DOCUMENT_3  N_CNT_PREV_REJECTED_SCOFR  \\\n",
       "0                 -1134.0                1                        0.0   \n",
       "\n",
       "   N_FLAG_REJECTED  N_PREV_LAST_REJECTION  N_ADJ_REJECT_INDEX  \\\n",
       "0              0.0                 -606.0                 0.0   \n",
       "\n",
       "   N_PREV_LAST_APPLICATION  N_REJECT_RATE  N_CNT_BUR_LOANS  \\\n",
       "0                   -606.0            0.0              8.0   \n",
       "\n",
       "   N_BUR_LAST_APPLICATION  YEARS_BIRTH  N_DAYS_EMPLOYED_RATIO  \\\n",
       "0                  -103.0    25.920548               0.067329   \n",
       "\n",
       "   N_CREDIT_INCOME_RATIO  N_ANNUITY_INCOME_RATIO  N_CREDIT_TERM  \\\n",
       "0               2.007889                0.121978       0.060749   \n",
       "\n",
       "   NAME_INCOME_TYPE_Working  NAME_EDUCATION_TYPE_Higher education  \\\n",
       "0                         1                                     0   \n",
       "\n",
       "   NAME_EDUCATION_TYPE_Secondary / secondary special  \\\n",
       "0                                                  1   \n",
       "\n",
       "   OCCUPATION_TYPE_Pensioner  BUR_DAYS_CREDIT_MIN  BUR_DAYS_CREDIT_MAX  \\\n",
       "0                          0              -1437.0               -103.0   \n",
       "\n",
       "   BUR_DAYS_CREDIT_MEAN  BUR_DAYS_CREDIT_VAR  BUR_DAYS_CREDIT_ENDDATE_MIN  \\\n",
       "0                -874.0             186150.0                      -1072.0   \n",
       "\n",
       "   BUR_DAYS_CREDIT_ENDDATE_MAX  BUR_DAYS_CREDIT_ENDDATE_MEAN  \\\n",
       "0                        780.0                        -349.0   \n",
       "\n",
       "   BUR_AMT_CREDIT_MAX_OVERDUE_MAX  BUR_AMT_CREDIT_MAX_OVERDUE_MEAN  \\\n",
       "0                        5043.645                         1681.029   \n",
       "\n",
       "   BUR_AMT_CREDIT_MAX_OVERDUE_SUM  BUR_AMT_CREDIT_SUM_MAX  \\\n",
       "0                        8405.145                450000.0   \n",
       "\n",
       "   BUR_AMT_CREDIT_SUM_MEAN  BUR_AMT_CREDIT_SUM_SUM  \\\n",
       "0            108131.945625              865055.565   \n",
       "\n",
       "   BUR_AMT_CREDIT_SUM_DEBT_MAX  BUR_AMT_CREDIT_SUM_DEBT_MEAN  \\\n",
       "0                     245781.0                       49156.2   \n",
       "\n",
       "   BUR_AMT_CREDIT_SUM_DEBT_SUM  BUR_N_BUR_AMT_CREDIT_DEBT_RATE_MAX  \\\n",
       "0                     245781.0                            0.546179   \n",
       "\n",
       "   BUR_N_BUR_AMT_CREDIT_DEBT_RATE_MEAN  BUR_N_BUR_AMT_CREDIT_DEBT_RATE_SUM  \\\n",
       "0                             0.109236                            0.546179   \n",
       "\n",
       "   BUR_N_BUR_AMT_CREDIT_DEBT_RATE_VAR  BUR_CREDIT_ACTIVE_Active_MEAN  \\\n",
       "0                            0.059662                           0.25   \n",
       "\n",
       "   BUR_CREDIT_ACTIVE_Closed_MEAN  BUR_CREDIT_TYPE_Cash loans_MEAN  \\\n",
       "0                           0.75                              0.5   \n",
       "\n",
       "   ACTIVE_DAYS_CREDIT_MIN  ACTIVE_DAYS_CREDIT_MAX  ACTIVE_DAYS_CREDIT_MEAN  \\\n",
       "0                 -1042.0                  -103.0                   -572.5   \n",
       "\n",
       "   ACTIVE_DAYS_CREDIT_VAR  ACTIVE_DAYS_CREDIT_ENDDATE_MAX  \\\n",
       "0                440860.5                           780.0   \n",
       "\n",
       "   ACTIVE_DAYS_CREDIT_ENDDATE_MEAN  ACTIVE_AMT_CREDIT_MAX_OVERDUE_MAX  \\\n",
       "0                            780.0                               40.5   \n",
       "\n",
       "   ACTIVE_AMT_CREDIT_MAX_OVERDUE_MEAN  ACTIVE_AMT_CREDIT_MAX_OVERDUE_SUM  \\\n",
       "0                                40.5                               40.5   \n",
       "\n",
       "   ACTIVE_AMT_CREDIT_SUM_MAX  ACTIVE_AMT_CREDIT_SUM_MEAN  \\\n",
       "0                   450000.0                 240994.2825   \n",
       "\n",
       "   ACTIVE_AMT_CREDIT_SUM_SUM  ACTIVE_AMT_CREDIT_SUM_DEBT_MAX  \\\n",
       "0                 481988.565                        245781.0   \n",
       "\n",
       "   ACTIVE_AMT_CREDIT_SUM_DEBT_MEAN  ACTIVE_AMT_CREDIT_SUM_DEBT_SUM  \\\n",
       "0                         122890.5                        245781.0   \n",
       "\n",
       "   ACTIVE_N_BUR_AMT_CREDIT_DEBT_RATE_MIN  \\\n",
       "0                                    0.0   \n",
       "\n",
       "   ACTIVE_N_BUR_AMT_CREDIT_DEBT_RATE_MAX  \\\n",
       "0                               0.546179   \n",
       "\n",
       "   ACTIVE_N_BUR_AMT_CREDIT_DEBT_RATE_MEAN  \\\n",
       "0                                0.273089   \n",
       "\n",
       "   ACTIVE_N_BUR_AMT_CREDIT_DEBT_RATE_SUM  CLOSED_DAYS_CREDIT_MIN  \\\n",
       "0                               0.546179                 -1437.0   \n",
       "\n",
       "   CLOSED_DAYS_CREDIT_MAX  CLOSED_DAYS_CREDIT_MEAN  CLOSED_DAYS_CREDIT_VAR  \\\n",
       "0                  -476.0                   -974.5                123956.7   \n",
       "\n",
       "   CLOSED_DAYS_CREDIT_ENDDATE_MIN  CLOSED_DAYS_CREDIT_ENDDATE_MAX  \\\n",
       "0                         -1072.0                            85.0   \n",
       "\n",
       "   CLOSED_DAYS_CREDIT_ENDDATE_MEAN  CLOSED_AMT_CREDIT_SUM_MAX  \\\n",
       "0                           -574.8                   135000.0   \n",
       "\n",
       "   CLOSED_AMT_CREDIT_SUM_MEAN  CLOSED_AMT_CREDIT_SUM_SUM  \\\n",
       "0                     63844.5                   383067.0   \n",
       "\n",
       "   PREV_AMT_ANNUITY_MIN  PREV_AMT_ANNUITY_MAX  PREV_AMT_ANNUITY_MEAN  \\\n",
       "0              9251.775              9251.775               9251.775   \n",
       "\n",
       "   PREV_AMT_APPLICATION_MIN  PREV_AMT_APPLICATION_MAX  \\\n",
       "0                  179055.0                  179055.0   \n",
       "\n",
       "   PREV_AMT_APPLICATION_MEAN  PREV_AMT_CREDIT_MIN  PREV_AMT_CREDIT_MAX  \\\n",
       "0                   179055.0             179055.0             179055.0   \n",
       "\n",
       "   PREV_AMT_CREDIT_MEAN  PREV_N_APP_CREDIT_RATIO_MIN  \\\n",
       "0              179055.0                          1.0   \n",
       "\n",
       "   PREV_N_APP_CREDIT_RATIO_MAX  PREV_N_APP_CREDIT_RATIO_MEAN  \\\n",
       "0                          1.0                           1.0   \n",
       "\n",
       "   PREV_N_ADJ_CREDIT_RATIO_MIN  PREV_N_ADJ_CREDIT_RATIO_MAX  \\\n",
       "0                          0.0                          0.0   \n",
       "\n",
       "   PREV_N_ADJ_CREDIT_RATIO_MEAN  PREV_N_ADJ_INTEREST_EVAL_MIN  \\\n",
       "0                           0.0                           0.0   \n",
       "\n",
       "   PREV_N_ADJ_INTEREST_EVAL_MAX  PREV_N_ADJ_INTEREST_EVAL_MEAN  \\\n",
       "0                           0.0                            0.0   \n",
       "\n",
       "   PREV_AMT_DOWN_PAYMENT_MAX  PREV_AMT_DOWN_PAYMENT_MEAN  \\\n",
       "0                        0.0                         0.0   \n",
       "\n",
       "   PREV_AMT_GOODS_PRICE_MIN  PREV_AMT_GOODS_PRICE_MAX  \\\n",
       "0                  179055.0                  179055.0   \n",
       "\n",
       "   PREV_AMT_GOODS_PRICE_MEAN  PREV_DAYS_DECISION_MIN  PREV_DAYS_DECISION_MAX  \\\n",
       "0                   179055.0                  -606.0                  -606.0   \n",
       "\n",
       "   PREV_DAYS_DECISION_MEAN  PREV_CNT_PAYMENT_MEAN  PREV_CNT_PAYMENT_VAR  \\\n",
       "0                   -606.0                   24.0                   NaN   \n",
       "\n",
       "   PREV_NC_LOAN_TERM_SUM  PREV_NC_LOAN_TERM_VAR  PREV_NC_LOAN_AGE_MAX  \\\n",
       "0                   19.0                    NaN              1.583333   \n",
       "\n",
       "   PREV_NC_LOAN_AGE_MEAN  PREV_NC_LOAN_AGE_SUM  PREV_NC_LOAN_AGE_VAR  \\\n",
       "0               1.583333              1.583333                   NaN   \n",
       "\n",
       "   PREV_NAME_CONTRACT_STATUS_Approved_MEAN  \\\n",
       "0                                      1.0   \n",
       "\n",
       "   PREV_NAME_CONTRACT_STATUS_Refused_MEAN  \\\n",
       "0                                     0.0   \n",
       "\n",
       "   PREV_CODE_REJECT_REASON_REJECTED_HC_MEAN  \\\n",
       "0                                       0.0   \n",
       "\n",
       "   PREV_CODE_REJECT_REASON_REJECTED_SCOFR_MEAN  \\\n",
       "0                                          0.0   \n",
       "\n",
       "   PREV_CODE_REJECT_REASON_REJECTED_XAP_MEAN  PREV_NAME_CLIENT_TYPE_New_MEAN  \\\n",
       "0                                        1.0                             1.0   \n",
       "\n",
       "   PREV_NAME_PRODUCT_TYPE_walk-in_MEAN  \\\n",
       "0                                  0.0   \n",
       "\n",
       "   PREV_NAME_SELLER_INDUSTRY_Connectivity_MEAN  \\\n",
       "0                                          0.0   \n",
       "\n",
       "   PREV_NAME_YIELD_GROUP_XNA_MEAN  PREV_NAME_YIELD_GROUP_high_MEAN  \\\n",
       "0                             0.0                              0.0   \n",
       "\n",
       "   PREV_NAME_YIELD_GROUP_low_action_MEAN  \\\n",
       "0                                    0.0   \n",
       "\n",
       "   PREV_NAME_YIELD_GROUP_low_normal_MEAN  \\\n",
       "0                                    1.0   \n",
       "\n",
       "   PREV_PRODUCT_COMBINATION_Cash X-Sell: low_MEAN  \\\n",
       "0                                             0.0   \n",
       "\n",
       "   PREV_N_CONTRACT_STATUS_APPROVED_MEAN  \\\n",
       "0                                   1.0   \n",
       "\n",
       "   PREV_N_CONTRACT_STATUS_REJECTED_HC_MEAN  \\\n",
       "0                                      0.0   \n",
       "\n",
       "   PREV_N_CONTRACT_STATUS_REJECTED_SCOFR_MEAN  APPROVED_AMT_ANNUITY_MIN  \\\n",
       "0                                         0.0                  9251.775   \n",
       "\n",
       "   APPROVED_AMT_ANNUITY_MAX  APPROVED_AMT_ANNUITY_MEAN  \\\n",
       "0                  9251.775                   9251.775   \n",
       "\n",
       "   APPROVED_AMT_APPLICATION_MIN  APPROVED_AMT_APPLICATION_MAX  \\\n",
       "0                      179055.0                      179055.0   \n",
       "\n",
       "   APPROVED_AMT_APPLICATION_MEAN  APPROVED_AMT_CREDIT_MIN  \\\n",
       "0                       179055.0                 179055.0   \n",
       "\n",
       "   APPROVED_AMT_CREDIT_MAX  APPROVED_AMT_CREDIT_MEAN  \\\n",
       "0                 179055.0                  179055.0   \n",
       "\n",
       "   APPROVED_N_APP_CREDIT_RATIO_MAX  APPROVED_N_APP_CREDIT_RATIO_MEAN  \\\n",
       "0                              1.0                               1.0   \n",
       "\n",
       "   APPROVED_N_ADJ_CREDIT_RATIO_MIN  APPROVED_N_ADJ_CREDIT_RATIO_MAX  \\\n",
       "0                              0.0                              0.0   \n",
       "\n",
       "   APPROVED_N_ADJ_CREDIT_RATIO_MEAN  APPROVED_N_ADJ_INTEREST_EVAL_MIN  \\\n",
       "0                               0.0                               0.0   \n",
       "\n",
       "   APPROVED_N_ADJ_INTEREST_EVAL_MAX  APPROVED_N_ADJ_INTEREST_EVAL_MEAN  \\\n",
       "0                               0.0                                0.0   \n",
       "\n",
       "   APPROVED_AMT_DOWN_PAYMENT_MAX  APPROVED_AMT_DOWN_PAYMENT_MEAN  \\\n",
       "0                            0.0                             0.0   \n",
       "\n",
       "   APPROVED_AMT_GOODS_PRICE_MIN  APPROVED_AMT_GOODS_PRICE_MAX  \\\n",
       "0                      179055.0                      179055.0   \n",
       "\n",
       "   APPROVED_AMT_GOODS_PRICE_MEAN  APPROVED_DAYS_DECISION_MIN  \\\n",
       "0                       179055.0                      -606.0   \n",
       "\n",
       "   APPROVED_DAYS_DECISION_MEAN  APPROVED_NC_LOAN_TERM_SUM  \\\n",
       "0                       -606.0                       19.0   \n",
       "\n",
       "   APPROVED_NC_LOAN_TERM_VAR  APPROVED_NC_LOAN_AGE_MAX  \\\n",
       "0                        NaN                  1.583333   \n",
       "\n",
       "   APPROVED_NC_LOAN_AGE_MEAN  APPROVED_NC_LOAN_AGE_SUM  \\\n",
       "0                   1.583333                  1.583333   \n",
       "\n",
       "   APPROVED_NC_LOAN_AGE_VAR  REFUSED_AMT_ANNUITY_MIN  REFUSED_AMT_ANNUITY_MAX  \\\n",
       "0                       NaN                      NaN                      NaN   \n",
       "\n",
       "   REFUSED_AMT_ANNUITY_MEAN  REFUSED_AMT_APPLICATION_MIN  \\\n",
       "0                       NaN                          NaN   \n",
       "\n",
       "   REFUSED_AMT_APPLICATION_MAX  REFUSED_AMT_APPLICATION_MEAN  \\\n",
       "0                          NaN                           NaN   \n",
       "\n",
       "   REFUSED_AMT_CREDIT_MIN  REFUSED_AMT_CREDIT_MAX  REFUSED_AMT_CREDIT_MEAN  \\\n",
       "0                     NaN                     NaN                      NaN   \n",
       "\n",
       "   REFUSED_N_APP_CREDIT_RATIO_MIN  REFUSED_N_APP_CREDIT_RATIO_MAX  \\\n",
       "0                             NaN                             NaN   \n",
       "\n",
       "   REFUSED_N_APP_CREDIT_RATIO_MEAN  REFUSED_N_ADJ_CREDIT_RATIO_MIN  \\\n",
       "0                              NaN                             NaN   \n",
       "\n",
       "   REFUSED_N_ADJ_CREDIT_RATIO_MEAN  REFUSED_N_ADJ_INTEREST_EVAL_MAX  \\\n",
       "0                              NaN                              NaN   \n",
       "\n",
       "   REFUSED_N_ADJ_INTEREST_EVAL_MEAN  REFUSED_AMT_GOODS_PRICE_MIN  \\\n",
       "0                               NaN                          NaN   \n",
       "\n",
       "   REFUSED_AMT_GOODS_PRICE_MAX  REFUSED_AMT_GOODS_PRICE_MEAN  \\\n",
       "0                          NaN                           NaN   \n",
       "\n",
       "   REFUSED_DAYS_DECISION_MIN  REFUSED_DAYS_DECISION_MAX  \\\n",
       "0                        NaN                        NaN   \n",
       "\n",
       "   REFUSED_DAYS_DECISION_MEAN  REFUSED_CNT_PAYMENT_MEAN  \\\n",
       "0                         NaN                       NaN   \n",
       "\n",
       "   REFUSED_CNT_PAYMENT_SUM  REFUSED_CNT_PAYMENT_VAR  \\\n",
       "0                      NaN                      NaN   \n",
       "\n",
       "   INSAGG_INS_N_PREV_CNT_PROLONG_SUM  \\\n",
       "0                               38.0   \n",
       "\n",
       "   INSAGG_INS_N_PREV_INS_AMT_MAX_OVERDUE_MIN  \\\n",
       "0                                        0.0   \n",
       "\n",
       "   INSAGG_INS_N_PREV_INS_AMT_MAX_OVERDUE_MAX  \\\n",
       "0                                        0.0   \n",
       "\n",
       "   INSAGG_INS_N_PREV_INS_AMT_MAX_OVERDUE_MEAN  \\\n",
       "0                                         0.0   \n",
       "\n",
       "   INSAGG_INS_N_PREV_INS_AMT_MAX_OVERDUE_SUM  \\\n",
       "0                                        0.0   \n",
       "\n",
       "   INSAGG_INS_N_PREV_CNT_TOT_INSTALMENT_SUM  \\\n",
       "0                                     361.0   \n",
       "\n",
       "   INSAGG_INS_N_PREV_CNT_TOT_INSTALMENT_VAR  \\\n",
       "0                                       0.0   \n",
       "\n",
       "   INSAGG_INS_N_PREV_LAST_DAYS_INSTALMENT_MIN  \\\n",
       "0                                       -25.0   \n",
       "\n",
       "   INSAGG_INS_N_PREV_LAST_DAYS_INSTALMENT_MAX  \\\n",
       "0                                       -25.0   \n",
       "\n",
       "   INSAGG_INS_N_PREV_LAST_DAYS_INSTALMENT_MEAN  \\\n",
       "0                                        -25.0   \n",
       "\n",
       "   INSAGG_INS_N_PREV_LAST_DAYS_INSTALMENT_SUM  \\\n",
       "0                                      -475.0   \n",
       "\n",
       "   INSAGG_INS_N_PREV_LAST_DAYS_INSTALMENT_VAR  \\\n",
       "0                                         0.0   \n",
       "\n",
       "   INSAGG_INS_N_PREV_EARLINESS_OVERDUE_RATIO_MIN  \\\n",
       "0                                            0.0   \n",
       "\n",
       "   INSAGG_INS_N_PREV_EARLINESS_OVERDUE_RATIO_MAX  \\\n",
       "0                                            0.0   \n",
       "\n",
       "   INSAGG_INS_N_PREV_EARLINESS_OVERDUE_RATIO_MEAN  \\\n",
       "0                                             0.0   \n",
       "\n",
       "   INSAGG_INS_N_PREV_EARLINESS_OVERDUE_RATIO_SUM  \\\n",
       "0                                            0.0   \n",
       "\n",
       "   INSAGG_INS_N_PREV_LOAN_AGE_MIN  INSAGG_INS_N_PREV_LOAN_AGE_MAX  \\\n",
       "0                        0.068493                        0.068493   \n",
       "\n",
       "   INSAGG_INS_N_PREV_LOAN_AGE_MEAN  INSAGG_INS_N_PREV_LOAN_AGE_SUM  \\\n",
       "0                         0.068493                         1.30137   \n",
       "\n",
       "   INSAGG_INS_N_PREV_LOAN_AGE_VAR  INS_DAYS_INSTALMENT_MEAN  \\\n",
       "0                             0.0                    -295.0   \n",
       "\n",
       "   INS_N_INS_DPD_MAX  INS_N_INS_DPD_MEAN  INS_N_INS_DPD_SUM  \\\n",
       "0                0.0                 0.0                0.0   \n",
       "\n",
       "   INS_N_INS_DBD_MEAN  INS_N_INS_AMT_OVERDUE_MEAN  \\\n",
       "0           20.421053                         0.0   \n",
       "\n",
       "   INS_N_AMT_OVERDUE_RATIO_MAX  INS_N_AMT_OVERDUE_RATIO_MEAN  \\\n",
       "0                          0.0                           0.0   \n",
       "\n",
       "   INS_AMT_INSTALMENT_MAX  INS_AMT_INSTALMENT_MEAN  INS_AMT_INSTALMENT_SUM  \\\n",
       "0               53093.745             11559.247105              219625.695   \n",
       "\n",
       "   INS_N_STATUS_0_SUM  INS_N_INSTAL_COUNT  INS_N_FAULT_RATE  \\\n",
       "0                19.0                19.0               0.0   \n",
       "\n",
       "   INS_N_FAULT_GRAVITY  INS_N_FAULT_ADJ_RATE  POS_MONTHS_BALANCE_MAX  \\\n",
       "0                  0.0                   0.0                    -1.0   \n",
       "\n",
       "   POS_MONTHS_BALANCE_MEAN  POS_SK_DPD_DEF_MEAN  POS_N_POS_COUNT  \\\n",
       "0                    -10.0                  0.0             19.0   \n",
       "\n",
       "   CC_AMT_BALANCE_MEAN  CC_AMT_DRAWINGS_ATM_CURRENT_MEAN  \\\n",
       "0                  NaN                               NaN   \n",
       "\n",
       "   CC_AMT_DRAWINGS_ATM_CURRENT_VAR  CC_AMT_DRAWINGS_CURRENT_MEAN  \\\n",
       "0                              NaN                           NaN   \n",
       "\n",
       "   CC_AMT_DRAWINGS_CURRENT_VAR  CC_AMT_INST_MIN_REGULARITY_MEAN  \\\n",
       "0                          NaN                              NaN   \n",
       "\n",
       "   CC_AMT_RECEIVABLE_PRINCIPAL_MEAN  CC_AMT_RECIVABLE_MEAN  \\\n",
       "0                               NaN                    NaN   \n",
       "\n",
       "   CC_AMT_TOTAL_RECEIVABLE_MEAN  CC_CNT_DRAWINGS_ATM_CURRENT_MEAN  \\\n",
       "0                           NaN                               NaN   \n",
       "\n",
       "   CC_CNT_DRAWINGS_ATM_CURRENT_VAR  CC_CNT_DRAWINGS_CURRENT_MAX  \\\n",
       "0                              NaN                          NaN   \n",
       "\n",
       "   CC_CNT_DRAWINGS_CURRENT_MEAN  CC_CNT_DRAWINGS_CURRENT_SUM  \\\n",
       "0                           NaN                          NaN   \n",
       "\n",
       "   CC_CNT_DRAWINGS_CURRENT_VAR  CC_CNT_DRAWINGS_POS_CURRENT_MEAN  \\\n",
       "0                          NaN                               NaN   \n",
       "\n",
       "   CC_CNT_DRAWINGS_POS_CURRENT_VAR  N_CC_USE_LATE_MONTH_6  \\\n",
       "0                              NaN                    NaN   \n",
       "\n",
       "   N_CC_USE_LATE_MONTH_2  \n",
       "0                    NaN  "
      ]
     },
     "execution_count": 16,
     "metadata": {},
     "output_type": "execute_result"
    }
   ],
   "source": [
    "print(any_application.shape)\n",
    "any_application.head(1)"
   ]
  },
  {
   "cell_type": "markdown",
   "metadata": {},
   "source": [
    "! we've lost a few rows ! there is an 'index' column, useless"
   ]
  },
  {
   "cell_type": "markdown",
   "metadata": {},
   "source": [
    "# Data preparation"
   ]
  },
  {
   "cell_type": "markdown",
   "metadata": {},
   "source": [
    "### Get back train - test from \"Any applications\""
   ]
  },
  {
   "cell_type": "code",
   "execution_count": 17,
   "metadata": {},
   "outputs": [],
   "source": [
    "# keep training applications only\n",
    "train = any_application[any_application['TARGET'].notna()]\n",
    "test = any_application[any_application['TARGET'].isna()]"
   ]
  },
  {
   "cell_type": "code",
   "execution_count": 18,
   "metadata": {},
   "outputs": [
    {
     "name": "stdout",
     "output_type": "stream",
     "text": [
      "Training set full shape:  (307507, 273)\n",
      "Testing set full shape:  (48744, 273)\n"
     ]
    }
   ],
   "source": [
    "print('Training set full shape: ', train.shape)\n",
    "print('Testing set full shape: ', test.shape)"
   ]
  },
  {
   "cell_type": "code",
   "execution_count": 19,
   "metadata": {},
   "outputs": [
    {
     "data": {
      "text/html": [
       "<div>\n",
       "<style scoped>\n",
       "    .dataframe tbody tr th:only-of-type {\n",
       "        vertical-align: middle;\n",
       "    }\n",
       "\n",
       "    .dataframe tbody tr th {\n",
       "        vertical-align: top;\n",
       "    }\n",
       "\n",
       "    .dataframe thead th {\n",
       "        text-align: right;\n",
       "    }\n",
       "</style>\n",
       "<table border=\"1\" class=\"dataframe\">\n",
       "  <thead>\n",
       "    <tr style=\"text-align: right;\">\n",
       "      <th></th>\n",
       "      <th>SK_ID_CURR</th>\n",
       "      <th>TARGET</th>\n",
       "      <th>CODE_GENDER</th>\n",
       "      <th>AMT_INCOME_TOTAL</th>\n",
       "      <th>AMT_CREDIT</th>\n",
       "      <th>AMT_ANNUITY</th>\n",
       "      <th>AMT_GOODS_PRICE</th>\n",
       "      <th>REGION_POPULATION_RELATIVE</th>\n",
       "      <th>DAYS_EMPLOYED</th>\n",
       "      <th>DAYS_REGISTRATION</th>\n",
       "      <th>DAYS_ID_PUBLISH</th>\n",
       "      <th>FLAG_EMP_PHONE</th>\n",
       "      <th>REGION_RATING_CLIENT</th>\n",
       "      <th>REGION_RATING_CLIENT_W_CITY</th>\n",
       "      <th>REG_CITY_NOT_WORK_CITY</th>\n",
       "      <th>APARTMENTS_AVG</th>\n",
       "      <th>BASEMENTAREA_AVG</th>\n",
       "      <th>YEARS_BEGINEXPLUATATION_AVG</th>\n",
       "      <th>ELEVATORS_AVG</th>\n",
       "      <th>ENTRANCES_AVG</th>\n",
       "      <th>FLOORSMAX_AVG</th>\n",
       "      <th>LIVINGAPARTMENTS_AVG</th>\n",
       "      <th>LIVINGAREA_AVG</th>\n",
       "      <th>APARTMENTS_MODE</th>\n",
       "      <th>BASEMENTAREA_MODE</th>\n",
       "      <th>YEARS_BEGINEXPLUATATION_MODE</th>\n",
       "      <th>ELEVATORS_MODE</th>\n",
       "      <th>FLOORSMAX_MODE</th>\n",
       "      <th>LIVINGAREA_MODE</th>\n",
       "      <th>APARTMENTS_MEDI</th>\n",
       "      <th>BASEMENTAREA_MEDI</th>\n",
       "      <th>YEARS_BEGINEXPLUATATION_MEDI</th>\n",
       "      <th>ELEVATORS_MEDI</th>\n",
       "      <th>ENTRANCES_MEDI</th>\n",
       "      <th>FLOORSMAX_MEDI</th>\n",
       "      <th>LIVINGAREA_MEDI</th>\n",
       "      <th>TOTALAREA_MODE</th>\n",
       "      <th>DAYS_LAST_PHONE_CHANGE</th>\n",
       "      <th>FLAG_DOCUMENT_3</th>\n",
       "      <th>N_CNT_PREV_REJECTED_SCOFR</th>\n",
       "      <th>N_FLAG_REJECTED</th>\n",
       "      <th>N_PREV_LAST_REJECTION</th>\n",
       "      <th>N_ADJ_REJECT_INDEX</th>\n",
       "      <th>N_PREV_LAST_APPLICATION</th>\n",
       "      <th>N_REJECT_RATE</th>\n",
       "      <th>N_CNT_BUR_LOANS</th>\n",
       "      <th>N_BUR_LAST_APPLICATION</th>\n",
       "      <th>YEARS_BIRTH</th>\n",
       "      <th>N_DAYS_EMPLOYED_RATIO</th>\n",
       "      <th>N_CREDIT_INCOME_RATIO</th>\n",
       "      <th>N_ANNUITY_INCOME_RATIO</th>\n",
       "      <th>N_CREDIT_TERM</th>\n",
       "      <th>NAME_INCOME_TYPE_Working</th>\n",
       "      <th>NAME_EDUCATION_TYPE_Higher education</th>\n",
       "      <th>NAME_EDUCATION_TYPE_Secondary / secondary special</th>\n",
       "      <th>OCCUPATION_TYPE_Pensioner</th>\n",
       "      <th>BUR_DAYS_CREDIT_MIN</th>\n",
       "      <th>BUR_DAYS_CREDIT_MAX</th>\n",
       "      <th>BUR_DAYS_CREDIT_MEAN</th>\n",
       "      <th>BUR_DAYS_CREDIT_VAR</th>\n",
       "      <th>BUR_DAYS_CREDIT_ENDDATE_MIN</th>\n",
       "      <th>BUR_DAYS_CREDIT_ENDDATE_MAX</th>\n",
       "      <th>BUR_DAYS_CREDIT_ENDDATE_MEAN</th>\n",
       "      <th>BUR_AMT_CREDIT_MAX_OVERDUE_MAX</th>\n",
       "      <th>BUR_AMT_CREDIT_MAX_OVERDUE_MEAN</th>\n",
       "      <th>BUR_AMT_CREDIT_MAX_OVERDUE_SUM</th>\n",
       "      <th>BUR_AMT_CREDIT_SUM_MAX</th>\n",
       "      <th>BUR_AMT_CREDIT_SUM_MEAN</th>\n",
       "      <th>BUR_AMT_CREDIT_SUM_SUM</th>\n",
       "      <th>BUR_AMT_CREDIT_SUM_DEBT_MAX</th>\n",
       "      <th>BUR_AMT_CREDIT_SUM_DEBT_MEAN</th>\n",
       "      <th>BUR_AMT_CREDIT_SUM_DEBT_SUM</th>\n",
       "      <th>BUR_N_BUR_AMT_CREDIT_DEBT_RATE_MAX</th>\n",
       "      <th>BUR_N_BUR_AMT_CREDIT_DEBT_RATE_MEAN</th>\n",
       "      <th>BUR_N_BUR_AMT_CREDIT_DEBT_RATE_SUM</th>\n",
       "      <th>BUR_N_BUR_AMT_CREDIT_DEBT_RATE_VAR</th>\n",
       "      <th>BUR_CREDIT_ACTIVE_Active_MEAN</th>\n",
       "      <th>BUR_CREDIT_ACTIVE_Closed_MEAN</th>\n",
       "      <th>BUR_CREDIT_TYPE_Cash loans_MEAN</th>\n",
       "      <th>ACTIVE_DAYS_CREDIT_MIN</th>\n",
       "      <th>ACTIVE_DAYS_CREDIT_MAX</th>\n",
       "      <th>ACTIVE_DAYS_CREDIT_MEAN</th>\n",
       "      <th>ACTIVE_DAYS_CREDIT_VAR</th>\n",
       "      <th>ACTIVE_DAYS_CREDIT_ENDDATE_MAX</th>\n",
       "      <th>ACTIVE_DAYS_CREDIT_ENDDATE_MEAN</th>\n",
       "      <th>ACTIVE_AMT_CREDIT_MAX_OVERDUE_MAX</th>\n",
       "      <th>ACTIVE_AMT_CREDIT_MAX_OVERDUE_MEAN</th>\n",
       "      <th>ACTIVE_AMT_CREDIT_MAX_OVERDUE_SUM</th>\n",
       "      <th>ACTIVE_AMT_CREDIT_SUM_MAX</th>\n",
       "      <th>ACTIVE_AMT_CREDIT_SUM_MEAN</th>\n",
       "      <th>ACTIVE_AMT_CREDIT_SUM_SUM</th>\n",
       "      <th>ACTIVE_AMT_CREDIT_SUM_DEBT_MAX</th>\n",
       "      <th>ACTIVE_AMT_CREDIT_SUM_DEBT_MEAN</th>\n",
       "      <th>ACTIVE_AMT_CREDIT_SUM_DEBT_SUM</th>\n",
       "      <th>ACTIVE_N_BUR_AMT_CREDIT_DEBT_RATE_MIN</th>\n",
       "      <th>ACTIVE_N_BUR_AMT_CREDIT_DEBT_RATE_MAX</th>\n",
       "      <th>ACTIVE_N_BUR_AMT_CREDIT_DEBT_RATE_MEAN</th>\n",
       "      <th>ACTIVE_N_BUR_AMT_CREDIT_DEBT_RATE_SUM</th>\n",
       "      <th>CLOSED_DAYS_CREDIT_MIN</th>\n",
       "      <th>CLOSED_DAYS_CREDIT_MAX</th>\n",
       "      <th>CLOSED_DAYS_CREDIT_MEAN</th>\n",
       "      <th>CLOSED_DAYS_CREDIT_VAR</th>\n",
       "      <th>CLOSED_DAYS_CREDIT_ENDDATE_MIN</th>\n",
       "      <th>CLOSED_DAYS_CREDIT_ENDDATE_MAX</th>\n",
       "      <th>CLOSED_DAYS_CREDIT_ENDDATE_MEAN</th>\n",
       "      <th>CLOSED_AMT_CREDIT_SUM_MAX</th>\n",
       "      <th>CLOSED_AMT_CREDIT_SUM_MEAN</th>\n",
       "      <th>CLOSED_AMT_CREDIT_SUM_SUM</th>\n",
       "      <th>PREV_AMT_ANNUITY_MIN</th>\n",
       "      <th>PREV_AMT_ANNUITY_MAX</th>\n",
       "      <th>PREV_AMT_ANNUITY_MEAN</th>\n",
       "      <th>PREV_AMT_APPLICATION_MIN</th>\n",
       "      <th>PREV_AMT_APPLICATION_MAX</th>\n",
       "      <th>PREV_AMT_APPLICATION_MEAN</th>\n",
       "      <th>PREV_AMT_CREDIT_MIN</th>\n",
       "      <th>PREV_AMT_CREDIT_MAX</th>\n",
       "      <th>PREV_AMT_CREDIT_MEAN</th>\n",
       "      <th>PREV_N_APP_CREDIT_RATIO_MIN</th>\n",
       "      <th>PREV_N_APP_CREDIT_RATIO_MAX</th>\n",
       "      <th>PREV_N_APP_CREDIT_RATIO_MEAN</th>\n",
       "      <th>PREV_N_ADJ_CREDIT_RATIO_MIN</th>\n",
       "      <th>PREV_N_ADJ_CREDIT_RATIO_MAX</th>\n",
       "      <th>PREV_N_ADJ_CREDIT_RATIO_MEAN</th>\n",
       "      <th>PREV_N_ADJ_INTEREST_EVAL_MIN</th>\n",
       "      <th>PREV_N_ADJ_INTEREST_EVAL_MAX</th>\n",
       "      <th>PREV_N_ADJ_INTEREST_EVAL_MEAN</th>\n",
       "      <th>PREV_AMT_DOWN_PAYMENT_MAX</th>\n",
       "      <th>PREV_AMT_DOWN_PAYMENT_MEAN</th>\n",
       "      <th>PREV_AMT_GOODS_PRICE_MIN</th>\n",
       "      <th>PREV_AMT_GOODS_PRICE_MAX</th>\n",
       "      <th>PREV_AMT_GOODS_PRICE_MEAN</th>\n",
       "      <th>PREV_DAYS_DECISION_MIN</th>\n",
       "      <th>PREV_DAYS_DECISION_MAX</th>\n",
       "      <th>PREV_DAYS_DECISION_MEAN</th>\n",
       "      <th>PREV_CNT_PAYMENT_MEAN</th>\n",
       "      <th>PREV_CNT_PAYMENT_VAR</th>\n",
       "      <th>PREV_NC_LOAN_TERM_SUM</th>\n",
       "      <th>PREV_NC_LOAN_TERM_VAR</th>\n",
       "      <th>PREV_NC_LOAN_AGE_MAX</th>\n",
       "      <th>PREV_NC_LOAN_AGE_MEAN</th>\n",
       "      <th>PREV_NC_LOAN_AGE_SUM</th>\n",
       "      <th>PREV_NC_LOAN_AGE_VAR</th>\n",
       "      <th>PREV_NAME_CONTRACT_STATUS_Approved_MEAN</th>\n",
       "      <th>PREV_NAME_CONTRACT_STATUS_Refused_MEAN</th>\n",
       "      <th>PREV_CODE_REJECT_REASON_REJECTED_HC_MEAN</th>\n",
       "      <th>PREV_CODE_REJECT_REASON_REJECTED_SCOFR_MEAN</th>\n",
       "      <th>PREV_CODE_REJECT_REASON_REJECTED_XAP_MEAN</th>\n",
       "      <th>PREV_NAME_CLIENT_TYPE_New_MEAN</th>\n",
       "      <th>PREV_NAME_PRODUCT_TYPE_walk-in_MEAN</th>\n",
       "      <th>PREV_NAME_SELLER_INDUSTRY_Connectivity_MEAN</th>\n",
       "      <th>PREV_NAME_YIELD_GROUP_XNA_MEAN</th>\n",
       "      <th>PREV_NAME_YIELD_GROUP_high_MEAN</th>\n",
       "      <th>PREV_NAME_YIELD_GROUP_low_action_MEAN</th>\n",
       "      <th>PREV_NAME_YIELD_GROUP_low_normal_MEAN</th>\n",
       "      <th>PREV_PRODUCT_COMBINATION_Cash X-Sell: low_MEAN</th>\n",
       "      <th>PREV_N_CONTRACT_STATUS_APPROVED_MEAN</th>\n",
       "      <th>PREV_N_CONTRACT_STATUS_REJECTED_HC_MEAN</th>\n",
       "      <th>PREV_N_CONTRACT_STATUS_REJECTED_SCOFR_MEAN</th>\n",
       "      <th>APPROVED_AMT_ANNUITY_MIN</th>\n",
       "      <th>APPROVED_AMT_ANNUITY_MAX</th>\n",
       "      <th>APPROVED_AMT_ANNUITY_MEAN</th>\n",
       "      <th>APPROVED_AMT_APPLICATION_MIN</th>\n",
       "      <th>APPROVED_AMT_APPLICATION_MAX</th>\n",
       "      <th>APPROVED_AMT_APPLICATION_MEAN</th>\n",
       "      <th>APPROVED_AMT_CREDIT_MIN</th>\n",
       "      <th>APPROVED_AMT_CREDIT_MAX</th>\n",
       "      <th>APPROVED_AMT_CREDIT_MEAN</th>\n",
       "      <th>APPROVED_N_APP_CREDIT_RATIO_MAX</th>\n",
       "      <th>APPROVED_N_APP_CREDIT_RATIO_MEAN</th>\n",
       "      <th>APPROVED_N_ADJ_CREDIT_RATIO_MIN</th>\n",
       "      <th>APPROVED_N_ADJ_CREDIT_RATIO_MAX</th>\n",
       "      <th>APPROVED_N_ADJ_CREDIT_RATIO_MEAN</th>\n",
       "      <th>APPROVED_N_ADJ_INTEREST_EVAL_MIN</th>\n",
       "      <th>APPROVED_N_ADJ_INTEREST_EVAL_MAX</th>\n",
       "      <th>APPROVED_N_ADJ_INTEREST_EVAL_MEAN</th>\n",
       "      <th>APPROVED_AMT_DOWN_PAYMENT_MAX</th>\n",
       "      <th>APPROVED_AMT_DOWN_PAYMENT_MEAN</th>\n",
       "      <th>APPROVED_AMT_GOODS_PRICE_MIN</th>\n",
       "      <th>APPROVED_AMT_GOODS_PRICE_MAX</th>\n",
       "      <th>APPROVED_AMT_GOODS_PRICE_MEAN</th>\n",
       "      <th>APPROVED_DAYS_DECISION_MIN</th>\n",
       "      <th>APPROVED_DAYS_DECISION_MEAN</th>\n",
       "      <th>APPROVED_NC_LOAN_TERM_SUM</th>\n",
       "      <th>APPROVED_NC_LOAN_TERM_VAR</th>\n",
       "      <th>APPROVED_NC_LOAN_AGE_MAX</th>\n",
       "      <th>APPROVED_NC_LOAN_AGE_MEAN</th>\n",
       "      <th>APPROVED_NC_LOAN_AGE_SUM</th>\n",
       "      <th>APPROVED_NC_LOAN_AGE_VAR</th>\n",
       "      <th>REFUSED_AMT_ANNUITY_MIN</th>\n",
       "      <th>REFUSED_AMT_ANNUITY_MAX</th>\n",
       "      <th>REFUSED_AMT_ANNUITY_MEAN</th>\n",
       "      <th>REFUSED_AMT_APPLICATION_MIN</th>\n",
       "      <th>REFUSED_AMT_APPLICATION_MAX</th>\n",
       "      <th>REFUSED_AMT_APPLICATION_MEAN</th>\n",
       "      <th>REFUSED_AMT_CREDIT_MIN</th>\n",
       "      <th>REFUSED_AMT_CREDIT_MAX</th>\n",
       "      <th>REFUSED_AMT_CREDIT_MEAN</th>\n",
       "      <th>REFUSED_N_APP_CREDIT_RATIO_MIN</th>\n",
       "      <th>REFUSED_N_APP_CREDIT_RATIO_MAX</th>\n",
       "      <th>REFUSED_N_APP_CREDIT_RATIO_MEAN</th>\n",
       "      <th>REFUSED_N_ADJ_CREDIT_RATIO_MIN</th>\n",
       "      <th>REFUSED_N_ADJ_CREDIT_RATIO_MEAN</th>\n",
       "      <th>REFUSED_N_ADJ_INTEREST_EVAL_MAX</th>\n",
       "      <th>REFUSED_N_ADJ_INTEREST_EVAL_MEAN</th>\n",
       "      <th>REFUSED_AMT_GOODS_PRICE_MIN</th>\n",
       "      <th>REFUSED_AMT_GOODS_PRICE_MAX</th>\n",
       "      <th>REFUSED_AMT_GOODS_PRICE_MEAN</th>\n",
       "      <th>REFUSED_DAYS_DECISION_MIN</th>\n",
       "      <th>REFUSED_DAYS_DECISION_MAX</th>\n",
       "      <th>REFUSED_DAYS_DECISION_MEAN</th>\n",
       "      <th>REFUSED_CNT_PAYMENT_MEAN</th>\n",
       "      <th>REFUSED_CNT_PAYMENT_SUM</th>\n",
       "      <th>REFUSED_CNT_PAYMENT_VAR</th>\n",
       "      <th>INSAGG_INS_N_PREV_CNT_PROLONG_SUM</th>\n",
       "      <th>INSAGG_INS_N_PREV_INS_AMT_MAX_OVERDUE_MIN</th>\n",
       "      <th>INSAGG_INS_N_PREV_INS_AMT_MAX_OVERDUE_MAX</th>\n",
       "      <th>INSAGG_INS_N_PREV_INS_AMT_MAX_OVERDUE_MEAN</th>\n",
       "      <th>INSAGG_INS_N_PREV_INS_AMT_MAX_OVERDUE_SUM</th>\n",
       "      <th>INSAGG_INS_N_PREV_CNT_TOT_INSTALMENT_SUM</th>\n",
       "      <th>INSAGG_INS_N_PREV_CNT_TOT_INSTALMENT_VAR</th>\n",
       "      <th>INSAGG_INS_N_PREV_LAST_DAYS_INSTALMENT_MIN</th>\n",
       "      <th>INSAGG_INS_N_PREV_LAST_DAYS_INSTALMENT_MAX</th>\n",
       "      <th>INSAGG_INS_N_PREV_LAST_DAYS_INSTALMENT_MEAN</th>\n",
       "      <th>INSAGG_INS_N_PREV_LAST_DAYS_INSTALMENT_SUM</th>\n",
       "      <th>INSAGG_INS_N_PREV_LAST_DAYS_INSTALMENT_VAR</th>\n",
       "      <th>INSAGG_INS_N_PREV_EARLINESS_OVERDUE_RATIO_MIN</th>\n",
       "      <th>INSAGG_INS_N_PREV_EARLINESS_OVERDUE_RATIO_MAX</th>\n",
       "      <th>INSAGG_INS_N_PREV_EARLINESS_OVERDUE_RATIO_MEAN</th>\n",
       "      <th>INSAGG_INS_N_PREV_EARLINESS_OVERDUE_RATIO_SUM</th>\n",
       "      <th>INSAGG_INS_N_PREV_LOAN_AGE_MIN</th>\n",
       "      <th>INSAGG_INS_N_PREV_LOAN_AGE_MAX</th>\n",
       "      <th>INSAGG_INS_N_PREV_LOAN_AGE_MEAN</th>\n",
       "      <th>INSAGG_INS_N_PREV_LOAN_AGE_SUM</th>\n",
       "      <th>INSAGG_INS_N_PREV_LOAN_AGE_VAR</th>\n",
       "      <th>INS_DAYS_INSTALMENT_MEAN</th>\n",
       "      <th>INS_N_INS_DPD_MAX</th>\n",
       "      <th>INS_N_INS_DPD_MEAN</th>\n",
       "      <th>INS_N_INS_DPD_SUM</th>\n",
       "      <th>INS_N_INS_DBD_MEAN</th>\n",
       "      <th>INS_N_INS_AMT_OVERDUE_MEAN</th>\n",
       "      <th>INS_N_AMT_OVERDUE_RATIO_MAX</th>\n",
       "      <th>INS_N_AMT_OVERDUE_RATIO_MEAN</th>\n",
       "      <th>INS_AMT_INSTALMENT_MAX</th>\n",
       "      <th>INS_AMT_INSTALMENT_MEAN</th>\n",
       "      <th>INS_AMT_INSTALMENT_SUM</th>\n",
       "      <th>INS_N_STATUS_0_SUM</th>\n",
       "      <th>INS_N_INSTAL_COUNT</th>\n",
       "      <th>INS_N_FAULT_RATE</th>\n",
       "      <th>INS_N_FAULT_GRAVITY</th>\n",
       "      <th>INS_N_FAULT_ADJ_RATE</th>\n",
       "      <th>POS_MONTHS_BALANCE_MAX</th>\n",
       "      <th>POS_MONTHS_BALANCE_MEAN</th>\n",
       "      <th>POS_SK_DPD_DEF_MEAN</th>\n",
       "      <th>POS_N_POS_COUNT</th>\n",
       "      <th>CC_AMT_BALANCE_MEAN</th>\n",
       "      <th>CC_AMT_DRAWINGS_ATM_CURRENT_MEAN</th>\n",
       "      <th>CC_AMT_DRAWINGS_ATM_CURRENT_VAR</th>\n",
       "      <th>CC_AMT_DRAWINGS_CURRENT_MEAN</th>\n",
       "      <th>CC_AMT_DRAWINGS_CURRENT_VAR</th>\n",
       "      <th>CC_AMT_INST_MIN_REGULARITY_MEAN</th>\n",
       "      <th>CC_AMT_RECEIVABLE_PRINCIPAL_MEAN</th>\n",
       "      <th>CC_AMT_RECIVABLE_MEAN</th>\n",
       "      <th>CC_AMT_TOTAL_RECEIVABLE_MEAN</th>\n",
       "      <th>CC_CNT_DRAWINGS_ATM_CURRENT_MEAN</th>\n",
       "      <th>CC_CNT_DRAWINGS_ATM_CURRENT_VAR</th>\n",
       "      <th>CC_CNT_DRAWINGS_CURRENT_MAX</th>\n",
       "      <th>CC_CNT_DRAWINGS_CURRENT_MEAN</th>\n",
       "      <th>CC_CNT_DRAWINGS_CURRENT_SUM</th>\n",
       "      <th>CC_CNT_DRAWINGS_CURRENT_VAR</th>\n",
       "      <th>CC_CNT_DRAWINGS_POS_CURRENT_MEAN</th>\n",
       "      <th>CC_CNT_DRAWINGS_POS_CURRENT_VAR</th>\n",
       "      <th>N_CC_USE_LATE_MONTH_6</th>\n",
       "      <th>N_CC_USE_LATE_MONTH_2</th>\n",
       "    </tr>\n",
       "  </thead>\n",
       "  <tbody>\n",
       "    <tr>\n",
       "      <th>0</th>\n",
       "      <td>100002</td>\n",
       "      <td>1.0</td>\n",
       "      <td>1</td>\n",
       "      <td>202500.0</td>\n",
       "      <td>406597.5</td>\n",
       "      <td>24700.5</td>\n",
       "      <td>351000.0</td>\n",
       "      <td>0.018801</td>\n",
       "      <td>-637.0</td>\n",
       "      <td>-3648.0</td>\n",
       "      <td>-2120</td>\n",
       "      <td>1</td>\n",
       "      <td>2</td>\n",
       "      <td>2</td>\n",
       "      <td>0</td>\n",
       "      <td>0.0247</td>\n",
       "      <td>0.0369</td>\n",
       "      <td>0.9722</td>\n",
       "      <td>0.0</td>\n",
       "      <td>0.069</td>\n",
       "      <td>0.0833</td>\n",
       "      <td>0.0202</td>\n",
       "      <td>0.019</td>\n",
       "      <td>0.0252</td>\n",
       "      <td>0.0383</td>\n",
       "      <td>0.9722</td>\n",
       "      <td>0.0</td>\n",
       "      <td>0.0833</td>\n",
       "      <td>0.0198</td>\n",
       "      <td>0.025</td>\n",
       "      <td>0.0369</td>\n",
       "      <td>0.9722</td>\n",
       "      <td>0.0</td>\n",
       "      <td>0.069</td>\n",
       "      <td>0.0833</td>\n",
       "      <td>0.0193</td>\n",
       "      <td>0.0149</td>\n",
       "      <td>-1134.0</td>\n",
       "      <td>1</td>\n",
       "      <td>0.0</td>\n",
       "      <td>0.0</td>\n",
       "      <td>-606.0</td>\n",
       "      <td>0.0</td>\n",
       "      <td>-606.0</td>\n",
       "      <td>0.0</td>\n",
       "      <td>8.0</td>\n",
       "      <td>-103.0</td>\n",
       "      <td>25.920548</td>\n",
       "      <td>0.067329</td>\n",
       "      <td>2.007889</td>\n",
       "      <td>0.121978</td>\n",
       "      <td>0.060749</td>\n",
       "      <td>1</td>\n",
       "      <td>0</td>\n",
       "      <td>1</td>\n",
       "      <td>0</td>\n",
       "      <td>-1437.0</td>\n",
       "      <td>-103.0</td>\n",
       "      <td>-874.0</td>\n",
       "      <td>186150.0</td>\n",
       "      <td>-1072.0</td>\n",
       "      <td>780.0</td>\n",
       "      <td>-349.0</td>\n",
       "      <td>5043.645</td>\n",
       "      <td>1681.029</td>\n",
       "      <td>8405.145</td>\n",
       "      <td>450000.0</td>\n",
       "      <td>108131.945625</td>\n",
       "      <td>865055.565</td>\n",
       "      <td>245781.0</td>\n",
       "      <td>49156.2</td>\n",
       "      <td>245781.0</td>\n",
       "      <td>0.546179</td>\n",
       "      <td>0.109236</td>\n",
       "      <td>0.546179</td>\n",
       "      <td>0.059662</td>\n",
       "      <td>0.25</td>\n",
       "      <td>0.75</td>\n",
       "      <td>0.5</td>\n",
       "      <td>-1042.0</td>\n",
       "      <td>-103.0</td>\n",
       "      <td>-572.5</td>\n",
       "      <td>440860.5</td>\n",
       "      <td>780.0</td>\n",
       "      <td>780.0</td>\n",
       "      <td>40.5</td>\n",
       "      <td>40.5</td>\n",
       "      <td>40.5</td>\n",
       "      <td>450000.0</td>\n",
       "      <td>240994.2825</td>\n",
       "      <td>481988.565</td>\n",
       "      <td>245781.0</td>\n",
       "      <td>122890.5</td>\n",
       "      <td>245781.0</td>\n",
       "      <td>0.0</td>\n",
       "      <td>0.546179</td>\n",
       "      <td>0.273089</td>\n",
       "      <td>0.546179</td>\n",
       "      <td>-1437.0</td>\n",
       "      <td>-476.0</td>\n",
       "      <td>-974.5</td>\n",
       "      <td>123956.7</td>\n",
       "      <td>-1072.0</td>\n",
       "      <td>85.0</td>\n",
       "      <td>-574.8</td>\n",
       "      <td>135000.0</td>\n",
       "      <td>63844.5</td>\n",
       "      <td>383067.0</td>\n",
       "      <td>9251.775</td>\n",
       "      <td>9251.775</td>\n",
       "      <td>9251.775</td>\n",
       "      <td>179055.0</td>\n",
       "      <td>179055.0</td>\n",
       "      <td>179055.0</td>\n",
       "      <td>179055.0</td>\n",
       "      <td>179055.0</td>\n",
       "      <td>179055.0</td>\n",
       "      <td>1.0</td>\n",
       "      <td>1.0</td>\n",
       "      <td>1.0</td>\n",
       "      <td>0.0</td>\n",
       "      <td>0.0</td>\n",
       "      <td>0.0</td>\n",
       "      <td>0.0</td>\n",
       "      <td>0.0</td>\n",
       "      <td>0.0</td>\n",
       "      <td>0.0</td>\n",
       "      <td>0.0</td>\n",
       "      <td>179055.0</td>\n",
       "      <td>179055.0</td>\n",
       "      <td>179055.0</td>\n",
       "      <td>-606.0</td>\n",
       "      <td>-606.0</td>\n",
       "      <td>-606.0</td>\n",
       "      <td>24.0</td>\n",
       "      <td>NaN</td>\n",
       "      <td>19.0</td>\n",
       "      <td>NaN</td>\n",
       "      <td>1.583333</td>\n",
       "      <td>1.583333</td>\n",
       "      <td>1.583333</td>\n",
       "      <td>NaN</td>\n",
       "      <td>1.0</td>\n",
       "      <td>0.0</td>\n",
       "      <td>0.0</td>\n",
       "      <td>0.0</td>\n",
       "      <td>1.0</td>\n",
       "      <td>1.0</td>\n",
       "      <td>0.0</td>\n",
       "      <td>0.0</td>\n",
       "      <td>0.0</td>\n",
       "      <td>0.0</td>\n",
       "      <td>0.0</td>\n",
       "      <td>1.0</td>\n",
       "      <td>0.0</td>\n",
       "      <td>1.0</td>\n",
       "      <td>0.0</td>\n",
       "      <td>0.0</td>\n",
       "      <td>9251.775</td>\n",
       "      <td>9251.775</td>\n",
       "      <td>9251.775</td>\n",
       "      <td>179055.0</td>\n",
       "      <td>179055.0</td>\n",
       "      <td>179055.0</td>\n",
       "      <td>179055.0</td>\n",
       "      <td>179055.0</td>\n",
       "      <td>179055.0</td>\n",
       "      <td>1.0</td>\n",
       "      <td>1.0</td>\n",
       "      <td>0.0</td>\n",
       "      <td>0.0</td>\n",
       "      <td>0.0</td>\n",
       "      <td>0.0</td>\n",
       "      <td>0.0</td>\n",
       "      <td>0.0</td>\n",
       "      <td>0.0</td>\n",
       "      <td>0.0</td>\n",
       "      <td>179055.0</td>\n",
       "      <td>179055.0</td>\n",
       "      <td>179055.0</td>\n",
       "      <td>-606.0</td>\n",
       "      <td>-606.0</td>\n",
       "      <td>19.0</td>\n",
       "      <td>NaN</td>\n",
       "      <td>1.583333</td>\n",
       "      <td>1.583333</td>\n",
       "      <td>1.583333</td>\n",
       "      <td>NaN</td>\n",
       "      <td>NaN</td>\n",
       "      <td>NaN</td>\n",
       "      <td>NaN</td>\n",
       "      <td>NaN</td>\n",
       "      <td>NaN</td>\n",
       "      <td>NaN</td>\n",
       "      <td>NaN</td>\n",
       "      <td>NaN</td>\n",
       "      <td>NaN</td>\n",
       "      <td>NaN</td>\n",
       "      <td>NaN</td>\n",
       "      <td>NaN</td>\n",
       "      <td>NaN</td>\n",
       "      <td>NaN</td>\n",
       "      <td>NaN</td>\n",
       "      <td>NaN</td>\n",
       "      <td>NaN</td>\n",
       "      <td>NaN</td>\n",
       "      <td>NaN</td>\n",
       "      <td>NaN</td>\n",
       "      <td>NaN</td>\n",
       "      <td>NaN</td>\n",
       "      <td>NaN</td>\n",
       "      <td>NaN</td>\n",
       "      <td>NaN</td>\n",
       "      <td>38.0</td>\n",
       "      <td>0.0</td>\n",
       "      <td>0.0</td>\n",
       "      <td>0.0</td>\n",
       "      <td>0.0</td>\n",
       "      <td>361.0</td>\n",
       "      <td>0.0</td>\n",
       "      <td>-25.0</td>\n",
       "      <td>-25.0</td>\n",
       "      <td>-25.0</td>\n",
       "      <td>-475.0</td>\n",
       "      <td>0.0</td>\n",
       "      <td>0.0</td>\n",
       "      <td>0.0</td>\n",
       "      <td>0.0</td>\n",
       "      <td>0.0</td>\n",
       "      <td>0.068493</td>\n",
       "      <td>0.068493</td>\n",
       "      <td>0.068493</td>\n",
       "      <td>1.30137</td>\n",
       "      <td>0.0</td>\n",
       "      <td>-295.0</td>\n",
       "      <td>0.0</td>\n",
       "      <td>0.0</td>\n",
       "      <td>0.0</td>\n",
       "      <td>20.421053</td>\n",
       "      <td>0.0</td>\n",
       "      <td>0.0</td>\n",
       "      <td>0.0</td>\n",
       "      <td>53093.745</td>\n",
       "      <td>11559.247105</td>\n",
       "      <td>219625.695</td>\n",
       "      <td>19.0</td>\n",
       "      <td>19.0</td>\n",
       "      <td>0.0</td>\n",
       "      <td>0.0</td>\n",
       "      <td>0.0</td>\n",
       "      <td>-1.0</td>\n",
       "      <td>-10.0</td>\n",
       "      <td>0.0</td>\n",
       "      <td>19.0</td>\n",
       "      <td>NaN</td>\n",
       "      <td>NaN</td>\n",
       "      <td>NaN</td>\n",
       "      <td>NaN</td>\n",
       "      <td>NaN</td>\n",
       "      <td>NaN</td>\n",
       "      <td>NaN</td>\n",
       "      <td>NaN</td>\n",
       "      <td>NaN</td>\n",
       "      <td>NaN</td>\n",
       "      <td>NaN</td>\n",
       "      <td>NaN</td>\n",
       "      <td>NaN</td>\n",
       "      <td>NaN</td>\n",
       "      <td>NaN</td>\n",
       "      <td>NaN</td>\n",
       "      <td>NaN</td>\n",
       "      <td>NaN</td>\n",
       "      <td>NaN</td>\n",
       "    </tr>\n",
       "  </tbody>\n",
       "</table>\n",
       "</div>"
      ],
      "text/plain": [
       "   SK_ID_CURR  TARGET  CODE_GENDER  AMT_INCOME_TOTAL  AMT_CREDIT  AMT_ANNUITY  \\\n",
       "0      100002     1.0            1          202500.0    406597.5      24700.5   \n",
       "\n",
       "   AMT_GOODS_PRICE  REGION_POPULATION_RELATIVE  DAYS_EMPLOYED  \\\n",
       "0         351000.0                    0.018801         -637.0   \n",
       "\n",
       "   DAYS_REGISTRATION  DAYS_ID_PUBLISH  FLAG_EMP_PHONE  REGION_RATING_CLIENT  \\\n",
       "0            -3648.0            -2120               1                     2   \n",
       "\n",
       "   REGION_RATING_CLIENT_W_CITY  REG_CITY_NOT_WORK_CITY  APARTMENTS_AVG  \\\n",
       "0                            2                       0          0.0247   \n",
       "\n",
       "   BASEMENTAREA_AVG  YEARS_BEGINEXPLUATATION_AVG  ELEVATORS_AVG  \\\n",
       "0            0.0369                       0.9722            0.0   \n",
       "\n",
       "   ENTRANCES_AVG  FLOORSMAX_AVG  LIVINGAPARTMENTS_AVG  LIVINGAREA_AVG  \\\n",
       "0          0.069         0.0833                0.0202           0.019   \n",
       "\n",
       "   APARTMENTS_MODE  BASEMENTAREA_MODE  YEARS_BEGINEXPLUATATION_MODE  \\\n",
       "0           0.0252             0.0383                        0.9722   \n",
       "\n",
       "   ELEVATORS_MODE  FLOORSMAX_MODE  LIVINGAREA_MODE  APARTMENTS_MEDI  \\\n",
       "0             0.0          0.0833           0.0198            0.025   \n",
       "\n",
       "   BASEMENTAREA_MEDI  YEARS_BEGINEXPLUATATION_MEDI  ELEVATORS_MEDI  \\\n",
       "0             0.0369                        0.9722             0.0   \n",
       "\n",
       "   ENTRANCES_MEDI  FLOORSMAX_MEDI  LIVINGAREA_MEDI  TOTALAREA_MODE  \\\n",
       "0           0.069          0.0833           0.0193          0.0149   \n",
       "\n",
       "   DAYS_LAST_PHONE_CHANGE  FLAG_DOCUMENT_3  N_CNT_PREV_REJECTED_SCOFR  \\\n",
       "0                 -1134.0                1                        0.0   \n",
       "\n",
       "   N_FLAG_REJECTED  N_PREV_LAST_REJECTION  N_ADJ_REJECT_INDEX  \\\n",
       "0              0.0                 -606.0                 0.0   \n",
       "\n",
       "   N_PREV_LAST_APPLICATION  N_REJECT_RATE  N_CNT_BUR_LOANS  \\\n",
       "0                   -606.0            0.0              8.0   \n",
       "\n",
       "   N_BUR_LAST_APPLICATION  YEARS_BIRTH  N_DAYS_EMPLOYED_RATIO  \\\n",
       "0                  -103.0    25.920548               0.067329   \n",
       "\n",
       "   N_CREDIT_INCOME_RATIO  N_ANNUITY_INCOME_RATIO  N_CREDIT_TERM  \\\n",
       "0               2.007889                0.121978       0.060749   \n",
       "\n",
       "   NAME_INCOME_TYPE_Working  NAME_EDUCATION_TYPE_Higher education  \\\n",
       "0                         1                                     0   \n",
       "\n",
       "   NAME_EDUCATION_TYPE_Secondary / secondary special  \\\n",
       "0                                                  1   \n",
       "\n",
       "   OCCUPATION_TYPE_Pensioner  BUR_DAYS_CREDIT_MIN  BUR_DAYS_CREDIT_MAX  \\\n",
       "0                          0              -1437.0               -103.0   \n",
       "\n",
       "   BUR_DAYS_CREDIT_MEAN  BUR_DAYS_CREDIT_VAR  BUR_DAYS_CREDIT_ENDDATE_MIN  \\\n",
       "0                -874.0             186150.0                      -1072.0   \n",
       "\n",
       "   BUR_DAYS_CREDIT_ENDDATE_MAX  BUR_DAYS_CREDIT_ENDDATE_MEAN  \\\n",
       "0                        780.0                        -349.0   \n",
       "\n",
       "   BUR_AMT_CREDIT_MAX_OVERDUE_MAX  BUR_AMT_CREDIT_MAX_OVERDUE_MEAN  \\\n",
       "0                        5043.645                         1681.029   \n",
       "\n",
       "   BUR_AMT_CREDIT_MAX_OVERDUE_SUM  BUR_AMT_CREDIT_SUM_MAX  \\\n",
       "0                        8405.145                450000.0   \n",
       "\n",
       "   BUR_AMT_CREDIT_SUM_MEAN  BUR_AMT_CREDIT_SUM_SUM  \\\n",
       "0            108131.945625              865055.565   \n",
       "\n",
       "   BUR_AMT_CREDIT_SUM_DEBT_MAX  BUR_AMT_CREDIT_SUM_DEBT_MEAN  \\\n",
       "0                     245781.0                       49156.2   \n",
       "\n",
       "   BUR_AMT_CREDIT_SUM_DEBT_SUM  BUR_N_BUR_AMT_CREDIT_DEBT_RATE_MAX  \\\n",
       "0                     245781.0                            0.546179   \n",
       "\n",
       "   BUR_N_BUR_AMT_CREDIT_DEBT_RATE_MEAN  BUR_N_BUR_AMT_CREDIT_DEBT_RATE_SUM  \\\n",
       "0                             0.109236                            0.546179   \n",
       "\n",
       "   BUR_N_BUR_AMT_CREDIT_DEBT_RATE_VAR  BUR_CREDIT_ACTIVE_Active_MEAN  \\\n",
       "0                            0.059662                           0.25   \n",
       "\n",
       "   BUR_CREDIT_ACTIVE_Closed_MEAN  BUR_CREDIT_TYPE_Cash loans_MEAN  \\\n",
       "0                           0.75                              0.5   \n",
       "\n",
       "   ACTIVE_DAYS_CREDIT_MIN  ACTIVE_DAYS_CREDIT_MAX  ACTIVE_DAYS_CREDIT_MEAN  \\\n",
       "0                 -1042.0                  -103.0                   -572.5   \n",
       "\n",
       "   ACTIVE_DAYS_CREDIT_VAR  ACTIVE_DAYS_CREDIT_ENDDATE_MAX  \\\n",
       "0                440860.5                           780.0   \n",
       "\n",
       "   ACTIVE_DAYS_CREDIT_ENDDATE_MEAN  ACTIVE_AMT_CREDIT_MAX_OVERDUE_MAX  \\\n",
       "0                            780.0                               40.5   \n",
       "\n",
       "   ACTIVE_AMT_CREDIT_MAX_OVERDUE_MEAN  ACTIVE_AMT_CREDIT_MAX_OVERDUE_SUM  \\\n",
       "0                                40.5                               40.5   \n",
       "\n",
       "   ACTIVE_AMT_CREDIT_SUM_MAX  ACTIVE_AMT_CREDIT_SUM_MEAN  \\\n",
       "0                   450000.0                 240994.2825   \n",
       "\n",
       "   ACTIVE_AMT_CREDIT_SUM_SUM  ACTIVE_AMT_CREDIT_SUM_DEBT_MAX  \\\n",
       "0                 481988.565                        245781.0   \n",
       "\n",
       "   ACTIVE_AMT_CREDIT_SUM_DEBT_MEAN  ACTIVE_AMT_CREDIT_SUM_DEBT_SUM  \\\n",
       "0                         122890.5                        245781.0   \n",
       "\n",
       "   ACTIVE_N_BUR_AMT_CREDIT_DEBT_RATE_MIN  \\\n",
       "0                                    0.0   \n",
       "\n",
       "   ACTIVE_N_BUR_AMT_CREDIT_DEBT_RATE_MAX  \\\n",
       "0                               0.546179   \n",
       "\n",
       "   ACTIVE_N_BUR_AMT_CREDIT_DEBT_RATE_MEAN  \\\n",
       "0                                0.273089   \n",
       "\n",
       "   ACTIVE_N_BUR_AMT_CREDIT_DEBT_RATE_SUM  CLOSED_DAYS_CREDIT_MIN  \\\n",
       "0                               0.546179                 -1437.0   \n",
       "\n",
       "   CLOSED_DAYS_CREDIT_MAX  CLOSED_DAYS_CREDIT_MEAN  CLOSED_DAYS_CREDIT_VAR  \\\n",
       "0                  -476.0                   -974.5                123956.7   \n",
       "\n",
       "   CLOSED_DAYS_CREDIT_ENDDATE_MIN  CLOSED_DAYS_CREDIT_ENDDATE_MAX  \\\n",
       "0                         -1072.0                            85.0   \n",
       "\n",
       "   CLOSED_DAYS_CREDIT_ENDDATE_MEAN  CLOSED_AMT_CREDIT_SUM_MAX  \\\n",
       "0                           -574.8                   135000.0   \n",
       "\n",
       "   CLOSED_AMT_CREDIT_SUM_MEAN  CLOSED_AMT_CREDIT_SUM_SUM  \\\n",
       "0                     63844.5                   383067.0   \n",
       "\n",
       "   PREV_AMT_ANNUITY_MIN  PREV_AMT_ANNUITY_MAX  PREV_AMT_ANNUITY_MEAN  \\\n",
       "0              9251.775              9251.775               9251.775   \n",
       "\n",
       "   PREV_AMT_APPLICATION_MIN  PREV_AMT_APPLICATION_MAX  \\\n",
       "0                  179055.0                  179055.0   \n",
       "\n",
       "   PREV_AMT_APPLICATION_MEAN  PREV_AMT_CREDIT_MIN  PREV_AMT_CREDIT_MAX  \\\n",
       "0                   179055.0             179055.0             179055.0   \n",
       "\n",
       "   PREV_AMT_CREDIT_MEAN  PREV_N_APP_CREDIT_RATIO_MIN  \\\n",
       "0              179055.0                          1.0   \n",
       "\n",
       "   PREV_N_APP_CREDIT_RATIO_MAX  PREV_N_APP_CREDIT_RATIO_MEAN  \\\n",
       "0                          1.0                           1.0   \n",
       "\n",
       "   PREV_N_ADJ_CREDIT_RATIO_MIN  PREV_N_ADJ_CREDIT_RATIO_MAX  \\\n",
       "0                          0.0                          0.0   \n",
       "\n",
       "   PREV_N_ADJ_CREDIT_RATIO_MEAN  PREV_N_ADJ_INTEREST_EVAL_MIN  \\\n",
       "0                           0.0                           0.0   \n",
       "\n",
       "   PREV_N_ADJ_INTEREST_EVAL_MAX  PREV_N_ADJ_INTEREST_EVAL_MEAN  \\\n",
       "0                           0.0                            0.0   \n",
       "\n",
       "   PREV_AMT_DOWN_PAYMENT_MAX  PREV_AMT_DOWN_PAYMENT_MEAN  \\\n",
       "0                        0.0                         0.0   \n",
       "\n",
       "   PREV_AMT_GOODS_PRICE_MIN  PREV_AMT_GOODS_PRICE_MAX  \\\n",
       "0                  179055.0                  179055.0   \n",
       "\n",
       "   PREV_AMT_GOODS_PRICE_MEAN  PREV_DAYS_DECISION_MIN  PREV_DAYS_DECISION_MAX  \\\n",
       "0                   179055.0                  -606.0                  -606.0   \n",
       "\n",
       "   PREV_DAYS_DECISION_MEAN  PREV_CNT_PAYMENT_MEAN  PREV_CNT_PAYMENT_VAR  \\\n",
       "0                   -606.0                   24.0                   NaN   \n",
       "\n",
       "   PREV_NC_LOAN_TERM_SUM  PREV_NC_LOAN_TERM_VAR  PREV_NC_LOAN_AGE_MAX  \\\n",
       "0                   19.0                    NaN              1.583333   \n",
       "\n",
       "   PREV_NC_LOAN_AGE_MEAN  PREV_NC_LOAN_AGE_SUM  PREV_NC_LOAN_AGE_VAR  \\\n",
       "0               1.583333              1.583333                   NaN   \n",
       "\n",
       "   PREV_NAME_CONTRACT_STATUS_Approved_MEAN  \\\n",
       "0                                      1.0   \n",
       "\n",
       "   PREV_NAME_CONTRACT_STATUS_Refused_MEAN  \\\n",
       "0                                     0.0   \n",
       "\n",
       "   PREV_CODE_REJECT_REASON_REJECTED_HC_MEAN  \\\n",
       "0                                       0.0   \n",
       "\n",
       "   PREV_CODE_REJECT_REASON_REJECTED_SCOFR_MEAN  \\\n",
       "0                                          0.0   \n",
       "\n",
       "   PREV_CODE_REJECT_REASON_REJECTED_XAP_MEAN  PREV_NAME_CLIENT_TYPE_New_MEAN  \\\n",
       "0                                        1.0                             1.0   \n",
       "\n",
       "   PREV_NAME_PRODUCT_TYPE_walk-in_MEAN  \\\n",
       "0                                  0.0   \n",
       "\n",
       "   PREV_NAME_SELLER_INDUSTRY_Connectivity_MEAN  \\\n",
       "0                                          0.0   \n",
       "\n",
       "   PREV_NAME_YIELD_GROUP_XNA_MEAN  PREV_NAME_YIELD_GROUP_high_MEAN  \\\n",
       "0                             0.0                              0.0   \n",
       "\n",
       "   PREV_NAME_YIELD_GROUP_low_action_MEAN  \\\n",
       "0                                    0.0   \n",
       "\n",
       "   PREV_NAME_YIELD_GROUP_low_normal_MEAN  \\\n",
       "0                                    1.0   \n",
       "\n",
       "   PREV_PRODUCT_COMBINATION_Cash X-Sell: low_MEAN  \\\n",
       "0                                             0.0   \n",
       "\n",
       "   PREV_N_CONTRACT_STATUS_APPROVED_MEAN  \\\n",
       "0                                   1.0   \n",
       "\n",
       "   PREV_N_CONTRACT_STATUS_REJECTED_HC_MEAN  \\\n",
       "0                                      0.0   \n",
       "\n",
       "   PREV_N_CONTRACT_STATUS_REJECTED_SCOFR_MEAN  APPROVED_AMT_ANNUITY_MIN  \\\n",
       "0                                         0.0                  9251.775   \n",
       "\n",
       "   APPROVED_AMT_ANNUITY_MAX  APPROVED_AMT_ANNUITY_MEAN  \\\n",
       "0                  9251.775                   9251.775   \n",
       "\n",
       "   APPROVED_AMT_APPLICATION_MIN  APPROVED_AMT_APPLICATION_MAX  \\\n",
       "0                      179055.0                      179055.0   \n",
       "\n",
       "   APPROVED_AMT_APPLICATION_MEAN  APPROVED_AMT_CREDIT_MIN  \\\n",
       "0                       179055.0                 179055.0   \n",
       "\n",
       "   APPROVED_AMT_CREDIT_MAX  APPROVED_AMT_CREDIT_MEAN  \\\n",
       "0                 179055.0                  179055.0   \n",
       "\n",
       "   APPROVED_N_APP_CREDIT_RATIO_MAX  APPROVED_N_APP_CREDIT_RATIO_MEAN  \\\n",
       "0                              1.0                               1.0   \n",
       "\n",
       "   APPROVED_N_ADJ_CREDIT_RATIO_MIN  APPROVED_N_ADJ_CREDIT_RATIO_MAX  \\\n",
       "0                              0.0                              0.0   \n",
       "\n",
       "   APPROVED_N_ADJ_CREDIT_RATIO_MEAN  APPROVED_N_ADJ_INTEREST_EVAL_MIN  \\\n",
       "0                               0.0                               0.0   \n",
       "\n",
       "   APPROVED_N_ADJ_INTEREST_EVAL_MAX  APPROVED_N_ADJ_INTEREST_EVAL_MEAN  \\\n",
       "0                               0.0                                0.0   \n",
       "\n",
       "   APPROVED_AMT_DOWN_PAYMENT_MAX  APPROVED_AMT_DOWN_PAYMENT_MEAN  \\\n",
       "0                            0.0                             0.0   \n",
       "\n",
       "   APPROVED_AMT_GOODS_PRICE_MIN  APPROVED_AMT_GOODS_PRICE_MAX  \\\n",
       "0                      179055.0                      179055.0   \n",
       "\n",
       "   APPROVED_AMT_GOODS_PRICE_MEAN  APPROVED_DAYS_DECISION_MIN  \\\n",
       "0                       179055.0                      -606.0   \n",
       "\n",
       "   APPROVED_DAYS_DECISION_MEAN  APPROVED_NC_LOAN_TERM_SUM  \\\n",
       "0                       -606.0                       19.0   \n",
       "\n",
       "   APPROVED_NC_LOAN_TERM_VAR  APPROVED_NC_LOAN_AGE_MAX  \\\n",
       "0                        NaN                  1.583333   \n",
       "\n",
       "   APPROVED_NC_LOAN_AGE_MEAN  APPROVED_NC_LOAN_AGE_SUM  \\\n",
       "0                   1.583333                  1.583333   \n",
       "\n",
       "   APPROVED_NC_LOAN_AGE_VAR  REFUSED_AMT_ANNUITY_MIN  REFUSED_AMT_ANNUITY_MAX  \\\n",
       "0                       NaN                      NaN                      NaN   \n",
       "\n",
       "   REFUSED_AMT_ANNUITY_MEAN  REFUSED_AMT_APPLICATION_MIN  \\\n",
       "0                       NaN                          NaN   \n",
       "\n",
       "   REFUSED_AMT_APPLICATION_MAX  REFUSED_AMT_APPLICATION_MEAN  \\\n",
       "0                          NaN                           NaN   \n",
       "\n",
       "   REFUSED_AMT_CREDIT_MIN  REFUSED_AMT_CREDIT_MAX  REFUSED_AMT_CREDIT_MEAN  \\\n",
       "0                     NaN                     NaN                      NaN   \n",
       "\n",
       "   REFUSED_N_APP_CREDIT_RATIO_MIN  REFUSED_N_APP_CREDIT_RATIO_MAX  \\\n",
       "0                             NaN                             NaN   \n",
       "\n",
       "   REFUSED_N_APP_CREDIT_RATIO_MEAN  REFUSED_N_ADJ_CREDIT_RATIO_MIN  \\\n",
       "0                              NaN                             NaN   \n",
       "\n",
       "   REFUSED_N_ADJ_CREDIT_RATIO_MEAN  REFUSED_N_ADJ_INTEREST_EVAL_MAX  \\\n",
       "0                              NaN                              NaN   \n",
       "\n",
       "   REFUSED_N_ADJ_INTEREST_EVAL_MEAN  REFUSED_AMT_GOODS_PRICE_MIN  \\\n",
       "0                               NaN                          NaN   \n",
       "\n",
       "   REFUSED_AMT_GOODS_PRICE_MAX  REFUSED_AMT_GOODS_PRICE_MEAN  \\\n",
       "0                          NaN                           NaN   \n",
       "\n",
       "   REFUSED_DAYS_DECISION_MIN  REFUSED_DAYS_DECISION_MAX  \\\n",
       "0                        NaN                        NaN   \n",
       "\n",
       "   REFUSED_DAYS_DECISION_MEAN  REFUSED_CNT_PAYMENT_MEAN  \\\n",
       "0                         NaN                       NaN   \n",
       "\n",
       "   REFUSED_CNT_PAYMENT_SUM  REFUSED_CNT_PAYMENT_VAR  \\\n",
       "0                      NaN                      NaN   \n",
       "\n",
       "   INSAGG_INS_N_PREV_CNT_PROLONG_SUM  \\\n",
       "0                               38.0   \n",
       "\n",
       "   INSAGG_INS_N_PREV_INS_AMT_MAX_OVERDUE_MIN  \\\n",
       "0                                        0.0   \n",
       "\n",
       "   INSAGG_INS_N_PREV_INS_AMT_MAX_OVERDUE_MAX  \\\n",
       "0                                        0.0   \n",
       "\n",
       "   INSAGG_INS_N_PREV_INS_AMT_MAX_OVERDUE_MEAN  \\\n",
       "0                                         0.0   \n",
       "\n",
       "   INSAGG_INS_N_PREV_INS_AMT_MAX_OVERDUE_SUM  \\\n",
       "0                                        0.0   \n",
       "\n",
       "   INSAGG_INS_N_PREV_CNT_TOT_INSTALMENT_SUM  \\\n",
       "0                                     361.0   \n",
       "\n",
       "   INSAGG_INS_N_PREV_CNT_TOT_INSTALMENT_VAR  \\\n",
       "0                                       0.0   \n",
       "\n",
       "   INSAGG_INS_N_PREV_LAST_DAYS_INSTALMENT_MIN  \\\n",
       "0                                       -25.0   \n",
       "\n",
       "   INSAGG_INS_N_PREV_LAST_DAYS_INSTALMENT_MAX  \\\n",
       "0                                       -25.0   \n",
       "\n",
       "   INSAGG_INS_N_PREV_LAST_DAYS_INSTALMENT_MEAN  \\\n",
       "0                                        -25.0   \n",
       "\n",
       "   INSAGG_INS_N_PREV_LAST_DAYS_INSTALMENT_SUM  \\\n",
       "0                                      -475.0   \n",
       "\n",
       "   INSAGG_INS_N_PREV_LAST_DAYS_INSTALMENT_VAR  \\\n",
       "0                                         0.0   \n",
       "\n",
       "   INSAGG_INS_N_PREV_EARLINESS_OVERDUE_RATIO_MIN  \\\n",
       "0                                            0.0   \n",
       "\n",
       "   INSAGG_INS_N_PREV_EARLINESS_OVERDUE_RATIO_MAX  \\\n",
       "0                                            0.0   \n",
       "\n",
       "   INSAGG_INS_N_PREV_EARLINESS_OVERDUE_RATIO_MEAN  \\\n",
       "0                                             0.0   \n",
       "\n",
       "   INSAGG_INS_N_PREV_EARLINESS_OVERDUE_RATIO_SUM  \\\n",
       "0                                            0.0   \n",
       "\n",
       "   INSAGG_INS_N_PREV_LOAN_AGE_MIN  INSAGG_INS_N_PREV_LOAN_AGE_MAX  \\\n",
       "0                        0.068493                        0.068493   \n",
       "\n",
       "   INSAGG_INS_N_PREV_LOAN_AGE_MEAN  INSAGG_INS_N_PREV_LOAN_AGE_SUM  \\\n",
       "0                         0.068493                         1.30137   \n",
       "\n",
       "   INSAGG_INS_N_PREV_LOAN_AGE_VAR  INS_DAYS_INSTALMENT_MEAN  \\\n",
       "0                             0.0                    -295.0   \n",
       "\n",
       "   INS_N_INS_DPD_MAX  INS_N_INS_DPD_MEAN  INS_N_INS_DPD_SUM  \\\n",
       "0                0.0                 0.0                0.0   \n",
       "\n",
       "   INS_N_INS_DBD_MEAN  INS_N_INS_AMT_OVERDUE_MEAN  \\\n",
       "0           20.421053                         0.0   \n",
       "\n",
       "   INS_N_AMT_OVERDUE_RATIO_MAX  INS_N_AMT_OVERDUE_RATIO_MEAN  \\\n",
       "0                          0.0                           0.0   \n",
       "\n",
       "   INS_AMT_INSTALMENT_MAX  INS_AMT_INSTALMENT_MEAN  INS_AMT_INSTALMENT_SUM  \\\n",
       "0               53093.745             11559.247105              219625.695   \n",
       "\n",
       "   INS_N_STATUS_0_SUM  INS_N_INSTAL_COUNT  INS_N_FAULT_RATE  \\\n",
       "0                19.0                19.0               0.0   \n",
       "\n",
       "   INS_N_FAULT_GRAVITY  INS_N_FAULT_ADJ_RATE  POS_MONTHS_BALANCE_MAX  \\\n",
       "0                  0.0                   0.0                    -1.0   \n",
       "\n",
       "   POS_MONTHS_BALANCE_MEAN  POS_SK_DPD_DEF_MEAN  POS_N_POS_COUNT  \\\n",
       "0                    -10.0                  0.0             19.0   \n",
       "\n",
       "   CC_AMT_BALANCE_MEAN  CC_AMT_DRAWINGS_ATM_CURRENT_MEAN  \\\n",
       "0                  NaN                               NaN   \n",
       "\n",
       "   CC_AMT_DRAWINGS_ATM_CURRENT_VAR  CC_AMT_DRAWINGS_CURRENT_MEAN  \\\n",
       "0                              NaN                           NaN   \n",
       "\n",
       "   CC_AMT_DRAWINGS_CURRENT_VAR  CC_AMT_INST_MIN_REGULARITY_MEAN  \\\n",
       "0                          NaN                              NaN   \n",
       "\n",
       "   CC_AMT_RECEIVABLE_PRINCIPAL_MEAN  CC_AMT_RECIVABLE_MEAN  \\\n",
       "0                               NaN                    NaN   \n",
       "\n",
       "   CC_AMT_TOTAL_RECEIVABLE_MEAN  CC_CNT_DRAWINGS_ATM_CURRENT_MEAN  \\\n",
       "0                           NaN                               NaN   \n",
       "\n",
       "   CC_CNT_DRAWINGS_ATM_CURRENT_VAR  CC_CNT_DRAWINGS_CURRENT_MAX  \\\n",
       "0                              NaN                          NaN   \n",
       "\n",
       "   CC_CNT_DRAWINGS_CURRENT_MEAN  CC_CNT_DRAWINGS_CURRENT_SUM  \\\n",
       "0                           NaN                          NaN   \n",
       "\n",
       "   CC_CNT_DRAWINGS_CURRENT_VAR  CC_CNT_DRAWINGS_POS_CURRENT_MEAN  \\\n",
       "0                          NaN                               NaN   \n",
       "\n",
       "   CC_CNT_DRAWINGS_POS_CURRENT_VAR  N_CC_USE_LATE_MONTH_6  \\\n",
       "0                              NaN                    NaN   \n",
       "\n",
       "   N_CC_USE_LATE_MONTH_2  \n",
       "0                    NaN  "
      ]
     },
     "execution_count": 19,
     "metadata": {},
     "output_type": "execute_result"
    }
   ],
   "source": [
    "train.head(1)"
   ]
  },
  {
   "cell_type": "code",
   "execution_count": 20,
   "metadata": {},
   "outputs": [],
   "source": [
    "# set index with SK_ID_CURR\n",
    "train = train.set_index('SK_ID_CURR')\n",
    "test = test.set_index('SK_ID_CURR')"
   ]
  },
  {
   "cell_type": "markdown",
   "metadata": {},
   "source": [
    "### Data integrity"
   ]
  },
  {
   "cell_type": "markdown",
   "metadata": {},
   "source": [
    "Missing values affect classifier performance and ability to remedy class imbalance (i.e. ability to build consistent synthetic data in case of SMOTE use to upsample minority class), we have to track the features with many missing value, decide if we should keep them and find the best imputation strategy."
   ]
  },
  {
   "cell_type": "code",
   "execution_count": 21,
   "metadata": {},
   "outputs": [
    {
     "name": "stdout",
     "output_type": "stream",
     "text": [
      "Your selected dataframe has 272 columns.\n",
      "There are 246 columns that have missing values.\n"
     ]
    }
   ],
   "source": [
    "# check for missing values\n",
    "missing_values = missing_values_table(train)"
   ]
  },
  {
   "cell_type": "code",
   "execution_count": 22,
   "metadata": {},
   "outputs": [
    {
     "data": {
      "text/plain": [
       "<AxesSubplot:>"
      ]
     },
     "execution_count": 22,
     "metadata": {},
     "output_type": "execute_result"
    },
    {
     "data": {
      "image/png": "[encoded data removed]",
      "text/plain": [
       "<Figure size 432x288 with 1 Axes>"
      ]
     },
     "metadata": {},
     "output_type": "display_data"
    },
    {
     "name": "stderr",
     "output_type": "stream",
     "text": [
      "4:80: E501 line too long (103 > 79 characters)\n"
     ]
    }
   ],
   "source": [
    "# get the missing curve\n",
    "missing_list = []\n",
    "for i in np.arange(0, 101, 1):\n",
    "    missing = train.shape[1] - len(list(missing_values.index[missing_values['% of Total Values'] > i]))\n",
    "    missing_list.append(missing)\n",
    "pd.DataFrame(missing_list).plot()"
   ]
  },
  {
   "cell_type": "code",
   "execution_count": 23,
   "metadata": {},
   "outputs": [
    {
     "data": {
      "text/plain": [
       "0"
      ]
     },
     "execution_count": 23,
     "metadata": {},
     "output_type": "execute_result"
    }
   ],
   "source": [
    "len(list(missing_values.index[missing_values['% of Total Values'] > 90]))"
   ]
  },
  {
   "cell_type": "markdown",
   "metadata": {},
   "source": [
    "## Train, Test split"
   ]
  },
  {
   "cell_type": "markdown",
   "metadata": {},
   "source": [
    "SK_ID_CURR is now he index and we build a separated target y_ df from the training data X_. <br/>\n",
    "Note that we have to build it in a DataFrame format (in order to extract a sample after the train-test split."
   ]
  },
  {
   "cell_type": "code",
   "execution_count": 26,
   "metadata": {
    "_cell_guid": "60ef8744-ca3a-4810-8439-2835fbfc1833",
    "_uuid": "784ae2f91cf7792702595a9973ba773b2acdec00"
   },
   "outputs": [],
   "source": [
    "def my_split(data=train,\n",
    "             split_size=0.2,\n",
    "             impute_strategy='constant',\n",
    "             scale_strategy=False):\n",
    "    '''function that split data into train and test according to split_size (test)\n",
    "    and impute missing values according to the impute strategy\n",
    "    and MinMaxScale features'''\n",
    "    # drop the target from the training data\n",
    "    if 'TARGET' in data:\n",
    "        X_ = data.drop(columns=['TARGET'])\n",
    "    else:\n",
    "        X_ = data.copy()\n",
    "    y_ = data['TARGET']\n",
    "    # to keep df format : store columns & index\n",
    "    columns = X_.columns\n",
    "    index = X_.index\n",
    "    # imputation of missing values\n",
    "    imputer = SimpleImputer(\n",
    "        missing_values=np.nan,\n",
    "        strategy=impute_strategy,\n",
    "        fill_value=0)\n",
    "    imputer.fit(X_)\n",
    "    X_ = pd.DataFrame(\n",
    "        imputer.fit_transform(X_),\n",
    "        columns=columns,\n",
    "        index=index)\n",
    "    # Scale if True, each feature to 0-1\n",
    "    if scale_strategy is True:\n",
    "        scaler = MinMaxScaler(feature_range=(0, 1))\n",
    "        scaler.fit(X_)\n",
    "        X_ = pd.DataFrame(\n",
    "            scaler.fit_transform(X_),\n",
    "            columns=columns,\n",
    "            index=index)\n",
    "    # Split data into train and test set (stratify by target)\n",
    "    X_train, X_test, y_train, y_test = train_test_split(\n",
    "        X_,\n",
    "        y_,\n",
    "        stratify=y_,\n",
    "        test_size=split_size,\n",
    "        random_state=42)\n",
    "    print('Training data shape: ', X_train.shape)\n",
    "    print('Testing data shape: ', X_test.shape)\n",
    "    print('Labels train data shape: ', y_train.shape)\n",
    "    print('Labels test data shape: ', y_test.shape)\n",
    "    return X_train, X_test, y_train, y_test, columns"
   ]
  },
  {
   "cell_type": "code",
   "execution_count": 27,
   "metadata": {
    "scrolled": false
   },
   "outputs": [
    {
     "name": "stdout",
     "output_type": "stream",
     "text": [
      "Training data shape:  (246005, 271)\n",
      "Testing data shape:  (61502, 271)\n",
      "Labels train data shape:  (246005,)\n",
      "Labels test data shape:  (61502,)\n"
     ]
    }
   ],
   "source": [
    "X_train, X_test, y_train, y_test, features = my_split()"
   ]
  },
  {
   "cell_type": "markdown",
   "metadata": {},
   "source": [
    "### Sampling - class balance"
   ]
  },
  {
   "cell_type": "markdown",
   "metadata": {},
   "source": [
    "Cf. below, SMOTE test versus class_weight='balanced'."
   ]
  },
  {
   "cell_type": "markdown",
   "metadata": {},
   "source": [
    "Introduce and test a downsampling method?"
   ]
  },
  {
   "cell_type": "markdown",
   "metadata": {},
   "source": [
    "### Sampling - model selection process"
   ]
  },
  {
   "cell_type": "markdown",
   "metadata": {},
   "source": [
    "! we need to work with proper df types"
   ]
  },
  {
   "cell_type": "code",
   "execution_count": 159,
   "metadata": {},
   "outputs": [
    {
     "data": {
      "text/plain": [
       "1000"
      ]
     },
     "execution_count": 159,
     "metadata": {},
     "output_type": "execute_result"
    }
   ],
   "source": [
    "# randomly sample the data an apply to target\n",
    "X_train_sample = X_train.sample(n=1000, random_state=42)\n",
    "# Get the indexes to sample target_vector\n",
    "sample_index = X_train_sample.index\n",
    "mask = (y_train.index.isin(sample_index))\n",
    "y_train_sample = y_train[mask]\n",
    "# print results\n",
    "len(y_train_sample)"
   ]
  },
  {
   "cell_type": "code",
   "execution_count": 160,
   "metadata": {},
   "outputs": [
    {
     "name": "stderr",
     "output_type": "stream",
     "text": [
      "1:80: E501 line too long (92 > 79 characters)\n"
     ]
    }
   ],
   "source": [
    "X_train_re_sample = X_train_sample.rename(columns=lambda x: re.sub('[^A-Za-z0-9_]+', '', x))"
   ]
  },
  {
   "cell_type": "code",
   "execution_count": 161,
   "metadata": {},
   "outputs": [
    {
     "name": "stdout",
     "output_type": "stream",
     "text": [
      "global failure rate:  7.4\n"
     ]
    },
    {
     "name": "stderr",
     "output_type": "stream",
     "text": [
      "3:6: E128 continuation line under-indented for visual indent\n",
      "3:80: E501 line too long (126 > 79 characters)\n"
     ]
    }
   ],
   "source": [
    "# control failure rate of sample\n",
    "print('global failure rate: ',\n",
    "     round(100 * y_train_sample.value_counts()[1] / (y_train_sample.value_counts()[1] + y_train_sample.value_counts()[0]), 2))"
   ]
  },
  {
   "cell_type": "code",
   "execution_count": 162,
   "metadata": {},
   "outputs": [],
   "source": [
    "X_opt = X_train_re_sample\n",
    "y_opt = y_train_sample"
   ]
  },
  {
   "cell_type": "markdown",
   "metadata": {},
   "source": [
    "# Model evaluation"
   ]
  },
  {
   "cell_type": "markdown",
   "metadata": {},
   "source": [
    "## Metric: Area Under Roc & \"Damage Scoring\"\n",
    "\n",
    "First off all, accuracy (Σ True positive or negative / Σ Total) is __not a relevant metric__ in our case, mainly due to the __class imbalance__, with over than 90% accuracy if we predict the majority class only, granting loan to anyone and facing any risky clients failures.\n",
    "The area under the ROC curve offers a more valuable metric, that can be trusted for models comparison. A model that simply guesses at random will have an ROC AUC of 0.5. Any improvement of AUC score, up to ideal 1, means the model gets to a minimal False positive rate and a maximal True positive rate.\n",
    "In our case, we'll even discuss the opportunity of building our own score, based on an detailed interpretation of the confusion matrix (see [F-score](https://en.wikipedia.org/wiki/F-score)) to more accurately define what could be the \"best\" retuls, in terms of the financial opportunity or damages for the company. This lead to build a compromise between approval of risky clients and rejection og good ones. <br/>\n",
    "After studying the resulting populated confusion matrix, we decided to use Fbeta to value the relative importance of recall over precision (with an illustrative value of beta=7), which is a good approach to value the financial damage of granting a loan to a failure-risky client than rejecting a loan to a \"good\" client."
   ]
  },
  {
   "cell_type": "markdown",
   "metadata": {},
   "source": [
    "## Classifiers evaluation techniques"
   ]
  },
  {
   "cell_type": "markdown",
   "metadata": {},
   "source": [
    "1. first run and compare \n",
    "\n",
    "2. K-Fold cross validation technique\n",
    "\n",
    "3. Hyperopt? We choose to work with the 5.2k stars lib [hyperopt](https://github.com/hyperopt/hyperopt) to find the most relevant model."
   ]
  },
  {
   "cell_type": "markdown",
   "metadata": {},
   "source": [
    "## Classifiers rough training"
   ]
  },
  {
   "cell_type": "markdown",
   "metadata": {},
   "source": [
    "Let's create a model_run function that will instanciate any classifier and get results."
   ]
  },
  {
   "cell_type": "code",
   "execution_count": 28,
   "metadata": {},
   "outputs": [],
   "source": [
    "def model_run(\n",
    "    model,\n",
    "    X_train,\n",
    "    y_train,\n",
    "    X_test,\n",
    "    y_test,\n",
    "    cols=None\n",
    "):\n",
    "\n",
    "    model.fit(X_train[cols], y_train)\n",
    "    y_pred = model.predict(X_test[cols])\n",
    "    y_pred_proba = model.predict_proba(X_test[cols])[:, 1]\n",
    "\n",
    "    f7 = fbeta_score(y_test, y_pred, beta=7)\n",
    "    fpr, tpr, thresholds = roc_curve(y_test, y_pred_proba)\n",
    "    auc_score = auc(fpr, tpr)\n",
    "\n",
    "    print(model)\n",
    "    print('AUC score: ', round(auc_score, 4))\n",
    "    print('Fbeta score (7): ', round(f7, 4))\n",
    "\n",
    "    return fpr, tpr, auc_score, f7"
   ]
  },
  {
   "cell_type": "code",
   "execution_count": 29,
   "metadata": {},
   "outputs": [],
   "source": [
    "def model_run_with_imp(\n",
    "    model,\n",
    "    X_train,\n",
    "    y_train,\n",
    "    X_test,\n",
    "    y_test,\n",
    "    cols=None\n",
    "):\n",
    "    model.fit(X_train[cols], y_train)\n",
    "    y_pred = model.predict(X_test[cols])\n",
    "    y_pred_proba = model.predict_proba(X_test[cols])[:, 1]\n",
    "    f7 = fbeta_score(y_test, y_pred, beta=7)\n",
    "    fpr, tpr, thresholds = roc_curve(y_test, y_pred_proba)\n",
    "    auc_score = auc(fpr, tpr)\n",
    "    print(model)\n",
    "    print('AUC score: ', round(auc_score, 4))\n",
    "    print('Fbeta score (7): ', round(f7, 4))\n",
    "    # create df\n",
    "    feature_importances = model.feature_importances_\n",
    "    df = {\n",
    "        'feature_names': sel_features,\n",
    "        'feature_importances': feature_importances\n",
    "    }\n",
    "    df = pd.DataFrame(df).sort_values(by='feature_importances',\n",
    "                                      ascending=False)\n",
    "    # Normalize the feature importances to add up to one\n",
    "    df['importance_normalized'] = df['importance'] / df['importance'].sum()\n",
    "    # Make a horizontal bar chart of feature importances\n",
    "    plt.figure(figsize=(10, 6))\n",
    "    ax = plt.subplot()\n",
    "    # Need to reverse the index to plot most important on top\n",
    "    ax.barh(list(reversed(list(df.index[:15]))),\n",
    "            df['importance_normalized'].head(15),\n",
    "            align='center', edgecolor='k')\n",
    "    # Set the yticks and labels\n",
    "    ax.set_yticks(list(reversed(list(df.index[:15]))))\n",
    "    ax.set_yticklabels(df['feature'].head(15))\n",
    "    # Plot labeling\n",
    "    plt.xlabel('Normalized Importance')\n",
    "    plt.title('Feature Importances')\n",
    "    plt.show()\n",
    "    return fpr, tpr, auc_score, f7"
   ]
  },
  {
   "cell_type": "markdown",
   "metadata": {
    "_cell_guid": "ebb64e63-6222-4509-a43c-302c6435ce09",
    "_uuid": "8bf057e523b2d99833f6dc9d95fe6141fb4e325a"
   },
   "source": [
    "### Naive Baseline\n",
    "\n",
    "For a naive baseline, we could guess the same value for all examples on the testing set.  We are asked to predict the probability of not repaying the loan, so if we are entirely unsure, we would guess 0.5 for all observations on the test set. This  will get us a Reciever Operating Characteristic Area Under the Curve (AUC ROC) of 0.5."
   ]
  },
  {
   "cell_type": "code",
   "execution_count": 30,
   "metadata": {},
   "outputs": [
    {
     "name": "stdout",
     "output_type": "stream",
     "text": [
      "GaussianNB()\n",
      "AUC score:  0.5442\n",
      "Fbeta score (7):  0.7882\n"
     ]
    }
   ],
   "source": [
    "naive = GaussianNB()\n",
    "fpr_naive, tpr_naive, auc_score_naive, f7_naive = model_run(\n",
    "    naive,\n",
    "    X_train,\n",
    "    y_train,\n",
    "    X_test,\n",
    "    y_test,\n",
    "    cols=X_train.columns\n",
    ")"
   ]
  },
  {
   "cell_type": "markdown",
   "metadata": {},
   "source": [
    "### Logistic Regression"
   ]
  },
  {
   "cell_type": "code",
   "execution_count": 32,
   "metadata": {
    "_cell_guid": "6462ff85-e3b6-4a5f-b95c-9416841413b1",
    "_uuid": "9e8aba9401e8367f9902d710ba49e820294870e1"
   },
   "outputs": [
    {
     "name": "stdout",
     "output_type": "stream",
     "text": [
      "LogisticRegression()\n",
      "AUC score:  0.5606\n",
      "Fbeta score (7):  0.0004\n"
     ]
    }
   ],
   "source": [
    "logreg = LogisticRegression()\n",
    "fpr_logreg, tpr_logreg, auc_score_logreg, f7_logreg = model_run(\n",
    "    logreg,\n",
    "    X_train,\n",
    "    y_train,\n",
    "    X_test,\n",
    "    y_test,\n",
    "    cols=X_train.columns\n",
    ")"
   ]
  },
  {
   "cell_type": "markdown",
   "metadata": {},
   "source": [
    "### Random Forest"
   ]
  },
  {
   "cell_type": "code",
   "execution_count": 34,
   "metadata": {},
   "outputs": [
    {
     "name": "stdout",
     "output_type": "stream",
     "text": [
      "RandomForestClassifier()\n",
      "AUC score:  0.6927\n",
      "Fbeta score (7):  0.0039\n"
     ]
    }
   ],
   "source": [
    "rndfor = RandomForestClassifier()\n",
    "fpr_rndfor, tpr_rndfor, auc_score_rndfor, f7_rndfor = model_run(\n",
    "    rndfor,\n",
    "    X_train,\n",
    "    y_train,\n",
    "    X_test,\n",
    "    y_test,\n",
    "    cols=X_train.columns\n",
    ")"
   ]
  },
  {
   "cell_type": "markdown",
   "metadata": {},
   "source": [
    "### LightGBM"
   ]
  },
  {
   "cell_type": "code",
   "execution_count": 35,
   "metadata": {},
   "outputs": [],
   "source": [
    "# features format\n",
    "X_train_re = X_train.rename(columns=lambda x: re.sub('[^A-Za-z0-9_]+', '', x))\n",
    "X_test_re = X_test.rename(columns=lambda x: re.sub('[^A-Za-z0-9_]+', '', x))"
   ]
  },
  {
   "cell_type": "code",
   "execution_count": 36,
   "metadata": {
    "scrolled": true
   },
   "outputs": [
    {
     "name": "stdout",
     "output_type": "stream",
     "text": [
      "LGBMClassifier()\n",
      "AUC score:  0.7594\n",
      "Fbeta score (7):  0.0201\n"
     ]
    }
   ],
   "source": [
    "liggbm = LGBMClassifier()\n",
    "fpr_liggbm, tpr_liggbm, auc_score_liggbm, f7_liggbm = model_run(\n",
    "    liggbm,\n",
    "    X_train_re,\n",
    "    y_train,\n",
    "    X_test_re,\n",
    "    y_test,\n",
    "    cols=X_train_re.columns\n",
    ")"
   ]
  },
  {
   "cell_type": "markdown",
   "metadata": {},
   "source": [
    "### Collect results"
   ]
  },
  {
   "cell_type": "code",
   "execution_count": 37,
   "metadata": {},
   "outputs": [],
   "source": [
    "# Collect results\n",
    "classifier_names = [\n",
    "    'Gaussian Naive Bayes',\n",
    "    'Logistic Regression',\n",
    "    'Random Forest',\n",
    "    'LightGBM']\n",
    "auc_scores = [\n",
    "    auc_score_naive,\n",
    "    auc_score_logreg,\n",
    "    auc_score_rndfor,\n",
    "    auc_score_liggbm]\n",
    "f7_scores = [\n",
    "    f7_naive,\n",
    "    f7_logreg,\n",
    "    f7_rndfor,\n",
    "    f7_liggbm]"
   ]
  },
  {
   "cell_type": "code",
   "execution_count": 38,
   "metadata": {},
   "outputs": [
    {
     "data": {
      "image/png": "[encoded data removed]",
      "text/plain": [
       "<Figure size 720x720 with 2 Axes>"
      ]
     },
     "metadata": {},
     "output_type": "display_data"
    }
   ],
   "source": [
    "# display results\n",
    "sns.set_color_codes(\"colorblind\")\n",
    "plt.figure(figsize=(10, 10))\n",
    "plt.subplot(211)\n",
    "plt.title('Classifiers scores: Area Under Roc Curve, Fbeta (7)')\n",
    "s1 = sns.barplot(x=classifier_names, y=auc_scores)\n",
    "s1.set_xticklabels(s1.get_xticklabels(), rotation=90)\n",
    "plt.ylabel('AUC scores', fontsize=12)\n",
    "plt.subplot(212)\n",
    "s2 = sns.barplot(x=classifier_names, y=f7_scores)\n",
    "s2.set_xticklabels(s2.get_xticklabels(), rotation=90)\n",
    "plt.ylabel('Fbeta scores', fontsize=12)\n",
    "plt.tick_params(axis='both', which='major', labelsize=12)\n",
    "plt.subplots_adjust(hspace=0.5)\n",
    "plt.show()"
   ]
  },
  {
   "cell_type": "code",
   "execution_count": 39,
   "metadata": {
    "scrolled": false
   },
   "outputs": [
    {
     "data": {
      "text/plain": [
       "Text(0, 0.5, 'True Positive Rate')"
      ]
     },
     "execution_count": 39,
     "metadata": {},
     "output_type": "execute_result"
    },
    {
     "data": {
      "image/png": "[encoded data removed]",
      "text/plain": [
       "<Figure size 720x576 with 1 Axes>"
      ]
     },
     "metadata": {},
     "output_type": "display_data"
    }
   ],
   "source": [
    "# display roc curves\n",
    "fig = plt.figure(figsize=(10, 8))\n",
    "ax = fig.add_subplot(111)\n",
    "ax.plot(\n",
    "    fpr_naive,\n",
    "    tpr_naive,\n",
    "    label=str(classifier_names[0])\n",
    "    + ' AUC: '\n",
    "    + str(round(auc_score_naive, 3)))\n",
    "ax.plot(\n",
    "    fpr_logreg,\n",
    "    tpr_logreg,\n",
    "    label=str(classifier_names[1])\n",
    "    + ' AUC: '\n",
    "    + str(round(auc_score_logreg, 3)))\n",
    "ax.plot(\n",
    "    fpr_rndfor,\n",
    "    tpr_rndfor,\n",
    "    label=str(classifier_names[2])\n",
    "    + ' AUC: '\n",
    "    + str(round(auc_score_rndfor, 3)))\n",
    "ax.plot(\n",
    "    fpr_liggbm,\n",
    "    tpr_liggbm,\n",
    "    label=str(classifier_names[3])\n",
    "    + ' AUC: '\n",
    "    + str(round(auc_score_liggbm, 3)))\n",
    "ax.plot([0, 1], [0, 1], linewidth=2, linestyle='--')\n",
    "plt.legend(loc=\"best\")\n",
    "plt.title(\"Classifiers ROC curves & AUC values\")\n",
    "plt.xlabel(\"False Positive Rate\")\n",
    "plt.ylabel(\"True Positive Rate\")"
   ]
  },
  {
   "cell_type": "markdown",
   "metadata": {},
   "source": [
    "## Cross Validation optimization (case of LightGBM)"
   ]
  },
  {
   "cell_type": "code",
   "execution_count": 57,
   "metadata": {
    "scrolled": true
   },
   "outputs": [
    {
     "name": "stderr",
     "output_type": "stream",
     "text": [
      "31:80: E501 line too long (92 > 79 characters)\n",
      "33:80: E501 line too long (92 > 79 characters)\n",
      "46:80: E501 line too long (81 > 79 characters)\n",
      "48:80: E501 line too long (111 > 79 characters)\n",
      "50:80: E501 line too long (108 > 79 characters)\n",
      "61:5: F841 local variable 'test_predictions' is assigned to but never used\n",
      "61:80: E501 line too long (84 > 79 characters)\n",
      "63:80: E501 line too long (107 > 79 characters)\n",
      "75:56: W291 trailing whitespace\n",
      "76:80: E501 line too long (82 > 79 characters)\n",
      "77:25: E221 multiple spaces before operator\n",
      "78:22: E231 missing whitespace after ','\n",
      "84:80: E501 line too long (101 > 79 characters)\n",
      "84:102: W291 trailing whitespace\n"
     ]
    }
   ],
   "source": [
    "def model_classify(model_in, dtrain_X, dtrain_Y, dtest_X, dtest_Y, n_folds=5):\n",
    "    \"\"\"Train and test a model using cross validation.\n",
    "    \"\"\"\n",
    "    # Extract the ids\n",
    "    # train_ids = dtrain_X.index\n",
    "    test_ids = dtest_X.index\n",
    "    print('Training Data Shape: ', dtrain_X.shape)\n",
    "    print('Testing Data Shape: ', dtest_X.shape)\n",
    "    # Extract feature names\n",
    "    feature_names = list(dtrain_X.columns)\n",
    "    # Convert to np arrays\n",
    "    features = np.array(dtrain_X)\n",
    "    test_features = np.array(dtest_X)\n",
    "    # Create the kfold object\n",
    "    k_fold = KFold(n_splits=n_folds, shuffle=True, random_state=50)\n",
    "    # Empty array for feature importances\n",
    "    feature_importance_values = np.zeros(len(feature_names))\n",
    "    # Empty array for test predictions\n",
    "    predictions = np.zeros(test_features.shape[0])\n",
    "    predictions_class = np.zeros(test_features.shape[0])\n",
    "    # Empty array for out of fold validation predictions\n",
    "    out_of_fold = np.zeros(features.shape[0])\n",
    "    # Lists for recording validation and training scores\n",
    "    valid_scores = []\n",
    "    train_scores = []\n",
    "    # print model\n",
    "    print(model_in)\n",
    "    # Iterate through each fold\n",
    "    for train_indices, valid_indices in k_fold.split(features):\n",
    "        # Training data for the fold\n",
    "        train_features, train_labels = features[train_indices], dtrain_Y.iloc[train_indices]\n",
    "        # Validation data for the fold\n",
    "        valid_features, valid_labels = features[valid_indices], dtrain_Y.iloc[valid_indices]\n",
    "        model = model_in\n",
    "        # Train the model\n",
    "        model.fit(train_features,\n",
    "                  train_labels,\n",
    "                  eval_metric='auc',\n",
    "                  eval_set=[(valid_features, valid_labels),\n",
    "                            (train_features, train_labels)],\n",
    "                  eval_names=['valid', 'train'],\n",
    "                  early_stopping_rounds=100, verbose=200)\n",
    "        # Record the best iteration\n",
    "        best_iteration = model.best_iteration_\n",
    "        # Record the feature importances\n",
    "        feature_importance_values += model.feature_importances_ / k_fold.n_splits\n",
    "        # Make predictions\n",
    "        predictions += model.predict_proba(test_features, num_iteration=best_iteration)[:, 1] / k_fold.n_splits\n",
    "        # Record the out of fold predictions\n",
    "        out_of_fold[valid_indices] = model.predict_proba(valid_features, num_iteration=best_iteration)[:, 1]\n",
    "        # Record the best score\n",
    "        valid_score = model.best_score_['valid']['auc']\n",
    "        train_score = model.best_score_['train']['auc']\n",
    "        valid_scores.append(valid_score)\n",
    "        train_scores.append(train_score)\n",
    "        # Clean up memory\n",
    "        gc.enable()\n",
    "        del train_features, valid_features\n",
    "        gc.collect()\n",
    "    # Make the predictions dataframe\n",
    "    test_predictions = pd.DataFrame({'SK_ID_CURR': test_ids, 'TARGET': predictions})\n",
    "    # Make the feature importance dataframe\n",
    "    feature_importances = pd.DataFrame({'feature': feature_names, 'importance': feature_importance_values})\n",
    "    # Overall validation score\n",
    "    valid_auc = roc_auc_score(dtrain_Y, out_of_fold)\n",
    "    # Add the overall scores to the metrics\n",
    "    valid_scores.append(valid_auc)\n",
    "    train_scores.append(np.mean(train_scores))\n",
    "    # Needed for creating dataframe of validation scores\n",
    "    fold_names = list(range(n_folds))\n",
    "    fold_names.append('overall')\n",
    "    # Dataframe of validation scores\n",
    "    fold_scores = pd.DataFrame({'fold': fold_names,\n",
    "                                'train': train_scores,\n",
    "                                'valid': valid_scores}) \n",
    "    predictions_proba = model.predict(test_features, num_iteration=best_iteration)\n",
    "    predictions_class = model.predict_proba(test_features, num_iteration=best_iteration)\n",
    "    with open(\"cv_opt/predictions_proba\", mode=\"wb\") as f:\n",
    "        pickle.dump(predictions_proba, f)\n",
    "    with open(\"cv_opt/predictions_class\", mode=\"wb\") as f:\n",
    "        pickle.dump(predictions_proba, f)\n",
    "    fpr, tpr, thresholds   = roc_curve(dtest_Y, predictions)\n",
    "    auc_roc = auc(fpr,tpr)\n",
    "    f1_sc = f1_score(dtest_Y, predictions_class)\n",
    "    f7 = fbeta_score(dtest_Y, predictions_class, beta=7)\n",
    "    accuracy = accuracy_score(dtest_Y, predictions_class)\n",
    "    classify_metrics = classification_report(dtest_Y, predictions_class)\n",
    "    print(model)\n",
    "    return feature_importances, classify_metrics, fold_scores, accuracy, f1_sc, f7, auc_roc, fpr, tpr "
   ]
  },
  {
   "cell_type": "code",
   "execution_count": 58,
   "metadata": {
    "scrolled": true
   },
   "outputs": [
    {
     "name": "stdout",
     "output_type": "stream",
     "text": [
      "Training Data Shape:  (246005, 271)\n",
      "Testing Data Shape:  (61502, 271)\n",
      "LGBMClassifier(class_weight='balanced', learning_rate=0.05, n_estimators=10000,\n",
      "               objective='binary', random_state=42, reg_alpha=0.1,\n",
      "               reg_lambda=0.1, subsample=0.8)\n",
      "Training until validation scores don't improve for 100 rounds\n",
      "[200]\ttrain's auc: 0.822923\ttrain's binary_logloss: 0.52941\tvalid's auc: 0.752589\tvalid's binary_logloss: 0.551603\n",
      "[400]\ttrain's auc: 0.866577\ttrain's binary_logloss: 0.484065\tvalid's auc: 0.752643\tvalid's binary_logloss: 0.522561\n",
      "Early stopping, best iteration is:\n",
      "[330]\ttrain's auc: 0.853358\ttrain's binary_logloss: 0.498344\tvalid's auc: 0.75332\tvalid's binary_logloss: 0.531581\n",
      "Training until validation scores don't improve for 100 rounds\n",
      "[200]\ttrain's auc: 0.820952\ttrain's binary_logloss: 0.531839\tvalid's auc: 0.759846\tvalid's binary_logloss: 0.553274\n",
      "[400]\ttrain's auc: 0.864304\ttrain's binary_logloss: 0.486598\tvalid's auc: 0.760761\tvalid's binary_logloss: 0.524026\n",
      "Early stopping, best iteration is:\n",
      "[358]\ttrain's auc: 0.856841\ttrain's binary_logloss: 0.494677\tvalid's auc: 0.761128\tvalid's binary_logloss: 0.529204\n",
      "Training until validation scores don't improve for 100 rounds\n",
      "[200]\ttrain's auc: 0.820777\ttrain's binary_logloss: 0.532099\tvalid's auc: 0.760337\tvalid's binary_logloss: 0.552872\n",
      "Early stopping, best iteration is:\n",
      "[292]\ttrain's auc: 0.842981\ttrain's binary_logloss: 0.510026\tvalid's auc: 0.760706\tvalid's binary_logloss: 0.538785\n",
      "Training until validation scores don't improve for 100 rounds\n",
      "[200]\ttrain's auc: 0.821537\ttrain's binary_logloss: 0.53131\tvalid's auc: 0.762539\tvalid's binary_logloss: 0.549559\n",
      "Early stopping, best iteration is:\n",
      "[241]\ttrain's auc: 0.831881\ttrain's binary_logloss: 0.520916\tvalid's auc: 0.762943\tvalid's binary_logloss: 0.54267\n",
      "Training until validation scores don't improve for 100 rounds\n",
      "[200]\ttrain's auc: 0.822783\ttrain's binary_logloss: 0.529498\tvalid's auc: 0.750965\tvalid's binary_logloss: 0.555823\n",
      "[400]\ttrain's auc: 0.866553\ttrain's binary_logloss: 0.48378\tvalid's auc: 0.751408\tvalid's binary_logloss: 0.527075\n",
      "Early stopping, best iteration is:\n",
      "[303]\ttrain's auc: 0.847261\ttrain's binary_logloss: 0.504126\tvalid's auc: 0.752444\tvalid's binary_logloss: 0.539715\n"
     ]
    },
    {
     "name": "stderr",
     "output_type": "stream",
     "text": [
      "11:80: E501 line too long (111 > 79 characters)\n",
      "11:93: E221 multiple spaces before operator\n"
     ]
    },
    {
     "name": "stdout",
     "output_type": "stream",
     "text": [
      "LGBMClassifier(class_weight='balanced', learning_rate=0.05, n_estimators=10000,\n",
      "               objective='binary', random_state=42, reg_alpha=0.1,\n",
      "               reg_lambda=0.1, subsample=0.8)\n",
      "Baseline metrics\n",
      "      fold     train     valid\n",
      "0        0  0.853358  0.753320\n",
      "1        1  0.856841  0.761128\n",
      "2        2  0.842981  0.760706\n",
      "3        3  0.831881  0.762943\n",
      "4        4  0.847261  0.752444\n",
      "5  overall  0.846464  0.758005\n"
     ]
    }
   ],
   "source": [
    "model = LGBMClassifier(n_estimators=10000,\n",
    "                       objective='binary',\n",
    "                       class_weight='balanced',\n",
    "                       learning_rate=0.05,\n",
    "                       reg_alpha=0.1,\n",
    "                       reg_lambda=0.1,\n",
    "                       subsample=0.8,\n",
    "                       n_jobs=-1,\n",
    "                       random_state=42)\n",
    "\n",
    "feature_importances, classify_metrics, fold_scores, accuracy, f1_sc, f7, auc_score, fpr, tpr  = model_classify(\n",
    "    model,\n",
    "    X_train_re,\n",
    "    y_train,\n",
    "    X_test_re,\n",
    "    y_test)\n",
    "\n",
    "print('Baseline metrics')\n",
    "print(fold_scores)"
   ]
  },
  {
   "cell_type": "code",
   "execution_count": 59,
   "metadata": {
    "scrolled": true
   },
   "outputs": [
    {
     "name": "stdout",
     "output_type": "stream",
     "text": [
      "Accuracy score :  0.7294234333842802\n",
      "F1 score :  0.28156974485170316\n",
      "Fbeta-7 score :  0.6235587017129219\n",
      "AUC :  0.7649332297446009\n",
      "classification report :\n",
      "               precision    recall  f1-score   support\n",
      "\n",
      "         0.0       0.96      0.74      0.83     56537\n",
      "         1.0       0.18      0.66      0.28      4965\n",
      "\n",
      "    accuracy                           0.73     61502\n",
      "   macro avg       0.57      0.70      0.56     61502\n",
      "weighted avg       0.90      0.73      0.79     61502\n",
      "\n"
     ]
    },
    {
     "data": {
      "text/plain": [
       "Text(0, 0.5, 'True Positive Rate')"
      ]
     },
     "execution_count": 59,
     "metadata": {},
     "output_type": "execute_result"
    },
    {
     "data": {
      "image/png": "[encoded data removed]",
      "text/plain": [
       "<Figure size 720x576 with 1 Axes>"
      ]
     },
     "metadata": {},
     "output_type": "display_data"
    },
    {
     "name": "stderr",
     "output_type": "stream",
     "text": [
      "1:6: E211 whitespace before '('\n",
      "2:6: E211 whitespace before '('\n",
      "3:6: E211 whitespace before '('\n",
      "4:6: E211 whitespace before '('\n",
      "5:6: E211 whitespace before '('\n",
      "6:1: W293 blank line contains whitespace\n",
      "7:29: E231 missing whitespace after ','\n",
      "8:3: E221 multiple spaces before operator\n",
      "9:80: E501 line too long (92 > 79 characters)\n"
     ]
    }
   ],
   "source": [
    "print (\"Accuracy score : \", accuracy)\n",
    "print (\"F1 score : \", f1_sc)\n",
    "print (\"Fbeta-7 score : \", f7)\n",
    "print (\"AUC : \", auc_score)\n",
    "print (\"classification report :\\n\", classify_metrics)\n",
    "    \n",
    "fig = plt.figure(figsize=(10,8))\n",
    "ax  = fig.add_subplot(111)\n",
    "ax.plot(fpr, tpr, label=[\"Area under curve : \", auc_score], linewidth=2, linestyle=\"dotted\")\n",
    "ax.plot([0, 1], [0, 1], linewidth=2, linestyle=\"dashed\")\n",
    "plt.legend(loc=\"best\")\n",
    "plt.title(\"ROC-CURVE & AREA UNDER CURVE\")\n",
    "plt.xlabel(\"False Positive Rate\")\n",
    "plt.ylabel(\"True Positive Rate\")"
   ]
  },
  {
   "cell_type": "code",
   "execution_count": 60,
   "metadata": {
    "scrolled": true
   },
   "outputs": [
    {
     "name": "stderr",
     "output_type": "stream",
     "text": [
      "4:66: W291 trailing whitespace\n",
      "6:1: W293 blank line contains whitespace\n",
      "8:48: E251 unexpected spaces around keyword / parameter equals\n",
      "8:50: E251 unexpected spaces around keyword / parameter equals\n",
      "9:1: W293 blank line contains whitespace\n",
      "14:23: E251 unexpected spaces around keyword / parameter equals\n",
      "14:25: E251 unexpected spaces around keyword / parameter equals\n",
      "16:1: W293 blank line contains whitespace\n",
      "18:49: W291 trailing whitespace\n",
      "19:50: W291 trailing whitespace\n",
      "20:18: E251 unexpected spaces around keyword / parameter equals\n",
      "20:20: E251 unexpected spaces around keyword / parameter equals\n",
      "20:40: E251 unexpected spaces around keyword / parameter equals\n",
      "20:42: E251 unexpected spaces around keyword / parameter equals\n",
      "21:1: W293 blank line contains whitespace\n",
      "25:1: W293 blank line contains whitespace\n",
      "27:40: E702 multiple statements on one line (semicolon)\n",
      "29:1: W293 blank line contains whitespace\n"
     ]
    }
   ],
   "source": [
    "def plot_feature_importances(df):\n",
    "    \"\"\"\n",
    "    Plot importances returned by a model. This can work with any measure of\n",
    "    feature importance provided that higher importance is better. \n",
    "    \"\"\"\n",
    "    \n",
    "    # Sort features according to importance\n",
    "    df = df.sort_values('importance', ascending = False).reset_index()\n",
    "    \n",
    "    # Normalize the feature importances to add up to one\n",
    "    df['importance_normalized'] = df['importance'] / df['importance'].sum()\n",
    "\n",
    "    # Make a horizontal bar chart of feature importances\n",
    "    plt.figure(figsize = (10, 6))\n",
    "    ax = plt.subplot()\n",
    "    \n",
    "    # Need to reverse the index to plot most important on top\n",
    "    ax.barh(list(reversed(list(df.index[:15]))), \n",
    "            df['importance_normalized'].head(15), \n",
    "            align = 'center', edgecolor = 'k')\n",
    "    \n",
    "    # Set the yticks and labels\n",
    "    ax.set_yticks(list(reversed(list(df.index[:15]))))\n",
    "    ax.set_yticklabels(df['feature'].head(15))\n",
    "    \n",
    "    # Plot labeling\n",
    "    plt.xlabel('Normalized Importance'); plt.title('Feature Importances')\n",
    "    plt.show()\n",
    "    \n",
    "    return df"
   ]
  },
  {
   "cell_type": "code",
   "execution_count": 61,
   "metadata": {
    "scrolled": true
   },
   "outputs": [
    {
     "data": {
      "image/png": "[encoded data removed]",
      "text/plain": [
       "<Figure size 720x432 with 1 Axes>"
      ]
     },
     "metadata": {},
     "output_type": "display_data"
    }
   ],
   "source": [
    "# Show the feature importances for the new features\n",
    "feature_importances_sorted = plot_feature_importances(feature_importances)"
   ]
  },
  {
   "cell_type": "markdown",
   "metadata": {},
   "source": [
    "## Optimization"
   ]
  },
  {
   "cell_type": "markdown",
   "metadata": {},
   "source": [
    "Each classifier comes with its own set of hyperparameters, and those first rough results are worthless because default parameters may be wrong in our case."
   ]
  },
  {
   "cell_type": "markdown",
   "metadata": {},
   "source": [
    "### initialiaze search space"
   ]
  },
  {
   "cell_type": "code",
   "execution_count": 62,
   "metadata": {},
   "outputs": [],
   "source": [
    "# Initializing the search space\n",
    "space = {}"
   ]
  },
  {
   "cell_type": "markdown",
   "metadata": {},
   "source": [
    "### preprocessing"
   ]
  },
  {
   "cell_type": "markdown",
   "metadata": {},
   "source": [
    "here we could evaluate how preprocessing steps affect the results."
   ]
  },
  {
   "cell_type": "markdown",
   "metadata": {},
   "source": [
    "### models parameters"
   ]
  },
  {
   "cell_type": "code",
   "execution_count": 63,
   "metadata": {},
   "outputs": [],
   "source": [
    "models_spaces = {}"
   ]
  },
  {
   "cell_type": "code",
   "execution_count": 157,
   "metadata": {},
   "outputs": [
    {
     "data": {
      "text/plain": [
       "{'priors': None, 'var_smoothing': 1e-09}"
      ]
     },
     "execution_count": 157,
     "metadata": {},
     "output_type": "execute_result"
    }
   ],
   "source": [
    "naive.get_params()"
   ]
  },
  {
   "cell_type": "code",
   "execution_count": 156,
   "metadata": {},
   "outputs": [],
   "source": [
    "models_spaces['naive'] = {\n",
    "    'model': GaussianNB\n",
    "}"
   ]
  },
  {
   "cell_type": "code",
   "execution_count": 64,
   "metadata": {},
   "outputs": [
    {
     "data": {
      "text/plain": [
       "{'C': 1.0,\n",
       " 'class_weight': None,\n",
       " 'dual': False,\n",
       " 'fit_intercept': True,\n",
       " 'intercept_scaling': 1,\n",
       " 'l1_ratio': None,\n",
       " 'max_iter': 100,\n",
       " 'multi_class': 'auto',\n",
       " 'n_jobs': None,\n",
       " 'penalty': 'l2',\n",
       " 'random_state': None,\n",
       " 'solver': 'lbfgs',\n",
       " 'tol': 0.0001,\n",
       " 'verbose': 0,\n",
       " 'warm_start': False}"
      ]
     },
     "execution_count": 64,
     "metadata": {},
     "output_type": "execute_result"
    }
   ],
   "source": [
    "logreg.get_params()"
   ]
  },
  {
   "cell_type": "code",
   "execution_count": 65,
   "metadata": {},
   "outputs": [
    {
     "name": "stderr",
     "output_type": "stream",
     "text": [
      "9:2: W291 trailing whitespace\n"
     ]
    }
   ],
   "source": [
    "models_spaces['logreg'] = {\n",
    "    'model': LogisticRegression,\n",
    "    'C': hp.uniform('logreg_C', 0.0001, 2),\n",
    "    'class_weight': hp.choice('logreg_class_weight', ['balanced', None]),\n",
    "    'tol': hp.uniform('logreg_tol', 0.00001, 0.0001),\n",
    "    'solver': hp.choice('logreg_solver', ['newton-cg', 'lbfgs', 'liblinear']),\n",
    "    'max_iter': hp.choice('logreg_max_iter', range(100, 1000)),\n",
    "    # 'n_jobs': '-1'\n",
    "} "
   ]
  },
  {
   "cell_type": "code",
   "execution_count": 66,
   "metadata": {
    "scrolled": true
   },
   "outputs": [
    {
     "data": {
      "text/plain": [
       "{'bootstrap': True,\n",
       " 'ccp_alpha': 0.0,\n",
       " 'class_weight': None,\n",
       " 'criterion': 'gini',\n",
       " 'max_depth': None,\n",
       " 'max_features': 'auto',\n",
       " 'max_leaf_nodes': None,\n",
       " 'max_samples': None,\n",
       " 'min_impurity_decrease': 0.0,\n",
       " 'min_impurity_split': None,\n",
       " 'min_samples_leaf': 1,\n",
       " 'min_samples_split': 2,\n",
       " 'min_weight_fraction_leaf': 0.0,\n",
       " 'n_estimators': 100,\n",
       " 'n_jobs': None,\n",
       " 'oob_score': False,\n",
       " 'random_state': None,\n",
       " 'verbose': 0,\n",
       " 'warm_start': False}"
      ]
     },
     "execution_count": 66,
     "metadata": {},
     "output_type": "execute_result"
    }
   ],
   "source": [
    "rndfor.get_params()"
   ]
  },
  {
   "cell_type": "code",
   "execution_count": 67,
   "metadata": {},
   "outputs": [
    {
     "name": "stderr",
     "output_type": "stream",
     "text": [
      "6:80: E501 line too long (88 > 79 characters)\n"
     ]
    }
   ],
   "source": [
    "models_spaces['rndfor'] = {\n",
    "    'model': RandomForestClassifier,\n",
    "    'class_weight': hp.choice('rndfor_class_weight', ['balanced', None]),\n",
    "    'max_depth': hp.choice('rndfor_max_depth', np.arange(1, 30, dtype=int)),\n",
    "    'max_features': hp.choice('rndfor_max_features', range(1, 3)),\n",
    "    'n_estimators': hp.choice('rndfor_n_estimators', np.arange(10, 800, 50, dtype=int)),\n",
    "    'criterion': hp.choice('rndfor_criterion', [\"gini\", \"entropy\"]),\n",
    "    # 'n_jobs': '-1'\n",
    "}"
   ]
  },
  {
   "cell_type": "code",
   "execution_count": 68,
   "metadata": {
    "scrolled": true
   },
   "outputs": [
    {
     "data": {
      "text/plain": [
       "{'boosting_type': 'gbdt',\n",
       " 'class_weight': None,\n",
       " 'colsample_bytree': 1.0,\n",
       " 'importance_type': 'split',\n",
       " 'learning_rate': 0.1,\n",
       " 'max_depth': -1,\n",
       " 'min_child_samples': 20,\n",
       " 'min_child_weight': 0.001,\n",
       " 'min_split_gain': 0.0,\n",
       " 'n_estimators': 100,\n",
       " 'n_jobs': -1,\n",
       " 'num_leaves': 31,\n",
       " 'objective': None,\n",
       " 'random_state': None,\n",
       " 'reg_alpha': 0.0,\n",
       " 'reg_lambda': 0.0,\n",
       " 'silent': True,\n",
       " 'subsample': 1.0,\n",
       " 'subsample_for_bin': 200000,\n",
       " 'subsample_freq': 0}"
      ]
     },
     "execution_count": 68,
     "metadata": {},
     "output_type": "execute_result"
    }
   ],
   "source": [
    "liggbm.get_params()"
   ]
  },
  {
   "cell_type": "code",
   "execution_count": 69,
   "metadata": {},
   "outputs": [
    {
     "name": "stderr",
     "output_type": "stream",
     "text": [
      "3:80: E501 line too long (88 > 79 characters)\n",
      "6:80: E501 line too long (82 > 79 characters)\n"
     ]
    }
   ],
   "source": [
    "models_spaces['liggbm'] = {\n",
    "    'model': LGBMClassifier,\n",
    "    'n_estimators': hp.choice('liggbm_n_estimators', np.arange(10, 810, 50, dtype=int)),\n",
    "    'class_weight': hp.choice('liggbm_class_weight', ['balanced', None]),\n",
    "    'max_depth': hp.choice('liggbm_max_depth', np.arange(1, 30, dtype=int)),\n",
    "    'num_leaves': hp.choice('liggbm_num_leaves', np.arange(4, 101, 4, dtype=int)),\n",
    "    # 'n_jobs': '-1'\n",
    "}"
   ]
  },
  {
   "cell_type": "code",
   "execution_count": 70,
   "metadata": {},
   "outputs": [],
   "source": [
    "# choice of a model into collection of models_spaces\n",
    "space['models_spaces'] = hp.choice(\n",
    "        'models_spaces',\n",
    "        [models_spaces[key] for key in models_spaces]\n",
    "    )"
   ]
  },
  {
   "cell_type": "code",
   "execution_count": 71,
   "metadata": {},
   "outputs": [],
   "source": [
    "# Create the Tree Parzen Estimator algorithm\n",
    "tpe_algorithm = tpe.suggest"
   ]
  },
  {
   "cell_type": "markdown",
   "metadata": {},
   "source": [
    "### Initiate KFold"
   ]
  },
  {
   "cell_type": "code",
   "execution_count": 72,
   "metadata": {},
   "outputs": [],
   "source": [
    "# initiate Kfold\n",
    "kf = KFold(\n",
    "    n_splits=3,\n",
    "    shuffle=True,\n",
    "    random_state=42,\n",
    ")\n",
    "\n",
    "skf = StratifiedKFold(n_splits=5)"
   ]
  },
  {
   "cell_type": "markdown",
   "metadata": {},
   "source": [
    "### Objective function: FBeta (7)"
   ]
  },
  {
   "cell_type": "code",
   "execution_count": 169,
   "metadata": {},
   "outputs": [],
   "source": [
    "# Define th objective function\n",
    "def obj_fnc(params,\n",
    "            X_opt=X_opt,\n",
    "            y_opt=y_opt):\n",
    "    # display the set of parameters currently evaluated\n",
    "    print('current params:', params)\n",
    "    # get all parameters, except the model\n",
    "    parameters = params['models_spaces'].copy()\n",
    "    del parameters['model']\n",
    "    # create the classifier & its parameters\n",
    "    clf = params['models_spaces']['model'](**parameters)\n",
    "    # Perform n_folds cross validation\n",
    "    start = timer()\n",
    "    print('Cross-val predict in progress…')\n",
    "    y_pred = cross_val_predict(\n",
    "        clf,\n",
    "        X_opt,\n",
    "        y_opt,\n",
    "        method='predict',\n",
    "        cv=skf)\n",
    "    # Compute score\n",
    "    score = fbeta_score(y_opt, y_pred, beta=7)\n",
    "    # return loss and status\n",
    "    loss = 1 - score\n",
    "\n",
    "    run_time = timer() - start\n",
    "    # displays results\n",
    "    print(\"Loss of the model:\", loss)\n",
    "    # evaluation dict\n",
    "    dict_eval = {\n",
    "        'loss': loss,\n",
    "        'score': score,\n",
    "        'run_time': run_time,\n",
    "        'status': STATUS_OK,\n",
    "    }\n",
    "    return dict_eval"
   ]
  },
  {
   "cell_type": "code",
   "execution_count": 170,
   "metadata": {},
   "outputs": [
    {
     "name": "stderr",
     "output_type": "stream",
     "text": [
      "9:5: E722 do not use bare 'except'\n"
     ]
    }
   ],
   "source": [
    "def run_trials():\n",
    "    trials_step = 1  # nb add trials after loading (1: save after iteration)\n",
    "    initial_evals = 1  # initial max_trials.\n",
    "    try:  # try to load an already saved trials object, and increase the max\n",
    "        hypopt_trials = pickle.load(open(\"hp_trials/trials.hyperopt\", \"rb\"))\n",
    "        print(\"Found saved Trials! Loading...\")\n",
    "        max_evals = len(hypopt_trials.trials) + trials_step\n",
    "        print(\"Rerunning from {} trials.\".format(len(hypopt_trials.trials)))\n",
    "    except:  # create a new trials object and start searching\n",
    "        print(\"Unable to load previous trials...\")\n",
    "        hypopt_trials = Trials()\n",
    "        max_evals = initial_evals\n",
    "    # Optimisation accross the search space\n",
    "    global best_params\n",
    "    best_params = fmin(\n",
    "        obj_fnc,\n",
    "        space=space,\n",
    "        algo=tpe.suggest,\n",
    "        max_evals=max_evals,\n",
    "        trials=hypopt_trials\n",
    "    )\n",
    "    # save the trials object\n",
    "    with open(\"hp_trials/trials.hyperopt\", mode=\"wb\") as f:\n",
    "        pickle.dump(hypopt_trials, f)\n",
    "    # get the best_params and save them\n",
    "    best_params = space_eval(space, best_params)\n",
    "    with open(\"hp_trials/best_params.hyperopt\", mode=\"wb\") as f:\n",
    "        pickle.dump(best_params, f)\n",
    "    # print the main results\n",
    "    print(\n",
    "        # \"\\nAlgo:\", best_params['models_spaces']['model'],\n",
    "        \"\\nBest loss:\", hypopt_trials.best_trial['result']['loss'],\n",
    "        # \"\\nPreprocessing:\", best_params['preprocessing_steps'],\n",
    "        # \"\\nModel params:\", best_params['models_spaces'],\n",
    "        \"\\n----------------------\",\n",
    "    )"
   ]
  },
  {
   "cell_type": "markdown",
   "metadata": {},
   "source": [
    "### Perform \"hyperopt\""
   ]
  },
  {
   "cell_type": "markdown",
   "metadata": {},
   "source": [
    "Here we launch a persistant search, keeping an eye on the Best loss evolution. For further use, a stop point could be implemented, for instance if Best loss does not change for a given number of iterations."
   ]
  },
  {
   "cell_type": "code",
   "execution_count": 172,
   "metadata": {
    "scrolled": true
   },
   "outputs": [
    {
     "name": "stdout",
     "output_type": "stream",
     "text": [
      "\n",
      "RUNNING... Press 'ESC' key to interrupt.\n",
      "Unable to load previous trials...\n",
      "current params:                                                                                                        \n",
      "{'models_spaces': {'C': 0.9344434156900799, 'class_weight': None, 'max_iter': 812, 'model': <class 'sklearn.linear_model._logistic.LogisticRegression'>, 'solver': 'liblinear', 'tol': 4.285474218948301e-05}}\n",
      "Cross-val predict in progress…                                                                                         \n",
      "Loss of the model:                                                                                                     \n",
      "0.9587572174869398                                                                                                     \n",
      "100%|██████████████████████████████████████████████████| 1/1 [00:01<00:00,  1.81s/trial, best loss: 0.9587572174869398]\n",
      "\n",
      "Best loss: 0.9587572174869398 \n",
      "----------------------\n",
      "\n",
      "RUNNING... Press 'ESC' key to interrupt.\n",
      "Found saved Trials! Loading...\n",
      "Rerunning from 1 trials.\n",
      "current params:                                                                                                        \n",
      "{'models_spaces': {'C': 1.5660498109103924, 'class_weight': 'balanced', 'max_iter': 250, 'model': <class 'sklearn.linear_model._logistic.LogisticRegression'>, 'solver': 'lbfgs', 'tol': 7.309398518835741e-05}}\n",
      "Cross-val predict in progress…                                                                                         \n",
      "Loss of the model:                                                                                                     \n",
      "0.7611264772441539                                                                                                     \n",
      "100%|██████████████████████████████████████████████████| 2/2 [00:00<00:00,  1.03trial/s, best loss: 0.7611264772441539]\n",
      "\n",
      "Best loss: 0.7611264772441539 \n",
      "----------------------\n",
      "\n",
      "RUNNING... Press 'ESC' key to interrupt.\n",
      "Found saved Trials! Loading...\n",
      "Rerunning from 2 trials.\n",
      "current params:                                                                                                        \n",
      "{'models_spaces': {'class_weight': 'balanced', 'max_depth': 28, 'model': <class 'lightgbm.sklearn.LGBMClassifier'>, 'n_estimators': 10, 'num_leaves': 52}}\n",
      "Cross-val predict in progress…                                                                                         \n",
      "Loss of the model:                                                                                                     \n",
      "0.9325782092772383                                                                                                     \n",
      "100%|██████████████████████████████████████████████████| 3/3 [00:01<00:00,  1.03s/trial, best loss: 0.7611264772441539]\n",
      "\n",
      "Best loss: 0.7611264772441539 \n",
      "----------------------\n",
      "\n",
      "RUNNING... Press 'ESC' key to interrupt.\n",
      "Found saved Trials! Loading...\n",
      "Rerunning from 3 trials.\n",
      "current params:                                                                                                        \n",
      "{'models_spaces': {'class_weight': None, 'criterion': 'gini', 'max_depth': 3, 'max_features': 1, 'model': <class 'sklearn.ensemble._forest.RandomForestClassifier'>, 'n_estimators': 310}}\n",
      "Cross-val predict in progress…                                                                                         \n",
      "Loss of the model:                                                                                                     \n",
      "1.0                                                                                                                    \n",
      "100%|██████████████████████████████████████████████████| 4/4 [00:02<00:00,  2.47s/trial, best loss: 0.7611264772441539]\n",
      "\n",
      "Best loss: 0.7611264772441539 \n",
      "----------------------\n",
      "\n",
      "RUNNING... Press 'ESC' key to interrupt.\n",
      "Found saved Trials! Loading...\n",
      "Rerunning from 4 trials.\n",
      "current params:                                                                                                        \n",
      "{'models_spaces': {'C': 0.7574321096560064, 'class_weight': None, 'max_iter': 280, 'model': <class 'sklearn.linear_model._logistic.LogisticRegression'>, 'solver': 'newton-cg', 'tol': 2.5877907192467005e-05}}\n",
      "Cross-val predict in progress…                                                                                         \n",
      "Loss of the model:                                                                                                     \n",
      "0.9589603283173734                                                                                                     \n",
      "100%|██████████████████████████████████████████████████| 5/5 [00:14<00:00, 14.58s/trial, best loss: 0.7611264772441539]\n",
      "\n",
      "Best loss: 0.7611264772441539 \n",
      "----------------------\n",
      "\n",
      "RUNNING... Press 'ESC' key to interrupt.\n",
      "Found saved Trials! Loading...\n",
      "Rerunning from 5 trials.\n",
      "current params:                                                                                                        \n",
      "{'models_spaces': {'class_weight': 'balanced', 'criterion': 'entropy', 'max_depth': 20, 'max_features': 1, 'model': <class 'sklearn.ensemble._forest.RandomForestClassifier'>, 'n_estimators': 210}}\n",
      "Cross-val predict in progress…                                                                                         \n",
      "Loss of the model:                                                                                                     \n",
      "1.0                                                                                                                    \n",
      "100%|██████████████████████████████████████████████████| 6/6 [00:02<00:00,  2.40s/trial, best loss: 0.7611264772441539]\n",
      "\n",
      "Best loss: 0.7611264772441539 \n",
      "----------------------\n",
      "\n",
      "RUNNING... Press 'ESC' key to interrupt.\n",
      "Found saved Trials! Loading...\n",
      "Rerunning from 6 trials.\n",
      "current params:                                                                                                        \n",
      "{'models_spaces': {'class_weight': 'balanced', 'criterion': 'entropy', 'max_depth': 15, 'max_features': 2, 'model': <class 'sklearn.ensemble._forest.RandomForestClassifier'>, 'n_estimators': 410}}\n",
      "Cross-val predict in progress…                                                                                         \n",
      "Loss of the model:                                                                                                     \n",
      "1.0                                                                                                                    \n",
      "100%|██████████████████████████████████████████████████| 7/7 [00:04<00:00,  4.83s/trial, best loss: 0.7611264772441539]\n",
      "\n",
      "Best loss: 0.7611264772441539 \n",
      "----------------------\n",
      "\n",
      "RUNNING... Press 'ESC' key to interrupt.\n",
      "Found saved Trials! Loading...\n",
      "Rerunning from 7 trials.\n",
      "current params:                                                                                                        \n",
      "{'models_spaces': {'class_weight': 'balanced', 'criterion': 'entropy', 'max_depth': 1, 'max_features': 2, 'model': <class 'sklearn.ensemble._forest.RandomForestClassifier'>, 'n_estimators': 10}}\n",
      "Cross-val predict in progress…                                                                                         \n",
      "Loss of the model:                                                                                                     \n",
      "0.8198198198198198                                                                                                     \n",
      "100%|██████████████████████████████████████████████████| 8/8 [00:00<00:00,  3.41trial/s, best loss: 0.7611264772441539]\n",
      "\n",
      "Best loss: 0.7611264772441539 \n",
      "----------------------\n",
      "\n",
      "RUNNING... Press 'ESC' key to interrupt.\n",
      "Found saved Trials! Loading...\n",
      "Rerunning from 8 trials.\n",
      "current params:                                                                                                        \n",
      "{'models_spaces': {'class_weight': 'balanced', 'max_depth': 10, 'model': <class 'lightgbm.sklearn.LGBMClassifier'>, 'n_estimators': 110, 'num_leaves': 44}}\n",
      "Cross-val predict in progress…                                                                                         \n",
      "Loss of the model:                                                                                                     \n"
     ]
    },
    {
     "name": "stdout",
     "output_type": "stream",
     "text": [
      "1.0                                                                                                                    \n",
      "100%|██████████████████████████████████████████████████| 9/9 [00:05<00:00,  5.85s/trial, best loss: 0.7611264772441539]\n",
      "\n",
      "Best loss: 0.7611264772441539 \n",
      "----------------------\n",
      "\n",
      "RUNNING... Press 'ESC' key to interrupt.\n",
      "Found saved Trials! Loading...\n",
      "Rerunning from 9 trials.\n",
      "current params:                                                                                                        \n",
      "{'models_spaces': {'class_weight': None, 'criterion': 'entropy', 'max_depth': 28, 'max_features': 2, 'model': <class 'sklearn.ensemble._forest.RandomForestClassifier'>, 'n_estimators': 260}}\n",
      "Cross-val predict in progress…                                                                                         \n",
      "Loss of the model:                                                                                                     \n",
      "1.0                                                                                                                    \n",
      "100%|████████████████████████████████████████████████| 10/10 [00:03<00:00,  3.27s/trial, best loss: 0.7611264772441539]\n",
      "\n",
      "Best loss: 0.7611264772441539 \n",
      "----------------------\n",
      "\n",
      "RUNNING... Press 'ESC' key to interrupt.\n",
      "Found saved Trials! Loading...\n",
      "Rerunning from 10 trials.\n",
      "current params:                                                                                                        \n",
      "{'models_spaces': {'class_weight': None, 'max_depth': 2, 'model': <class 'lightgbm.sklearn.LGBMClassifier'>, 'n_estimators': 510, 'num_leaves': 48}}\n",
      "Cross-val predict in progress…                                                                                         \n",
      "Loss of the model:                                                                                                     \n",
      "0.9862145023435346                                                                                                     \n",
      "100%|████████████████████████████████████████████████| 11/11 [00:03<00:00,  3.18s/trial, best loss: 0.7611264772441539]\n",
      "\n",
      "Best loss: 0.7611264772441539 \n",
      "----------------------\n",
      "\n",
      "RUNNING... Press 'ESC' key to interrupt.\n",
      "Found saved Trials! Loading...\n",
      "Rerunning from 11 trials.\n",
      "current params:                                                                                                        \n",
      "{'models_spaces': {'class_weight': None, 'criterion': 'entropy', 'max_depth': 6, 'max_features': 1, 'model': <class 'sklearn.ensemble._forest.RandomForestClassifier'>, 'n_estimators': 310}}\n",
      "Cross-val predict in progress…                                                                                         \n",
      "Loss of the model:                                                                                                     \n",
      "1.0                                                                                                                    \n",
      "100%|████████████████████████████████████████████████| 12/12 [00:02<00:00,  2.99s/trial, best loss: 0.7611264772441539]\n",
      "\n",
      "Best loss: 0.7611264772441539 \n",
      "----------------------\n",
      "\n",
      "RUNNING... Press 'ESC' key to interrupt.\n",
      "Found saved Trials! Loading...\n",
      "Rerunning from 12 trials.\n",
      "current params:                                                                                                        \n",
      "{'models_spaces': {'C': 0.3633610286022358, 'class_weight': 'balanced', 'max_iter': 535, 'model': <class 'sklearn.linear_model._logistic.LogisticRegression'>, 'solver': 'newton-cg', 'tol': 9.659255664701078e-05}}\n",
      "Cross-val predict in progress…                                                                                         \n",
      "                                                                                                                       \n",
      "INTERRUPTING… Please wait until shut down.\n",
      "Loss of the model:                                                                                                     \n",
      "0.7808713585975766                                                                                                     \n",
      "100%|████████████████████████████████████████████████| 13/13 [01:03<00:00, 63.87s/trial, best loss: 0.7611264772441539]\n",
      "\n",
      "Best loss: 0.7611264772441539 \n",
      "----------------------\n",
      "\n",
      "INTERRUPTED!\n"
     ]
    },
    {
     "name": "stderr",
     "output_type": "stream",
     "text": [
      "13:80: E501 line too long (97 > 79 characters)\n"
     ]
    }
   ],
   "source": [
    "keep_going = True\n",
    "\n",
    "\n",
    "def key_capture_thread():\n",
    "    global keep_going\n",
    "    # blocks until pressing 'Esc'.\n",
    "    keyboard.wait('esc')\n",
    "    keep_going = False\n",
    "    print('\\nINTERRUPTING… Please wait until shut down.')\n",
    "\n",
    "\n",
    "def trials_loop():\n",
    "    th.Thread(target=key_capture_thread, args=(), name='key_capture_thread', daemon=True).start()\n",
    "    while keep_going:\n",
    "        print(\"\\nRUNNING... Press 'ESC' key to interrupt.\")\n",
    "        # launch hyperopt\n",
    "        run_trials()\n",
    "    print('\\nINTERRUPTED!')\n",
    "\n",
    "\n",
    "trials_loop()"
   ]
  },
  {
   "cell_type": "markdown",
   "metadata": {},
   "source": [
    "## Best Model with FBeta Obj"
   ]
  },
  {
   "cell_type": "markdown",
   "metadata": {},
   "source": [
    "### Get model params"
   ]
  },
  {
   "cell_type": "code",
   "execution_count": 85,
   "metadata": {},
   "outputs": [
    {
     "data": {
      "text/plain": [
       "{'models_spaces': {'C': 1.5875034418661245,\n",
       "  'class_weight': 'balanced',\n",
       "  'max_iter': 545,\n",
       "  'model': sklearn.linear_model._logistic.LogisticRegression,\n",
       "  'solver': 'liblinear',\n",
       "  'tol': 1.8112939839851308e-05}}"
      ]
     },
     "execution_count": 85,
     "metadata": {},
     "output_type": "execute_result"
    }
   ],
   "source": [
    "# Load the best_params\n",
    "best_params = pickle.load(open(\"hp_trials/best_params.hyperopt\", \"rb\"))\n",
    "\n",
    "# print current best_params\n",
    "best_params"
   ]
  },
  {
   "cell_type": "code",
   "execution_count": 86,
   "metadata": {},
   "outputs": [],
   "source": [
    "def define_model(params):\n",
    "    # Get the model from parameters\n",
    "    model = params['models_spaces'].pop('model')\n",
    "\n",
    "    # Instanciate model with best parameters\n",
    "    model_instance = model(**params['models_spaces'])\n",
    "\n",
    "    # Return instanciated model\n",
    "    return model_instance"
   ]
  },
  {
   "cell_type": "code",
   "execution_count": 87,
   "metadata": {},
   "outputs": [],
   "source": [
    "best_model = define_model(best_params)"
   ]
  },
  {
   "cell_type": "code",
   "execution_count": 88,
   "metadata": {
    "scrolled": true
   },
   "outputs": [
    {
     "name": "stdout",
     "output_type": "stream",
     "text": [
      "LogisticRegression(C=1.5875034418661245, class_weight='balanced', max_iter=545,\n",
      "                   solver='liblinear', tol=1.8112939839851308e-05)\n",
      "AUC score:  0.6754\n",
      "Fbeta score (7):  0.5472\n"
     ]
    }
   ],
   "source": [
    "fpr_best, tpr_best, auc_score_best, f7_best = model_run(\n",
    "    best_model,\n",
    "    X_train_re,\n",
    "    y_train,\n",
    "    X_test_re,\n",
    "    y_test,\n",
    "    cols=X_train_re.columns\n",
    ")"
   ]
  },
  {
   "cell_type": "code",
   "execution_count": null,
   "metadata": {},
   "outputs": [],
   "source": []
  },
  {
   "cell_type": "markdown",
   "metadata": {},
   "source": [
    "# Overview of results"
   ]
  },
  {
   "cell_type": "code",
   "execution_count": 92,
   "metadata": {},
   "outputs": [],
   "source": [
    "# Collect results\n",
    "classifier_names = [\n",
    "    'Gaussian Naive Bayes',\n",
    "    'Logistic Regression',\n",
    "    'LogReg_Best',\n",
    "    'Random Forest',\n",
    "    'LightGBM',\n",
    "    'LightGBM_CV']\n",
    "auc_scores = [\n",
    "    auc_score_naive,\n",
    "    auc_score_logreg,\n",
    "    auc_score_best,\n",
    "    auc_score_rndfor,\n",
    "    auc_score_liggbm,\n",
    "    auc_score]\n",
    "f7_scores = [\n",
    "    f7_naive,\n",
    "    f7_logreg,\n",
    "    f7_best,\n",
    "    f7_rndfor,\n",
    "    f7_liggbm,\n",
    "    f7]"
   ]
  },
  {
   "cell_type": "code",
   "execution_count": 93,
   "metadata": {},
   "outputs": [
    {
     "data": {
      "image/png": "[encoded data removed]",
      "text/plain": [
       "<Figure size 720x720 with 2 Axes>"
      ]
     },
     "metadata": {},
     "output_type": "display_data"
    }
   ],
   "source": [
    "# display results\n",
    "sns.set_color_codes(\"colorblind\")\n",
    "plt.figure(figsize=(10, 10))\n",
    "plt.subplot(211)\n",
    "plt.title('Classifiers scores: Area Under Roc Curve, Fbeta (7)')\n",
    "s1 = sns.barplot(x=classifier_names, y=auc_scores)\n",
    "s1.set_xticklabels(s1.get_xticklabels(), rotation=90)\n",
    "plt.ylabel('AUC scores', fontsize=12)\n",
    "plt.subplot(212)\n",
    "s2 = sns.barplot(x=classifier_names, y=f7_scores)\n",
    "s2.set_xticklabels(s2.get_xticklabels(), rotation=90)\n",
    "plt.ylabel('Fbeta scores', fontsize=12)\n",
    "plt.tick_params(axis='both', which='major', labelsize=12)\n",
    "plt.subplots_adjust(hspace=0.5)\n",
    "plt.show()"
   ]
  },
  {
   "cell_type": "code",
   "execution_count": 94,
   "metadata": {
    "scrolled": false
   },
   "outputs": [
    {
     "data": {
      "text/plain": [
       "Text(0, 0.5, 'True Positive Rate')"
      ]
     },
     "execution_count": 94,
     "metadata": {},
     "output_type": "execute_result"
    },
    {
     "data": {
      "image/png": "[encoded data removed]",
      "text/plain": [
       "<Figure size 720x576 with 1 Axes>"
      ]
     },
     "metadata": {},
     "output_type": "display_data"
    }
   ],
   "source": [
    "# display roc curves\n",
    "fig = plt.figure(figsize=(10, 8))\n",
    "ax = fig.add_subplot(111)\n",
    "ax.plot(\n",
    "    fpr_naive,\n",
    "    tpr_naive,\n",
    "    label=str(classifier_names[0])\n",
    "    + ' AUC: '\n",
    "    + str(round(auc_score_naive, 3)))\n",
    "ax.plot(\n",
    "    fpr_logreg,\n",
    "    tpr_logreg,\n",
    "    label=str(classifier_names[1])\n",
    "    + ' AUC: '\n",
    "    + str(round(auc_score_logreg, 3)))\n",
    "ax.plot(\n",
    "    fpr_best,\n",
    "    tpr_best,\n",
    "    label=str(classifier_names[2])\n",
    "    + ' AUC: '\n",
    "    + str(round(auc_score_best, 3)))\n",
    "ax.plot(\n",
    "    fpr_rndfor,\n",
    "    tpr_rndfor,\n",
    "    label=str(classifier_names[3])\n",
    "    + ' AUC: '\n",
    "    + str(round(auc_score_rndfor, 3)))\n",
    "ax.plot(\n",
    "    fpr_liggbm,\n",
    "    tpr_liggbm,\n",
    "    label=str(classifier_names[4])\n",
    "    + ' AUC: '\n",
    "    + str(round(auc_score_liggbm, 3)))\n",
    "ax.plot(\n",
    "    fpr,\n",
    "    tpr,\n",
    "    label=str(classifier_names[5])\n",
    "    + ' AUC: '\n",
    "    + str(round(auc_score, 3)))\n",
    "\n",
    "ax.plot([0, 1], [0, 1], linewidth=2, linestyle='--')\n",
    "plt.legend(loc=\"best\")\n",
    "plt.title(\"Classifiers ROC curves & AUC values\")\n",
    "plt.xlabel(\"False Positive Rate\")\n",
    "plt.ylabel(\"True Positive Rate\")"
   ]
  },
  {
   "cell_type": "markdown",
   "metadata": {},
   "source": [
    "# Scoring"
   ]
  },
  {
   "cell_type": "markdown",
   "metadata": {},
   "source": [
    "### introduce threshold"
   ]
  },
  {
   "cell_type": "markdown",
   "metadata": {},
   "source": [
    "https://machinelearningmastery.com/threshold-moving-for-imbalanced-classification/"
   ]
  },
  {
   "cell_type": "code",
   "execution_count": 95,
   "metadata": {},
   "outputs": [],
   "source": [
    "# define a function to make threshold adjustable\n",
    "def threshold_pred(model, X, threshold=0.1):\n",
    "    pred = model.predict_proba(X)\n",
    "    y_pred = pred[:, 1] > threshold\n",
    "    return pred, y_pred.astype(int)"
   ]
  },
  {
   "cell_type": "code",
   "execution_count": 97,
   "metadata": {},
   "outputs": [],
   "source": [
    "# get the predict_proba from a model\n",
    "def get_predict_proba(\n",
    "    model,\n",
    "    X_train,\n",
    "    y_train,\n",
    "    X_test,\n",
    "    y_test,\n",
    "    cols=None\n",
    "):\n",
    "    model.fit(X_train[cols], y_train)\n",
    "    y_pred_proba = model.predict_proba(X_test[cols])[:, 1]\n",
    "    return y_pred_proba"
   ]
  },
  {
   "cell_type": "code",
   "execution_count": 104,
   "metadata": {},
   "outputs": [],
   "source": [
    "def fbeta_threshold(y_pred_proba, y_test, threshold=0.5):\n",
    "    y_pred = y_pred_proba > threshold\n",
    "    f7_th = fbeta_score(y_test, y_pred, beta=7)\n",
    "    return f7_th"
   ]
  },
  {
   "cell_type": "code",
   "execution_count": 99,
   "metadata": {},
   "outputs": [],
   "source": [
    "y_best_proba = get_predict_proba(\n",
    "    best_model,\n",
    "    X_train_re,\n",
    "    y_train,\n",
    "    X_test_re,\n",
    "    y_test,\n",
    "    cols=X_train_re.columns\n",
    ")"
   ]
  },
  {
   "cell_type": "code",
   "execution_count": 123,
   "metadata": {},
   "outputs": [],
   "source": [
    "y_model_proba = get_predict_proba(\n",
    "    model,\n",
    "    X_train_re,\n",
    "    y_train,\n",
    "    X_test_re,\n",
    "    y_test,\n",
    "    cols=X_train_re.columns\n",
    ")"
   ]
  },
  {
   "cell_type": "code",
   "execution_count": 122,
   "metadata": {},
   "outputs": [
    {
     "data": {
      "text/plain": [
       "LGBMClassifier(class_weight='balanced', learning_rate=0.05, n_estimators=10000,\n",
       "               objective='binary', random_state=42, reg_alpha=0.1,\n",
       "               reg_lambda=0.1, subsample=0.8)"
      ]
     },
     "execution_count": 122,
     "metadata": {},
     "output_type": "execute_result"
    }
   ],
   "source": [
    "model"
   ]
  },
  {
   "cell_type": "code",
   "execution_count": 105,
   "metadata": {},
   "outputs": [
    {
     "name": "stdout",
     "output_type": "stream",
     "text": [
      "Fbeta score (7), case best, threshold=0.5 :  0.5472\n"
     ]
    }
   ],
   "source": [
    "f7_th_best = fbeta_threshold(y_best_proba, y_test)\n",
    "print('Fbeta score (7), case best, threshold=0.5 : ', round(f7_th_best, 4))"
   ]
  },
  {
   "cell_type": "code",
   "execution_count": 124,
   "metadata": {},
   "outputs": [
    {
     "name": "stdout",
     "output_type": "stream",
     "text": [
      "Fbeta score (7), case best, threshold=0.5 :  0.1639\n"
     ]
    }
   ],
   "source": [
    "f7_th_cv = fbeta_threshold(y_model_proba, y_test)\n",
    "print('Fbeta score (7), case best, threshold=0.5 : ', round(f7_th_cv, 4))"
   ]
  },
  {
   "cell_type": "markdown",
   "metadata": {},
   "source": [
    "This score is different from the score previously calculated, because model is fitted on any data. Leading to a disappointing F-Beta 7 results mean that score variability should be treated separately from genera model performance."
   ]
  },
  {
   "cell_type": "markdown",
   "metadata": {},
   "source": [
    "#### adjust threshold"
   ]
  },
  {
   "cell_type": "code",
   "execution_count": 106,
   "metadata": {},
   "outputs": [],
   "source": [
    "scores = []\n",
    "for i in np.linspace(0, 1, num=101):\n",
    "    score = fbeta_threshold(y_best_proba, y_test, threshold=i)\n",
    "    scores.append(score)"
   ]
  },
  {
   "cell_type": "code",
   "execution_count": 125,
   "metadata": {},
   "outputs": [
    {
     "name": "stdout",
     "output_type": "stream",
     "text": [
      "Max score: 0.8148802216342903\n",
      "Optimal threshold: 0.05\n"
     ]
    },
    {
     "data": {
      "image/png": "[encoded data removed]",
      "text/plain": [
       "<Figure size 432x360 with 1 Axes>"
      ]
     },
     "metadata": {},
     "output_type": "display_data"
    },
    {
     "name": "stderr",
     "output_type": "stream",
     "text": [
      "7:80: E501 line too long (109 > 79 characters)\n"
     ]
    }
   ],
   "source": [
    "fig, ax = plt.subplots(figsize=(6, 5))\n",
    "plt.plot(np.linspace(0, 1, num=101), scores, label=\"model score\")\n",
    "\n",
    "max_score = max(scores)\n",
    "opt_threshold = np.linspace(0, 1, num=101)[scores.index(max_score)]\n",
    "\n",
    "plt.axvline(x=opt_threshold, color='k', dashes=(0.5, 1), label=\"optimal threshold: {}\".format(opt_threshold))\n",
    "\n",
    "plt.title(\"Best Model's scores vs Probability thresholds\", fontsize=20)\n",
    "plt.xlabel(\"Probability thresholds\", fontsize=15)\n",
    "plt.ylabel(\"Model's score\", fontsize=15)\n",
    "plt.legend()\n",
    "\n",
    "print(\"Max score:\", max_score)\n",
    "print(\"Optimal threshold:\", opt_threshold)"
   ]
  },
  {
   "cell_type": "code",
   "execution_count": 126,
   "metadata": {},
   "outputs": [],
   "source": [
    "# same with cv model\n",
    "scores_cv = []\n",
    "for i in np.linspace(0, 1, num=101):\n",
    "    score_cv = fbeta_threshold(y_model_proba, y_test, threshold=i)\n",
    "    scores_cv.append(score_cv)"
   ]
  },
  {
   "cell_type": "code",
   "execution_count": 127,
   "metadata": {},
   "outputs": [
    {
     "name": "stdout",
     "output_type": "stream",
     "text": [
      "Max score: 0.8145032432485638\n",
      "Optimal threshold: 0.0\n"
     ]
    },
    {
     "data": {
      "image/png": "[encoded data removed]",
      "text/plain": [
       "<Figure size 432x360 with 1 Axes>"
      ]
     },
     "metadata": {},
     "output_type": "display_data"
    },
    {
     "name": "stderr",
     "output_type": "stream",
     "text": [
      "7:80: E501 line too long (109 > 79 characters)\n"
     ]
    }
   ],
   "source": [
    "fig, ax = plt.subplots(figsize=(6, 5))\n",
    "plt.plot(np.linspace(0, 1, num=101), scores_cv, label=\"model score\")\n",
    "\n",
    "max_score = max(scores_cv)\n",
    "opt_threshold = np.linspace(0, 1, num=101)[scores_cv.index(max_score)]\n",
    "\n",
    "plt.axvline(x=opt_threshold, color='k', dashes=(0.5, 1), label=\"optimal threshold: {}\".format(opt_threshold))\n",
    "\n",
    "plt.title(\"Best Model's scores vs Probability thresholds\", fontsize=20)\n",
    "plt.xlabel(\"Probability thresholds\", fontsize=15)\n",
    "plt.ylabel(\"Model's score\", fontsize=15)\n",
    "plt.legend()\n",
    "\n",
    "print(\"Max score:\", max_score)\n",
    "print(\"Optimal threshold:\", opt_threshold)"
   ]
  },
  {
   "cell_type": "code",
   "execution_count": 135,
   "metadata": {},
   "outputs": [
    {
     "name": "stderr",
     "output_type": "stream",
     "text": [
      "2:80: E501 line too long (86 > 79 characters)\n"
     ]
    }
   ],
   "source": [
    "# calculate pr-curve\n",
    "precision_cv, recall_cv, thresholds_cv = precision_recall_curve(y_test, y_model_proba)"
   ]
  },
  {
   "cell_type": "code",
   "execution_count": 136,
   "metadata": {},
   "outputs": [
    {
     "name": "stderr",
     "output_type": "stream",
     "text": [
      "1:80: E501 line too long (87 > 79 characters)\n"
     ]
    }
   ],
   "source": [
    "fbeta7_score_cv = (1 + 49 * precision_cv * recall_cv) / (49 * precision_cv + recall_cv)"
   ]
  },
  {
   "cell_type": "code",
   "execution_count": 137,
   "metadata": {},
   "outputs": [],
   "source": [
    "# locate the index of the largest f score\n",
    "ix = np.argmax(fbeta7_score_cv)"
   ]
  },
  {
   "cell_type": "code",
   "execution_count": 139,
   "metadata": {},
   "outputs": [
    {
     "name": "stdout",
     "output_type": "stream",
     "text": [
      "Opt cv Threshold=0.984304, F7-Score=inf\n"
     ]
    },
    {
     "name": "stderr",
     "output_type": "stream",
     "text": [
      "1:80: E501 line too long (86 > 79 characters)\n"
     ]
    }
   ],
   "source": [
    "print('Opt cv Threshold=%f, F7-Score=%.3f' % (thresholds_cv[ix], fbeta7_score_cv[ix]))"
   ]
  },
  {
   "cell_type": "code",
   "execution_count": 140,
   "metadata": {},
   "outputs": [
    {
     "data": {
      "image/png": "[encoded data removed]",
      "text/plain": [
       "<Figure size 432x288 with 1 Axes>"
      ]
     },
     "metadata": {},
     "output_type": "display_data"
    },
    {
     "name": "stderr",
     "output_type": "stream",
     "text": [
      "5:80: E501 line too long (85 > 79 characters)\n"
     ]
    }
   ],
   "source": [
    "# plot the roc curve for the model\n",
    "no_skill = len(y_test[y_test == 1]) / len(y_test)\n",
    "plt.plot([0, 1], [no_skill, no_skill], linestyle='--', label='No Skill')\n",
    "plt.plot(recall_cv, precision_cv, marker='.', label='Logistic')\n",
    "plt.scatter(recall_cv[ix], precision_cv[ix], marker='o', color='black', label='Best')\n",
    "# axis labels\n",
    "plt.xlabel('Recall')\n",
    "plt.ylabel('Precision')\n",
    "plt.legend()\n",
    "# show the plot\n",
    "plt.show()"
   ]
  },
  {
   "cell_type": "markdown",
   "metadata": {},
   "source": [
    "# Best model with AUC Score Obj"
   ]
  },
  {
   "cell_type": "markdown",
   "metadata": {},
   "source": [
    "### Alternate Obj & trials functions"
   ]
  },
  {
   "cell_type": "code",
   "execution_count": 166,
   "metadata": {},
   "outputs": [],
   "source": [
    "# Alternate objective function\n",
    "def obj_fnc_auc(\n",
    "    params,\n",
    "    X_=X_opt,\n",
    "    y_=y_opt\n",
    "):\n",
    "\n",
    "    # display the set of parameters currently evaluated\n",
    "    print('current params:', params)\n",
    "    # get all parameters, except the model\n",
    "    parameters = params['models_spaces'].copy()\n",
    "    del parameters['model']\n",
    "    # create the classifier & its parameters\n",
    "    clf = params['models_spaces']['model'](**parameters)\n",
    "    # Perform n_folds cross validation\n",
    "    start = timer()\n",
    "    print('Cross-val predict in progress…')\n",
    "    y_pred = cross_val_predict(\n",
    "        clf,\n",
    "        X_,\n",
    "        y_,\n",
    "        method='predict',\n",
    "        cv=skf)\n",
    "    # Compute score\n",
    "    score = roc_auc_score(y_, y_pred)\n",
    "    # return loss and status\n",
    "    loss = 1 - score\n",
    "    run_time = timer() - start\n",
    "    # displays results\n",
    "    print(\"Loss of the model:\", loss)\n",
    "    # evaluation dict\n",
    "    dict_eval = {\n",
    "        'loss': loss,\n",
    "        'score': score,\n",
    "        'run_time': run_time,\n",
    "        'status': STATUS_OK,\n",
    "    }\n",
    "    return dict_eval"
   ]
  },
  {
   "cell_type": "code",
   "execution_count": 167,
   "metadata": {},
   "outputs": [
    {
     "name": "stderr",
     "output_type": "stream",
     "text": [
      "5:80: E501 line too long (80 > 79 characters)\n",
      "9:5: E722 do not use bare 'except'\n"
     ]
    }
   ],
   "source": [
    "def run_trials_auc():\n",
    "    trials_step = 1  # nb add trials after loading (1: save after iteration)\n",
    "    initial_evals = 1  # initial max_trials.\n",
    "    try:  # try to load an already saved trials object, and increase the max\n",
    "        hypopt_trials = pickle.load(open(\"hp_trials/trials_auc.hyperopt\", \"rb\"))\n",
    "        print(\"Found saved Trials! Loading...\")\n",
    "        max_evals = len(hypopt_trials.trials) + trials_step\n",
    "        print(\"Rerunning from {} trials.\".format(len(hypopt_trials.trials)))\n",
    "    except:  # create a new trials object and start searching\n",
    "        print(\"Unable to load previous trials...\")\n",
    "        hypopt_trials = Trials()\n",
    "        max_evals = initial_evals\n",
    "    # Optimisation accross the search space\n",
    "    global best_params\n",
    "    best_params = fmin(\n",
    "        obj_fnc_auc,\n",
    "        space=space,\n",
    "        algo=tpe.suggest,\n",
    "        max_evals=max_evals,\n",
    "        trials=hypopt_trials\n",
    "    )\n",
    "    # save the trials object\n",
    "    with open(\"hp_trials/trials_auc.hyperopt\", mode=\"wb\") as f:\n",
    "        pickle.dump(hypopt_trials, f)\n",
    "    # get the best_params and save them\n",
    "    best_params = space_eval(space, best_params)\n",
    "    with open(\"hp_trials/best_params_auc.hyperopt\", mode=\"wb\") as f:\n",
    "        pickle.dump(best_params, f)\n",
    "    # print the main results\n",
    "    print(\n",
    "        # \"\\nAlgo:\", best_params['models_spaces']['model'],\n",
    "        \"\\nBest loss:\", hypopt_trials.best_trial['result']['loss'],\n",
    "        # \"\\nPreprocessing:\", best_params['preprocessing_steps'],\n",
    "        # \"\\nModel params:\", best_params['models_spaces'],\n",
    "        \"\\n----------------------\",\n",
    "    )"
   ]
  },
  {
   "cell_type": "markdown",
   "metadata": {},
   "source": [
    "### Perform hyperopt"
   ]
  },
  {
   "cell_type": "code",
   "execution_count": 168,
   "metadata": {},
   "outputs": [
    {
     "name": "stdout",
     "output_type": "stream",
     "text": [
      "\n",
      "RUNNING... Press 'ESC' key to interrupt.\n",
      "Unable to load previous trials...\n",
      "current params:                                                                                                        \n",
      "{'models_spaces': {'C': 0.37680579370860134, 'class_weight': None, 'max_iter': 716, 'model': <class 'sklearn.linear_model._logistic.LogisticRegression'>, 'solver': 'newton-cg', 'tol': 3.4722039670891325e-05}}\n",
      "Cross-val predict in progress…                                                                                         \n",
      "Loss of the model:                                                                                                     \n",
      "0.5080847586247155                                                                                                     \n",
      "100%|██████████████████████████████████████████████████| 1/1 [00:48<00:00, 48.27s/trial, best loss: 0.5080847586247155]\n",
      "\n",
      "Best loss: 0.5080847586247155 \n",
      "----------------------\n",
      "\n",
      "RUNNING... Press 'ESC' key to interrupt.\n",
      "Found saved Trials! Loading...\n",
      "Rerunning from 1 trials.\n",
      "current params:                                                                                                        \n",
      "{'models_spaces': {'class_weight': None, 'criterion': 'entropy', 'max_depth': 3, 'max_features': 2, 'model': <class 'sklearn.ensemble._forest.RandomForestClassifier'>, 'n_estimators': 610}}\n",
      "Cross-val predict in progress…                                                                                         \n",
      "Loss of the model:                                                                                                     \n",
      "0.5                                                                                                                    \n",
      "100%|█████████████████████████████████████████████████████████████████| 2/2 [00:04<00:00,  4.88s/trial, best loss: 0.5]\n",
      "\n",
      "Best loss: 0.5 \n",
      "----------------------\n",
      "\n",
      "RUNNING... Press 'ESC' key to interrupt.\n",
      "Found saved Trials! Loading...\n",
      "Rerunning from 2 trials.\n",
      "current params:                                                                                                        \n",
      "{'models_spaces': {'class_weight': 'balanced', 'criterion': 'gini', 'max_depth': 18, 'max_features': 2, 'model': <class 'sklearn.ensemble._forest.RandomForestClassifier'>, 'n_estimators': 260}}\n",
      "Cross-val predict in progress…                                                                                         \n",
      "Loss of the model:                                                                                                     \n",
      "0.5                                                                                                                    \n",
      "100%|█████████████████████████████████████████████████████████████████| 3/3 [00:02<00:00,  2.48s/trial, best loss: 0.5]\n",
      "\n",
      "Best loss: 0.5 \n",
      "----------------------\n",
      "\n",
      "RUNNING... Press 'ESC' key to interrupt.\n",
      "Found saved Trials! Loading...\n",
      "Rerunning from 3 trials.\n",
      "current params:                                                                                                        \n",
      "{'models_spaces': {'C': 1.4439850653700186, 'class_weight': 'balanced', 'max_iter': 530, 'model': <class 'sklearn.linear_model._logistic.LogisticRegression'>, 'solver': 'newton-cg', 'tol': 3.987511643845691e-05}}\n",
      "Cross-val predict in progress…                                                                                         \n",
      "Loss of the model:                                                                                                     \n",
      "0.5131048975541416                                                                                                     \n",
      "100%|█████████████████████████████████████████████████████████████████| 4/4 [00:38<00:00, 38.09s/trial, best loss: 0.5]\n",
      "\n",
      "Best loss: 0.5 \n",
      "----------------------\n",
      "\n",
      "RUNNING... Press 'ESC' key to interrupt.\n",
      "Found saved Trials! Loading...\n",
      "Rerunning from 4 trials.\n",
      "current params:                                                                                                        \n",
      "{'models_spaces': {'C': 0.4360611692828215, 'class_weight': 'balanced', 'max_iter': 756, 'model': <class 'sklearn.linear_model._logistic.LogisticRegression'>, 'solver': 'lbfgs', 'tol': 5.717293813791171e-05}}\n",
      "Cross-val predict in progress…                                                                                         \n",
      "Loss of the model:                                                                                                     \n",
      "0.5689685365711283                                                                                                     \n",
      "100%|█████████████████████████████████████████████████████████████████| 5/5 [00:01<00:00,  1.91s/trial, best loss: 0.5]\n",
      "\n",
      "Best loss: 0.5 \n",
      "----------------------\n",
      "\n",
      "RUNNING... Press 'ESC' key to interrupt.\n",
      "Found saved Trials! Loading...\n",
      "Rerunning from 5 trials.\n",
      "current params:                                                                                                        \n",
      "{'models_spaces': {'class_weight': 'balanced', 'criterion': 'gini', 'max_depth': 22, 'max_features': 2, 'model': <class 'sklearn.ensemble._forest.RandomForestClassifier'>, 'n_estimators': 160}}\n",
      "Cross-val predict in progress…                                                                                         \n",
      "Loss of the model:                                                                                                     \n",
      "0.5                                                                                                                    \n",
      "100%|█████████████████████████████████████████████████████████████████| 6/6 [00:01<00:00,  1.76s/trial, best loss: 0.5]\n",
      "\n",
      "Best loss: 0.5 \n",
      "----------------------\n",
      "\n",
      "RUNNING... Press 'ESC' key to interrupt.\n",
      "Found saved Trials! Loading...\n",
      "Rerunning from 6 trials.\n",
      "current params:                                                                                                        \n",
      "{'models_spaces': {'class_weight': 'balanced', 'max_depth': 16, 'model': <class 'lightgbm.sklearn.LGBMClassifier'>, 'n_estimators': 460, 'num_leaves': 100}}\n",
      "Cross-val predict in progress…                                                                                         \n",
      "Loss of the model:                                                                                                     \n",
      "0.5                                                                                                                    \n",
      "100%|█████████████████████████████████████████████████████████████████| 7/7 [00:11<00:00, 11.02s/trial, best loss: 0.5]\n",
      "\n",
      "Best loss: 0.5 \n",
      "----------------------\n",
      "\n",
      "RUNNING... Press 'ESC' key to interrupt.\n",
      "Found saved Trials! Loading...\n",
      "Rerunning from 7 trials.\n",
      "current params:                                                                                                        \n",
      "{'models_spaces': {'C': 0.45081333071823726, 'class_weight': 'balanced', 'max_iter': 570, 'model': <class 'sklearn.linear_model._logistic.LogisticRegression'>, 'solver': 'liblinear', 'tol': 1.80925401843922e-05}}\n",
      "Cross-val predict in progress…                                                                                         \n",
      "Loss of the model:                                                                                                     \n",
      "0.49306812211779816                                                                                                    \n",
      "100%|█████████████████████████████████████████████████| 8/8 [00:09<00:00,  9.64s/trial, best loss: 0.49306812211779816]\n",
      "\n",
      "Best loss: 0.49306812211779816 \n",
      "----------------------\n",
      "\n",
      "RUNNING... Press 'ESC' key to interrupt.\n",
      "Found saved Trials! Loading...\n",
      "Rerunning from 8 trials.\n",
      "current params:                                                                                                        \n",
      "{'models_spaces': {'class_weight': 'balanced', 'criterion': 'gini', 'max_depth': 28, 'max_features': 1, 'model': <class 'sklearn.ensemble._forest.RandomForestClassifier'>, 'n_estimators': 210}}\n",
      "Cross-val predict in progress…                                                                                         \n",
      "Loss of the model:                                                                                                     \n"
     ]
    },
    {
     "name": "stdout",
     "output_type": "stream",
     "text": [
      "0.5                                                                                                                    \n",
      "100%|█████████████████████████████████████████████████| 9/9 [00:01<00:00,  1.97s/trial, best loss: 0.49306812211779816]\n",
      "\n",
      "Best loss: 0.49306812211779816 \n",
      "----------------------\n",
      "\n",
      "RUNNING... Press 'ESC' key to interrupt.\n",
      "Found saved Trials! Loading...\n",
      "Rerunning from 9 trials.\n",
      "current params:                                                                                                        \n",
      "{'models_spaces': {'class_weight': 'balanced', 'max_depth': 28, 'model': <class 'lightgbm.sklearn.LGBMClassifier'>, 'n_estimators': 10, 'num_leaves': 8}}\n",
      "Cross-val predict in progress…                                                                                         \n",
      "Loss of the model:                                                                                                     \n",
      "0.5196281594769716                                                                                                     \n",
      "100%|███████████████████████████████████████████████| 10/10 [00:00<00:00,  1.57trial/s, best loss: 0.49306812211779816]\n",
      "\n",
      "Best loss: 0.49306812211779816 \n",
      "----------------------\n",
      "\n",
      "RUNNING... Press 'ESC' key to interrupt.\n",
      "Found saved Trials! Loading...\n",
      "Rerunning from 10 trials.\n",
      "current params:                                                                                                        \n",
      "{'models_spaces': {'C': 1.4488667386178284, 'class_weight': 'balanced', 'max_iter': 827, 'model': <class 'sklearn.linear_model._logistic.LogisticRegression'>, 'solver': 'lbfgs', 'tol': 3.67357003435072e-05}}\n",
      "Cross-val predict in progress…                                                                                         \n",
      "Loss of the model:                                                                                                     \n",
      "0.5470929893176113                                                                                                     \n",
      "100%|███████████████████████████████████████████████| 11/11 [00:01<00:00,  1.92s/trial, best loss: 0.49306812211779816]\n",
      "\n",
      "Best loss: 0.49306812211779816 \n",
      "----------------------\n",
      "\n",
      "RUNNING... Press 'ESC' key to interrupt.\n",
      "Found saved Trials! Loading...\n",
      "Rerunning from 11 trials.\n",
      "current params:                                                                                                        \n",
      "{'models_spaces': {'class_weight': 'balanced', 'max_depth': 29, 'model': <class 'lightgbm.sklearn.LGBMClassifier'>, 'n_estimators': 410, 'num_leaves': 24}}\n",
      "Cross-val predict in progress…                                                                                         \n",
      "Loss of the model:                                                                                                     \n",
      "0.5                                                                                                                    \n",
      "100%|███████████████████████████████████████████████| 12/12 [00:08<00:00,  8.91s/trial, best loss: 0.49306812211779816]\n",
      "\n",
      "Best loss: 0.49306812211779816 \n",
      "----------------------\n",
      "\n",
      "RUNNING... Press 'ESC' key to interrupt.\n",
      "Found saved Trials! Loading...\n",
      "Rerunning from 12 trials.\n",
      "current params:                                                                                                        \n",
      "{'models_spaces': {'class_weight': 'balanced', 'criterion': 'entropy', 'max_depth': 13, 'max_features': 1, 'model': <class 'sklearn.ensemble._forest.RandomForestClassifier'>, 'n_estimators': 10}}\n",
      "Cross-val predict in progress…                                                                                         \n",
      "Loss of the model:                                                                                                     \n",
      "0.5016198704103672                                                                                                     \n",
      "100%|███████████████████████████████████████████████| 13/13 [00:00<00:00,  2.73trial/s, best loss: 0.49306812211779816]\n",
      "\n",
      "Best loss: 0.49306812211779816 \n",
      "----------------------\n",
      "\n",
      "RUNNING... Press 'ESC' key to interrupt.\n",
      "Found saved Trials! Loading...\n",
      "Rerunning from 13 trials.\n",
      "current params:                                                                                                        \n",
      "{'models_spaces': {'C': 1.660954461021591, 'class_weight': 'balanced', 'max_iter': 621, 'model': <class 'sklearn.linear_model._logistic.LogisticRegression'>, 'solver': 'liblinear', 'tol': 6.295579219479716e-05}}\n",
      "Cross-val predict in progress…                                                                                         \n",
      "Loss of the model:                                                                                                     \n",
      "0.5254947171793825                                                                                                     \n",
      "100%|███████████████████████████████████████████████| 14/14 [00:04<00:00,  4.57s/trial, best loss: 0.49306812211779816]\n",
      "\n",
      "Best loss: 0.49306812211779816 \n",
      "----------------------\n",
      "\n",
      "RUNNING... Press 'ESC' key to interrupt.\n",
      "Found saved Trials! Loading...\n",
      "Rerunning from 14 trials.\n",
      "current params:                                                                                                        \n",
      "{'models_spaces': {'class_weight': 'balanced', 'criterion': 'entropy', 'max_depth': 25, 'max_features': 1, 'model': <class 'sklearn.ensemble._forest.RandomForestClassifier'>, 'n_estimators': 610}}\n",
      "Cross-val predict in progress…                                                                                         \n",
      "Loss of the model:                                                                                                     \n",
      "0.5                                                                                                                    \n",
      "100%|███████████████████████████████████████████████| 15/15 [00:06<00:00,  6.22s/trial, best loss: 0.49306812211779816]\n",
      "\n",
      "Best loss: 0.49306812211779816 \n",
      "----------------------\n",
      "\n",
      "RUNNING... Press 'ESC' key to interrupt.\n",
      "Found saved Trials! Loading...\n",
      "Rerunning from 15 trials.\n",
      "current params:                                                                                                        \n",
      "{'models_spaces': {'class_weight': 'balanced', 'max_depth': 22, 'model': <class 'lightgbm.sklearn.LGBMClassifier'>, 'n_estimators': 760, 'num_leaves': 64}}\n",
      "Cross-val predict in progress…                                                                                         \n",
      "Loss of the model:                                                                                                     \n",
      "0.5                                                                                                                    \n",
      "100%|███████████████████████████████████████████████| 16/16 [00:12<00:00, 12.97s/trial, best loss: 0.49306812211779816]\n",
      "\n",
      "Best loss: 0.49306812211779816 \n",
      "----------------------\n",
      "\n",
      "RUNNING... Press 'ESC' key to interrupt.\n",
      "Found saved Trials! Loading...\n",
      "Rerunning from 16 trials.\n",
      "current params:                                                                                                        \n",
      "{'models_spaces': {'class_weight': None, 'max_depth': 7, 'model': <class 'lightgbm.sklearn.LGBMClassifier'>, 'n_estimators': 160, 'num_leaves': 60}}\n",
      "Cross-val predict in progress…                                                                                         \n",
      "Loss of the model:                                                                                                     \n",
      "0.5                                                                                                                    \n",
      "100%|███████████████████████████████████████████████| 17/17 [00:05<00:00,  5.67s/trial, best loss: 0.49306812211779816]\n",
      "\n",
      "Best loss: 0.49306812211779816 \n",
      "----------------------\n",
      "\n",
      "RUNNING... Press 'ESC' key to interrupt.\n",
      "Found saved Trials! Loading...\n",
      "Rerunning from 17 trials.\n",
      "current params:                                                                                                        \n",
      "{'models_spaces': {'C': 1.728237515662751, 'class_weight': None, 'max_iter': 660, 'model': <class 'sklearn.linear_model._logistic.LogisticRegression'>, 'solver': 'newton-cg', 'tol': 3.159963256321098e-05}}\n"
     ]
    },
    {
     "name": "stdout",
     "output_type": "stream",
     "text": [
      "Cross-val predict in progress…                                                                                         \n",
      "                                                                                                                       \n",
      "INTERRUPTING… Please wait until shut down.\n",
      "Loss of the model:                                                                                                     \n",
      "0.5075448018212597                                                                                                     \n",
      "100%|███████████████████████████████████████████████| 18/18 [00:47<00:00, 47.30s/trial, best loss: 0.49306812211779816]\n",
      "\n",
      "Best loss: 0.49306812211779816 \n",
      "----------------------\n",
      "\n",
      "INTERRUPTED!\n"
     ]
    },
    {
     "name": "stderr",
     "output_type": "stream",
     "text": [
      "13:80: E501 line too long (97 > 79 characters)\n"
     ]
    }
   ],
   "source": [
    "keep_going = True\n",
    "\n",
    "\n",
    "def key_capture_thread():\n",
    "    global keep_going\n",
    "    # blocks until pressing 'Esc'.\n",
    "    keyboard.wait('esc')\n",
    "    keep_going = False\n",
    "    print('\\nINTERRUPTING… Please wait until shut down.')\n",
    "\n",
    "\n",
    "def trials_loop():\n",
    "    th.Thread(target=key_capture_thread, args=(), name='key_capture_thread', daemon=True).start()\n",
    "    while keep_going:\n",
    "        print(\"\\nRUNNING... Press 'ESC' key to interrupt.\")\n",
    "        # launch hyperopt\n",
    "        run_trials_auc()\n",
    "    print('\\nINTERRUPTED!')\n",
    "\n",
    "\n",
    "trials_loop()"
   ]
  },
  {
   "cell_type": "markdown",
   "metadata": {},
   "source": [
    "### Digging deeper into classification matrix"
   ]
  },
  {
   "cell_type": "code",
   "execution_count": null,
   "metadata": {},
   "outputs": [],
   "source": [
    "log_reg.fit(X_train, y_train)\n",
    "pred, y_pred = threshold_pred(log_reg_weight, X_test, threshold=0.5)"
   ]
  },
  {
   "cell_type": "code",
   "execution_count": null,
   "metadata": {},
   "outputs": [],
   "source": [
    "plt.xlabel('Probabilities')\n",
    "plt.ylabel('Count')\n",
    "plt.hist(pred[:, 0], bins=100)\n",
    "plt.hist(pred[:, 1], bins=100)\n",
    "plt.show()"
   ]
  },
  {
   "cell_type": "markdown",
   "metadata": {},
   "source": [
    "first, we need to avoid __False Negative__ : approval of any clients with actual defaults is our worts case, predicting target 0 while actual value is 1.\n",
    "then, we also wish to avoid __False Positive__ : rejecting too many clients who actually would not fail, predicting target 1 while actual value is 0."
   ]
  },
  {
   "cell_type": "code",
   "execution_count": null,
   "metadata": {},
   "outputs": [],
   "source": [
    "# get any case of the confusion matrix\n",
    "# ravel() is equivalent to flatten for arrays\n",
    "(tn, fp, fn, tp) = confusion_matrix(y_test, y_pred).ravel()\n",
    "(ttn, tfp, tfn, ttp) = confusion_matrix(y_test, y_pred).ravel() / len(y_test)"
   ]
  },
  {
   "cell_type": "code",
   "execution_count": null,
   "metadata": {},
   "outputs": [],
   "source": [
    "(tn, fp, fn, tp)"
   ]
  },
  {
   "cell_type": "code",
   "execution_count": null,
   "metadata": {},
   "outputs": [],
   "source": [
    "(ttn, tfp, tfn, ttp) "
   ]
  },
  {
   "cell_type": "code",
   "execution_count": null,
   "metadata": {},
   "outputs": [],
   "source": [
    "pred_nom = log_reg.predict(X_test)\n",
    "(ntn, nfp, nfn, ntp) = confusion_matrix(y_test, pred_nom).ravel()\n",
    "(ntn, nfp, nfn, ntp)"
   ]
  },
  {
   "cell_type": "code",
   "execution_count": null,
   "metadata": {},
   "outputs": [],
   "source": [
    "# get the precision, recall\n",
    "precision, recall, f_thresholds = precision_recall_curve(y_test, pred[:, 1])"
   ]
  },
  {
   "cell_type": "code",
   "execution_count": null,
   "metadata": {},
   "outputs": [],
   "source": [
    "print(np.count_nonzero(y_test))\n",
    "print(len(y_test))"
   ]
  },
  {
   "cell_type": "code",
   "execution_count": null,
   "metadata": {},
   "outputs": [],
   "source": [
    "# optimal threshold\n",
    "list_tn = []\n",
    "list_fp = []\n",
    "list_fn = []\n",
    "list_tp = []\n",
    "list_prec = []\n",
    "list_rec = []\n",
    "list_fscore = []\n",
    "list_gain = []\n",
    "list_custom = []\n",
    "threshold_values = []\n",
    "\n",
    "tp_coef = 0\n",
    "tn_coef = 1\n",
    "fn_coef = -7\n",
    "fp_coef = -1\n",
    "\n",
    "worst_case = fp_coef * np.count_nonzero(y_test) + tn_coef * (len(y_test) - np.count_nonzero(y_test))\n",
    "best_case = tn_coef * (len(y_test) - np.count_nonzero(y_test))\n",
    "\n",
    "\n",
    "for i in np.arange(0, 1, 0.01):\n",
    "    _, temp_y_pred = threshold_pred(log_reg_weight, X_test, threshold=i)\n",
    "    tn, fp, fn, tp = confusion_matrix(y_test, temp_y_pred).ravel()\n",
    "    prec = tp / (tp + fp)\n",
    "    rec = tp / (tp + fn)\n",
    "    fscore = 2 * prec * rec / (prec + rec)\n",
    "    gain = tp * tp_coef + tn * tn_coef + fn * fn_coef + fp * fp_coef\n",
    "    custom = (gain - worst_case) / (best_case - worst_case)\n",
    "    threshold_values.append(i)\n",
    "    list_tn.append(tn)\n",
    "    list_fp.append(fp)\n",
    "    list_fn.append(fn)\n",
    "    list_tp.append(tp)\n",
    "    list_prec.append(prec)\n",
    "    list_rec.append(rec)\n",
    "    list_fscore.append(fscore)\n",
    "    list_gain.append(gain)\n",
    "    list_custom.append(custom)"
   ]
  },
  {
   "cell_type": "code",
   "execution_count": null,
   "metadata": {},
   "outputs": [],
   "source": [
    "confusion_matrix_df = pd.DataFrame({'tn': list_tn,\n",
    "                                    'fp': list_fp,\n",
    "                                    'fn': list_fn,\n",
    "                                    'tp': list_tp},\n",
    "                                   index=threshold_values)"
   ]
  },
  {
   "cell_type": "code",
   "execution_count": null,
   "metadata": {},
   "outputs": [],
   "source": [
    "confusion_matrix_df.sample(10)"
   ]
  },
  {
   "cell_type": "code",
   "execution_count": null,
   "metadata": {},
   "outputs": [],
   "source": [
    "scores_df = pd.DataFrame({'precision': list_prec,\n",
    "                          'recall': list_rec,\n",
    "                          'f1score': list_fscore,\n",
    "                          'gain': list_gain,\n",
    "                          'custom': list_custom},\n",
    "                         index=threshold_values)"
   ]
  },
  {
   "cell_type": "code",
   "execution_count": null,
   "metadata": {},
   "outputs": [],
   "source": [
    "scores_df.sample(10)"
   ]
  },
  {
   "cell_type": "code",
   "execution_count": null,
   "metadata": {},
   "outputs": [],
   "source": [
    "scores_df['gain'].plot()"
   ]
  },
  {
   "cell_type": "code",
   "execution_count": null,
   "metadata": {},
   "outputs": [],
   "source": [
    "rates = confusion_matrix_df.divide(confusion_matrix_df.sum(axis=1), axis=0)[['fp', 'fn', 'tp', 'tn']]"
   ]
  },
  {
   "cell_type": "code",
   "execution_count": null,
   "metadata": {},
   "outputs": [],
   "source": [
    "tot_rate = confusion_matrix_df.divide(confusion_matrix_df.sum(axis=1), axis=0)[['fp', 'fn']].sum(axis=1)"
   ]
  },
  {
   "cell_type": "code",
   "execution_count": null,
   "metadata": {},
   "outputs": [],
   "source": [
    "# precision = precision_recall_df['precision']"
   ]
  },
  {
   "cell_type": "code",
   "execution_count": null,
   "metadata": {},
   "outputs": [],
   "source": [
    "fig, ax = plt.subplots()\n",
    "pal = ['#fbb4ae', '#e41a1c', '#cccccc', '#b3e2cd']\n",
    "rates.plot(kind='area', stacked=True, ax=ax, color=pal)\n",
    "tot_rate.plot(ax=ax, color='black', label='%tot_rate')\n",
    "ax.set_xlim(0, 1)\n",
    "ax.set_ylim(0, 1)\n",
    "ax.legend()\n",
    "plt.show()"
   ]
  },
  {
   "cell_type": "markdown",
   "metadata": {},
   "source": [
    "We have to find the right balance (cost) between both case to catch an optimal threshold : fn is n times worst than fp. as it primarily depends on the famous {X, Y} parameters, leading to a damage we have no clue to compute, we don't know real value of n. <br/>\n",
    "n would surely be different for revolving or high amount credits. <br/>\n",
    "let's start with 7, just to see the resulting shape of a damage value."
   ]
  },
  {
   "cell_type": "code",
   "execution_count": null,
   "metadata": {},
   "outputs": [],
   "source": [
    "damage_df = pd.DataFrame({'fp damages : unit': confusion_matrix_df['fp'],\n",
    "                          'fn damages : 7x unit': 7 * confusion_matrix_df['fn']})"
   ]
  },
  {
   "cell_type": "code",
   "execution_count": null,
   "metadata": {},
   "outputs": [],
   "source": [
    "damages = (damage_df/damage_df.sum(axis=1).max())"
   ]
  },
  {
   "cell_type": "code",
   "execution_count": null,
   "metadata": {},
   "outputs": [],
   "source": [
    "tot_damage = (damage_df.sum(axis=1)/damage_df.sum(axis=1).max())"
   ]
  },
  {
   "cell_type": "code",
   "execution_count": null,
   "metadata": {},
   "outputs": [],
   "source": [
    "np.argmin(tot_damage)"
   ]
  },
  {
   "cell_type": "code",
   "execution_count": null,
   "metadata": {},
   "outputs": [],
   "source": [
    "scores_df.head(3)"
   ]
  },
  {
   "cell_type": "code",
   "execution_count": null,
   "metadata": {
    "scrolled": false
   },
   "outputs": [],
   "source": [
    "fig, ax = plt.subplots()\n",
    "damages.plot(kind='area', stacked=True, ax=ax, color=pal)\n",
    "tot_damage.plot(ax=ax, color=\"black\", label=\"%tot_rate\")\n",
    "# scores_df['precision'].plot(ax=ax, color='green', label='%precision')\n",
    "# scores_df['recall'].plot(ax=ax, color='red', label='%recall')\n",
    "scores_df['f1score'].plot(ax=ax, color='green', label='%f1score')\n",
    "plt.axvline(x=0.57, color='k', linestyle='--')\n",
    "# ax.set_xlim(0, 0.8)\n",
    "# ax.set_ylim(0, 1)\n",
    "ax.legend()\n",
    "plt.show()"
   ]
  },
  {
   "cell_type": "code",
   "execution_count": null,
   "metadata": {},
   "outputs": [],
   "source": [
    "# print(precision_recall_df['f1score'].idxmax())\n",
    "# print(precision_recall_df.loc[precision_recall_df['f1score'].idxmax(), 'f1score'])"
   ]
  },
  {
   "cell_type": "code",
   "execution_count": null,
   "metadata": {},
   "outputs": [],
   "source": [
    "# refine optimal threshold\n",
    "\n",
    "list_tn = []\n",
    "list_fp = []\n",
    "list_fn = []\n",
    "list_tp = []\n",
    "threshold_values =[]\n",
    "\n",
    "for i in np.arange(0,0.2,0.01) :\n",
    "    temp_y_pred = threshold_pred(random_forest, X_test, threshold=i)\n",
    "    tn, fp, fn, tp = confusion_matrix(y_test, temp_y_pred).ravel()\n",
    "    print(tn, fp, fn, tp)\n",
    "    list_tn.append(tn)\n",
    "    list_fp.append(fp)\n",
    "    list_fn.append(fn)\n",
    "    list_tp.append(tp)\n",
    "    threshold_values.append(i)"
   ]
  },
  {
   "cell_type": "code",
   "execution_count": null,
   "metadata": {},
   "outputs": [],
   "source": [
    "adj_confusion_matrix_df = pd.DataFrame({'tn' : list_tn,\n",
    "                                        'fp' : list_fp,\n",
    "                                        'fn' : list_fn,\n",
    "                                        'tp' : list_tp},\n",
    "                                        index=threshold_values) "
   ]
  },
  {
   "cell_type": "code",
   "execution_count": null,
   "metadata": {},
   "outputs": [],
   "source": [
    "adj_rates = adj_confusion_matrix_df.divide(adj_confusion_matrix_df.sum(axis=1), axis=0)[['fp', 'fn']]\n",
    "adj_tot_rate = adj_confusion_matrix_df.divide(adj_confusion_matrix_df.sum(axis=1), axis=0)[['fp', 'fn']].sum(axis=1)"
   ]
  },
  {
   "cell_type": "code",
   "execution_count": null,
   "metadata": {
    "scrolled": true
   },
   "outputs": [],
   "source": [
    "fig, ax = plt.subplots()\n",
    "adj_rates.plot(kind='area', stacked=True, ax=ax)\n",
    "adj_tot_rate.plot(ax=ax, color=\"black\", label=\"%tot_rate\")\n",
    "ax.set_xlim(0,0.8)\n",
    "ax.set_ylim(0,1)\n",
    "ax.legend()\n",
    "plt.show()"
   ]
  },
  {
   "cell_type": "code",
   "execution_count": null,
   "metadata": {},
   "outputs": [],
   "source": [
    "adj_damage_df = pd.DataFrame({'fp damages : unit' : adj_confusion_matrix_df['fp'],\n",
    "                              'fn damages : 7x unit' : 7 * adj_confusion_matrix_df['fn']})\n",
    "\n",
    "adj_damages = (adj_damage_df/adj_damage_df.sum(axis=1).max())\n",
    "\n",
    "adj_tot_damage = (adj_damage_df.sum(axis=1)/adj_damage_df.sum(axis=1).max())"
   ]
  },
  {
   "cell_type": "code",
   "execution_count": null,
   "metadata": {},
   "outputs": [],
   "source": [
    "fig, ax = plt.subplots()\n",
    "adj_damages.plot(kind='area', stacked=True, ax=ax)\n",
    "adj_tot_damage.plot(ax=ax, color=\"black\", label=\"%tot_rate\")\n",
    "ax.set_xlim(0,0.8)\n",
    "ax.set_ylim(0,1)\n",
    "ax.legend()\n",
    "plt.show()"
   ]
  },
  {
   "cell_type": "code",
   "execution_count": null,
   "metadata": {},
   "outputs": [],
   "source": [
    "# optimal threshold\n",
    "adj_damage_df.sum(axis=1).idxmin()"
   ]
  },
  {
   "cell_type": "markdown",
   "metadata": {},
   "source": [
    "## Train & predict"
   ]
  },
  {
   "cell_type": "code",
   "execution_count": null,
   "metadata": {},
   "outputs": [],
   "source": [
    "def my_prep(data=train,\n",
    "            impute_strategy='median',\n",
    "            scale_strategy=False):\n",
    "    '''function that split data into train and test according to split_size (test)\n",
    "    and impute missing values according to the impute strategy\n",
    "    and MinMaxScale features'''\n",
    "    # drop the target from the training data\n",
    "    if 'TARGET' in data:\n",
    "        X_ = data.drop(columns=['TARGET'])\n",
    "        y_ = data['TARGET']\n",
    "    else:\n",
    "        X_ = data.copy()\n",
    "        y_ = []\n",
    "    # to keep df format : store columns & index\n",
    "    columns = X_.columns\n",
    "    index = X_.index\n",
    "    # imputation of missing values\n",
    "    imputer = SimpleImputer(\n",
    "        missing_values=np.nan,\n",
    "        strategy=impute_strategy)\n",
    "    imputer.fit(X_)\n",
    "    X_ = pd.DataFrame(\n",
    "        imputer.fit_transform(X_),\n",
    "        columns=columns,\n",
    "        index=index)\n",
    "    # Scale if True, each feature to 0-1\n",
    "    if scale_strategy is True:\n",
    "        scaler = MinMaxScaler(feature_range=(0, 1))\n",
    "        scaler.fit(X_)\n",
    "        X_ = pd.DataFrame(\n",
    "            scaler.fit_transform(X_),\n",
    "            columns=columns,\n",
    "            index=index)\n",
    "    return X_, y_, columns"
   ]
  },
  {
   "cell_type": "code",
   "execution_count": null,
   "metadata": {},
   "outputs": [],
   "source": [
    "X_train, y_train, features = my_prep()"
   ]
  },
  {
   "cell_type": "code",
   "execution_count": null,
   "metadata": {
    "scrolled": true
   },
   "outputs": [],
   "source": [
    "best_model.fit(X_train, y_train)"
   ]
  },
  {
   "cell_type": "code",
   "execution_count": null,
   "metadata": {},
   "outputs": [],
   "source": [
    "X_test, _, features = my_prep(data=test)"
   ]
  },
  {
   "cell_type": "code",
   "execution_count": null,
   "metadata": {},
   "outputs": [],
   "source": [
    "X_test.head()"
   ]
  },
  {
   "cell_type": "code",
   "execution_count": null,
   "metadata": {},
   "outputs": [],
   "source": [
    "y_test = best_model.predict(X_test)\n",
    "y_proba = best_model.predict_proba(X_test)[:, 1]"
   ]
  },
  {
   "cell_type": "code",
   "execution_count": null,
   "metadata": {},
   "outputs": [],
   "source": [
    "final = X_test.copy()\n",
    "final['RISK_FLAG'] = y_test"
   ]
  },
  {
   "cell_type": "code",
   "execution_count": null,
   "metadata": {},
   "outputs": [],
   "source": [
    "final['RISK_PROBA'] = y_proba"
   ]
  },
  {
   "cell_type": "code",
   "execution_count": null,
   "metadata": {},
   "outputs": [],
   "source": [
    "# csv for interpretation\n",
    "final.to_csv('Data/final.csv')"
   ]
  },
  {
   "cell_type": "markdown",
   "metadata": {},
   "source": [
    "# to be removed : old stuff - from here -"
   ]
  },
  {
   "cell_type": "code",
   "execution_count": null,
   "metadata": {},
   "outputs": [],
   "source": [
    "STOP"
   ]
  },
  {
   "cell_type": "markdown",
   "metadata": {},
   "source": [
    "### raw prediction"
   ]
  },
  {
   "cell_type": "code",
   "execution_count": null,
   "metadata": {},
   "outputs": [],
   "source": [
    "log_reg.fit(X_train, y_train)\n",
    "results = log_reg.predict_proba(X_test)[:, 1]\n",
    "y_pred = log_reg.predict(X_test)"
   ]
  },
  {
   "cell_type": "code",
   "execution_count": null,
   "metadata": {},
   "outputs": [],
   "source": [
    "(tn, fp, fn, tp) = confusion_matrix(y_test, y_pred).ravel()"
   ]
  },
  {
   "cell_type": "code",
   "execution_count": null,
   "metadata": {},
   "outputs": [],
   "source": [
    "(tn, fp, fn, tp)"
   ]
  },
  {
   "cell_type": "code",
   "execution_count": null,
   "metadata": {},
   "outputs": [],
   "source": [
    "show_results(log_reg, X_train=X_train, X_test=X_test, y_train=y_train, y_test=y_test, case='raw log reg')"
   ]
  },
  {
   "cell_type": "markdown",
   "metadata": {},
   "source": [
    "### raw with class weight"
   ]
  },
  {
   "cell_type": "code",
   "execution_count": null,
   "metadata": {},
   "outputs": [],
   "source": [
    "# Make the model with the specified regularization parameter\n",
    "log_reg_weight = LogisticRegression(class_weight='balanced', C=0.0001)"
   ]
  },
  {
   "cell_type": "code",
   "execution_count": null,
   "metadata": {
    "scrolled": false
   },
   "outputs": [],
   "source": [
    "show_results(log_reg_weight, X_train=X_train, X_test=X_test, y_train=y_train, y_test=y_test, case='weighted class log reg')"
   ]
  },
  {
   "cell_type": "markdown",
   "metadata": {},
   "source": [
    "## SMOTE"
   ]
  },
  {
   "cell_type": "code",
   "execution_count": null,
   "metadata": {},
   "outputs": [],
   "source": [
    "sm = SMOTE(random_state=7)"
   ]
  },
  {
   "cell_type": "code",
   "execution_count": null,
   "metadata": {},
   "outputs": [],
   "source": [
    "X_train_new, y_train_new = sm.fit_sample(X_train, y_train.ravel())"
   ]
  },
  {
   "cell_type": "code",
   "execution_count": null,
   "metadata": {},
   "outputs": [],
   "source": [
    "# observe that data has been balanced\n",
    "pd.Series(y_train_new).value_counts().plot.bar()"
   ]
  },
  {
   "cell_type": "code",
   "execution_count": null,
   "metadata": {},
   "outputs": [],
   "source": [
    "show_results(log_reg, X_train=X_train_new, X_test=X_test, y_train=y_train_new, y_test=y_test, case='log reg smote')"
   ]
  },
  {
   "cell_type": "markdown",
   "metadata": {
    "_uuid": "cf6f600ed10c511dd26d4bd5efa7997ab8d6916a"
   },
   "source": [
    "__Logistic Regression with Basic FE and Application df only score around AUC 0.69__"
   ]
  },
  {
   "cell_type": "markdown",
   "metadata": {
    "_cell_guid": "462ea34f-3f66-490a-a61f-24a991271f69",
    "_uuid": "92687ac866441f6ee2919aa5e5c935490c172afc"
   },
   "source": [
    "## Random Forest\n",
    "\n",
    "To try and beat the poor performance of our baseline, we can update the algorithm. Let's try using a Random Forest on the same training data to see how that affects performance. The Random Forest is a much more powerful model especially when we use hundreds of trees. We will use 100 trees in the random forest."
   ]
  },
  {
   "cell_type": "code",
   "execution_count": null,
   "metadata": {
    "_cell_guid": "6643479e-7980-431c-a6a2-9087acdb0f42",
    "_uuid": "cf05e2318904b8f3575ae233c185cd995fd07643"
   },
   "outputs": [],
   "source": [
    "# Make the random forest classifier\n",
    "random_forest = RandomForestClassifier(n_estimators=100, random_state=50, verbose=1, n_jobs=-1)"
   ]
  },
  {
   "cell_type": "code",
   "execution_count": null,
   "metadata": {},
   "outputs": [],
   "source": [
    "show_results(random_forest, X_train=X_train, X_test=X_test, y_train=y_train, y_test=y_test, case='random forest')"
   ]
  },
  {
   "cell_type": "code",
   "execution_count": null,
   "metadata": {},
   "outputs": [],
   "source": [
    "# Make the random forest classifier\n",
    "random_forest_weight = RandomForestClassifier(\n",
    "    n_estimators=100,\n",
    "    class_weight='balanced',\n",
    "    random_state=50,\n",
    "    verbose=1,\n",
    "    n_jobs=-1)"
   ]
  },
  {
   "cell_type": "code",
   "execution_count": null,
   "metadata": {
    "scrolled": false
   },
   "outputs": [],
   "source": [
    "show_results(\n",
    "    random_forest_weight,\n",
    "    X_train=X_train,\n",
    "    X_test=X_test,\n",
    "    y_train=y_train,\n",
    "    y_test=y_test,\n",
    "    case='weighted class random forest')"
   ]
  },
  {
   "cell_type": "code",
   "execution_count": null,
   "metadata": {
    "scrolled": false
   },
   "outputs": [],
   "source": [
    "show_results(random_forest,\n",
    "             X_train=X_train_new,\n",
    "             X_test=X_test,\n",
    "             y_train=y_train_new,\n",
    "             y_test=y_test,\n",
    "             case='random forest smote')"
   ]
  },
  {
   "cell_type": "code",
   "execution_count": null,
   "metadata": {
    "scrolled": true
   },
   "outputs": [],
   "source": [
    "random_forest.fit(X_train, y_train)\n",
    "y_pred_1 = random_forest.predict_proba(X_test)[:,1]\n",
    "fpr1 , tpr1, thr1 = roc_curve(y_test, y_pred_1)\n",
    "random_forest_weight.fit(X_train, y_train)\n",
    "y_pred_2 = random_forest_weight.predict_proba(X_test)[:,1]\n",
    "fpr2 , tpr2, thr2 = roc_curve(y_test, y_pred_2)\n",
    "random_forest.fit(X_train_new, y_train_new)\n",
    "y_pred_3 = random_forest.predict_proba(X_test)[:,1]\n",
    "fpr3 , tpr3, thr3 = roc_curve(y_test, y_pred_3)\n",
    "log_reg.fit(X_train, y_train)\n",
    "y_pred_4 = log_reg.predict_proba(X_test)[:,1]\n",
    "fpr4 , tpr4, thr4 = roc_curve(y_test, y_pred_4)\n",
    "log_reg_weight.fit(X_train, y_train)\n",
    "y_pred_5 = log_reg_weight.predict_proba(X_test)[:,1]\n",
    "fpr5 , tpr5, thr5 = roc_curve(y_test, y_pred_5)\n",
    "log_reg.fit(X_train_new, y_train_new)\n",
    "y_pred_6 = log_reg.predict_proba(X_test)[:,1]\n",
    "fpr6 , tpr6, thr6 = roc_curve(y_test, y_pred_6)\n"
   ]
  },
  {
   "cell_type": "code",
   "execution_count": null,
   "metadata": {
    "scrolled": false
   },
   "outputs": [],
   "source": [
    "plt.figure(figsize=(10, 10))\n",
    "plt.plot([0,1],[0,1], 'k--')\n",
    "plt.plot(fpr1, tpr1, label=\"rf\")\n",
    "plt.plot(fpr2, tpr2, label=\"rf_weight\")\n",
    "plt.plot(fpr3, tpr3, label=\"rf_smote\")\n",
    "plt.plot(fpr4, tpr4, label=\"lr\")\n",
    "plt.plot(fpr5, tpr5, label=\"lr_weight\")\n",
    "plt.plot(fpr6, tpr6, label=\"lr_smote\")\n",
    "plt.legend()\n",
    "plt.xlabel('1-Specificity(False Positive Rate)')\n",
    "plt.ylabel('Sensitivity(True Positive Rate)')\n",
    "plt.title('Receiver Operating Characteristic')\n",
    "plt.show()"
   ]
  },
  {
   "cell_type": "code",
   "execution_count": null,
   "metadata": {},
   "outputs": [],
   "source": [
    "thr6"
   ]
  },
  {
   "cell_type": "markdown",
   "metadata": {},
   "source": [
    "## Features importance"
   ]
  },
  {
   "cell_type": "code",
   "execution_count": null,
   "metadata": {
    "_cell_guid": "020f0856-8f24-4b22-bca5-aac7f137f032",
    "_uuid": "52258a9b89b3069bc1d82829107e8e7c1ef05fd6"
   },
   "outputs": [],
   "source": [
    "# Train on the training data\n",
    "random_forest_weight.fit(X_train, y_train)"
   ]
  },
  {
   "cell_type": "code",
   "execution_count": null,
   "metadata": {},
   "outputs": [],
   "source": [
    "# Extract feature importances\n",
    "feature_importance_values = random_forest_weight.feature_importances_\n",
    "feature_importances = pd.DataFrame({'feature': features, 'importance': feature_importance_values})"
   ]
  },
  {
   "cell_type": "code",
   "execution_count": null,
   "metadata": {},
   "outputs": [],
   "source": [
    "feature_importances"
   ]
  },
  {
   "cell_type": "markdown",
   "metadata": {},
   "source": [
    "#### Same with class_weight"
   ]
  },
  {
   "cell_type": "code",
   "execution_count": null,
   "metadata": {
    "scrolled": true
   },
   "outputs": [],
   "source": [
    "random_forest_weight.predict_proba(X_test)[:, 1]"
   ]
  },
  {
   "cell_type": "code",
   "execution_count": null,
   "metadata": {},
   "outputs": [],
   "source": [
    "# optimal threshold\n",
    "\n",
    "list_tn = []\n",
    "list_fp = []\n",
    "list_fn = []\n",
    "list_tp = []\n",
    "threshold_values =[]\n",
    "\n",
    "for i in np.arange(0,1,0.05) :\n",
    "    temp_y_pred = threshold_pred(random_forest_weight, X_test, threshold=i)\n",
    "    tn, fp, fn, tp = confusion_matrix(y_test, temp_y_pred).ravel()\n",
    "    print(tn, fp, fn, tp)\n",
    "    list_tn.append(tn)\n",
    "    list_fp.append(fp)\n",
    "    list_fn.append(fn)\n",
    "    list_tp.append(tp)\n",
    "    threshold_values.append(i)"
   ]
  },
  {
   "cell_type": "code",
   "execution_count": null,
   "metadata": {},
   "outputs": [],
   "source": [
    "confusion_matrix_df = pd.DataFrame({'tn' : list_tn,\n",
    "                                    'fp' : list_fp,\n",
    "                                    'fn' : list_fn,\n",
    "                                    'tp' : list_tp},\n",
    "                                   index=threshold_values)"
   ]
  },
  {
   "cell_type": "code",
   "execution_count": null,
   "metadata": {},
   "outputs": [],
   "source": [
    "rates = confusion_matrix_df.divide(confusion_matrix_df.sum(axis=1), axis=0)[['fp', 'fn']]"
   ]
  },
  {
   "cell_type": "code",
   "execution_count": null,
   "metadata": {},
   "outputs": [],
   "source": [
    "tot_rate = confusion_matrix_df.divide(confusion_matrix_df.sum(axis=1), axis=0)[['fp', 'fn']].sum(axis=1)"
   ]
  },
  {
   "cell_type": "code",
   "execution_count": null,
   "metadata": {},
   "outputs": [],
   "source": [
    "fig, ax = plt.subplots()\n",
    "rates.plot(kind='area', stacked=True, ax=ax)\n",
    "tot_rate.plot(ax=ax, color=\"black\", label=\"%tot_rate\")\n",
    "ax.set_xlim(0,0.8)\n",
    "ax.set_ylim(0,1)\n",
    "ax.legend()\n",
    "plt.show()"
   ]
  },
  {
   "cell_type": "markdown",
   "metadata": {},
   "source": [
    "We have to find the right balance (cost) between both case to catch an optimal threshold : fn is n times worst than fp. as it primarily depends on the famous {X, Y} parameters, leading to a damage we have no clue to compute, we don't know real value of n. <br/>\n",
    "n would surely be different for revolving or high amount credits. <br/>\n",
    "let's start with 7, just to see the resulting shape of a damage value."
   ]
  },
  {
   "cell_type": "code",
   "execution_count": null,
   "metadata": {},
   "outputs": [],
   "source": [
    "damage_df = pd.DataFrame({'fp damages : unit' : confusion_matrix_df['fp'],\n",
    "                          'fn damages : 7x unit' : 7 * confusion_matrix_df['fn']})"
   ]
  },
  {
   "cell_type": "code",
   "execution_count": null,
   "metadata": {},
   "outputs": [],
   "source": [
    "damages = (damage_df/damage_df.sum(axis=1).max())"
   ]
  },
  {
   "cell_type": "code",
   "execution_count": null,
   "metadata": {},
   "outputs": [],
   "source": [
    "tot_damage = (damage_df.sum(axis=1)/damage_df.sum(axis=1).max())"
   ]
  },
  {
   "cell_type": "code",
   "execution_count": null,
   "metadata": {
    "scrolled": false
   },
   "outputs": [],
   "source": [
    "fig, ax = plt.subplots()\n",
    "damages.plot(kind='area', stacked=True, ax=ax)\n",
    "tot_damage.plot(ax=ax, color=\"black\", label=\"%tot_rate\")\n",
    "ax.set_xlim(0,0.8)\n",
    "ax.set_ylim(0,1)\n",
    "ax.legend()\n",
    "plt.show()"
   ]
  },
  {
   "cell_type": "markdown",
   "metadata": {
    "_uuid": "ec50627c874a9d78d6789e01a47e829c820f9615"
   },
   "source": [
    "#### Testing Domain Features\n",
    "\n",
    "Now we can test the domain features we made by hand."
   ]
  },
  {
   "cell_type": "code",
   "execution_count": null,
   "metadata": {},
   "outputs": [],
   "source": [
    "# same with so called \"domain\" features\n",
    "if 'TARGET' in app_train:\n",
    "    X_domain = app_train_domain.drop(columns = ['TARGET'])\n",
    "else:\n",
    "    X_domain = app_train_domain.copy()\n",
    "y_domain = app_train_domain['TARGET']\n",
    "    \n",
    "# Feature names\n",
    "domain_features_names = list(X_domain.columns)\n",
    "\n",
    "\n",
    "# Median imputation of missing values\n",
    "imputer = SimpleImputer(missing_values=np.nan, strategy='median')\n",
    "\n",
    "# Scale each feature to 0-1\n",
    "scaler = MinMaxScaler(feature_range = (0, 1))\n",
    "\n",
    "# Fit-transform training dataset\n",
    "X_domain = imputer.fit_transform(X_domain)\n",
    "\n",
    "# Repeat with the scaler\n",
    "X_domain = scaler.fit_transform(X_domain)\n",
    "\n",
    "# Split data into train and test set (stratify by target)\n",
    "X_dom_train, X_dom_test, y_dom_train, y_dom_test = train_test_split(X_domain, y_domain, stratify=y_domain, test_size=0.3, random_state=42)\n",
    "\n",
    "\n",
    "print('Training data shape: ', X_dom_train.shape)\n",
    "print('Testing data shape: ', X_dom_test.shape)\n",
    "\n",
    "print('Labels train data shape: ', y_dom_train.shape)\n",
    "print('Labels test data shape: ', y_dom_test.shape)"
   ]
  },
  {
   "cell_type": "code",
   "execution_count": null,
   "metadata": {},
   "outputs": [],
   "source": [
    "# Make the random forest classifier\n",
    "random_forest_domain = RandomForestClassifier(n_estimators = 100, random_state = 50, verbose = 1, n_jobs = -1)"
   ]
  },
  {
   "cell_type": "code",
   "execution_count": null,
   "metadata": {
    "_cell_guid": "020f0856-8f24-4b22-bca5-aac7f137f032",
    "_uuid": "52258a9b89b3069bc1d82829107e8e7c1ef05fd6"
   },
   "outputs": [],
   "source": [
    "# Train on the training data\n",
    "random_forest_domain.fit(X_dom_train, y_dom_train)\n",
    "\n",
    "# Extract feature importances\n",
    "feature_importance_domain_values = random_forest_domain.feature_importances_\n",
    "feature_importances_domain = pd.DataFrame({'feature': domain_features_names, 'importance': feature_importance_domain_values})\n",
    "\n",
    "# Make predictions on the test data\n",
    "ran_for_dom_pred = random_forest_domain.predict_proba(X_dom_test)[:, 1]"
   ]
  },
  {
   "cell_type": "markdown",
   "metadata": {
    "_uuid": "cf6f600ed10c511dd26d4bd5efa7997ab8d6916a"
   },
   "source": [
    "__Random Forest with Basic FE and Application df only score around AUC 0.71__"
   ]
  },
  {
   "cell_type": "markdown",
   "metadata": {
    "_uuid": "ec50627c874a9d78d6789e01a47e829c820f9615"
   },
   "source": [
    "#### Testing transparency \n",
    "\n",
    "Now we can test the removal of ext_ features as well as SK ID"
   ]
  },
  {
   "cell_type": "code",
   "execution_count": null,
   "metadata": {},
   "outputs": [],
   "source": [
    "# same with so called \"domain\" features\n",
    "app_transp = app_train_domain.drop(columns = ['SK_ID_CURR', 'EXT_SOURCE_1', 'EXT_SOURCE_2', 'EXT_SOURCE_3'])\n",
    "\n",
    "\n",
    "if 'TARGET' in app_train:\n",
    "    X_transp = app_transp.drop(columns = ['TARGET'])\n",
    "else:\n",
    "    X_transp = app_transp.copy()\n",
    "y_transp = app_transp['TARGET']\n",
    "    \n",
    "# Feature names\n",
    "transp_features_names = list(X_transp.columns)\n",
    "\n",
    "\n",
    "# Median imputation of missing values\n",
    "imputer = SimpleImputer(missing_values=np.nan, strategy='median')\n",
    "\n",
    "# Scale each feature to 0-1\n",
    "scaler = MinMaxScaler(feature_range = (0, 1))\n",
    "\n",
    "# Fit-transform training dataset\n",
    "X_transp = imputer.fit_transform(X_transp)\n",
    "\n",
    "# Repeat with the scaler\n",
    "X_transp = scaler.fit_transform(X_transp)\n",
    "\n",
    "# Split data into train and test set (stratify by target)\n",
    "X_transp_train, X_transp_test, y_transp_train, y_transp_test = train_test_split(X_transp, y_transp, stratify=y_transp, test_size=0.3, random_state=42)\n",
    "\n",
    "\n",
    "print('Training data shape: ', X_transp_train.shape)\n",
    "print('Testing data shape: ', X_transp_test.shape)\n",
    "\n",
    "print('Labels train data shape: ', y_transp_train.shape)\n",
    "print('Labels test data shape: ', y_transp_test.shape)"
   ]
  },
  {
   "cell_type": "code",
   "execution_count": null,
   "metadata": {},
   "outputs": [],
   "source": [
    "# Make the random forest classifier\n",
    "random_forest_transp = RandomForestClassifier(n_estimators = 100, random_state = 50, verbose = 1, n_jobs = -1)"
   ]
  },
  {
   "cell_type": "code",
   "execution_count": null,
   "metadata": {
    "_cell_guid": "020f0856-8f24-4b22-bca5-aac7f137f032",
    "_uuid": "52258a9b89b3069bc1d82829107e8e7c1ef05fd6"
   },
   "outputs": [],
   "source": [
    "# Train on the training data\n",
    "random_forest_transp.fit(X_transp_train, y_transp_train)\n",
    "\n",
    "# Extract feature importances\n",
    "feature_importance_transp_values = random_forest_transp.feature_importances_\n",
    "feature_importances_transp = pd.DataFrame({'feature': transp_features_names, 'importance': feature_importance_transp_values})\n",
    "\n",
    "# Make predictions on the test data\n",
    "ran_for_transp_pred = random_forest_transp.predict_proba(X_transp_test)[:, 1]"
   ]
  },
  {
   "cell_type": "code",
   "execution_count": null,
   "metadata": {
    "scrolled": true
   },
   "outputs": [],
   "source": [
    "auc_scor = roc_auc_score(y_transp_test, ran_for_transp_pred)\n",
    "print(\"AUC score: \", auc_scor)\n",
    "\n",
    "print(\"Confusion matrix: \")\n",
    "print(confusion_matrix(y_transp_test, ran_for_dom_pred.round(), normalize=None))\n",
    "\n",
    "print(\"Accuracy score: \", accuracy_score(y_transp_test, ran_for_dom_pred.round()))\n",
    "print(\"Recall score: \", recall_score(y_transp_test, ran_for_dom_pred.round()))\n",
    "print(\"F1-score: \", f1_score(y_transp_test, ran_for_dom_pred.round()))"
   ]
  },
  {
   "cell_type": "markdown",
   "metadata": {
    "_uuid": "cf6f600ed10c511dd26d4bd5efa7997ab8d6916a"
   },
   "source": [
    "__Random Forest for transparency ! with Basic FE and Application df only score around AUC 0.65__"
   ]
  },
  {
   "cell_type": "markdown",
   "metadata": {
    "_cell_guid": "b742ed91-9dd6-4a7b-af5e-1d6e7128beb2",
    "_uuid": "b1805834b4d4eae38db4f68502aade956fc1e10f"
   },
   "source": [
    "## Model Interpretation: Feature Importances\n",
    "\n",
    "As a simple method to see which variables are the most relevant, we can look at the feature importances of the random forest. Given the correlations we saw in the exploratory data analysis, we should expect that the most important features are the `EXT_SOURCE` and the `DAYS_BIRTH`. We may use these feature importances as a method of dimensionality reduction in future work."
   ]
  },
  {
   "cell_type": "code",
   "execution_count": null,
   "metadata": {
    "_cell_guid": "a90e9368-5f7d-4179-a5cc-1025f32c6a81",
    "_uuid": "b912337a5f35f495398d8ae8b8576ceb7062fe50"
   },
   "outputs": [],
   "source": [
    "def plot_feature_importances(df):\n",
    "    \"\"\"\n",
    "    Plot importances returned by a model. This can work with any measure of\n",
    "    feature importance provided that higher importance is better. \n",
    "    \n",
    "    Args:\n",
    "        df (dataframe): feature importances. Must have the features in a column\n",
    "        called `features` and the importances in a column called `importance\n",
    "        \n",
    "    Returns:\n",
    "        shows a plot of the 15 most importance features\n",
    "        \n",
    "        df (dataframe): feature importances sorted by importance (highest to lowest) \n",
    "        with a column for normalized importance\n",
    "        \"\"\"\n",
    "    \n",
    "    # Sort features according to importance\n",
    "    df = df.sort_values('importance', ascending = False).reset_index()\n",
    "    \n",
    "    # Normalize the feature importances to add up to one\n",
    "    df['importance_normalized'] = df['importance'] / df['importance'].sum()\n",
    "\n",
    "    # Make a horizontal bar chart of feature importances\n",
    "    plt.figure(figsize = (10, 12))\n",
    "    ax = plt.subplot()\n",
    "    \n",
    "    # Need to reverse the index to plot most important on top\n",
    "    ax.barh(list(reversed(list(df.index[:30]))), \n",
    "            df['importance_normalized'].head(30), \n",
    "            align = 'center', edgecolor = 'k')\n",
    "    \n",
    "    # Set the yticks and labels\n",
    "    ax.set_yticks(list(reversed(list(df.index[:30]))))\n",
    "    ax.set_yticklabels(df['feature'].head(30))\n",
    "    \n",
    "    # Plot labeling\n",
    "    plt.xlabel('Normalized Importance'); plt.title('Feature Importances')\n",
    "    plt.show()\n",
    "    \n",
    "    return df"
   ]
  },
  {
   "cell_type": "code",
   "execution_count": null,
   "metadata": {
    "_cell_guid": "1084ad42-bc44-438b-b2fd-5fd7a1c1b363",
    "_uuid": "37309c4a94b248ad85fa7a0825f01830a818ba92"
   },
   "outputs": [],
   "source": [
    "# Show the feature importances for the default features\n",
    "feature_importances_sorted = plot_feature_importances(feature_importances)"
   ]
  },
  {
   "cell_type": "markdown",
   "metadata": {
    "_uuid": "524c6aa12acc80e7018750e7a8897dc6b4bacf18"
   },
   "source": [
    "As expected, the most important features are those dealing with `EXT_SOURCE` and `DAYS_BIRTH`. We see that there are only a handful of features with a significant importance to the model, which suggests we may be able to drop many of the features without a decrease in performance (and we may even see an increase in performance.) Feature importances are not the most sophisticated method to interpret a model or perform dimensionality reduction, but they let us start to understand what factors our model takes into account when it makes predictions. "
   ]
  },
  {
   "cell_type": "code",
   "execution_count": null,
   "metadata": {
    "_uuid": "516e4b2eedeec2ff441f1ff034fbe4a73374bba2",
    "scrolled": false
   },
   "outputs": [],
   "source": [
    "feature_importances_domain_sorted = plot_feature_importances(feature_importances_domain)"
   ]
  },
  {
   "cell_type": "markdown",
   "metadata": {
    "_uuid": "4a2cdf24d5ecc01539d10902a9c7af6a13096086"
   },
   "source": [
    "We see that all four of our hand-engineered features made it into the top 15 most important! This should give us confidence that our domain knowledge was at least partially on track."
   ]
  },
  {
   "cell_type": "code",
   "execution_count": null,
   "metadata": {
    "scrolled": false
   },
   "outputs": [],
   "source": [
    "feature_importances_transp_sorted = plot_feature_importances(feature_importances_transp)"
   ]
  },
  {
   "cell_type": "markdown",
   "metadata": {
    "_cell_guid": "d12452cd-347e-4269-b3d4-f5f0589f4c5c",
    "_uuid": "a8bc307f9be27bfabbc3891deddbd94293ca03fa"
   },
   "source": [
    "# Just for Fun: Light Gradient Boosting Machine\n",
    "\n",
    "Now (if you want, this part is entirely optional) we can step off the deep end and use a real machine learning model: the [gradient boosting machine](https://machinelearningmastery.com/gentle-introduction-gradient-boosting-algorithm-machine-learning/) using the [LightGBM library](http://lightgbm.readthedocs.io/en/latest/Quick-Start.html)! The Gradient Boosting Machine is currently the leading model for learning on structured datasets (especially on Kaggle) and we will probably need some form of this model to do well in the competition. Don't worry, even if this code looks intimidating, it's just a series of small steps that build up to a complete model. I added this code just to show what may be in store for this project, and because it gets us a slightly better score on the leaderboard. In future notebooks we will see how to work with more advanced models (which mostly means adapting existing code to make it work better), feature engineering, and feature selection. See you in the next notebook!  "
   ]
  },
  {
   "cell_type": "code",
   "execution_count": null,
   "metadata": {
    "_cell_guid": "60208a3f-947f-42d9-8f46-2159afd2eb7d",
    "_uuid": "2719663ed461422fce26b5dd55a31ab9718df47a"
   },
   "outputs": [],
   "source": [
    "import lightgbm as lgb\n",
    "\n",
    "\n",
    "def model(features, test_features, encoding = 'ohe', n_folds = 5):\n",
    "    \n",
    "    \"\"\"Train and test a light gradient boosting model using\n",
    "    cross validation. \n",
    "    \n",
    "    Parameters\n",
    "    --------\n",
    "        features (pd.DataFrame): \n",
    "            dataframe of training features to use \n",
    "            for training a model. Must include the TARGET column.\n",
    "        test_features (pd.DataFrame): \n",
    "            dataframe of testing features to use\n",
    "            for making predictions with the model. \n",
    "        encoding (str, default = 'ohe'): \n",
    "            method for encoding categorical variables. Either 'ohe' for one-hot encoding or 'le' for integer label encoding\n",
    "            n_folds (int, default = 5): number of folds to use for cross validation\n",
    "        \n",
    "    Return\n",
    "    --------\n",
    "        submission (pd.DataFrame): \n",
    "            dataframe with `SK_ID_CURR` and `TARGET` probabilities\n",
    "            predicted by the model.\n",
    "        feature_importances (pd.DataFrame): \n",
    "            dataframe with the feature importances from the model.\n",
    "        valid_metrics (pd.DataFrame): \n",
    "            dataframe with training and validation metrics (ROC AUC) for each fold and overall.\n",
    "        \n",
    "    \"\"\"\n",
    "    \n",
    "    # Extract the ids\n",
    "    train_ids = features['SK_ID_CURR']\n",
    "    test_ids = test_features['SK_ID_CURR']\n",
    "    \n",
    "    # Extract the labels for training\n",
    "    labels = features['TARGET']\n",
    "    \n",
    "    # Remove the ids and target\n",
    "    features = features.drop(columns = ['SK_ID_CURR', 'TARGET'])\n",
    "    test_features = test_features.drop(columns = ['SK_ID_CURR'])\n",
    "    \n",
    "    \n",
    "    # One Hot Encoding\n",
    "    if encoding == 'ohe':\n",
    "        features = pd.get_dummies(features)\n",
    "        test_features = pd.get_dummies(test_features)\n",
    "        \n",
    "        # Align the dataframes by the columns\n",
    "        features, test_features = features.align(test_features, join = 'inner', axis = 1)\n",
    "        \n",
    "        # No categorical indices to record\n",
    "        cat_indices = 'auto'\n",
    "    \n",
    "    # Integer label encoding\n",
    "    elif encoding == 'le':\n",
    "        \n",
    "        # Create a label encoder\n",
    "        label_encoder = LabelEncoder()\n",
    "        \n",
    "        # List for storing categorical indices\n",
    "        cat_indices = []\n",
    "        \n",
    "        # Iterate through each column\n",
    "        for i, col in enumerate(features):\n",
    "            if features[col].dtype == 'object':\n",
    "                # Map the categorical features to integers\n",
    "                features[col] = label_encoder.fit_transform(np.array(features[col].astype(str)).reshape((-1,)))\n",
    "                test_features[col] = label_encoder.transform(np.array(test_features[col].astype(str)).reshape((-1,)))\n",
    "\n",
    "                # Record the categorical indices\n",
    "                cat_indices.append(i)\n",
    "    \n",
    "    # Catch error if label encoding scheme is not valid\n",
    "    else:\n",
    "        raise ValueError(\"Encoding must be either 'ohe' or 'le'\")\n",
    "        \n",
    "    print('Training Data Shape: ', features.shape)\n",
    "    print('Testing Data Shape: ', test_features.shape)\n",
    "    \n",
    "    # Extract feature names\n",
    "    feature_names = list(features.columns)\n",
    "    \n",
    "    # Convert to np arrays\n",
    "    features = np.array(features)\n",
    "    test_features = np.array(test_features)\n",
    "    \n",
    "    # Create the kfold object\n",
    "    k_fold = KFold(n_splits = n_folds, shuffle = True, random_state = 50)\n",
    "    \n",
    "    # Empty array for feature importances\n",
    "    feature_importance_values = np.zeros(len(feature_names))\n",
    "    \n",
    "    # Empty array for test predictions\n",
    "    test_predictions = np.zeros(test_features.shape[0])\n",
    "    \n",
    "    # Empty array for out of fold validation predictions\n",
    "    out_of_fold = np.zeros(features.shape[0])\n",
    "    \n",
    "    # Lists for recording validation and training scores\n",
    "    valid_scores = []\n",
    "    train_scores = []\n",
    "    \n",
    "    # Iterate through each fold\n",
    "    for train_indices, valid_indices in k_fold.split(features):\n",
    "        \n",
    "        # Training data for the fold\n",
    "        train_features, train_labels = features[train_indices], labels[train_indices]\n",
    "        # Validation data for the fold\n",
    "        valid_features, valid_labels = features[valid_indices], labels[valid_indices]\n",
    "        \n",
    "        # Create the model\n",
    "        model = lgb.LGBMClassifier(n_estimators=10000, objective = 'binary', \n",
    "                                   class_weight = 'balanced', learning_rate = 0.05, \n",
    "                                   reg_alpha = 0.1, reg_lambda = 0.1, \n",
    "                                   subsample = 0.8, n_jobs = -1, random_state = 50)\n",
    "        \n",
    "        # Train the model\n",
    "        model.fit(train_features, train_labels, eval_metric = 'auc',\n",
    "                  eval_set = [(valid_features, valid_labels), (train_features, train_labels)],\n",
    "                  eval_names = ['valid', 'train'], categorical_feature = cat_indices,\n",
    "                  early_stopping_rounds = 100, verbose = 200)\n",
    "        \n",
    "        # Record the best iteration\n",
    "        best_iteration = model.best_iteration_\n",
    "        \n",
    "        # Record the feature importances\n",
    "        feature_importance_values += model.feature_importances_ / k_fold.n_splits\n",
    "        \n",
    "        # Make predictions\n",
    "        test_predictions += model.predict_proba(test_features, num_iteration = best_iteration)[:, 1] / k_fold.n_splits\n",
    "        \n",
    "        # Record the out of fold predictions\n",
    "        out_of_fold[valid_indices] = model.predict_proba(valid_features, num_iteration = best_iteration)[:, 1]\n",
    "        \n",
    "        # Record the best score\n",
    "        valid_score = model.best_score_['valid']['auc']\n",
    "        train_score = model.best_score_['train']['auc']\n",
    "        \n",
    "        valid_scores.append(valid_score)\n",
    "        train_scores.append(train_score)\n",
    "        \n",
    "        # Clean up memory\n",
    "        gc.enable()\n",
    "        del model, train_features, valid_features\n",
    "        gc.collect()\n",
    "        \n",
    "    # Make the submission dataframe\n",
    "    submission = pd.DataFrame({'SK_ID_CURR': test_ids, 'TARGET': test_predictions})\n",
    "    \n",
    "    # Make the feature importance dataframe\n",
    "    feature_importances = pd.DataFrame({'feature': feature_names, 'importance': feature_importance_values})\n",
    "    \n",
    "    # Overall validation score\n",
    "    valid_auc = roc_auc_score(labels, out_of_fold)\n",
    "    \n",
    "    # Add the overall scores to the metrics\n",
    "    valid_scores.append(valid_auc)\n",
    "    train_scores.append(np.mean(train_scores))\n",
    "    \n",
    "    # Needed for creating dataframe of validation scores\n",
    "    fold_names = list(range(n_folds))\n",
    "    fold_names.append('overall')\n",
    "    \n",
    "    # Dataframe of validation scores\n",
    "    metrics = pd.DataFrame({'fold': fold_names,\n",
    "                            'train': train_scores,\n",
    "                            'valid': valid_scores}) \n",
    "    \n",
    "    return submission, feature_importances, metrics"
   ]
  }
 ],
 "metadata": {
  "kernelspec": {
   "display_name": "Python 3",
   "language": "python",
   "name": "python3"
  },
  "language_info": {
   "codemirror_mode": {
    "name": "ipython",
    "version": 3
   },
   "file_extension": ".py",
   "mimetype": "text/x-python",
   "name": "python",
   "nbconvert_exporter": "python",
   "pygments_lexer": "ipython3",
   "version": "3.7.4"
  },
  "toc": {
   "base_numbering": 1,
   "nav_menu": {},
   "number_sections": false,
   "sideBar": true,
   "skip_h1_title": false,
   "title_cell": "Table of Contents",
   "title_sidebar": "Contents",
   "toc_cell": false,
   "toc_position": {
    "height": "calc(100% - 180px)",
    "left": "10px",
    "top": "150px",
    "width": "257.5px"
   },
   "toc_section_display": true,
   "toc_window_display": true
  }
 },
 "nbformat": 4,
 "nbformat_minor": 1
}
